{
 "cells": [
  {
   "cell_type": "markdown",
   "id": "e320476a-5748-4521-bca4-50fbccef7052",
   "metadata": {
    "slideshow": {
     "slide_type": "slide"
    },
    "tags": []
   },
   "source": [
    "# Context\n",
    "\n",
    "Klassen en *instanties* van klassen"
   ]
  },
  {
   "cell_type": "markdown",
   "id": "b8f7eb70-85ab-4d93-8d7c-806078583b12",
   "metadata": {
    "slideshow": {
     "slide_type": "subslide"
    },
    "tags": []
   },
   "source": [
    "![Blueprint](images/6/blueprint.png)"
   ]
  },
  {
   "cell_type": "markdown",
   "id": "2778f400-c98a-4e83-a1b7-51f65f49039d",
   "metadata": {
    "slideshow": {
     "slide_type": "notes"
    },
    "tags": []
   },
   "source": [
    "Eerder is een klasse beschreven als een \"blauwdruk\", het is de bouwtekening die vertelt wat nieuwe objecten moeten zijn. Denk aan de bouwtekening van een huis, op basis van die tekening kan een huis worden gebouwd, maar ook 100 of meer."
   ]
  },
  {
   "cell_type": "markdown",
   "id": "c44577b1-1eb8-4b1d-ac33-5165613e0006",
   "metadata": {
    "slideshow": {
     "slide_type": "slide"
    },
    "tags": []
   },
   "source": [
    "## De *object* context"
   ]
  },
  {
   "cell_type": "code",
   "execution_count": 1,
   "id": "d7a721a7-0bfa-44f1-8eb1-8588ab1ee38d",
   "metadata": {
    "slideshow": {
     "slide_type": "subslide"
    },
    "tags": []
   },
   "outputs": [],
   "source": [
    "public class House {\n",
    "    private int number;\n",
    "    private String colour;\n",
    "    \n",
    "    public House(int number) {\n",
    "        this.number = number;\n",
    "        colour = \"red\";\n",
    "    }\n",
    "    \n",
    "    public House(int number, String colour) {\n",
    "        this.number = number;\n",
    "        this.colour = colour;\n",
    "    }\n",
    "    \n",
    "    public String toString() {\n",
    "        return String.format(\"House number %d with colour %s\", number, colour);\n",
    "    }\n",
    "}"
   ]
  },
  {
   "cell_type": "markdown",
   "id": "6988c2f1-4124-481b-bedd-d89823e717eb",
   "metadata": {
    "slideshow": {
     "slide_type": "notes"
    },
    "tags": []
   },
   "source": [
    "Deze klasse `House` definieert dat een huinummer nodig is (maar niet welke) en dat een kleur optioneel is. Pas bij een aanmaken van een huis (object) worden deze waarden concreet."
   ]
  },
  {
   "cell_type": "code",
   "execution_count": 2,
   "id": "65f782a5-d432-4cd0-868a-5e7559fffe15",
   "metadata": {
    "slideshow": {
     "slide_type": "fragment"
    },
    "tags": []
   },
   "outputs": [],
   "source": [
    "House myHouse = new House(149);\n",
    "House yourHouse = new House(150, \"blue\");"
   ]
  },
  {
   "cell_type": "code",
   "execution_count": 3,
   "id": "6d1459ba-46f6-4335-a4a0-81ab808b1b4b",
   "metadata": {
    "slideshow": {
     "slide_type": "fragment"
    },
    "tags": []
   },
   "outputs": [
    {
     "name": "stdout",
     "output_type": "stream",
     "text": [
      "House number 149 with colour red"
     ]
    }
   ],
   "source": [
    "System.out.print(myHouse)"
   ]
  },
  {
   "cell_type": "code",
   "execution_count": 4,
   "id": "d13b08f0-83ef-40f9-9411-b8b0841c7fab",
   "metadata": {
    "slideshow": {
     "slide_type": "fragment"
    },
    "tags": []
   },
   "outputs": [
    {
     "name": "stdout",
     "output_type": "stream",
     "text": [
      "House number 150 with colour blue"
     ]
    }
   ],
   "source": [
    "System.out.print(yourHouse)"
   ]
  },
  {
   "cell_type": "markdown",
   "id": "b2699618-57da-4571-b323-54f627fcfd69",
   "metadata": {
    "slideshow": {
     "slide_type": "slide"
    },
    "tags": []
   },
   "source": [
    "## De *statische* context"
   ]
  },
  {
   "cell_type": "code",
   "execution_count": 5,
   "id": "22616cc2-49d5-4ffe-89f6-ca9c54105269",
   "metadata": {
    "slideshow": {
     "slide_type": "subslide"
    },
    "tags": []
   },
   "outputs": [],
   "source": [
    "public class Account {\n",
    "    private String name;\n",
    "    private static double balance;\n",
    "\n",
    "    public Account(String name) {\n",
    "        this.name = name;\n",
    "        balance = 0.0;\n",
    "    }\n",
    "\n",
    "    public void deposit(int amount) {\n",
    "        balance += amount;\n",
    "    }\n",
    "\n",
    "    public double getBalance() {\n",
    "        return balance;\n",
    "    }\n",
    "    \n",
    "    public String toString() {\n",
    "        return String.format(\"%s's balance: %.02f\", name, balance);\n",
    "    }\n",
    "}"
   ]
  },
  {
   "cell_type": "markdown",
   "id": "51506683-2aeb-4dde-9e09-2da5c6143209",
   "metadata": {
    "slideshow": {
     "slide_type": "notes"
    },
    "tags": []
   },
   "source": [
    "Een andere klasse, een spaarrekening waar geld op kan worden gestort. Let op, tot nu toe heb je methoden gezien die *statisch* gedefinieerd waren met het *keyword* `static` (denk aan `main`!), maar velden kunnen ook statisch zijn. Hier is het veld `balance` statisch gedefinieerd."
   ]
  },
  {
   "cell_type": "code",
   "execution_count": 6,
   "id": "32dc06a5-4d22-4b0a-8af9-819069e1f09b",
   "metadata": {
    "slideshow": {
     "slide_type": "subslide"
    },
    "tags": []
   },
   "outputs": [],
   "source": [
    "Account misja = new Account(\"Misja\");\n",
    "Account simon = new Account(\"Simon\");"
   ]
  },
  {
   "cell_type": "code",
   "execution_count": 7,
   "id": "f6a09c03-fc1f-4cee-ac5f-29e5c8db9ca9",
   "metadata": {
    "slideshow": {
     "slide_type": "fragment"
    },
    "tags": []
   },
   "outputs": [],
   "source": [
    "misja.deposit(1500);"
   ]
  },
  {
   "cell_type": "code",
   "execution_count": 8,
   "id": "ab34ef49-105c-47f7-afd4-96717078ba85",
   "metadata": {
    "slideshow": {
     "slide_type": "fragment"
    },
    "tags": []
   },
   "outputs": [
    {
     "name": "stdout",
     "output_type": "stream",
     "text": [
      "Misja's balance: 1500,00"
     ]
    }
   ],
   "source": [
    "System.out.print(misja);"
   ]
  },
  {
   "cell_type": "code",
   "execution_count": 9,
   "id": "53420e61-1d16-40c9-a011-c08183caa3cf",
   "metadata": {
    "slideshow": {
     "slide_type": "fragment"
    },
    "tags": []
   },
   "outputs": [],
   "source": [
    "simon.deposit(2500);"
   ]
  },
  {
   "cell_type": "code",
   "execution_count": 10,
   "id": "35d47633-a21d-414f-b099-e473f4e2be60",
   "metadata": {
    "slideshow": {
     "slide_type": "fragment"
    },
    "tags": []
   },
   "outputs": [
    {
     "name": "stdout",
     "output_type": "stream",
     "text": [
      "Simon's balance: 4000,00\n"
     ]
    }
   ],
   "source": [
    "System.out.println(simon);"
   ]
  },
  {
   "cell_type": "code",
   "execution_count": 11,
   "id": "79c48277-99bf-4ce3-8445-6b0ed854c3fa",
   "metadata": {
    "slideshow": {
     "slide_type": "fragment"
    },
    "tags": []
   },
   "outputs": [
    {
     "name": "stdout",
     "output_type": "stream",
     "text": [
      "Misja's balance: 4000,00\n"
     ]
    }
   ],
   "source": [
    "System.out.println(misja);"
   ]
  },
  {
   "cell_type": "markdown",
   "id": "aaa536f5-9ae4-4d31-a5dc-c5d9bed37ce1",
   "metadata": {
    "slideshow": {
     "slide_type": "notes"
    },
    "tags": []
   },
   "source": [
    "Dat is makkelijk rijk worden! Maar wat gebeurt hier?"
   ]
  },
  {
   "cell_type": "markdown",
   "id": "4bfcf71d-82b7-4a10-aeae-aea4ea2b3f2e",
   "metadata": {
    "slideshow": {
     "slide_type": "slide"
    },
    "tags": []
   },
   "source": [
    "### `static`\n",
    "\n",
    "Een klasse is niet alleen maar een definitie, het *kan* ook waarden hebben!"
   ]
  },
  {
   "cell_type": "markdown",
   "id": "092dddf1-ae91-4d91-abeb-35958ae25940",
   "metadata": {
    "slideshow": {
     "slide_type": "fragment"
    },
    "tags": []
   },
   "source": [
    "> statische waarden zijn eigen aan de klasse, en niet per instantie"
   ]
  },
  {
   "cell_type": "code",
   "execution_count": 12,
   "id": "468d0d6b-a1c3-48ac-96e7-f82664b48750",
   "metadata": {
    "slideshow": {
     "slide_type": "subslide"
    },
    "tags": []
   },
   "outputs": [],
   "source": [
    "public class Hello {\n",
    "    public static void main(String[] args) {\n",
    "        System.out.println(\"Hello, \" + args[0] + \"!\");\n",
    "    }\n",
    "}"
   ]
  },
  {
   "cell_type": "markdown",
   "id": "cb97529f-c7df-4a41-80aa-372620f1359f",
   "metadata": {
    "slideshow": {
     "slide_type": "notes"
    },
    "tags": []
   },
   "source": [
    "Met waarden bedoelen we hier niet alleen variabelen (data) maar ook methoden, bijvoorbeeld de welbekende methode `main`. Als een waarde eigen is aan de klasse dan betekent dit dat *geen* instantie van deze klasse nodig is om de methode aan te roepen."
   ]
  },
  {
   "cell_type": "markdown",
   "id": "c861e75d-db31-4734-b15d-5941321999ef",
   "metadata": {
    "slideshow": {
     "slide_type": "fragment"
    },
    "tags": []
   },
   "source": [
    "```console\n",
    "> java HelloWorld.java Misja\n",
    "```"
   ]
  },
  {
   "cell_type": "markdown",
   "id": "e689bf37-11ee-43e7-bde4-26ed87c56530",
   "metadata": {
    "slideshow": {
     "slide_type": "notes"
    },
    "tags": []
   },
   "source": [
    "We kunnen met de kennis die we al hebben van arrays én de kennis van de statische context nu nadoen wat Java doet als we het bovenstaande laten uitvoeren.  "
   ]
  },
  {
   "cell_type": "code",
   "execution_count": 13,
   "id": "63c5db2a-f3ac-4b7f-984c-541fcc380b39",
   "metadata": {
    "slideshow": {
     "slide_type": "fragment"
    },
    "tags": []
   },
   "outputs": [],
   "source": [
    "String[] args = {\"Misja\"}"
   ]
  },
  {
   "cell_type": "markdown",
   "id": "9df96b64-5883-4217-a2ff-c3d61698341b",
   "metadata": {
    "slideshow": {
     "slide_type": "notes"
    },
    "tags": []
   },
   "source": [
    "De argumenten die via de commandline zouden worden gegeven en verzameld worden in een array van `String`'s."
   ]
  },
  {
   "cell_type": "code",
   "execution_count": 14,
   "id": "e59cae47-3879-42fb-9bdc-fdc8de517030",
   "metadata": {
    "slideshow": {
     "slide_type": "fragment"
    },
    "tags": []
   },
   "outputs": [
    {
     "name": "stdout",
     "output_type": "stream",
     "text": [
      "Hello, Misja!\n"
     ]
    }
   ],
   "source": [
    "Hello.main(args)"
   ]
  },
  {
   "cell_type": "markdown",
   "id": "86d8f655-4b9c-4064-a7d2-089c565ccd29",
   "metadata": {
    "slideshow": {
     "slide_type": "notes"
    },
    "tags": []
   },
   "source": [
    "De aanroep van de methode `main` via de klasse, en niet een via een *instantie* van de klasse."
   ]
  },
  {
   "cell_type": "markdown",
   "id": "0adb0ed5-ef08-4ef3-84b7-e2cff2442c75",
   "metadata": {
    "slideshow": {
     "slide_type": "slide"
    },
    "tags": []
   },
   "source": [
    "## Combineren\n",
    "\n",
    "Context mixen."
   ]
  },
  {
   "cell_type": "code",
   "execution_count": 15,
   "id": "3d0ac723-d109-41c7-8d61-4dcca04847a3",
   "metadata": {
    "slideshow": {
     "slide_type": "subslide"
    },
    "tags": []
   },
   "outputs": [],
   "source": [
    "public class Person {\n",
    "    private String name;\n",
    "    \n",
    "    public Person(String name) {\n",
    "        this.name = name;\n",
    "    }\n",
    "    \n",
    "    public String toString() {\n",
    "        return name;\n",
    "    }\n",
    "    \n",
    "    public static void main(String[] args) {\n",
    "        Person a = new Person(\"Ariel\");\n",
    "        Person b = new Person(\"Bo\");\n",
    "        \n",
    "        System.out.println(\"Hi \" + a + \" and \" + b + \"!\");\n",
    "    }\n",
    "}"
   ]
  },
  {
   "cell_type": "markdown",
   "id": "eb9c8482-c23e-4567-9e3c-6f82f6c33cf4",
   "metadata": {
    "slideshow": {
     "slide_type": "notes"
    },
    "tags": []
   },
   "source": [
    "De klasse als \"client\" van zichzelf."
   ]
  },
  {
   "cell_type": "markdown",
   "id": "499c09ed-042c-46f5-bd70-8a1c1bbba574",
   "metadata": {
    "slideshow": {
     "slide_type": "fragment"
    },
    "tags": []
   },
   "source": [
    "```console\n",
    "> java Person.java\n",
    "```"
   ]
  },
  {
   "cell_type": "code",
   "execution_count": 16,
   "id": "e1d7f8fe-1a13-4185-84cd-7bc471ade97c",
   "metadata": {
    "slideshow": {
     "slide_type": "fragment"
    },
    "tags": []
   },
   "outputs": [
    {
     "name": "stdout",
     "output_type": "stream",
     "text": [
      "Hi Ariel and Bo!\n"
     ]
    }
   ],
   "source": [
    "Person.main(args)"
   ]
  },
  {
   "cell_type": "markdown",
   "id": "bced0a2a-bcda-4255-896d-9c1ece145700",
   "metadata": {
    "slideshow": {
     "slide_type": "subslide"
    },
    "tags": []
   },
   "source": [
    "|                | `static`                              | *niet* `static`<br>(per instantie)    |\n",
    "|----------------|---------------------------------------|---------------------------------------|\n",
    "| methode        | `Math.sqrt()`<br>`Integer.parseInt()` | `name.length()`<br>`text.charAt()`    |\n",
    "| veld/variabele | `Math.PI`                             | `args.length`<br>`name.toUpperCase()` |"
   ]
  },
  {
   "cell_type": "markdown",
   "id": "d38b9a23-ec99-425b-b331-5451aa1ea54f",
   "metadata": {
    "slideshow": {
     "slide_type": "notes"
    },
    "tags": []
   },
   "source": [
    "Je hebt inmiddels zowel methoden als klassen in een object- én statische context gebruikt, je zal hier een aantal aanroepen wellicht herkennen? "
   ]
  },
  {
   "cell_type": "markdown",
   "id": "712192f6-27a0-4aa0-b47e-5cc8d0bba33d",
   "metadata": {
    "slideshow": {
     "slide_type": "slide"
    },
    "tags": []
   },
   "source": [
    "## Onverandelijkheid\n",
    "\n",
    "Het is nu `final`!"
   ]
  },
  {
   "cell_type": "code",
   "execution_count": 17,
   "id": "354ef4ef-a15c-4545-b6e5-73563c0e241f",
   "metadata": {
    "slideshow": {
     "slide_type": "subslide"
    },
    "tags": []
   },
   "outputs": [],
   "source": [
    "public class Square {\n",
    "    public static final int MAX_WIDTH = 100;\n",
    "}"
   ]
  },
  {
   "cell_type": "code",
   "execution_count": 18,
   "id": "25a1621a-9eb8-42b7-a39f-4cb157fe214e",
   "metadata": {
    "slideshow": {
     "slide_type": "fragment"
    },
    "tags": []
   },
   "outputs": [
    {
     "data": {
      "text/plain": [
       "100"
      ]
     },
     "execution_count": 18,
     "metadata": {},
     "output_type": "execute_result"
    }
   ],
   "source": [
    "Square.MAX_WIDTH;"
   ]
  },
  {
   "cell_type": "code",
   "execution_count": 19,
   "id": "675d29d4-2e2f-40f7-a779-0b4821734da4",
   "metadata": {
    "slideshow": {
     "slide_type": "fragment"
    },
    "tags": []
   },
   "outputs": [
    {
     "ename": "CompilationException",
     "evalue": "",
     "output_type": "error",
     "traceback": [
      "\u001b[1m\u001b[30m|   \u001b[1m\u001b[30m\u001b[0m\u001b[1m\u001b[30m\u001b[41mSquare.MAX_WIDTH\u001b[0m\u001b[1m\u001b[30m = 101;\u001b[0m",
      "\u001b[1m\u001b[31mcannot assign a value to final variable MAX_WIDTH\u001b[0m",
      ""
     ]
    }
   ],
   "source": [
    "Square.MAX_WIDTH = 101;"
   ]
  },
  {
   "cell_type": "code",
   "execution_count": 20,
   "id": "31a8e335-cc09-4b7d-8bbe-b896d66613d5",
   "metadata": {
    "slideshow": {
     "slide_type": "subslide"
    },
    "tags": []
   },
   "outputs": [
    {
     "data": {
      "text/plain": [
       "3.141592653589793"
      ]
     },
     "execution_count": 20,
     "metadata": {},
     "output_type": "execute_result"
    }
   ],
   "source": [
    "Math.PI"
   ]
  },
  {
   "cell_type": "code",
   "execution_count": 21,
   "id": "9f6b835e-cce4-4e65-8b02-a7569ad9df82",
   "metadata": {
    "slideshow": {
     "slide_type": "fragment"
    },
    "tags": []
   },
   "outputs": [
    {
     "ename": "CompilationException",
     "evalue": "",
     "output_type": "error",
     "traceback": [
      "\u001b[1m\u001b[30m|   \u001b[1m\u001b[30m\u001b[0m\u001b[1m\u001b[30m\u001b[41mMath.PI\u001b[0m\u001b[1m\u001b[30m = 2 * Math.PI\u001b[0m",
      "\u001b[1m\u001b[31mcannot assign a value to final variable PI\u001b[0m",
      ""
     ]
    }
   ],
   "source": [
    "Math.PI = 2 * Math.PI"
   ]
  },
  {
   "cell_type": "markdown",
   "id": "c28b3a6f-50e4-4ab3-a838-283014b927a6",
   "metadata": {
    "slideshow": {
     "slide_type": "notes"
    },
    "tags": []
   },
   "source": [
    "De conventie is dat `final` velden met een hoofdletter worden geschreven. Het geeft aan dat het *constanten* zijn, onveranderlijke waarden."
   ]
  },
  {
   "cell_type": "markdown",
   "id": "8f6163fb-f9a9-4b02-94f6-e1c5e8ac89d7",
   "metadata": {
    "slideshow": {
     "slide_type": "slide"
    },
    "tags": []
   },
   "source": [
    "## Arrays\n",
    "\n",
    "Zijn ook \"final\""
   ]
  },
  {
   "cell_type": "markdown",
   "id": "fea74727-64df-4b00-9424-e18d3cfeb014",
   "metadata": {
    "slideshow": {
     "slide_type": "notes"
    },
    "tags": []
   },
   "source": [
    "Als eenmaal de grootte is bepaald dan kan deze niet meer worden gewijzigd, het array kan niet meer worden uitgebreid. De elementen in het array kunnen nog wel worden gewijzigd."
   ]
  },
  {
   "cell_type": "code",
   "execution_count": 22,
   "id": "ee4035d9-0c6f-4ad4-86c2-073dbf80de25",
   "metadata": {
    "slideshow": {
     "slide_type": "subslide"
    },
    "tags": []
   },
   "outputs": [],
   "source": [
    "class Lingo {\n",
    "    private char[] letters;\n",
    "    \n",
    "    public Lingo(String word) {\n",
    "        letters = new char[word.length()];\n",
    "        \n",
    "        for (int i = 0; i < letters.length; i++) {\n",
    "            letters[i] = word.charAt(i);\n",
    "        }\n",
    "    }\n",
    "    \n",
    "    public boolean guessLetter(int position, char letter) {\n",
    "        if (letters[position] == letter) {\n",
    "            return true;\n",
    "        }\n",
    "        return false;\n",
    "    }\n",
    "}"
   ]
  },
  {
   "cell_type": "code",
   "execution_count": 23,
   "id": "99031470-12ac-4c47-859d-e08d8157a561",
   "metadata": {
    "slideshow": {
     "slide_type": "fragment"
    },
    "tags": []
   },
   "outputs": [],
   "source": [
    "Lingo game = new Lingo(\"opzet\")"
   ]
  },
  {
   "cell_type": "code",
   "execution_count": 24,
   "id": "b1d47bff-c6a7-4948-878b-267d2cedac25",
   "metadata": {
    "slideshow": {
     "slide_type": "fragment"
    },
    "tags": []
   },
   "outputs": [
    {
     "data": {
      "text/plain": [
       "false"
      ]
     },
     "execution_count": 24,
     "metadata": {},
     "output_type": "execute_result"
    }
   ],
   "source": [
    "game.guessLetter(0, 'z')"
   ]
  },
  {
   "cell_type": "markdown",
   "id": "15aa11a6-a57d-4c80-94f5-9994bbf9e356",
   "metadata": {
    "slideshow": {
     "slide_type": "subslide"
    },
    "tags": []
   },
   "source": [
    "## Collecties\n",
    "\n",
    "Zijn \"flexibel\""
   ]
  },
  {
   "cell_type": "markdown",
   "id": "88688f05-1b1c-410a-94ba-ff7990c6e538",
   "metadata": {
    "slideshow": {
     "slide_type": "fragment"
    },
    "tags": []
   },
   "source": [
    "> objecten die andere objecten bevatten"
   ]
  },
  {
   "cell_type": "markdown",
   "id": "9fa17c5a-5762-4dea-a118-629392ed0cbc",
   "metadata": {
    "slideshow": {
     "slide_type": "notes"
    },
    "tags": []
   },
   "source": [
    "Arrays zijn eenvoudige types voor het beheren van een collectie elementen. Collecties zijn typen die veel flexibeler zijn, bijvoorbeeld ze groeien en weer krimpen (in tegenstelling tot arrays waar de lengte vast is)."
   ]
  },
  {
   "cell_type": "code",
   "execution_count": 25,
   "id": "d88cb315-adc3-4b86-9059-b7a717c43bbd",
   "metadata": {
    "slideshow": {
     "slide_type": "subslide"
    },
    "tags": []
   },
   "outputs": [],
   "source": [
    "import java.util.ArrayList;"
   ]
  },
  {
   "cell_type": "code",
   "execution_count": 26,
   "id": "4b4d0d97-a35d-4ecf-b444-5ffc3819effe",
   "metadata": {
    "slideshow": {
     "slide_type": "fragment"
    },
    "tags": []
   },
   "outputs": [],
   "source": [
    "ArrayList<String> gameWords = new ArrayList<String>();"
   ]
  },
  {
   "cell_type": "code",
   "execution_count": 27,
   "id": "cdfda69b-68b9-4c35-964a-add57c9fdc45",
   "metadata": {
    "slideshow": {
     "slide_type": "fragment"
    },
    "tags": []
   },
   "outputs": [
    {
     "data": {
      "text/plain": [
       "true"
      ]
     },
     "execution_count": 27,
     "metadata": {},
     "output_type": "execute_result"
    }
   ],
   "source": [
    "gameWords.add(\"opzet\");"
   ]
  },
  {
   "cell_type": "code",
   "execution_count": 28,
   "id": "41e4c85e-d3d7-4ca3-8605-cfe017ad37e3",
   "metadata": {
    "slideshow": {
     "slide_type": "fragment"
    },
    "tags": []
   },
   "outputs": [
    {
     "data": {
      "text/plain": [
       "true"
      ]
     },
     "execution_count": 28,
     "metadata": {},
     "output_type": "execute_result"
    }
   ],
   "source": [
    "gameWords.add(\"pannekoek\")"
   ]
  },
  {
   "cell_type": "code",
   "execution_count": 29,
   "id": "31ef308a-1632-48a6-86db-205ac27725a3",
   "metadata": {
    "slideshow": {
     "slide_type": "fragment"
    },
    "tags": []
   },
   "outputs": [
    {
     "data": {
      "text/plain": [
       "2"
      ]
     },
     "execution_count": 29,
     "metadata": {},
     "output_type": "execute_result"
    }
   ],
   "source": [
    "gameWords.size()"
   ]
  },
  {
   "cell_type": "code",
   "execution_count": 30,
   "id": "fdc79fb3-de1e-4e7d-b89f-140cd02b69a6",
   "metadata": {
    "slideshow": {
     "slide_type": "subslide"
    },
    "tags": []
   },
   "outputs": [
    {
     "data": {
      "text/plain": [
       "pannekoek"
      ]
     },
     "execution_count": 30,
     "metadata": {},
     "output_type": "execute_result"
    }
   ],
   "source": [
    "gameWords.remove(1)"
   ]
  },
  {
   "cell_type": "code",
   "execution_count": 31,
   "id": "477f3fdf-efe0-4b0b-a22e-666f02fbb7b3",
   "metadata": {
    "slideshow": {
     "slide_type": "fragment"
    },
    "tags": []
   },
   "outputs": [
    {
     "data": {
      "text/plain": [
       "true"
      ]
     },
     "execution_count": 31,
     "metadata": {},
     "output_type": "execute_result"
    }
   ],
   "source": [
    "gameWords.add(\"pannenkoek\")"
   ]
  },
  {
   "cell_type": "code",
   "execution_count": 32,
   "id": "da40534a-86d7-4d0f-9be2-a93ff6ac3bab",
   "metadata": {
    "slideshow": {
     "slide_type": "fragment"
    },
    "tags": []
   },
   "outputs": [
    {
     "name": "stdout",
     "output_type": "stream",
     "text": [
      "[opzet, pannenkoek]"
     ]
    }
   ],
   "source": [
    "System.out.print(gameWords)"
   ]
  },
  {
   "cell_type": "code",
   "execution_count": 33,
   "id": "8ef47095-15bb-48e1-99a7-fffcd2403e71",
   "metadata": {
    "slideshow": {
     "slide_type": "fragment"
    },
    "tags": []
   },
   "outputs": [
    {
     "name": "stdout",
     "output_type": "stream",
     "text": [
      "opzet\n",
      "pannenkoek\n"
     ]
    }
   ],
   "source": [
    "for (String woord: gameWords) {\n",
    "    System.out.println(woord);\n",
    "}"
   ]
  },
  {
   "cell_type": "markdown",
   "id": "349bb7d9-05cb-481f-8562-c3c8a2220465",
   "metadata": {
    "slideshow": {
     "slide_type": "subslide"
    },
    "tags": []
   },
   "source": [
    "![Word cloud](images/6/word_cloud.png)"
   ]
  },
  {
   "cell_type": "markdown",
   "id": "b3542829-4801-42f8-bb47-736245af1b8d",
   "metadata": {
    "slideshow": {
     "slide_type": "notes"
    },
    "tags": []
   },
   "source": [
    "In hoofdstuk [12](https://books.trinket.io/thinkjava2/chapter12.html) tot en met [13](https://books.trinket.io/thinkjava2/chapter13.html) worden kaartspellen uitgewerkt, in opgave [simulatie](/problems/simulation/index) ga je dit voor het spel oorlogje (\"War\") uitwerken en het spel simuleren."
   ]
  }
 ],
 "metadata": {
  "kernelspec": {
   "display_name": "Java",
   "language": "java",
   "name": "java"
  },
  "language_info": {
   "codemirror_mode": "java",
   "file_extension": ".jshell",
   "mimetype": "text/x-java-source",
   "name": "Java",
   "pygments_lexer": "java",
   "version": "11.0.11+9-Ubuntu-0ubuntu2"
  },
  "toc-autonumbering": true,
  "toc-showcode": true
 },
 "nbformat": 4,
 "nbformat_minor": 5
}
