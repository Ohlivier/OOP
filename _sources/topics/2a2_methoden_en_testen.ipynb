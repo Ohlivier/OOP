{
 "cells": [
  {
   "cell_type": "markdown",
   "id": "fb641a88-afea-494c-ad45-0c52ba3e691e",
   "metadata": {
    "slideshow": {
     "slide_type": "slide"
    },
    "tags": []
   },
   "source": [
    "# Methoden"
   ]
  },
  {
   "cell_type": "markdown",
   "id": "47f004b1-245c-49d4-8c76-ff47c7f4ff5c",
   "metadata": {
    "slideshow": {
     "slide_type": "skip"
    },
    "tags": []
   },
   "source": [
    "Dit zijn aanvullende collegeteksten."
   ]
  },
  {
   "cell_type": "markdown",
   "id": "73a364e0-bca2-49a8-9d45-50d8f5778fa3",
   "metadata": {
    "slideshow": {
     "slide_type": "subslide"
    },
    "tags": []
   },
   "source": [
    "## De anatomie van een methode"
   ]
  },
  {
   "cell_type": "markdown",
   "id": "89c031b6-35c0-4303-a73e-26f5bd13c858",
   "metadata": {
    "slideshow": {
     "slide_type": "subslide"
    },
    "tags": []
   },
   "source": [
    "```java\n",
    "public class HelloWorld {\n",
    "    public static void main(String[] args) {\n",
    "        System.out.println(\"Hello World\");\n",
    "    }\n",
    "}\n",
    "```"
   ]
  },
  {
   "cell_type": "markdown",
   "id": "ebaca34e-22d1-4e92-bd8f-af20189d0345",
   "metadata": {
    "slideshow": {
     "slide_type": "notes"
    },
    "tags": []
   },
   "source": [
    "Het voorbeeld dat we nu al zo vaak hebben gezien! We hebben hierdoor ook al kennisgemaakt met methoden, in dit geval de methode `main`. Een methode kan niet op zichzelf staan en is altijd een onderdeel van een klasse."
   ]
  },
  {
   "cell_type": "markdown",
   "id": "d374c942-7480-49bc-aa9d-3b303a1fe106",
   "metadata": {
    "slideshow": {
     "slide_type": "subslide"
    },
    "tags": []
   },
   "source": [
    "```java\n",
    "public static void main(String[] args) {\n",
    "    System.out.println(\"Hello World\");\n",
    "}\n",
    "```"
   ]
  },
  {
   "cell_type": "markdown",
   "id": "5f160b55-cd4e-4a69-b72e-fdbabcdf301e",
   "metadata": {
    "slideshow": {
     "slide_type": "notes"
    },
    "tags": []
   },
   "source": [
    "Laten we de methode stukje bij beetje uitkleden, hier hebben we omringende klasse weggelaten."
   ]
  },
  {
   "cell_type": "markdown",
   "id": "d02005f4-8ae0-439f-82d0-8dd4e9206100",
   "metadata": {
    "slideshow": {
     "slide_type": "subslide"
    },
    "tags": []
   },
   "source": [
    "```java\n",
    "public static void main(String[] args)\n",
    "```"
   ]
  },
  {
   "cell_type": "markdown",
   "id": "f0e7bf84-b06e-4529-8cff-157705a926cf",
   "metadata": {
    "slideshow": {
     "slide_type": "notes"
    },
    "tags": []
   },
   "source": [
    "Als we de *body* van de methode weglaten (alles wat tussen `{` en `}`staat) houden we de *signatuur* van de functie over."
   ]
  },
  {
   "cell_type": "markdown",
   "id": "08796bc7-4a6c-4cba-bef5-d137e96dcce8",
   "metadata": {
    "slideshow": {
     "slide_type": "subslide"
    },
    "tags": []
   },
   "source": [
    "```java\n",
    "void main(String[] args)\n",
    "```"
   ]
  },
  {
   "cell_type": "markdown",
   "id": "961eed7b-22ac-41a4-a3cc-fac1795bc36e",
   "metadata": {
    "slideshow": {
     "slide_type": "notes"
    },
    "tags": []
   },
   "source": [
    "En als we tot slot de *keywords* `public` en `static` weglaten dan bijft uiteindelijk het volgende over en dit is de essentie van een de definitie van een methode.\n",
    "\n",
    "Let op, zoals eerder gezegd gaan we later in op de betekenis van deze keywords. Neem voor nu aan (en zeker voor de methode `main`) dat je ze moet gebruiken."
   ]
  },
  {
   "cell_type": "markdown",
   "id": "845286dc-2e9b-4007-915d-4bb11f60a5fc",
   "metadata": {
    "slideshow": {
     "slide_type": "fragment"
    },
    "tags": []
   },
   "source": [
    "> *type* **naam** ( *parameters* )"
   ]
  },
  {
   "cell_type": "markdown",
   "id": "99aff415-d61b-4b9d-bc5c-de88a2850a5e",
   "metadata": {
    "slideshow": {
     "slide_type": "notes"
    },
    "tags": []
   },
   "source": [
    "Type en naam moeten altijd gedefinieerd worden, het aantal parameters kan 0 of meer zijn.\n",
    "\n",
    "Java is een *statisch* getypeerde taal en ook voor methoden moet worden aangegeven wat het type van de waarde is die de functie als resultaat teruggeeft. In het geval van `main` is dit niets, oftewel `void` want bedenk dat `System.out.println` alleen maar pixels op het scherm zet..."
   ]
  },
  {
   "cell_type": "markdown",
   "id": "2535e148-23bd-4684-b661-18dd8890674b",
   "metadata": {
    "slideshow": {
     "slide_type": "slide"
    },
    "tags": []
   },
   "source": [
    "## Methoden definiëren"
   ]
  },
  {
   "cell_type": "code",
   "execution_count": 1,
   "id": "6064f606-5dec-45bd-ba35-25fb82b561a6",
   "metadata": {
    "slideshow": {
     "slide_type": "fragment"
    },
    "tags": []
   },
   "outputs": [],
   "source": [
    "public static void newLine() {\n",
    "    System.out.println();\n",
    "}"
   ]
  },
  {
   "cell_type": "code",
   "execution_count": 2,
   "id": "b9caca1a-46fa-46a8-96cf-95385a4d4d7a",
   "metadata": {
    "slideshow": {
     "slide_type": "fragment"
    },
    "tags": []
   },
   "outputs": [
    {
     "name": "stdout",
     "output_type": "stream",
     "text": [
      "First line.\n",
      "\n",
      "Second line.\n"
     ]
    }
   ],
   "source": [
    "System.out.println(\"First line.\");\n",
    "newLine();\n",
    "System.out.println(\"Second line.\");"
   ]
  },
  {
   "cell_type": "markdown",
   "id": "fedf5c19-fa7c-4836-a6f5-5d004cb3872c",
   "metadata": {
    "slideshow": {
     "slide_type": "notes"
    },
    "tags": []
   },
   "source": [
    "In het boek wordt dit voorbeeld gebruikt. Een je ziet hier een nieuwe methode `newLine` met de enige taak een nieuwe regel te printen, een lege regel in dit geval.\n",
    "\n",
    "Zodra de methode is gedefinieerd kan het aangeroepen worden, bijvoorbeeld in de methode `main`."
   ]
  },
  {
   "cell_type": "markdown",
   "id": "036a0ed3-0ca4-408c-a05b-6687da7e33e9",
   "metadata": {
    "slideshow": {
     "slide_type": "slide"
    },
    "tags": []
   },
   "source": [
    "## Parameters en argumenten"
   ]
  },
  {
   "cell_type": "code",
   "execution_count": 3,
   "id": "08bf941c-4cdc-402d-877c-1cee3662a17a",
   "metadata": {},
   "outputs": [],
   "source": [
    "public static void printTwice(String s) {\n",
    "    System.out.println(s);\n",
    "    System.out.println(s);\n",
    "}"
   ]
  },
  {
   "cell_type": "code",
   "execution_count": 4,
   "id": "b9e8db22-976d-436f-8889-6fb1ce922923",
   "metadata": {
    "slideshow": {
     "slide_type": "fragment"
    },
    "tags": []
   },
   "outputs": [
    {
     "name": "stdout",
     "output_type": "stream",
     "text": [
      "Don' t make me say this twice!\n",
      "Don' t make me say this twice!\n"
     ]
    }
   ],
   "source": [
    "printTwice(\"Don' t make me say this twice!\");"
   ]
  },
  {
   "cell_type": "markdown",
   "id": "9cda46e8-3b57-4838-9605-91384be6d7db",
   "metadata": {
    "slideshow": {
     "slide_type": "notes"
    },
    "tags": []
   },
   "source": [
    "Een methode kan meerdere argumenten ontvangen, maar dit zal je wel moeten definiëren. Dit betekent dat je naast de *naam* ook het type moet declareren voor de parameters van de methode!"
   ]
  },
  {
   "cell_type": "markdown",
   "id": "2d4b89ae-916b-49f7-a068-33273f4ae013",
   "metadata": {
    "slideshow": {
     "slide_type": "subslide"
    },
    "tags": []
   },
   "source": [
    "### Meerdere parameters"
   ]
  },
  {
   "cell_type": "code",
   "execution_count": 5,
   "id": "ede7317d-efd8-41de-ac4a-e61a711fd6e1",
   "metadata": {
    "slideshow": {
     "slide_type": "fragment"
    },
    "tags": []
   },
   "outputs": [],
   "source": [
    "public static void printTime(int hour, int minute) {\n",
    "    System.out.print(hour);\n",
    "    System.out.print(\":\");\n",
    "    System.out.println(minute);\n",
    "}"
   ]
  },
  {
   "cell_type": "code",
   "execution_count": 6,
   "id": "15189e30-06ef-4cce-8d6c-52f351afe101",
   "metadata": {
    "slideshow": {
     "slide_type": "fragment"
    },
    "tags": []
   },
   "outputs": [
    {
     "name": "stdout",
     "output_type": "stream",
     "text": [
      "11:59\n"
     ]
    }
   ],
   "source": [
    "printTime(11, 59)"
   ]
  },
  {
   "cell_type": "markdown",
   "id": "8fe6c381-ee72-465a-be72-d6028b36c5bc",
   "metadata": {
    "slideshow": {
     "slide_type": "notes"
    },
    "tags": []
   },
   "source": [
    "Meerdere parameters worden gescheiden door een *komma*."
   ]
  },
  {
   "cell_type": "markdown",
   "id": "0cbe53eb-e2df-4c05-9265-2621a07db0e4",
   "metadata": {
    "slideshow": {
     "slide_type": "subslide"
    },
    "tags": []
   },
   "source": [
    "### Vraag\n",
    "\n",
    "Is deze aanroep juist?\n",
    "\n",
    "```java\n",
    "printTime(int 11, int 59);\n",
    "```"
   ]
  },
  {
   "cell_type": "markdown",
   "id": "3ae007ec-deb7-49c0-8977-fca828a07b1d",
   "metadata": {
    "slideshow": {
     "slide_type": "notes"
    },
    "tags": []
   },
   "source": [
    "Nee, dit geeft een syntaxfout, omdat de compiler `int hour` en `int minute` ziet als variabele declaraties, en niet als *expressies* die waarden vertegenwoordigen.\n",
    "\n",
    "De declaratie van variabelen is al eerder gedaan bij het definiëren van de parameters van de methode `printTime`, jij hoeft deze alleen maar te initialiseren met een concrete waarde."
   ]
  },
  {
   "cell_type": "markdown",
   "id": "2f2671ea-6613-4d9f-b111-e9d9b652d0e3",
   "metadata": {
    "slideshow": {
     "slide_type": "subslide"
    },
    "tags": []
   },
   "source": [
    "### Terug naar `main`"
   ]
  },
  {
   "cell_type": "markdown",
   "id": "03dbfb18-d7ea-489c-aaf5-339430c815ae",
   "metadata": {
    "slideshow": {
     "slide_type": "fragment"
    },
    "tags": []
   },
   "source": [
    "```java\n",
    "public static void main(String[] args)\n",
    "```"
   ]
  },
  {
   "cell_type": "markdown",
   "id": "bc0f61a3-d55e-4076-b22e-111ed711d227",
   "metadata": {
    "slideshow": {
     "slide_type": "notes"
    },
    "tags": []
   },
   "source": [
    "De `main` methode is speciaal, het is het *entry point* voor een programma, de eerste methode die wordt aangeroepen als een programma start. Het opstarten van een programma gaan we vaak doen via de *comandline*.\n",
    "\n",
    "Maar de methode accepteert wel argumenten, waar komen deze vandaan? Met andere woorden, hoe kan bij het opstarten van het programma argumenten worden doorgegeven?"
   ]
  },
  {
   "cell_type": "markdown",
   "id": "8c5a190f-b710-4358-ab1d-8f7ea673e810",
   "metadata": {
    "slideshow": {
     "slide_type": "subslide"
    },
    "tags": []
   },
   "source": [
    "```java\n",
    "public class Greeter {\n",
    "    public static void main(String[] args) {\n",
    "        System.out.println(\"Hello \" + args[0]);\n",
    "    }\n",
    "}\n",
    "```"
   ]
  },
  {
   "cell_type": "markdown",
   "id": "18391370-dd16-4923-9cea-eb282463ebf0",
   "metadata": {
    "slideshow": {
     "slide_type": "fragment"
    },
    "tags": []
   },
   "source": [
    "```console\n",
    "> java Greeter.java Misja\n",
    "Hello Misja\n",
    "```"
   ]
  },
  {
   "cell_type": "markdown",
   "id": "0348a4eb-4e6e-41c9-a102-e269b3897f77",
   "metadata": {
    "slideshow": {
     "slide_type": "notes"
    },
    "tags": []
   },
   "source": [
    "In veel Java cursussen wordt vaak voorbij gegaan aan wat de parameter `String[] args` nu precies betekent en hoe het wordt gebruikt. Wij gaan dat wél doen en aan het gebruik (`args[0]`) kan je misschien al raden dat `args` iets als een lijst van waarden moet zijn waar de waarde op positie 0 in dit geval het doorgegeven argument is.\n",
    "\n",
    "`args` is een *array* met elementen van type `String` en we gaan hier later uitgebreid bij arrays stilstaan, inclusief syntax (`String[]`)!\n",
    "\n",
    "Meerdere argumenten kan je op deze manier doorgeven, steeds gescheiden door een spatie."
   ]
  },
  {
   "cell_type": "markdown",
   "id": "18f10bcc-c9d2-471b-b98d-e803ab73e7d4",
   "metadata": {
    "slideshow": {
     "slide_type": "subslide"
    },
    "tags": []
   },
   "source": [
    "### Van `String` naar `int`"
   ]
  },
  {
   "cell_type": "code",
   "execution_count": 7,
   "id": "c9d616f0-7baf-469a-a3ee-4bca051c6abf",
   "metadata": {
    "slideshow": {
     "slide_type": "fragment"
    },
    "tags": []
   },
   "outputs": [],
   "source": [
    "String s = \"42\";\n",
    "int i = Integer.parseInt(s);"
   ]
  },
  {
   "cell_type": "markdown",
   "id": "dc304b4c-ea00-4d0b-9f3e-e22a07fd5e59",
   "metadata": {
    "slideshow": {
     "slide_type": "notes"
    },
    "tags": []
   },
   "source": [
    "`args` bevat *altijd* strings, maar wat als het argument een ander type moet zijn, bijvoorbeeld een `int`? Dan zal je het expliciet moeten omzetten van een `String` naar een `int`."
   ]
  },
  {
   "cell_type": "code",
   "execution_count": 8,
   "id": "cb74cb0e-ba27-40bf-a6b0-58090f57b69e",
   "metadata": {
    "slideshow": {
     "slide_type": "fragment"
    },
    "tags": []
   },
   "outputs": [
    {
     "data": {
      "text/plain": [
       "21"
      ]
     },
     "execution_count": 8,
     "metadata": {},
     "output_type": "execute_result"
    }
   ],
   "source": [
    "i / 2"
   ]
  },
  {
   "cell_type": "markdown",
   "id": "4154b185-d814-4393-bda8-338a6745a08e",
   "metadata": {
    "slideshow": {
     "slide_type": "subslide"
    },
    "tags": []
   },
   "source": [
    "### Vraag\n",
    "\n",
    "```java\n",
    "int i = Integer.parseInt(s);\n",
    "```\n",
    "\n",
    "Wat zou de *signatuur* van de `parseInt` methode van de klasse `Integer` zijn?"
   ]
  },
  {
   "cell_type": "markdown",
   "id": "8f66f4f6-663d-4a81-a00b-377518f2bae5",
   "metadata": {
    "slideshow": {
     "slide_type": "fragment"
    },
    "tags": []
   },
   "source": [
    "```java\n",
    "public static int parseInt(String s)\n",
    "```"
   ]
  },
  {
   "cell_type": "markdown",
   "id": "4dc03840-7ed8-4068-b7f1-76a7971a5704",
   "metadata": {
    "slideshow": {
     "slide_type": "slide"
    },
    "tags": []
   },
   "source": [
    "## Returnwaarden"
   ]
  },
  {
   "cell_type": "markdown",
   "id": "9294621b-94ab-411c-910c-714654afbd89",
   "metadata": {
    "slideshow": {
     "slide_type": "fragment"
    },
    "tags": []
   },
   "source": [
    "Gegeven de formule voor het oppervlak van een cirkel\n",
    "\n",
    "$$\n",
    "\\pi \\cdot r^2\n",
    "$$"
   ]
  },
  {
   "cell_type": "code",
   "execution_count": 9,
   "id": "62e15fcf-a91a-4113-b217-5ad8ccb2cc7c",
   "metadata": {
    "slideshow": {
     "slide_type": "subslide"
    },
    "tags": []
   },
   "outputs": [],
   "source": [
    "public static double calculateArea(double radius) {\n",
    "    return Math.PI * radius * radius;\n",
    "}"
   ]
  },
  {
   "cell_type": "markdown",
   "id": "b076b2fb-ec3f-46cb-926b-ad74cab47b77",
   "metadata": {
    "slideshow": {
     "slide_type": "notes"
    },
    "tags": []
   },
   "source": [
    "Met het `return` statement laat je de methode een waarde teruggeven, dit moet van het type zijn dat je in de signatuur van de methode hebt aangegeven, in dit geval `double`."
   ]
  },
  {
   "cell_type": "markdown",
   "id": "a397955c-fcfa-4896-907a-5ad748795ca7",
   "metadata": {
    "slideshow": {
     "slide_type": "fragment"
    },
    "tags": []
   },
   "source": [
    "Gegeven een cirkel met diameter 10"
   ]
  },
  {
   "cell_type": "code",
   "execution_count": 10,
   "id": "11305199-b529-4994-bbe8-f0379da8bb51",
   "metadata": {
    "slideshow": {
     "slide_type": "fragment"
    },
    "tags": []
   },
   "outputs": [],
   "source": [
    "double area = calculateArea(10.0 / 2);"
   ]
  },
  {
   "cell_type": "markdown",
   "id": "d00ef8db-8604-4824-abed-c7592f396d17",
   "metadata": {
    "slideshow": {
     "slide_type": "notes"
    },
    "tags": []
   },
   "source": [
    "De straal van een cirkel is de helft van de diameter, het resultaat van deze expressie (`10.0 / 2`) wordt als argument aan `calculateArea` doorgegeven. Waarom `10.0` en niet `10`? `calculateArea` verwacht een waarde van type `double`, de expressie `10 / 2` zal een `int` opleveren!"
   ]
  },
  {
   "cell_type": "code",
   "execution_count": 11,
   "id": "47d82235-206c-4af1-af40-c190bdd6442a",
   "metadata": {
    "slideshow": {
     "slide_type": "fragment"
    },
    "tags": []
   },
   "outputs": [
    {
     "data": {
      "text/plain": [
       "78.53981633974483"
      ]
     },
     "execution_count": 11,
     "metadata": {},
     "output_type": "execute_result"
    }
   ],
   "source": [
    "area"
   ]
  },
  {
   "cell_type": "markdown",
   "id": "872fe027-b260-42f6-b467-0f7ae38e7c35",
   "metadata": {
    "slideshow": {
     "slide_type": "slide"
    },
    "tags": []
   },
   "source": [
    "## Testen"
   ]
  },
  {
   "cell_type": "markdown",
   "id": "d20dfded-5cc6-4236-96cd-ab25e26d30c2",
   "metadata": {
    "slideshow": {
     "slide_type": "subslide"
    },
    "tags": []
   },
   "source": [
    "![Debugging](images/2/debugging.jpg)"
   ]
  },
  {
   "cell_type": "markdown",
   "id": "c656015d-a3a9-4e66-ae31-d9bfc7266f32",
   "metadata": {
    "slideshow": {
     "slide_type": "notes"
    },
    "tags": []
   },
   "source": [
    "Testen, of *debuggen*, is een kwestie van perspectief? Wij adviseren een omgekeerde volgorde!"
   ]
  },
  {
   "cell_type": "markdown",
   "id": "6d37c0de-419b-461e-a6f6-26426668c303",
   "metadata": {
    "slideshow": {
     "slide_type": "subslide"
    },
    "tags": []
   },
   "source": [
    "```java\n",
    "System.out.println(\"Ik ben nu hier!\");\n",
    "```"
   ]
  },
  {
   "cell_type": "markdown",
   "id": "f7b816b7-1da5-4103-9e16-d1740c5abeb7",
   "metadata": {
    "slideshow": {
     "slide_type": "notes"
    },
    "tags": []
   },
   "source": [
    "Dit wil niet zeggen dat we print statements afraden als je ergens in de loop van jouw programma de waarde van een variabele wilt weten of waarom het programma een bepaald punt niet lijkt te bereiken. Maar het kan slimmer door gebruik te maken van het gereedschap dat de IDE jou biedt."
   ]
  },
  {
   "cell_type": "markdown",
   "id": "0d13c68b-25a4-42ae-970d-5f145f3fc962",
   "metadata": {
    "slideshow": {
     "slide_type": "subslide"
    },
    "tags": []
   },
   "source": [
    "### Debug mode"
   ]
  },
  {
   "cell_type": "markdown",
   "id": "489a24b0-2bc2-4389-99b9-6c336521e59b",
   "metadata": {
    "slideshow": {
     "slide_type": "subslide"
    },
    "tags": []
   },
   "source": [
    "![Intellij breakpoint](images/2/intellij_breakpoint.png)"
   ]
  },
  {
   "cell_type": "markdown",
   "id": "7aeb0376-29e9-43ec-9c7b-f2df0727371b",
   "metadata": {
    "slideshow": {
     "slide_type": "notes"
    },
    "tags": []
   },
   "source": [
    "Naast elke regel kan je een *breakpoint* zetten, met een enkele klik en zal zichtbaar worden door een rode stip. Met een breakpoint geef je het punt aan waar je het programma wilt pauzeren om de *staat* van het programma te inspecteren. Bijvoorbeeld om de waarde van een variabele op dat punt te bekijken."
   ]
  },
  {
   "cell_type": "markdown",
   "id": "10834603-a32a-40c1-b058-94ac4ceae0ff",
   "metadata": {
    "slideshow": {
     "slide_type": "subslide"
    },
    "tags": []
   },
   "source": [
    "![Intellij debug run](images/2/intellij_debug_run.png)"
   ]
  },
  {
   "cell_type": "markdown",
   "id": "a6d9dc5a-eba1-426b-b86a-eaaa0553dadf",
   "metadata": {
    "slideshow": {
     "slide_type": "notes"
    },
    "tags": []
   },
   "source": [
    "Rechts-klik op de methode `main` en kies de *Debug* optie. Het programma zal nu worden gestart en zal worden doorlopen *tot* het breakpoint, op dat moment wordt de wereld even stilgezet."
   ]
  },
  {
   "cell_type": "markdown",
   "id": "c737c912-bc4d-4abd-bab2-a436e694b80c",
   "metadata": {
    "slideshow": {
     "slide_type": "subslide"
    },
    "tags": []
   },
   "source": [
    "![Intellij debug environment](images/2/intellij_debug_env.png)"
   ]
  },
  {
   "cell_type": "markdown",
   "id": "d8b80eda-4775-4396-98bf-f3f5e16e6328",
   "metadata": {
    "slideshow": {
     "slide_type": "notes"
    },
    "tags": []
   },
   "source": [
    "Onderaan in IntelliJ zal een debug *view* zichtbaar worden waar je de staat van het programma op dat moment kan zien."
   ]
  },
  {
   "cell_type": "markdown",
   "id": "62e9f85c-6e7c-4f6c-a670-1286931d84c0",
   "metadata": {
    "slideshow": {
     "slide_type": "skip"
    },
    "tags": []
   },
   "source": [
    "**Tutorial: Debug your first Java application**\n",
    "\n",
    "[Debugging your first java application](https://www.jetbrains.com/help/idea/debugging-your-first-java-application.html)"
   ]
  },
  {
   "cell_type": "markdown",
   "id": "17e7c78a-12f0-4f7e-802c-9efa141caa8d",
   "metadata": {
    "slideshow": {
     "slide_type": "skip"
    },
    "tags": []
   },
   "source": [
    "Bekijk voor IntelliJ de [korte inleiding](https://www.jetbrains.com/help/idea/debugging-your-first-java-application.html) over het gebruik van de debugger. Je zal daar ook zien hoe je een specifieke *debug configuratie* kan aanmaken, bijvoorbeeld als jouw methode `main` via de commandline argumenten moet kunnen accepteren. Maar meer in het algemeen, blader af en toe de [algemene documentatie](https://www.jetbrains.com/help/idea/) door voor de inrichting en gebruik van IntelliJ!"
   ]
  },
  {
   "cell_type": "markdown",
   "id": "70336297-957a-4011-9e30-9a67d8fc19f4",
   "metadata": {
    "slideshow": {
     "slide_type": "slide"
    },
    "tags": []
   },
   "source": [
    "## Quiz"
   ]
  },
  {
   "cell_type": "markdown",
   "id": "83a9b34d-3642-45fa-af7e-fec8339f062c",
   "metadata": {
    "slideshow": {
     "slide_type": "subslide"
    },
    "tags": []
   },
   "source": [
    "### Vraag 1\n",
    "\n",
    "```java\n",
    "public class CubeMethod {\n",
    "    public static int cube(int i) {\n",
    "        int j = i * i * i;\n",
    "        return j;\n",
    "    }\n",
    "\n",
    "    public static void main(String[] args) {\n",
    "        int i = Integer.parseInt(args[0]);\n",
    "        System.out.println(i + \" \" + cube(i));\n",
    "    }\n",
    "}\n",
    "```\n",
    "\n",
    "```console\n",
    "> java CubeMethod.java 5\n",
    "```"
   ]
  },
  {
   "cell_type": "markdown",
   "id": "e47c0486-7153-46ab-aefd-7339d73a7c11",
   "metadata": {
    "slideshow": {
     "slide_type": "notes"
    },
    "tags": []
   },
   "source": [
    "Wat is het resultaat van deze aanroep?"
   ]
  },
  {
   "cell_type": "markdown",
   "id": "de3b271e-c42a-487e-8f99-e55ab2d15970",
   "metadata": {
    "slideshow": {
     "slide_type": "fragment"
    },
    "tags": []
   },
   "source": [
    "```console\n",
    "5 125\n",
    "```"
   ]
  },
  {
   "cell_type": "markdown",
   "id": "9d5d6d2f-3bb0-4b40-83b5-b96c4a9aee76",
   "metadata": {
    "slideshow": {
     "slide_type": "subslide"
    },
    "tags": []
   },
   "source": [
    "### Vraag 2\n",
    "\n",
    "```java\n",
    "public class CubeMethod {\n",
    "    public static int cube(int i) {\n",
    "        int i = i * i * i;\n",
    "        return i;\n",
    "    }\n",
    "\n",
    "    public static void main(String[] args) {\n",
    "        int i = Integer.parseInt(args[0]);\n",
    "        System.out.println(i + \" \" + cube(i));\n",
    "    }\n",
    "}\n",
    "```\n",
    "\n",
    "```console\n",
    "> java CubeMethod.java 5\n",
    "```"
   ]
  },
  {
   "cell_type": "markdown",
   "id": "cb505dc0-8813-4aa9-ab7e-f3c5892d3e44",
   "metadata": {
    "slideshow": {
     "slide_type": "notes"
    },
    "tags": []
   },
   "source": [
    "Wat is het resultaat van deze aanroep?\n",
    "\n",
    "Let op het kleine verschil in de methode `cube`, in het vorige voorbeeld werd `j` als variabele gebruikt, nu `i`."
   ]
  },
  {
   "cell_type": "markdown",
   "id": "3273f3c2-0f69-4e7f-a1fe-e1444922c38c",
   "metadata": {
    "slideshow": {
     "slide_type": "fragment"
    },
    "tags": []
   },
   "source": [
    "```console\n",
    "CubeMethod.java:5: error: variable i is already defined in method cube(int)\n",
    " int i = i * i * i;\n",
    "     ^\n",
    "1 error\n",
    "error: compilation failed\n",
    "```"
   ]
  },
  {
   "cell_type": "markdown",
   "id": "d41a0f68-01b9-4ab2-9e40-f4f927cd6ba9",
   "metadata": {
    "slideshow": {
     "slide_type": "notes"
    },
    "tags": []
   },
   "source": [
    "Een *compiler* fout! De argument variabele `i` is al gedeclareerd en geïnitialiseerd en de naam kan niet worden hergebruikt."
   ]
  },
  {
   "cell_type": "markdown",
   "id": "3cc48162-13f4-4445-9429-197320a85aa8",
   "metadata": {
    "slideshow": {
     "slide_type": "subslide"
    },
    "tags": []
   },
   "source": [
    "### Vraag 3\n",
    "\n",
    "```java\n",
    "public class CubeMethod {\n",
    "    public static int cube(int i) {\n",
    "        i = i * i * i;\n",
    "    }\n",
    "\n",
    "    public static void main(String[] args) {\n",
    "        int i = Integer.parseInt(args[0]);\n",
    "        System.out.println(i + \" \" + cube(i));\n",
    "    }\n",
    "}\n",
    "```\n",
    "\n",
    "```console\n",
    "> java CubeMethod.java 5\n",
    "```"
   ]
  },
  {
   "cell_type": "markdown",
   "id": "92aaa8f4-a091-45da-943c-62e28883b748",
   "metadata": {
    "slideshow": {
     "slide_type": "notes"
    },
    "tags": []
   },
   "source": [
    "Wat is het resultaat van deze aanroep?"
   ]
  },
  {
   "cell_type": "markdown",
   "id": "919a0e27-1690-435e-a993-6a9867a581d7",
   "metadata": {
    "slideshow": {
     "slide_type": "fragment"
    },
    "tags": []
   },
   "source": [
    "```console\n",
    "CubeMethod.java:4: error: missing return statement\n",
    "    }\n",
    "    ^\n",
    "1 error\n",
    "error: compilation failed\n",
    "```"
   ]
  },
  {
   "cell_type": "markdown",
   "id": "7e40c90b-f1d3-45ef-ada7-ff36f01eb67b",
   "metadata": {
    "slideshow": {
     "slide_type": "notes"
    },
    "tags": []
   },
   "source": [
    "Een *compiler* fout! Een *return* statement ontbreekt."
   ]
  }
 ],
 "metadata": {
  "kernelspec": {
   "display_name": "Java",
   "language": "java",
   "name": "java"
  },
  "language_info": {
   "codemirror_mode": "java",
   "file_extension": ".jshell",
   "mimetype": "text/x-java-source",
   "name": "Java",
   "pygments_lexer": "java",
   "version": "11.0.11+9-Ubuntu-0ubuntu2"
  }
 },
 "nbformat": 4,
 "nbformat_minor": 5
}
