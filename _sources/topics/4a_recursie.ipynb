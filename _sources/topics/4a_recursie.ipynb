{
 "cells": [
  {
   "cell_type": "markdown",
   "id": "b484bb36-3993-443c-ac22-dd34da579193",
   "metadata": {
    "slideshow": {
     "slide_type": "slide"
    },
    "tags": []
   },
   "source": [
    "# Recursie\n"
   ]
  },
  {
   "cell_type": "markdown",
   "id": "8c776520-e7da-4479-b531-c8d521cd6022",
   "metadata": {
    "slideshow": {
     "slide_type": "subslide"
    },
    "tags": []
   },
   "source": [
    "![Google recursie](images/4/google_recursie.png)"
   ]
  },
  {
   "cell_type": "markdown",
   "id": "507bdb2e-fbd4-4e04-8479-a72b5ca821ce",
   "metadata": {
    "slideshow": {
     "slide_type": "slide"
    },
    "tags": []
   },
   "source": [
    "## Sequentieel handelen\n",
    "\n",
    "*Iteratie* als basis van handelen."
   ]
  },
  {
   "cell_type": "markdown",
   "id": "5dc0ad3a-b556-4589-8383-248f7e14ecdc",
   "metadata": {
    "slideshow": {
     "slide_type": "notes"
    },
    "tags": []
   },
   "source": [
    "Denk terug aan het onderwerp lussen voor het herhalen van handelingen. Het is een techniek voor het sequentieel (of iteratief) oplossen van een probleem.\n",
    "\n",
    "Allereerst werden *oneindige* lussen geïntroduceerd met `while`."
   ]
  },
  {
   "cell_type": "code",
   "execution_count": 1,
   "id": "7f6b4e2f-837f-4bec-a266-ed3d1bfd6759",
   "metadata": {
    "slideshow": {
     "slide_type": "subslide"
    },
    "tags": []
   },
   "outputs": [
    {
     "name": "stdout",
     "output_type": "stream",
     "text": [
      "3\n",
      "2\n",
      "1\n",
      "Blastoff!\n"
     ]
    }
   ],
   "source": [
    "int n = 3;\n",
    "\n",
    "while (n > 0) {\n",
    "    System.out.println(n);\n",
    "    n = n - 1;\n",
    "}\n",
    "\n",
    "System.out.println(\"Blastoff!\");"
   ]
  },
  {
   "cell_type": "markdown",
   "id": "17992f1a-65e1-4976-8cde-aec15600463b",
   "metadata": {
    "slideshow": {
     "slide_type": "notes"
    },
    "tags": []
   },
   "source": [
    "Vervolgens werden *eindige* lussen geïntroduceerd met `for`. Het bijzondere was dat een `for` combineert wat we bij `while` lussen hebben moeten gebruiken voor het controleren van de lus: een initiële beginwaarde, of teller, vervolgens waar deze waarde per iteratie aan moet voldoen en tot slot een verhoging of verlaging van deze teller (afhankelijk van wat we met deze lus willen bereiken)."
   ]
  },
  {
   "cell_type": "code",
   "execution_count": 2,
   "id": "b390c0e0-78e5-4073-b500-5f8b4ffe37c3",
   "metadata": {
    "slideshow": {
     "slide_type": "subslide"
    },
    "tags": []
   },
   "outputs": [
    {
     "name": "stdout",
     "output_type": "stream",
     "text": [
      "3\n",
      "2\n",
      "1\n",
      "Blastoff!\n"
     ]
    }
   ],
   "source": [
    "for (int n = 3; n > 0; n--) {\n",
    "    System.out.println(n);\n",
    "}\n",
    "\n",
    "System.out.println(\"Blastoff!\");"
   ]
  },
  {
   "cell_type": "markdown",
   "id": "27dc87fa-ed73-46d0-be08-883eb7d3a800",
   "metadata": {
    "slideshow": {
     "slide_type": "subslide"
    },
    "tags": []
   },
   "source": [
    "### Conditioneel"
   ]
  },
  {
   "cell_type": "code",
   "execution_count": 3,
   "id": "3174bd62-b3fa-4e5c-93e3-615a571227c8",
   "metadata": {
    "slideshow": {
     "slide_type": "fragment"
    },
    "tags": []
   },
   "outputs": [
    {
     "name": "stdout",
     "output_type": "stream",
     "text": [
      "3\n",
      "2\n",
      "1\n",
      "Blastoff!\n"
     ]
    }
   ],
   "source": [
    "for (int n = 3; n >= 0; n--) {\n",
    "    if (n == 0) {\n",
    "        System.out.println(\"Blastoff!\");\n",
    "    } else {\n",
    "        System.out.println(n);\n",
    "    }\n",
    "}"
   ]
  },
  {
   "cell_type": "markdown",
   "id": "2bbb12f8-1be2-4165-820b-096fd1751fb8",
   "metadata": {
    "slideshow": {
     "slide_type": "notes"
    },
    "tags": []
   },
   "source": [
    "In de vorige voorbeelden werd \"Blastoff!\" altijd na de lus geprint, maar eigenlijk is het onderdeel van de iteratie want er wordt afgeteld tot en met 0. Alleen zal bij een raketlancering deze 0 niet worden genoemd door de vluchtleiding."
   ]
  },
  {
   "cell_type": "markdown",
   "id": "dd3b9056-9420-4ba5-9a6a-f9a799831f10",
   "metadata": {
    "slideshow": {
     "slide_type": "fragment"
    },
    "tags": []
   },
   "source": [
    "Hoe kan deze conditie worden beschreven in een algemene vorm voor *elke* `n`?"
   ]
  },
  {
   "cell_type": "markdown",
   "id": "b4c1416d-f135-4112-81c7-9549bbda1c38",
   "metadata": {
    "slideshow": {
     "slide_type": "fragment"
    },
    "tags": []
   },
   "source": [
    "Met een functie (of *methode*)!"
   ]
  },
  {
   "cell_type": "markdown",
   "id": "1c90e2e7-0558-4fb9-89d3-28a9208d0562",
   "metadata": {
    "slideshow": {
     "slide_type": "slide"
    },
    "tags": []
   },
   "source": [
    "## Recursief handelen\n",
    "\n",
    "*Zelfgelijkenis* als basis van handelen."
   ]
  },
  {
   "cell_type": "code",
   "execution_count": 4,
   "id": "213bbc28-c7a6-4664-a398-11dfd4e3ffac",
   "metadata": {
    "slideshow": {
     "slide_type": "subslide"
    },
    "tags": []
   },
   "outputs": [],
   "source": [
    "public static void countdown(int n) {\n",
    "    if (n <= 0) {\n",
    "        System.out.println(\"Blastoff!\");\n",
    "    } else {\n",
    "        System.out.println(n);\n",
    "    }\n",
    "}"
   ]
  },
  {
   "cell_type": "markdown",
   "id": "80754eb8-8467-437f-88e9-ef471c0a5e78",
   "metadata": {
    "slideshow": {
     "slide_type": "notes"
    },
    "tags": []
   },
   "source": [
    "We kunnen de handeling voor elke `n` in meest algemene vorm schrijven als een methode."
   ]
  },
  {
   "cell_type": "code",
   "execution_count": 5,
   "id": "e76414bd-7528-416d-9b38-189d8a6ef4e9",
   "metadata": {
    "slideshow": {
     "slide_type": "fragment"
    },
    "tags": []
   },
   "outputs": [
    {
     "name": "stdout",
     "output_type": "stream",
     "text": [
      "1000\n"
     ]
    }
   ],
   "source": [
    "countdown(1000)"
   ]
  },
  {
   "cell_type": "code",
   "execution_count": 6,
   "id": "66b39186-be6e-489b-9ac1-c6074a1edc6a",
   "metadata": {
    "slideshow": {
     "slide_type": "fragment"
    },
    "tags": []
   },
   "outputs": [
    {
     "name": "stdout",
     "output_type": "stream",
     "text": [
      "Blastoff!\n"
     ]
    }
   ],
   "source": [
    "countdown(0)"
   ]
  },
  {
   "cell_type": "markdown",
   "id": "bc571c87-73a2-45ae-b098-8f9c5f4764e7",
   "metadata": {
    "slideshow": {
     "slide_type": "notes"
    },
    "tags": []
   },
   "source": [
    "Maar hoe kunnen we zorgen voor het *herhaald* aanroepen van deze methode voor voor het aftellen vanaf `n`?\n",
    "\n",
    "Bedenk dat elke volgende stap $N - 1$ is, en daar hebben we al een oplossing voor, namelijk de methode `countdown` zelf!"
   ]
  },
  {
   "cell_type": "code",
   "execution_count": 7,
   "id": "bf03edcf-cd00-46cb-ac88-a78648c35457",
   "metadata": {
    "slideshow": {
     "slide_type": "subslide"
    },
    "tags": []
   },
   "outputs": [],
   "source": [
    "public static void countdown(int n) {\n",
    "    if (n <= 0) {\n",
    "        System.out.println(\"Blastoff!\");  // base case\n",
    "    } else {\n",
    "        System.out.println(n);\n",
    "        countdown(n - 1);                 // recursive case\n",
    "    }\n",
    "}"
   ]
  },
  {
   "cell_type": "markdown",
   "id": "9e6d767c-5413-4978-94e4-bfe329587d30",
   "metadata": {
    "slideshow": {
     "slide_type": "notes"
    },
    "tags": []
   },
   "source": [
    "Zolang `n` groter of gelijk is aan 0 zal (naast het printen van de waarde) de methode worden aangeroepen voor $N -1$."
   ]
  },
  {
   "cell_type": "code",
   "execution_count": 8,
   "id": "d5acf84c-2c2d-441e-8678-c028a9fc22c4",
   "metadata": {
    "slideshow": {
     "slide_type": "fragment"
    },
    "tags": []
   },
   "outputs": [
    {
     "name": "stdout",
     "output_type": "stream",
     "text": [
      "3\n",
      "2\n",
      "1\n",
      "Blastoff!\n"
     ]
    }
   ],
   "source": [
    "countdown(3)"
   ]
  },
  {
   "cell_type": "markdown",
   "id": "2c112b1a-e536-453f-a97c-c6eebc282bee",
   "metadata": {
    "slideshow": {
     "slide_type": "subslide"
    },
    "tags": []
   },
   "source": [
    "### Hoe werkt dit?"
   ]
  },
  {
   "cell_type": "markdown",
   "id": "1eb01be4-4612-4ce5-baf1-14d978d0b2d9",
   "metadata": {},
   "source": [
    "![Stack diagram](images/4/countdown_stack_diagram.png)"
   ]
  },
  {
   "cell_type": "markdown",
   "id": "0bf88676-4f42-4811-8fac-6c8637874178",
   "metadata": {
    "slideshow": {
     "slide_type": "notes"
    },
    "tags": []
   },
   "source": [
    "Als methoden andere methoden aanroepen ontstaat een wachtrij, de ene methode kan immers pas door als methode die het heeft aangeroepen een resultaat heeft teruggegeven. Deze wachtrij krijgt *fysiek* ook een vorm op de machine in de *stack*. Je kan dit voorbeeld en de opbouw van de stack met individuele *frames* (elke aangeroepen methode met bijbehorende waarden) interactief doornemen op [Java Tutor](https://pythontutor.com/java.html#code=public%20class%20Launcher%20%7B%0A%20%20%20%20public%20static%20void%20countdown%28int%20n%29%20%7B%0A%20%20%20%20%20%20%20%20if%20%28n%20%3C%3D%200%29%20%7B%0A%20%20%20%20%20%20%20%20%20%20%20%20System.out.println%28%22Blastoff!%22%29%3B%0A%20%20%20%20%20%20%20%20%7D%20else%20%7B%0A%20%20%20%20%20%20%20%20%20%20%20%20System.out.println%28n%29%3B%0A%20%20%20%20%20%20%20%20%20%20%20%20countdown%28n%20-%201%29%3B%0A%20%20%20%20%20%20%20%20%7D%0A%20%20%20%20%7D%0A%0A%20%20%20%20public%20static%20void%20main%28String%5B%5D%20args%29%20%7B%0A%20%20%20%20%20%20%20%20countdown%283%29%3B%0A%20%20%20%20%7D%0A%7D&cumulative=false&curInstr=22&heapPrimitives=nevernest&mode=display&origin=opt-frontend.js&py=java&rawInputLstJSON=%5B%5D&textReferences=false)."
   ]
  },
  {
   "cell_type": "markdown",
   "id": "a2c1cdb8-be91-43c1-bf09-f5ec8c1f1f77",
   "metadata": {
    "slideshow": {
     "slide_type": "slide"
    },
    "tags": []
   },
   "source": [
    "## Returnwaarden\n",
    "\n",
    "Het klassieke voorbeeld: *factorial*"
   ]
  },
  {
   "cell_type": "markdown",
   "id": "f7565023-fbfd-458e-81f9-ae2b0c1325a8",
   "metadata": {
    "slideshow": {
     "slide_type": "fragment"
    },
    "tags": []
   },
   "source": [
    "$$\n",
    "5! = 120\n",
    "$$"
   ]
  },
  {
   "cell_type": "markdown",
   "id": "1dc8d614-07d5-4c66-b1c0-eeddd3b3774c",
   "metadata": {
    "slideshow": {
     "slide_type": "notes"
    },
    "tags": []
   },
   "source": [
    "Ter herinnering, de faculteit van een getal is het product van de getallen 1 tot en met $n$. Een concrete toepassing is bijvoorbeeld op hoeveel mogelijke manieren je 5 personen op een rij kan zetten (dit is 120)."
   ]
  },
  {
   "cell_type": "markdown",
   "id": "e9499685-a192-4fa1-ae80-1f9fe66b89ab",
   "metadata": {
    "slideshow": {
     "slide_type": "fragment"
    },
    "tags": []
   },
   "source": [
    "`factorial(5) = 5 * 4 * 3 * 2 * 1`"
   ]
  },
  {
   "cell_type": "markdown",
   "id": "efaa8cd8-11b6-49da-bb06-43d5279d1a84",
   "metadata": {
    "slideshow": {
     "slide_type": "notes"
    },
    "tags": []
   },
   "source": [
    "Dit is de handeling waar wij naar op zoek moeten."
   ]
  },
  {
   "cell_type": "markdown",
   "id": "6134fd2c-5d71-4d07-9895-a69260e7b2a6",
   "metadata": {
    "slideshow": {
     "slide_type": "fragment"
    },
    "tags": []
   },
   "source": [
    "`factorial(n) = n * (n - 1) * ... * 3 * 2 * 1`"
   ]
  },
  {
   "cell_type": "markdown",
   "id": "8f1bd017-5ea7-4473-a328-89006706db69",
   "metadata": {
    "slideshow": {
     "slide_type": "notes"
    },
    "tags": []
   },
   "source": [
    "En dit idee gaan we nu uitwerken in een recursieve methode voor elke `n`."
   ]
  },
  {
   "cell_type": "code",
   "execution_count": 9,
   "id": "7fb5c19c-e147-436e-bcac-e151fce6e86d",
   "metadata": {
    "slideshow": {
     "slide_type": "subslide"
    },
    "tags": []
   },
   "outputs": [],
   "source": [
    "public static int factorial(int n) {\n",
    "    if (n == 1) {\n",
    "        return 1;  // base case\n",
    "    }\n",
    "    \n",
    "    return n * factorial(n - 1);  // eerste geval * resultaat van de rest\n",
    "}"
   ]
  },
  {
   "cell_type": "code",
   "execution_count": 10,
   "id": "01871cf4-7459-4020-912c-27345e382943",
   "metadata": {
    "slideshow": {
     "slide_type": "fragment"
    },
    "tags": []
   },
   "outputs": [
    {
     "data": {
      "text/plain": [
       "120"
      ]
     },
     "execution_count": 10,
     "metadata": {},
     "output_type": "execute_result"
    }
   ],
   "source": [
    "factorial(5)"
   ]
  },
  {
   "cell_type": "markdown",
   "id": "f4b7cee2-6e37-4f36-bdf3-10218972f6a0",
   "metadata": {
    "slideshow": {
     "slide_type": "fragment"
    },
    "tags": []
   },
   "source": [
    "1. Ga op zoek naar de base case.\n",
    "2. Jij bent verantwoordelijk voor het eerste geval,\n",
    "3. en recursie zorgt voor de rest."
   ]
  },
  {
   "cell_type": "markdown",
   "id": "365d7a46-0292-4e39-9a28-045722fe3233",
   "metadata": {
    "slideshow": {
     "slide_type": "slide"
    },
    "tags": []
   },
   "source": [
    "## Andere waarden"
   ]
  },
  {
   "cell_type": "markdown",
   "id": "50e30858-1b11-4b74-a51d-40d7719f460a",
   "metadata": {
    "slideshow": {
     "slide_type": "notes"
    },
    "tags": []
   },
   "source": [
    "Tot nu toe heb je alleen maar numerieke waarden gezien, maar recursie kan ook worden toegepast met andere typen data, bijvoorbeeld strings en arrays. "
   ]
  },
  {
   "cell_type": "markdown",
   "id": "957a75d4-97ea-42b5-ba82-13e19570096a",
   "metadata": {
    "slideshow": {
     "slide_type": "subslide"
    },
    "tags": []
   },
   "source": [
    "### Strings"
   ]
  },
  {
   "cell_type": "code",
   "execution_count": 11,
   "id": "c23c2310-ee89-4a36-b91b-453d4ac04638",
   "metadata": {
    "slideshow": {
     "slide_type": "fragment"
    },
    "tags": []
   },
   "outputs": [],
   "source": [
    "String a = \"Hanzehogeschool\";"
   ]
  },
  {
   "cell_type": "markdown",
   "id": "5c3de70c-4586-4113-9a3a-552518a37021",
   "metadata": {
    "slideshow": {
     "slide_type": "fragment"
    },
    "tags": []
   },
   "source": [
    "Het eerste geval"
   ]
  },
  {
   "cell_type": "code",
   "execution_count": 12,
   "id": "72bc9fc3-37ce-41f7-ad7d-913e1d8b085a",
   "metadata": {
    "slideshow": {
     "slide_type": "fragment"
    },
    "tags": []
   },
   "outputs": [
    {
     "data": {
      "text/plain": [
       "H"
      ]
     },
     "execution_count": 12,
     "metadata": {},
     "output_type": "execute_result"
    }
   ],
   "source": [
    "a.charAt(0);"
   ]
  },
  {
   "cell_type": "markdown",
   "id": "eaaa7192-393a-4be6-8e60-a07ad235c93f",
   "metadata": {
    "slideshow": {
     "slide_type": "fragment"
    },
    "tags": []
   },
   "source": [
    "en de rest"
   ]
  },
  {
   "cell_type": "code",
   "execution_count": 13,
   "id": "d63c3649-29c5-48ea-be4b-15ea7af654a3",
   "metadata": {
    "slideshow": {
     "slide_type": "fragment"
    },
    "tags": []
   },
   "outputs": [
    {
     "data": {
      "text/plain": [
       "anzehogeschool"
      ]
     },
     "execution_count": 13,
     "metadata": {},
     "output_type": "execute_result"
    }
   ],
   "source": [
    "a.substring(1)"
   ]
  },
  {
   "cell_type": "markdown",
   "id": "76df5146-fb5f-4422-8c2c-c70805a482a0",
   "metadata": {
    "slideshow": {
     "slide_type": "subslide"
    },
    "tags": []
   },
   "source": [
    "### Voorbeeld\n",
    "\n",
    "Het tellen van bepaalde karakters in een tekst."
   ]
  },
  {
   "cell_type": "code",
   "execution_count": 14,
   "id": "fdbcedc7-e115-4c84-a803-b1b7b2c78fa8",
   "metadata": {
    "slideshow": {
     "slide_type": "subslide"
    },
    "tags": []
   },
   "outputs": [],
   "source": [
    "String text = \"i💙aliiiens\";"
   ]
  },
  {
   "cell_type": "markdown",
   "id": "1fa99867-b777-4354-936d-85b3b4723cb7",
   "metadata": {
    "slideshow": {
     "slide_type": "notes"
    },
    "tags": []
   },
   "source": [
    "In dit geval willen we weten hoe vaak \"i\" in deze string voor komt, een goede gelegenheid om `substring` weer te gebruiken."
   ]
  },
  {
   "cell_type": "code",
   "execution_count": 15,
   "id": "d9cc9a04-e224-4240-94fd-ba31307726cb",
   "metadata": {
    "slideshow": {
     "slide_type": "fragment"
    },
    "tags": []
   },
   "outputs": [],
   "source": [
    "public static int numIs(String s) {\n",
    "    if (s.length() == 0) {\n",
    "        return 0;\n",
    "    }\n",
    "    \n",
    "    char first = s.charAt(0);\n",
    "    int rest = numIs(s.substring(1));\n",
    "    \n",
    "    if (first == 'i') {\n",
    "        return 1 + rest;\n",
    "    } else {\n",
    "        return 0 + rest;\n",
    "    }\n",
    "}"
   ]
  },
  {
   "cell_type": "code",
   "execution_count": 16,
   "id": "1aad39aa-2678-456d-a610-5c14e136b3c2",
   "metadata": {
    "slideshow": {
     "slide_type": "fragment"
    },
    "tags": []
   },
   "outputs": [
    {
     "data": {
      "text/plain": [
       "4"
      ]
     },
     "execution_count": 16,
     "metadata": {},
     "output_type": "execute_result"
    }
   ],
   "source": [
    "numIs(text)"
   ]
  },
  {
   "cell_type": "markdown",
   "id": "05c74811-c123-442c-9eef-81b125928eaf",
   "metadata": {
    "slideshow": {
     "slide_type": "notes"
    },
    "tags": []
   },
   "source": [
    "```{note}\n",
    "Je kan dit voorbeeld via [deze link](https://pythontutor.com/java.html#code=public%20class%20Count%20%7B%0A%20%20%20%20public%20static%20int%20numIs%28String%20s%29%20%7B%0A%20%20%20%20%20%20%20%20if%20%28s.length%28%29%20%3D%3D%200%29%20%7B%0A%20%20%20%20%20%20%20%20%20%20%20%20return%200%3B%0A%20%20%20%20%20%20%20%20%7D%0A%20%20%20%20%20%20%20%20%0A%20%20%20%20%20%20%20%20char%20first%20%3D%20s.charAt%280%29%3B%0A%20%20%20%20%20%20%20%20int%20rest%20%3D%20numIs%28s.substring%281%29%29%3B%0A%20%20%20%20%20%20%20%20%0A%20%20%20%20%20%20%20%20if%20%28first%20%3D%3D%20'i'%29%20%7B%0A%20%20%20%20%20%20%20%20%20%20%20%20return%201%20%2B%20rest%3B%0A%20%20%20%20%20%20%20%20%7D%20else%20%7B%0A%20%20%20%20%20%20%20%20%20%20%20%20return%200%20%2B%20rest%3B%0A%20%20%20%20%20%20%20%20%7D%0A%20%20%20%20%7D%0A%0A%20%20%20%20public%20static%20void%20main%28String%5B%5D%20args%29%20%7B%0A%20%20%20%20%20%20%20%20String%20text%20%3D%20%22i%F0%9F%92%99aliiiens%22%3B%0A%20%20%20%20%20%20%20%20System.out.println%28numIs%28text%29%29%3B%0A%20%20%20%20%7D%0A%7D&cumulative=false&curInstr=77&heapPrimitives=nevernest&mode=display&origin=opt-frontend.js&py=java&rawInputLstJSON=%5B%5D&textReferences=false) direct op Java Tutor bekijken en uitvoeren. .\n",
    "```"
   ]
  },
  {
   "cell_type": "markdown",
   "id": "45b8beda-5c0b-45c6-baca-524c9cf815fb",
   "metadata": {
    "slideshow": {
     "slide_type": "subslide"
    },
    "tags": []
   },
   "source": [
    "### Arrays"
   ]
  },
  {
   "cell_type": "code",
   "execution_count": 17,
   "id": "03f16043-e1c7-471f-a661-b3515a9312ee",
   "metadata": {
    "slideshow": {
     "slide_type": "fragment"
    },
    "tags": []
   },
   "outputs": [],
   "source": [
    "int[] numbers = {1, 2, 3, 4, 5}"
   ]
  },
  {
   "cell_type": "markdown",
   "id": "da10e49a-293d-4042-a4a4-f6a6b31317a0",
   "metadata": {
    "slideshow": {
     "slide_type": "fragment"
    },
    "tags": []
   },
   "source": [
    "Het eerste geval"
   ]
  },
  {
   "cell_type": "code",
   "execution_count": 18,
   "id": "dc7e601c-7295-49f0-a3fe-72f8d266ed82",
   "metadata": {
    "slideshow": {
     "slide_type": "fragment"
    },
    "tags": []
   },
   "outputs": [
    {
     "data": {
      "text/plain": [
       "1"
      ]
     },
     "execution_count": 18,
     "metadata": {},
     "output_type": "execute_result"
    }
   ],
   "source": [
    "numbers[0]"
   ]
  },
  {
   "cell_type": "markdown",
   "id": "ad1c124f-060d-4089-9015-96b344b1fc77",
   "metadata": {
    "slideshow": {
     "slide_type": "fragment"
    },
    "tags": []
   },
   "source": [
    "en de rest"
   ]
  },
  {
   "cell_type": "code",
   "execution_count": 19,
   "id": "1b267f2d-925d-49cb-8241-b0b6faf9d826",
   "metadata": {
    "slideshow": {
     "slide_type": "fragment"
    },
    "tags": []
   },
   "outputs": [],
   "source": [
    "import java.util.Arrays;"
   ]
  },
  {
   "cell_type": "code",
   "execution_count": 20,
   "id": "9382b575-8a27-4f5d-a4d6-193b8b72fadc",
   "metadata": {
    "slideshow": {
     "slide_type": "fragment"
    },
    "tags": []
   },
   "outputs": [
    {
     "data": {
      "text/plain": [
       "[I@4f600f85"
      ]
     },
     "execution_count": 20,
     "metadata": {},
     "output_type": "execute_result"
    }
   ],
   "source": [
    "Arrays.copyOfRange(numbers, 1, numbers.length)"
   ]
  },
  {
   "cell_type": "markdown",
   "id": "1d8c612a-54c2-4888-b610-1593687e0b61",
   "metadata": {
    "slideshow": {
     "slide_type": "notes"
    },
    "tags": []
   },
   "source": [
    "Dit is niet erg leesbaar, maar het resultaat is een array `{2, 3, 4, 5}`."
   ]
  },
  {
   "cell_type": "markdown",
   "id": "89634c83-b068-48e6-a87a-3a72b19102ad",
   "metadata": {
    "slideshow": {
     "slide_type": "subslide"
    },
    "tags": []
   },
   "source": [
    "### Voorbeeld\n",
    "\n",
    "Het vinden van het hoogste getal in een array."
   ]
  },
  {
   "cell_type": "code",
   "execution_count": 21,
   "id": "990290a4-5459-41ee-850f-b228210ce698",
   "metadata": {
    "slideshow": {
     "slide_type": "subslide"
    },
    "tags": []
   },
   "outputs": [],
   "source": [
    "int[] numbers = {5, 4, 9, 7};"
   ]
  },
  {
   "cell_type": "code",
   "execution_count": 22,
   "id": "138a32ad-4902-48c1-8dfe-3e6df0b1234f",
   "metadata": {
    "slideshow": {
     "slide_type": "fragment"
    },
    "tags": []
   },
   "outputs": [],
   "source": [
    "public static int largest(int[] numbers) {\n",
    "    if (numbers.length == 1) {\n",
    "        return numbers[0];\n",
    "    }\n",
    "    \n",
    "    int first = numbers[0];\n",
    "    int rest = largest(Arrays.copyOfRange(numbers, 1, numbers.length));\n",
    "    \n",
    "    if (first > rest) {\n",
    "        return first;\n",
    "    } else {\n",
    "        return rest;\n",
    "    }\n",
    "}"
   ]
  },
  {
   "cell_type": "code",
   "execution_count": 23,
   "id": "4869f11e-03e9-4499-9601-95317fd0e41f",
   "metadata": {
    "slideshow": {
     "slide_type": "fragment"
    },
    "tags": []
   },
   "outputs": [
    {
     "data": {
      "text/plain": [
       "9"
      ]
     },
     "execution_count": 23,
     "metadata": {},
     "output_type": "execute_result"
    }
   ],
   "source": [
    "largest(numbers)"
   ]
  },
  {
   "cell_type": "markdown",
   "id": "bce3efa3-a478-4485-a86a-ce3ac015897d",
   "metadata": {
    "slideshow": {
     "slide_type": "notes"
    },
    "tags": []
   },
   "source": [
    "```{note}\n",
    "Je kan dit voorbeeld via [deze link](https://pythontutor.com/java.html#code=import%20java.util.Arrays%3B%0A%0Apublic%20class%20Finder%20%7B%0A%20%20%20%20public%20static%20int%20largest%28int%5B%5D%20numbers%29%20%7B%0A%20%20%20%20%20%20%20%20if%20%28numbers.length%20%3D%3D%201%29%20%7B%0A%20%20%20%20%20%20%20%20%20%20%20%20return%20numbers%5B0%5D%3B%0A%20%20%20%20%20%20%20%20%7D%0A%20%20%20%20%20%20%20%20%0A%20%20%20%20%20%20%20%20int%20first%20%3D%20numbers%5B0%5D%3B%0A%20%20%20%20%20%20%20%20int%20rest%20%3D%20largest%28Arrays.copyOfRange%28numbers,%201,%20numbers.length%29%29%3B%0A%20%20%20%20%20%20%20%20%0A%20%20%20%20%20%20%20%20if%20%28first%20%3E%20rest%29%20%7B%0A%20%20%20%20%20%20%20%20%20%20%20%20return%20first%3B%0A%20%20%20%20%20%20%20%20%7D%20else%20%7B%0A%20%20%20%20%20%20%20%20%20%20%20%20return%20rest%3B%0A%20%20%20%20%20%20%20%20%7D%0A%20%20%20%20%7D%0A%0A%20%20%20%20public%20static%20void%20main%28String%5B%5D%20args%29%20%7B%0A%20%20%20%20%20%20%20%20int%5B%5D%20numbers%20%3D%20%7B5,%204,%209,%207%7D%3B%0A%20%20%20%20%20%20%20%20System.out.println%28largest%28numbers%29%29%3B%0A%20%20%20%20%7D%0A%7D&cumulative=false&curInstr=32&heapPrimitives=nevernest&mode=display&origin=opt-frontend.js&py=java&rawInputLstJSON=%5B%5D&textReferences=false) direct op Java Tutor bekijken en uitvoeren. .\n",
    "```"
   ]
  },
  {
   "cell_type": "markdown",
   "id": "18edca66-eb2d-4f9d-9715-92940bbfde5d",
   "metadata": {
    "slideshow": {
     "slide_type": "slide"
    },
    "tags": []
   },
   "source": [
    "## Grafisch\n",
    "\n",
    "Recursieve patronen"
   ]
  },
  {
   "cell_type": "markdown",
   "id": "d5268f6b-b916-4a49-8104-98a070ec9226",
   "metadata": {
    "slideshow": {
     "slide_type": "subslide"
    },
    "tags": []
   },
   "source": [
    "![Nested Circles](images/4/nested_circles_4.png)"
   ]
  },
  {
   "cell_type": "markdown",
   "id": "c975d73a-8fb5-4dbe-90a4-e39da12ee0c5",
   "metadata": {
    "slideshow": {
     "slide_type": "subslide"
    },
    "tags": []
   },
   "source": [
    "![Nested squares](images/4/squares_4.png)"
   ]
  },
  {
   "cell_type": "markdown",
   "id": "5137d9ed-4309-4709-8ef3-376c6ce1fda5",
   "metadata": {
    "slideshow": {
     "slide_type": "subslide"
    },
    "tags": []
   },
   "source": [
    "![Sierpinsky](images/4/sierpinski_4.png)"
   ]
  }
 ],
 "metadata": {
  "kernelspec": {
   "display_name": "Java",
   "language": "java",
   "name": "java"
  },
  "language_info": {
   "codemirror_mode": "java",
   "file_extension": ".jshell",
   "mimetype": "text/x-java-source",
   "name": "Java",
   "pygments_lexer": "java",
   "version": "11.0.11+9-Ubuntu-0ubuntu2"
  }
 },
 "nbformat": 4,
 "nbformat_minor": 5
}
