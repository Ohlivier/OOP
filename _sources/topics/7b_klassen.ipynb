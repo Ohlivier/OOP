{
 "cells": [
  {
   "cell_type": "markdown",
   "id": "6b8f7cef",
   "metadata": {},
   "source": [
    "# Klassen\n",
    "\n",
    "Hoe is een klasse in Java opgebouwd?"
   ]
  },
  {
   "cell_type": "markdown",
   "id": "5d74bed2",
   "metadata": {},
   "source": [
    "## Kwaliteitscriteria\n",
    "\n",
    "Om kwalitatief goede klassen te schrijven in Java, dient een klasse in ieder geval aan de volgende criteria te voldoen:\n",
    "- Coherent; De klasse heeft een duidelijk gedefinieerde en afgebakende taak\n",
    "- Voldoet aan conventies; De code voldoet aan de algemene Java codeconventies\n",
    "- Gedocumenteerd; De klasse is gedocumenteerd (Javadoc)\n",
    "- Klasse werkt functioneel correct; Testen, bijvoorbeeld door middel van unittests"
   ]
  },
  {
   "cell_type": "markdown",
   "id": "9d609a34",
   "metadata": {},
   "source": [
    "## Access modifiers\n",
    "\n",
    "*Access modifiers* bepalen welke andere klassen toegang hebben tot een variabele, methode of klasse.\n",
    "\n",
    "Er zijn 4 *access modifiers*.\n",
    "\n",
    "De keywords die een access modifier bepalen zijn **public**, **protected** en **private**.\n",
    "\n",
    "Als geen access modifier keyword wordt gebruikt, dan geldt de access modifier *default*.\n",
    "\n",
    "Voor *public* geldt dat een methode of variabele toegankelijk is vanuit alle klassen.\n",
    "\n",
    "Voor *private* geldt dat een methode of variabele alleen toegankelijk is vanuit de klasse zelf."
   ]
  },
  {
   "cell_type": "markdown",
   "id": "67c792a1",
   "metadata": {},
   "source": [
    "## Klasse definitie\n",
    "\n",
    "Een klasse wordt als volgt gedefinieerd:\n",
    "```java\n",
    "[abstract] [access modifier] class <naam> [extends <parent>] {\n",
    "    \n",
    "}\n",
    "```\n",
    "\n",
    "abstract: Het keyword *abstract* definieert een klasse als *abstracte klasse*.\n",
    "\n",
    "extends: Het keyword *extends* regelt overerving.\n",
    "\n",
    "Voor de naam van een klasse geldt dat de eerste letter altijd een hoofdletter moet zijn. De naam is niet volledig in hoofdletters geschreven. De naam bestaat uit tenminste 2 tekens."
   ]
  },
  {
   "cell_type": "markdown",
   "id": "9f854a2e",
   "metadata": {},
   "source": [
    "## Instantievariabelen\n",
    "\n",
    "Instantievariabelen zijn variabelen die beschikbaar zijn in de hele klasse. De declaratie is vergelijkbaar met variabelen in methodes, mogelijk aangevuld met keywords voor klassen. Ook in een klasse mogelijk om variabelen direct te initialiseren.\n",
    "\n",
    "Een instantievariabele wordt als volgt gedefinieerd:\n",
    "```java\n",
    "[static] [access modifier] [final] <type> <naam>\n",
    "```\n",
    "\n",
    "static: Het keyword *static* plaatst de variabele in de statische context (op klasseniveau in plaats van instantie).\n",
    "\n",
    "final: De waarde kan na initialisatie niet meer veranderen.\n",
    "\n",
    "De access modifier van een instantievariabele is altijd *private* (met uitzondering van constanten).\n",
    "\n",
    "De naam van een variabele begint altijd met een kleine letter (met uitzondering van constanten)."
   ]
  },
  {
   "cell_type": "markdown",
   "id": "5a15b511",
   "metadata": {},
   "source": [
    "## Methodes\n",
    "\n",
    "Een methode wordt als volgt gedefinieerd:\n",
    "```java\n",
    "[static] [abstract/final] [access modifier] <returntype> <naam>([parameters])\n",
    "```\n",
    "    \n",
    "static: Het keyword **static** plaatst de methode in de statische context (aan te roepen op klasseniveau)\n",
    "abstract: Het keyword **abstract** maakt een methode *abstract*.\n",
    "final: Het keyword **final** bepaalt dat een methode niet te overriden is.\n",
    "    \n",
    "De access modifier van een methode is alleen *public* als de methode beschikbaar moet zijn buiten de klasse. Een methode die alleen binnen de klasse wordt gebruikt, moet *private* zijn.\n",
    "\n",
    "De naam van een methode begint altijd met een kleine letter (met uitzondering van constructors)."
   ]
  },
  {
   "cell_type": "markdown",
   "id": "7c45f66d",
   "metadata": {},
   "source": [
    "## Constructor\n",
    "\n",
    "Een *constructor* is een bijzonder methode. Deze wordt uitgevoerd als een object wordt gemaakt met het keyword **new**.\n",
    "\n",
    "Een constructor wordt als volgt gedefinieerd:\n",
    "```java\n",
    "[access modifier] <naam van klasse>([parameters])\n",
    "```\n",
    "\n",
    "Belangrijkste verschil tussen een constructor en een reguliere methode is dat er geen returntype is.\n",
    "\n",
    "Omdat de constructor altijd dezelfde naam heeft als de klasse, begint de naam van een constructor altijd met een hoofdletter.\n",
    "\n",
    "In de code staan constructors boven de methodes.\n",
    "\n",
    "Een klasse kan meerdere constructors hebben (met verschillende definities).\n",
    "\n",
    "Constructors kunnen automatisch door een IDE (zoals IntelliJ) gegenereerd worden.\n"
   ]
  },
  {
   "cell_type": "markdown",
   "id": "a648f6aa",
   "metadata": {},
   "source": [
    "## Getters en setters\n",
    "\n",
    "Klasse variabelen zijn in principe altijd *private*.\n",
    "\n",
    "Getters en setters zijn (reguliere) methoden om de instantievariabelen vanuit andere klassen te kunnen benaderen of veranderen.\n",
    "\n",
    "getter: Geeft de waarde van een variabele terug.\n",
    "\n",
    "Definitie:\n",
    "```java\n",
    "public <type> get<naam van variabele, eerste letter hoofdletter>():\n",
    "```\n",
    "\n",
    "setter: Wijzigt de waarde van een variabele\n",
    "\n",
    "Definitie setter:\n",
    "```java\n",
    "public void set<naam van variabele, eerste letter hoofdletter>(<type> <naam van de variabele>)\n",
    "```\n",
    "\n",
    "Voorbeeld getter en setter van de variabele score (integer):\n",
    "```java\n",
    "public int getScore() {\n",
    "    return score;\n",
    "}\n",
    "\n",
    "public void setScore(int score) {\n",
    "    this.score = score;\n",
    "}\n",
    "```\n",
    "\n",
    "Getters en setters kunnen automatisch door een IDE (zoals IntelliJ) gegenereerd worden."
   ]
  },
  {
   "cell_type": "markdown",
   "id": "9f18a369",
   "metadata": {},
   "source": [
    "## Constanten\n",
    "\n",
    "Een constante is een variabele met een vaste waarde.\n",
    "\n",
    "Voor constanten gelden in Java de volgende conventies:\n",
    "- De naam is volledig met hoofdletters geschreven\n",
    "- Constanten zijn altijd **public static final**\n",
    "\n",
    "Voorbeeld:\n",
    "```java\n",
    "public static final double PI = 3.14159265359;\n",
    "public static final String SERVER_IP = \"192.168.1.1\";\n",
    "```"
   ]
  }
 ],
 "metadata": {
  "kernelspec": {
   "display_name": "Java",
   "language": "java",
   "name": "java"
  },
  "language_info": {
   "codemirror_mode": "java",
   "file_extension": ".jshell",
   "mimetype": "text/x-java-source",
   "name": "Java",
   "pygments_lexer": "java",
   "version": "11.0.12+7-Ubuntu-0ubuntu3"
  }
 },
 "nbformat": 4,
 "nbformat_minor": 5
}
