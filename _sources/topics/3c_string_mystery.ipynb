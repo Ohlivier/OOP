{
 "cells": [
  {
   "cell_type": "markdown",
   "metadata": {},
   "source": [
    "# The strange case of `String`\n",
    "\n",
    "Over de gelijkwaardigheid van strings."
   ]
  },
  {
   "cell_type": "markdown",
   "metadata": {},
   "source": [
    "## Equality operator\n",
    "\n",
    "Voor het vergelijken van waarden wordt de gelijkheid-operator `==` gebruikt. Laten we dit eens proberen voor typen die we al gezien hebben, hele getallen (`int`) en strings (`String`)."
   ]
  },
  {
   "cell_type": "code",
   "execution_count": 1,
   "metadata": {},
   "outputs": [],
   "source": [
    "int number_one = 42;\n",
    "int number_two = 42;\n",
    "int number_three = 43;\n",
    "\n",
    "String string_one = \"Hello world!\";\n",
    "String string_two = \"Hello world!\";\n",
    "String string_three = \"Hello again!\";"
   ]
  },
  {
   "cell_type": "markdown",
   "metadata": {},
   "source": [
    "De gelijkwaardingheid van getallen:"
   ]
  },
  {
   "cell_type": "code",
   "execution_count": 2,
   "metadata": {},
   "outputs": [
    {
     "data": {
      "text/plain": [
       "true"
      ]
     },
     "execution_count": 2,
     "metadata": {},
     "output_type": "execute_result"
    }
   ],
   "source": [
    "number_one == number_two"
   ]
  },
  {
   "cell_type": "code",
   "execution_count": 3,
   "metadata": {},
   "outputs": [
    {
     "data": {
      "text/plain": [
       "false"
      ]
     },
     "execution_count": 3,
     "metadata": {},
     "output_type": "execute_result"
    }
   ],
   "source": [
    "number_two == number_three"
   ]
  },
  {
   "cell_type": "markdown",
   "metadata": {},
   "source": [
    "De gelijkwaardigheid van strings:"
   ]
  },
  {
   "cell_type": "code",
   "execution_count": 4,
   "metadata": {},
   "outputs": [
    {
     "data": {
      "text/plain": [
       "true"
      ]
     },
     "execution_count": 4,
     "metadata": {},
     "output_type": "execute_result"
    }
   ],
   "source": [
    "string_one == string_two"
   ]
  },
  {
   "cell_type": "code",
   "execution_count": 5,
   "metadata": {},
   "outputs": [
    {
     "data": {
      "text/plain": [
       "false"
      ]
     },
     "execution_count": 5,
     "metadata": {},
     "output_type": "execute_result"
    }
   ],
   "source": [
    "string_two == string_three"
   ]
  },
  {
   "cell_type": "markdown",
   "metadata": {},
   "source": [
    "Tot zover alles goed! Maar er is iets speciaals met `String`. Het is geen primitief type zoals `int`, maar een klasse, zodat we `String` instanties kunnen maken met het `new` keyword. "
   ]
  },
  {
   "cell_type": "code",
   "execution_count": 6,
   "metadata": {},
   "outputs": [],
   "source": [
    "String string_four = new String(\"Hello world!\")"
   ]
  },
  {
   "cell_type": "code",
   "execution_count": 7,
   "metadata": {},
   "outputs": [
    {
     "data": {
      "text/plain": [
       "Hello world!"
      ]
     },
     "execution_count": 7,
     "metadata": {},
     "output_type": "execute_result"
    }
   ],
   "source": [
    "string_four"
   ]
  },
  {
   "cell_type": "markdown",
   "metadata": {},
   "source": [
    "Perfect, hier hebben we onze string en het heeft dezelfde waarde als `string_one` die we eerder gedefinieerd hebben. Laten we voor de zekerheid nog een keer controleren ze gelijk aan elkaar zijn."
   ]
  },
  {
   "cell_type": "code",
   "execution_count": 8,
   "metadata": {},
   "outputs": [
    {
     "data": {
      "text/plain": [
       "false"
      ]
     },
     "execution_count": 8,
     "metadata": {},
     "output_type": "execute_result"
    }
   ],
   "source": [
    "string_one == string_four"
   ]
  },
  {
   "cell_type": "markdown",
   "metadata": {},
   "source": [
    "Hmm, dit is vreemd omdat ze hetzelfde zouden moeten zijn ... ? Laten we een variatie proberen door een tweede instantie te maken met dezelfde waarde."
   ]
  },
  {
   "cell_type": "code",
   "execution_count": 9,
   "metadata": {},
   "outputs": [],
   "source": [
    "String string_five = new String(\"Hello world!\")"
   ]
  },
  {
   "cell_type": "markdown",
   "metadata": {},
   "source": [
    "En laten we weer op gelijkheid controleren."
   ]
  },
  {
   "cell_type": "code",
   "execution_count": 10,
   "metadata": {},
   "outputs": [
    {
     "data": {
      "text/plain": [
       "false"
      ]
     },
     "execution_count": 10,
     "metadata": {},
     "output_type": "execute_result"
    }
   ],
   "source": [
    "string_four == string_five"
   ]
  },
  {
   "cell_type": "markdown",
   "metadata": {},
   "source": [
    "Ze zijn nog steeds niet hetzelfde! Laten we nog een variatie proberen door een kopie te maken. Kopieën zouden gelijk moeten zijn, toch?"
   ]
  },
  {
   "cell_type": "code",
   "execution_count": 11,
   "metadata": {},
   "outputs": [],
   "source": [
    "String string_six = string_five"
   ]
  },
  {
   "cell_type": "code",
   "execution_count": 12,
   "metadata": {},
   "outputs": [
    {
     "data": {
      "text/plain": [
       "true"
      ]
     },
     "execution_count": 12,
     "metadata": {},
     "output_type": "execute_result"
    }
   ],
   "source": [
    "string_five == string_six"
   ]
  },
  {
   "cell_type": "markdown",
   "metadata": {},
   "source": [
    "Het vergelijken van een kopie werkt zoals verwacht. Wanneer we een `String` object inspecteren zullen we zien dat het een `equals` methode heeft. Zou dit iets zijn wat we kunnen of moeten gebruiken? (het boek zegt dat we dat zouden moeten doen!)"
   ]
  },
  {
   "cell_type": "code",
   "execution_count": 13,
   "metadata": {},
   "outputs": [
    {
     "data": {
      "text/plain": [
       "true"
      ]
     },
     "execution_count": 13,
     "metadata": {},
     "output_type": "execute_result"
    }
   ],
   "source": [
    "string_four.equals(string_five)"
   ]
  },
  {
   "cell_type": "markdown",
   "metadata": {},
   "source": [
    "We hebben eindelijk gelijkheid, maar blijkbaar alleen bij het vergelijken van kopieën van instanties of bij gebruik van de `equals` methode, wat is hier aan de hand?!? Om dit gedrag te begrijpen moeten we twee dingen leren:\n",
    "\n",
    "1. Het bestaan van de *String Constant Pool*\n",
    "2. Het verschil tussen `String` *literals* en `String` *objects*"
   ]
  },
  {
   "cell_type": "markdown",
   "metadata": {},
   "source": [
    "## String literals en String objects\n",
    "\n",
    "We hebben gezien dat we op twee manieren strings kunnen maken. Deze eerste toewijzingsnotatie wordt een *string literal* genoemd:\n",
    "\n",
    "```java\n",
    "String string_one = \"Hallo wereld!\";\n",
    "```\n",
    "\n",
    "De tweede notatie heet een string *object*, omdat dit de manier is waarop we normaal gesproken instanties maken in Java:\n",
    "\n",
    "```java\n",
    "String string_four = new String(\"Hello world!\");\n",
    "```\n",
    "\n",
    "Zowel `string_one` als `string_two` zullen `String` instanties zijn, d.w.z. ze zullen van hetzelfde *type* zijn. Maar waarom evalueren ze niet als waar wanneer ze met elkaar vergeleken worden? Dit heeft alles te maken met het feit dat Java iets extra's doet als het om string-literals gaat, en dit is waar de *String Constant Pool* in het spel komt ..."
   ]
  },
  {
   "cell_type": "markdown",
   "metadata": {},
   "source": [
    "Bij gebruik van een *string literal* zal de Java Virtual Machine (kortweg JVM, die de gecompileerde code uitvoert) het aangemaakte object toevoegen aan de *String Constant Pool*. Je kunt deze pool vergelijken met een cache en de variabele (bijvoorbeeld onze `string_one`) zal een \"pointer\" (een verwijzing) worden naar het object dat in de pool is opgeslagen. Wanneer je een tweede string literal maakt met dezelfde waarde (onze `string_two`) en de JVM vindt de waarde van dit object in de pool, dan zal het verwijzen naar dat eerste object en zal *niet* een nieuwe instantie in de pool aanmaken.\n",
    "\n",
    "De reden waarom dit wordt gedaan is vanwege efficiëntie: het is een *optimalisatie* stap.  Wanneer je veel string-literals maakt met dezelfde waarde (bijv. \"Hallo wereld!\") dan zal er slechts één object in het geheugen worden bewaard en dit verklaart waarom de gelijkheid-operator `==` werkt zoals verwacht met string-literals: als ze gelijk zijn dan zullen ze verwijzen naar hetzelfde object in de pool!\n",
    "\n",
    "In tegenstelling tot string-literals worden *string objecten* niet in de pool bewaard, twee string-objecten die met dezelfde waarde worden aangemaakt zullen echt twee aparte objecten zijn. En omdat de gelijkheidsoperator `==` gebonden is aan het pool-gedrag (d.w.z. controleren of de objectwaarde in de pool zit of niet) zal het vergelijken van twee verschillende string-objecten mislukken. Dit is waarom men expliciet de `equals` methode moet gebruiken om de *eigenlijke waarde* van verschillende string objecten te vergelijken.\n",
    "\n",
    "Voor velen (en zeker voor mensen die nieuw zijn in de Java taal) kan dit gedrag een grote bron van verwarring (en frustratie!) zijn."
   ]
  }
 ],
 "metadata": {
  "kernelspec": {
   "display_name": "Java",
   "language": "java",
   "name": "java"
  },
  "language_info": {
   "codemirror_mode": "java",
   "file_extension": ".jshell",
   "mimetype": "text/x-java-source",
   "name": "Java",
   "pygments_lexer": "java",
   "version": "11.0.11+9-Ubuntu-0ubuntu2"
  }
 },
 "nbformat": 4,
 "nbformat_minor": 4
}
