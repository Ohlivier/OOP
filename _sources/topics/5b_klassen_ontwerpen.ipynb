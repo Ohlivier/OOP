{
 "cells": [
  {
   "cell_type": "markdown",
   "id": "e4c12945-6810-40ec-93a9-2ed3fd68ce3e",
   "metadata": {
    "slideshow": {
     "slide_type": "slide"
    },
    "tags": []
   },
   "source": [
    "# Klassen ontwerpen\n",
    "\n",
    "Nieuwe typen maken"
   ]
  },
  {
   "cell_type": "markdown",
   "id": "5a482a22-bab7-4745-ae6f-3e5ca0a8caac",
   "metadata": {
    "slideshow": {
     "slide_type": "slide"
    },
    "tags": []
   },
   "source": [
    "## Abstractie\n",
    "\n",
    "Het verbergen van detail"
   ]
  },
  {
   "cell_type": "markdown",
   "id": "7e716f08-7abb-4e3e-b293-0b0b77f4afe5",
   "metadata": {
    "slideshow": {
     "slide_type": "subslide"
    },
    "tags": []
   },
   "source": [
    "`BigInteger`"
   ]
  },
  {
   "cell_type": "markdown",
   "id": "cdc6a8f7-d187-4440-ac5a-eeb3eca25b10",
   "metadata": {
    "slideshow": {
     "slide_type": "notes"
    },
    "tags": []
   },
   "source": [
    "Je hebt kennisgemaakt met het type `BigInteger` om grote gehele getallen te representeren, getallen groter dan primitieve typen konden representeren."
   ]
  },
  {
   "cell_type": "markdown",
   "id": "266ad889-e093-48bc-b685-af3bbb950133",
   "metadata": {
    "slideshow": {
     "slide_type": "fragment"
    },
    "tags": []
   },
   "source": [
    "| Type    | Aantal bytes | Bereik                                                    |\n",
    "|---------|--------------|-----------------------------------------------------------|\n",
    "| `byte`  | 1            | –128 tot +127                                             |\n",
    "| `short` | 2            | –32.768 tot +32.767                                       |\n",
    "| `int`   | 4            | –2.147.483.648 tot +2.147.483.647                         |\n",
    "| `long`  | 8            | -9.223.372.036.854.775.808 tot +9.223.372.036.854.775.807 |"
   ]
  },
  {
   "cell_type": "markdown",
   "id": "64d0ab12-db45-4e06-8157-301ece0bc676",
   "metadata": {
    "slideshow": {
     "slide_type": "notes"
    },
    "tags": []
   },
   "source": [
    "De bovenstaande primitieve typen worden gebruikt om gehele getallen te representeren. Het type `BigInteger` maakt gebruik van deze typen om getallen groter dan een `long` te representeren. Hoe het dit doet zien wij niet, dit detail blijft voor ons verborgen en zo is `BigInteger` een *abstractie*, het bouwt voort op andere bouwstenen om voor ons een nieuwe en meer algemene manier van uitdrukken mogelijk te maken (*alle* mogelijke hele getallen)."
   ]
  },
  {
   "cell_type": "markdown",
   "id": "3043e568-0993-42fc-b148-86412e6349ed",
   "metadata": {
    "slideshow": {
     "slide_type": "subslide"
    },
    "tags": []
   },
   "source": [
    "`String`"
   ]
  },
  {
   "cell_type": "markdown",
   "id": "4bdb5482-d7b4-431f-b8e4-e0cd525a69db",
   "metadata": {
    "slideshow": {
     "slide_type": "fragment"
    },
    "tags": []
   },
   "source": [
    "| Type   | Aantal bytes | Bereik       |\n",
    "|--------|--------------|--------------|\n",
    "| `char` | 2            | 0 tot 65.535 | 65.535"
   ]
  },
  {
   "cell_type": "markdown",
   "id": "bfb64498-90da-4478-af8c-6d7b7dc89ad8",
   "metadata": {
    "slideshow": {
     "slide_type": "fragment"
    },
    "tags": []
   },
   "source": [
    "```java\n",
    "String hello = \"Hello world!\";\n",
    "\n",
    "hello.charAt(0);\n",
    "hello.toUpperCase();\n",
    "```"
   ]
  },
  {
   "cell_type": "markdown",
   "id": "7b092a19-e56b-42df-90eb-24ee4cbd6685",
   "metadata": {
    "slideshow": {
     "slide_type": "notes"
    },
    "tags": []
   },
   "source": [
    "Hetzelfde geldt voor `String` het verbergt veel detail en biedt een manier om een collectie van `char`'s te beheren en daar handelingen op uit te voeren.\n",
    "\n",
    "Abstractie is het op een meer algemene manier mogelijk maken van handelingen op data door het verbergen van acherliggende details."
   ]
  },
  {
   "cell_type": "markdown",
   "id": "3390af82-bf47-4fa1-9ea4-540ea847818c",
   "metadata": {
    "slideshow": {
     "slide_type": "slide"
    },
    "tags": []
   },
   "source": [
    "## Data en methoden\n",
    "\n",
    "Wat is tijd?"
   ]
  },
  {
   "cell_type": "code",
   "execution_count": 1,
   "id": "ad9b7280-f298-4d52-970e-d0b84eff84ae",
   "metadata": {
    "slideshow": {
     "slide_type": "fragment"
    },
    "tags": []
   },
   "outputs": [],
   "source": [
    "int[] time = new int[2]"
   ]
  },
  {
   "cell_type": "markdown",
   "id": "996f7886-768e-491c-a3a8-e6d9770f782a",
   "metadata": {
    "slideshow": {
     "slide_type": "notes"
    },
    "tags": []
   },
   "source": [
    "Hoe zou je tijd kunnen representeren, bijvoorbeeld de uren en minuten op jouw wekker? Misschien met een `int` array, waar positie 0 staat voor uren en positie 1 voor minuten. "
   ]
  },
  {
   "cell_type": "code",
   "execution_count": 2,
   "id": "066aea99-fd99-4f8d-89c8-435335c0c46a",
   "metadata": {
    "slideshow": {
     "slide_type": "fragment"
    },
    "tags": []
   },
   "outputs": [
    {
     "data": {
      "text/plain": [
       "23"
      ]
     },
     "execution_count": 2,
     "metadata": {},
     "output_type": "execute_result"
    }
   ],
   "source": [
    "time[0] = 23"
   ]
  },
  {
   "cell_type": "code",
   "execution_count": 3,
   "id": "6609728b-77da-4eb5-b7b4-a8d86f6a4c97",
   "metadata": {
    "slideshow": {
     "slide_type": "fragment"
    },
    "tags": []
   },
   "outputs": [
    {
     "data": {
      "text/plain": [
       "59"
      ]
     },
     "execution_count": 3,
     "metadata": {},
     "output_type": "execute_result"
    }
   ],
   "source": [
    "time[1] = 59"
   ]
  },
  {
   "cell_type": "markdown",
   "id": "9ec58485-4420-4569-8075-cb8f4d2bcb52",
   "metadata": {
    "slideshow": {
     "slide_type": "subslide"
    },
    "tags": []
   },
   "source": [
    "Seconden en fracties van seconden?\n",
    "\n",
    "```java\n",
    "time[2] = 12.1253762;\n",
    "```"
   ]
  },
  {
   "cell_type": "markdown",
   "id": "4ab91b5f-ffc2-4077-8a7a-f33a48ba53bf",
   "metadata": {
    "slideshow": {
     "slide_type": "notes"
    },
    "tags": []
   },
   "source": [
    "Hoe zou je seconden en fracties van seconden kunnen toevoegen?  Het eenvoudigst is om seconden in dat geval als `double` te definiëren, maar dat type past niet in het het gekozen type `int[]` om tijd te representeren."
   ]
  },
  {
   "cell_type": "markdown",
   "id": "9d5e67c1-6ff2-4b2e-808b-fea889c7edd4",
   "metadata": {
    "slideshow": {
     "slide_type": "fragment"
    },
    "tags": []
   },
   "source": [
    "```java\n",
    "time[2] = 12;\n",
    "time[3] = 1253762;\n",
    "```"
   ]
  },
  {
   "cell_type": "markdown",
   "id": "5a78705e-d6e3-4a6d-92f2-8ec03560e895",
   "metadata": {
    "slideshow": {
     "slide_type": "notes"
    },
    "tags": []
   },
   "source": [
    "Een andere mogelijkheid is om het tijd array te vergroten naar vier `int` posities. Is dit voldoende om alle informatie over tijd op te slaan? Hoe complex gaat de data worden?"
   ]
  },
  {
   "cell_type": "markdown",
   "id": "5347acd5-55af-41cd-be9c-cd385161b17c",
   "metadata": {
    "slideshow": {
     "slide_type": "fragment"
    },
    "tags": []
   },
   "source": [
    "- tijdzones\n",
    "- zomer- en wintertijd"
   ]
  },
  {
   "cell_type": "markdown",
   "id": "7f2000ea-0bcf-4c34-ae5e-dd9b1d4bb6dc",
   "metadata": {
    "slideshow": {
     "slide_type": "notes"
    },
    "tags": []
   },
   "source": [
    "Tijd is relatief en om een volledige representatie te kunnen geven zullen we op zoek moeten gaan naar een datatype om deze complexiteit uit te kunnen drukken."
   ]
  },
  {
   "cell_type": "markdown",
   "id": "14b03a40-6955-4961-b152-d8fb62e2afe4",
   "metadata": {
    "slideshow": {
     "slide_type": "slide"
    },
    "tags": []
   },
   "source": [
    "### Handelingen\n",
    "\n",
    "De regels van tijd"
   ]
  },
  {
   "cell_type": "code",
   "execution_count": 4,
   "id": "2b50b923-a13c-441c-b85a-9a9d915d3fd7",
   "metadata": {
    "slideshow": {
     "slide_type": "subslide"
    },
    "tags": []
   },
   "outputs": [
    {
     "data": {
      "text/plain": [
       "60"
      ]
     },
     "execution_count": 4,
     "metadata": {},
     "output_type": "execute_result"
    }
   ],
   "source": [
    "time[1] += 1"
   ]
  },
  {
   "cell_type": "code",
   "execution_count": 5,
   "id": "f426a66f-1160-4dc6-8617-185b4896369f",
   "metadata": {
    "slideshow": {
     "slide_type": "fragment"
    },
    "tags": []
   },
   "outputs": [
    {
     "data": {
      "text/plain": [
       "De tijd is 23:60"
      ]
     },
     "execution_count": 5,
     "metadata": {},
     "output_type": "execute_result"
    }
   ],
   "source": [
    "String.format(\"De tijd is %02d:%02d\", time[0], time[1])"
   ]
  },
  {
   "cell_type": "markdown",
   "id": "194ec7dd-bc39-4ff0-b340-bb22f1e22737",
   "metadata": {
    "slideshow": {
     "slide_type": "notes"
    },
    "tags": []
   },
   "source": [
    "Tijd uitgedrukt in uren, minuten en seconden is gebonden aan regels, waarden kunnen niet zomaar gezet worden. In het geval seconden 60 bereikt zal het terug naar 0 moeten springen."
   ]
  },
  {
   "cell_type": "code",
   "execution_count": 6,
   "id": "36eef6d6-6a80-4303-b283-12b157a90987",
   "metadata": {
    "slideshow": {
     "slide_type": "fragment"
    },
    "tags": []
   },
   "outputs": [],
   "source": [
    "if (time[1] >= 60) {\n",
    "    time[1] = 0;\n",
    "    time[0] += 1;\n",
    "}"
   ]
  },
  {
   "cell_type": "markdown",
   "id": "b146c79b-21ef-484f-9ad0-fb8b0ee08b09",
   "metadata": {
    "slideshow": {
     "slide_type": "notes"
    },
    "tags": []
   },
   "source": [
    "Maar ook uren moeten gecorrigeerd worden, daar zal naar 0 moeten worden gesprongen als het 24 heeft bereikt!"
   ]
  },
  {
   "cell_type": "code",
   "execution_count": 7,
   "id": "8408b986-b891-4b7e-a1fb-f1bf5d15f100",
   "metadata": {
    "slideshow": {
     "slide_type": "fragment"
    },
    "tags": []
   },
   "outputs": [],
   "source": [
    "if (time[0] >= 24) {\n",
    "    time[0] = 0;\n",
    "}"
   ]
  },
  {
   "cell_type": "code",
   "execution_count": 8,
   "id": "5293b993-945f-4b82-92ae-760ca266cece",
   "metadata": {
    "slideshow": {
     "slide_type": "fragment"
    },
    "tags": []
   },
   "outputs": [
    {
     "data": {
      "text/plain": [
       "De tijd is 00:00"
      ]
     },
     "execution_count": 8,
     "metadata": {},
     "output_type": "execute_result"
    }
   ],
   "source": [
    "String.format(\"De tijd is %02d:%02d\", time[0], time[1])"
   ]
  },
  {
   "cell_type": "markdown",
   "id": "58ec2bfb-10b4-4417-8031-375b502437fa",
   "metadata": {
    "slideshow": {
     "slide_type": "slide"
    },
    "tags": []
   },
   "source": [
    "## Typen\n",
    "\n",
    "Het type `String`"
   ]
  },
  {
   "cell_type": "markdown",
   "id": "7a1a1c0b-2122-4ed4-bf06-aea43422c2b3",
   "metadata": {
    "slideshow": {
     "slide_type": "notes"
    },
    "tags": []
   },
   "source": [
    "Terug naar typen die we kennen, bijvoorbeeld `String` voor het representeren van tekst."
   ]
  },
  {
   "cell_type": "markdown",
   "id": "aa56f520-d0bf-492b-9b5d-2831d860f838",
   "metadata": {
    "slideshow": {
     "slide_type": "subslide"
    },
    "tags": []
   },
   "source": [
    "**Data**"
   ]
  },
  {
   "cell_type": "code",
   "execution_count": 9,
   "id": "3bc25f22-08b6-43d3-bd88-c6730ea765c0",
   "metadata": {
    "slideshow": {
     "slide_type": "fragment"
    },
    "tags": []
   },
   "outputs": [],
   "source": [
    "String hello = \"Hallo wereld!\""
   ]
  },
  {
   "cell_type": "markdown",
   "id": "51f1b6f4-06fe-4957-9b5c-9646611c25a4",
   "metadata": {
    "slideshow": {
     "slide_type": "notes"
    },
    "tags": []
   },
   "source": [
    "Deze notatie is er voor ons gemak, en wordt een *string literal* genoemd."
   ]
  },
  {
   "cell_type": "code",
   "execution_count": 10,
   "id": "ac8571b7-0eab-48a5-94c7-bc64d9cabf34",
   "metadata": {
    "slideshow": {
     "slide_type": "fragment"
    },
    "tags": []
   },
   "outputs": [],
   "source": [
    "String hallo = new String(\"Hallo wereld!\")"
   ]
  },
  {
   "cell_type": "markdown",
   "id": "d1de3042-fb59-4b4e-8f29-5bd20619f3ce",
   "metadata": {
    "slideshow": {
     "slide_type": "notes"
    },
    "tags": []
   },
   "source": [
    "Deze notatie maakt misschien beter duidelijk dat we een nieuw `String` object aanmaken. Het keyword `new` heb je al vaker gezien en we zeggen hier maak een nieuw `String` object voor ons aan met de waarde \"Hallo wereld!\"."
   ]
  },
  {
   "cell_type": "markdown",
   "id": "68061a5f-04e6-478b-a087-983ba6f2b0dd",
   "metadata": {
    "slideshow": {
     "slide_type": "fragment"
    },
    "tags": []
   },
   "source": [
    "**Handelingen**"
   ]
  },
  {
   "cell_type": "code",
   "execution_count": 11,
   "id": "34d02d8d-7a53-4c9f-bdc7-7b9b03d83ad5",
   "metadata": {
    "slideshow": {
     "slide_type": "fragment"
    },
    "tags": []
   },
   "outputs": [
    {
     "data": {
      "text/plain": [
       "HALLO WERELD!"
      ]
     },
     "execution_count": 11,
     "metadata": {},
     "output_type": "execute_result"
    }
   ],
   "source": [
    "hello.toUpperCase()"
   ]
  },
  {
   "cell_type": "markdown",
   "id": "3ca481e8-6835-47d5-ade8-dee44bebe2d5",
   "metadata": {
    "slideshow": {
     "slide_type": "notes"
    },
    "tags": []
   },
   "source": [
    "Op een string (een collectie `char`'s) zijn bepaalde regels van toepassing. De volgorde van de karakters staat vast, maar ook handelingen zijn aan regels gebonden, bijvoorbeeld [Unicode](https://home.unicode.org/) wat noodzakelijke informatie is om in dit geval tekst naar hoofdletters om te zetten.\n",
    "\n",
    "Nooit heb je direct toegang tot de collectie van `char`'s in een `String` object, deze is afgeschermd en alleen via methoden van het object heb je een beperkte (maar wel nuttige!) toegang tot informatie (`charAt`) en transformaties als `toUpperCase`.\n",
    "\n",
    "Het type `String` is een abstractie, het combineert data en handelingen die alles te maken hebben met *tekstuele* data."
   ]
  },
  {
   "cell_type": "markdown",
   "id": "40ce7965-b873-4295-9f90-e211be5f56c9",
   "metadata": {
    "slideshow": {
     "slide_type": "slide"
    },
    "tags": []
   },
   "source": [
    "## Het type `Time`\n",
    "\n",
    "In een ideale wereld ..."
   ]
  },
  {
   "cell_type": "markdown",
   "id": "75a75198-c6e0-46d3-b5ca-359fd5491922",
   "metadata": {
    "slideshow": {
     "slide_type": "subslide"
    },
    "tags": []
   },
   "source": [
    "```java\n",
    "Time tijd = new Time(23, 59);\n",
    "```"
   ]
  },
  {
   "cell_type": "markdown",
   "id": "1f1c341d-2f6c-497f-9437-77501d7c5ced",
   "metadata": {
    "slideshow": {
     "slide_type": "notes"
    },
    "tags": []
   },
   "source": [
    "In een ideale wereld zouden we ons een type `Time` wensen waarmee we objecten die tijd representeren zouden kunnen aanmaken, net als `String`! "
   ]
  },
  {
   "cell_type": "markdown",
   "id": "3e80fb2e-397d-4f69-bc24-b59409e992ae",
   "metadata": {
    "slideshow": {
     "slide_type": "fragment"
    },
    "tags": []
   },
   "source": [
    "```java\n",
    "Time tijd = new Time(23, 59, 12.1253762);\n",
    "```"
   ]
  },
  {
   "cell_type": "markdown",
   "id": "eb059995-7275-4c64-85f1-e508f2b52f0f",
   "metadata": {
    "slideshow": {
     "slide_type": "notes"
    },
    "tags": []
   },
   "source": [
    "Waar we naast uren en minuten ook seconden en fracties van seconden zouden kunnen zetten als we willen"
   ]
  },
  {
   "cell_type": "markdown",
   "id": "f47688a9-f502-4da2-b442-7747367aa2e3",
   "metadata": {
    "slideshow": {
     "slide_type": "fragment"
    },
    "tags": []
   },
   "source": [
    "```java\n",
    "Time tijd = new Time(23, 59, 12.1253762, \"Europe/Paris\");\n",
    "```"
   ]
  },
  {
   "cell_type": "markdown",
   "id": "c9ef7c87-287f-4e82-bb5c-c8e4ab9899fc",
   "metadata": {
    "slideshow": {
     "slide_type": "notes"
    },
    "tags": []
   },
   "source": [
    "maar ook andere informatie over tijd zouden willen toevoegen, bijvoorbeeld een tijdzone."
   ]
  },
  {
   "cell_type": "markdown",
   "id": "826039a2-d4a1-44a1-9483-933e8c2241cd",
   "metadata": {
    "slideshow": {
     "slide_type": "subslide"
    },
    "tags": []
   },
   "source": [
    "```java\n",
    "Time tijd_2 = new Time(9, 30);\n",
    "\n",
    "tijd.equals(tijd_2);\n",
    "```"
   ]
  },
  {
   "cell_type": "markdown",
   "id": "ebc93c70-2620-4fc7-9d2e-0090dc3ec521",
   "metadata": {
    "slideshow": {
     "slide_type": "notes"
    },
    "tags": []
   },
   "source": [
    "En wat te denken van handelingen, bijvoorbeeld twee tijden met elkaar vergelijken"
   ]
  },
  {
   "cell_type": "markdown",
   "id": "d85d942f-2d0c-4fe6-9ada-62763cc5aa5e",
   "metadata": {
    "slideshow": {
     "slide_type": "fragment"
    },
    "tags": []
   },
   "source": [
    "```java\n",
    "Time tijd_3 = tijd.add(tijd_2);\n",
    "```"
   ]
  },
  {
   "cell_type": "markdown",
   "id": "87549d24-3450-4ba2-bc8e-c249b65f5f6f",
   "metadata": {
    "slideshow": {
     "slide_type": "notes"
    },
    "tags": []
   },
   "source": [
    "of twee tijden bij elkaar optellen (of misschien zelfs aftrekken) waar automatisch rekening wordt gehouden met het verspringen van uren, minuten en seconden"
   ]
  },
  {
   "cell_type": "markdown",
   "id": "3ec44556-0c10-4b94-8ce3-d0ce69ba55b1",
   "metadata": {
    "slideshow": {
     "slide_type": "fragment"
    },
    "tags": []
   },
   "source": [
    "```java\n",
    "String.format(\"De tijd is %s\", tijd);\n",
    "```"
   ]
  },
  {
   "cell_type": "markdown",
   "id": "aec9622a-ff13-4055-8025-00be05ac799b",
   "metadata": {
    "slideshow": {
     "slide_type": "notes"
    },
    "tags": []
   },
   "source": [
    "en tijd te kunnen printen als een string, zonder omslachtige `%02d` formattering!"
   ]
  },
  {
   "cell_type": "markdown",
   "id": "b456561e-15c8-4f13-9c5a-203f7bf1f2c0",
   "metadata": {
    "slideshow": {
     "slide_type": "slide"
    },
    "tags": []
   },
   "source": [
    "## Klassen\n",
    "\n",
    "Klassen zijn de blauwdruk van een type"
   ]
  },
  {
   "cell_type": "markdown",
   "id": "07e55fbc-3736-44aa-a9e5-ec7f5c4d4800",
   "metadata": {
    "slideshow": {
     "slide_type": "subslide"
    },
    "tags": []
   },
   "source": [
    "![Een blauwdruk](images/5/blueprint.png)"
   ]
  },
  {
   "cell_type": "markdown",
   "id": "d377bb95-8927-42ac-a141-05d755c6dc9d",
   "metadata": {
    "slideshow": {
     "slide_type": "subslide"
    },
    "tags": []
   },
   "source": [
    "## Data"
   ]
  },
  {
   "cell_type": "markdown",
   "id": "b8ced9f9-b245-488e-92e5-63084fef6257",
   "metadata": {
    "slideshow": {
     "slide_type": "fragment"
    },
    "tags": []
   },
   "source": [
    "```java\n",
    "public class Time {\n",
    "    private int hour;\n",
    "    private int minute;\n",
    "    private double second;\n",
    "}\n",
    "```"
   ]
  },
  {
   "cell_type": "markdown",
   "id": "4aa68854-bd45-49f3-8f17-96d9b4b780b6",
   "metadata": {
    "slideshow": {
     "slide_type": "notes"
    },
    "tags": []
   },
   "source": [
    "Data van een klasse worden velden (of properties) genoemd, in dit geval `hour`, `minute` en `second` voor het representeren van tijd. Merk op dat we niet meer de beperking hebben van een enkel type!"
   ]
  },
  {
   "cell_type": "markdown",
   "id": "d95b851c-418c-4946-a712-41ce90228a88",
   "metadata": {
    "slideshow": {
     "slide_type": "subslide"
    },
    "tags": []
   },
   "source": [
    "## Constructor"
   ]
  },
  {
   "cell_type": "markdown",
   "id": "6cb651ad-77bc-4553-90a5-46a9c48ac511",
   "metadata": {
    "slideshow": {
     "slide_type": "fragment"
    },
    "tags": []
   },
   "source": [
    "```java\n",
    "public class Time {\n",
    "    \n",
    "    private int hour;\n",
    "    private int minute;\n",
    "    private double second;\n",
    "\n",
    "    public Time() {\n",
    "        this.hour = 0;\n",
    "        this.minute = 0;\n",
    "        this.second = 0.0;\n",
    "    }\n",
    "}\n",
    "```"
   ]
  },
  {
   "cell_type": "markdown",
   "id": "34adcef4-9310-453d-983e-6b75a301f5a0",
   "metadata": {
    "slideshow": {
     "slide_type": "fragment"
    },
    "tags": []
   },
   "source": [
    "```java\n",
    "Time tijd = new Time();\n",
    "```"
   ]
  },
  {
   "cell_type": "markdown",
   "id": "de7422c4-9c77-4ef8-88f1-2bd14ffe32d5",
   "metadata": {
    "slideshow": {
     "slide_type": "subslide"
    },
    "tags": []
   },
   "source": [
    "### Kenmerken van een constructor\n",
    "\n",
    "```java\n",
    "public Time() {\n",
    "    this.hour = 0;\n",
    "    this.minute = 0;\n",
    "    this.second = 0.0;\n",
    "}\n",
    "```\n",
    "\n",
    "- geen returntype\n",
    "- zelfde naam als de klasse\n",
    "- zijn `public`"
   ]
  },
  {
   "cell_type": "markdown",
   "id": "4c28c7c0-223b-4e6f-9491-a1a61c59a606",
   "metadata": {
    "slideshow": {
     "slide_type": "notes"
    },
    "tags": []
   },
   "source": [
    "Constructors lijken op methoden, maar hebben een paar belangrijke verschillen."
   ]
  },
  {
   "cell_type": "markdown",
   "id": "70d4ffb2-1420-40fe-8cc4-3be0c332d846",
   "metadata": {
    "slideshow": {
     "slide_type": "subslide"
    },
    "tags": []
   },
   "source": [
    "### `this`\n",
    "\n",
    "```java\n",
    "public Time() {\n",
    "    this.hour = 0;\n",
    "    this.minute = 0;\n",
    "    this.second = 0.0;\n",
    "}\n",
    "```\n",
    "\n",
    "De verwijzing naar zichzelf (het object!)."
   ]
  },
  {
   "cell_type": "markdown",
   "id": "24c38588-d3b9-4cca-8f13-6660ea5a7bbb",
   "metadata": {
    "slideshow": {
     "slide_type": "notes"
    },
    "tags": []
   },
   "source": [
    "`this` verwijst naar zichzelf, het \"ik\". `this` is binnen constructors (en ook methoden) altijd aanwezig."
   ]
  },
  {
   "cell_type": "markdown",
   "id": "9316f4b5-d9b9-442c-8969-34af8e0e2ab4",
   "metadata": {
    "slideshow": {
     "slide_type": "subslide"
    },
    "tags": []
   },
   "source": [
    "```java\n",
    "public class Time {\n",
    "    \n",
    "    private int hour;\n",
    "    private int minute;\n",
    "    private double second;\n",
    "\n",
    "    public Time() {\n",
    "        this.hour = 0;\n",
    "        this.minute = 0;\n",
    "        this.second = 0.0;\n",
    "    }\n",
    "    \n",
    "    public Time(int hour, int minute) {\n",
    "        this.hour = hour;\n",
    "        this.minute = minute;\n",
    "        this.second = 0.0;\n",
    "    }\n",
    "}\n",
    "```"
   ]
  },
  {
   "cell_type": "markdown",
   "id": "a9f995cb-8399-4524-9d11-d738e2a2f4d7",
   "metadata": {
    "slideshow": {
     "slide_type": "fragment"
    },
    "tags": []
   },
   "source": [
    "```java\n",
    "Time tijd = new Time(23, 59);\n",
    "```"
   ]
  },
  {
   "cell_type": "markdown",
   "id": "c024145d-13cc-463d-a2ee-b91674428638",
   "metadata": {
    "slideshow": {
     "slide_type": "notes"
    },
    "tags": []
   },
   "source": [
    "Meerdere constructors mogen zolang de signatuur maar anders is."
   ]
  },
  {
   "cell_type": "markdown",
   "id": "43043a77-6278-4c84-8037-3ccb2e7ce0c8",
   "metadata": {
    "slideshow": {
     "slide_type": "subslide"
    },
    "tags": []
   },
   "source": [
    "## Getters en setters\n",
    "\n",
    "*Accessors* en *mutators* "
   ]
  },
  {
   "cell_type": "code",
   "execution_count": 12,
   "id": "2fb50cf4-9aae-4e05-b6df-7fd3254ea1cc",
   "metadata": {
    "slideshow": {
     "slide_type": "subslide"
    },
    "tags": []
   },
   "outputs": [],
   "source": [
    "public class Time {\n",
    "    private int hour;\n",
    "    private int minute;\n",
    "    private double second;\n",
    "    \n",
    "    public Time(int hour, int minute) {\n",
    "        this.hour = hour;\n",
    "        this.minute = minute;\n",
    "        this.second = 0.0;\n",
    "    }\n",
    "}"
   ]
  },
  {
   "cell_type": "code",
   "execution_count": 13,
   "id": "0e2f152e-6d0d-4247-8f0c-6cfd76f4bbda",
   "metadata": {
    "slideshow": {
     "slide_type": "fragment"
    },
    "tags": []
   },
   "outputs": [],
   "source": [
    "Time tijd = new Time(10, 30);"
   ]
  },
  {
   "cell_type": "code",
   "execution_count": 14,
   "id": "7c48ed7f-5602-4182-a446-d3e78eb3d631",
   "metadata": {
    "slideshow": {
     "slide_type": "fragment"
    },
    "tags": []
   },
   "outputs": [
    {
     "ename": "CompilationException",
     "evalue": "",
     "output_type": "error",
     "traceback": [
      "\u001b[1m\u001b[30m|   \u001b[1m\u001b[30m\u001b[0m\u001b[1m\u001b[30m\u001b[41mtijd.hour\u001b[0m\u001b[1m\u001b[30m;\u001b[0m",
      "\u001b[1m\u001b[31mhour has private access in Time\u001b[0m",
      ""
     ]
    }
   ],
   "source": [
    "tijd.hour;"
   ]
  },
  {
   "cell_type": "markdown",
   "id": "8098cc2b-aa03-4412-ae10-e019420d0290",
   "metadata": {
    "slideshow": {
     "slide_type": "notes"
    },
    "tags": []
   },
   "source": [
    "We hebben door het gebruik van de *access modifier* `private` nu de garantie dat de waarden niet zomaar gewijzigd kunnen worden (we hebben de waarden *immutable* gemaakt)."
   ]
  },
  {
   "cell_type": "code",
   "execution_count": 15,
   "id": "7bef69de-2cd4-48c3-ae29-eec6a2dbed3b",
   "metadata": {
    "slideshow": {
     "slide_type": "subslide"
    },
    "tags": []
   },
   "outputs": [],
   "source": [
    "public class Time {\n",
    "    private int hour;\n",
    "    private int minute;\n",
    "    private double second;\n",
    "    \n",
    "    public Time(int hour, int minute) {\n",
    "        this.hour = hour;\n",
    "        this.minute = minute;\n",
    "        this.second = 0.0;\n",
    "    }\n",
    "    \n",
    "    public int getHour() {\n",
    "        return this.hour;\n",
    "    }\n",
    "}"
   ]
  },
  {
   "cell_type": "markdown",
   "id": "31319570-9ca1-47b1-907a-1f6df77e9810",
   "metadata": {
    "slideshow": {
     "slide_type": "notes"
    },
    "tags": []
   },
   "source": [
    "De conventie is, als toegang nodig is, om dit via methoden te doen waar de naam van de methode duidelijk maakt wat de bedoeling is, in dit geval `getHour`, *haal de waarde van hour* op. Deze methode wordt een *getter* (of *accessor*) genoemd."
   ]
  },
  {
   "cell_type": "code",
   "execution_count": 16,
   "id": "9e101f26-768f-48ac-b3bf-667c42ca7aeb",
   "metadata": {
    "slideshow": {
     "slide_type": "fragment"
    },
    "tags": []
   },
   "outputs": [],
   "source": [
    "Time tijd = new Time(10, 30);"
   ]
  },
  {
   "cell_type": "code",
   "execution_count": 17,
   "id": "d0979c6e-8a78-4c6b-be59-1acb4531fa15",
   "metadata": {
    "slideshow": {
     "slide_type": "fragment"
    },
    "tags": []
   },
   "outputs": [
    {
     "data": {
      "text/plain": [
       "10"
      ]
     },
     "execution_count": 17,
     "metadata": {},
     "output_type": "execute_result"
    }
   ],
   "source": [
    "tijd.getHour()"
   ]
  },
  {
   "cell_type": "code",
   "execution_count": 18,
   "id": "28099a2c-93b4-4f75-9a30-1afa823fc848",
   "metadata": {
    "slideshow": {
     "slide_type": "subslide"
    },
    "tags": []
   },
   "outputs": [],
   "source": [
    "public class Time {\n",
    "    private int hour;\n",
    "    private int minute;\n",
    "    private double second;\n",
    "    \n",
    "    public Time(int hour, int minute) {\n",
    "        this.hour = hour;\n",
    "        this.minute = minute;\n",
    "        this.second = 0.0;\n",
    "    }\n",
    "    \n",
    "    public int getHour() {\n",
    "        return this.hour;\n",
    "    }\n",
    "    \n",
    "    public void setHour(int hour) {\n",
    "        this.hour = hour;\n",
    "    }\n",
    "}"
   ]
  },
  {
   "cell_type": "markdown",
   "id": "da3fb0e9-1de6-427d-914b-7e0e5b96828e",
   "metadata": {
    "slideshow": {
     "slide_type": "notes"
    },
    "tags": []
   },
   "source": [
    "Net als bij getters voor het opvragen van waarden worden voor het zetten van waarden methoden gebruikt. Deze *setters* (of *mutators*) volgen dezelfde conventie wat betreft naameving, in het geval voor de waarde `hour` de methode `setHour` die een enkele parameter accepteert."
   ]
  },
  {
   "cell_type": "code",
   "execution_count": 19,
   "id": "dea0d7ee-50fa-4ae2-8fc1-9caf12519f78",
   "metadata": {
    "slideshow": {
     "slide_type": "fragment"
    },
    "tags": []
   },
   "outputs": [],
   "source": [
    "Time tijd = new Time(10, 30);"
   ]
  },
  {
   "cell_type": "code",
   "execution_count": 20,
   "id": "07dabf0f-8529-4bf9-a86b-ac609da4b57b",
   "metadata": {
    "slideshow": {
     "slide_type": "fragment"
    },
    "tags": []
   },
   "outputs": [],
   "source": [
    "tijd.setHour(24)"
   ]
  },
  {
   "cell_type": "code",
   "execution_count": 21,
   "id": "0d475563-7750-4139-b6f2-9a93738bcc42",
   "metadata": {
    "slideshow": {
     "slide_type": "fragment"
    },
    "tags": []
   },
   "outputs": [
    {
     "data": {
      "text/plain": [
       "24"
      ]
     },
     "execution_count": 21,
     "metadata": {},
     "output_type": "execute_result"
    }
   ],
   "source": [
    "tijd.getHour()"
   ]
  },
  {
   "cell_type": "markdown",
   "id": "77e6d437-3d79-4d7a-b69e-da9dee09ffe3",
   "metadata": {
    "slideshow": {
     "slide_type": "subslide"
    },
    "tags": []
   },
   "source": [
    "```java\n",
    "public void setHour(int hour) {\n",
    "    this.hour = hour;\n",
    "    \n",
    "    if (this.hour >= 24) {\n",
    "        this.hour = 0;\n",
    "    }\n",
    "}\n",
    "```"
   ]
  },
  {
   "cell_type": "markdown",
   "id": "e4f86851-dcf7-456e-8b2a-92e9a858c924",
   "metadata": {
    "slideshow": {
     "slide_type": "notes"
    },
    "tags": []
   },
   "source": [
    "Waarden kunnen in het geval van tijd niet zomaar gezet worden, er zijn regels. Een setter is een prima lokatie om een controle op de waarde uit te voeren, bijvoorbeeld als de waarde die een gebruiker deze methode heeft meegegeven het veld `hour` groter of gelijk aan 24 heeft gemaakt."
   ]
  },
  {
   "cell_type": "markdown",
   "id": "73706a44-c1d4-4635-9400-ce31e456d5e3",
   "metadata": {
    "slideshow": {
     "slide_type": "subslide"
    },
    "tags": []
   },
   "source": [
    "## `equals`"
   ]
  },
  {
   "cell_type": "code",
   "execution_count": 22,
   "id": "a15f3175-ed74-4b5f-85ad-a4b166d5a4f7",
   "metadata": {
    "slideshow": {
     "slide_type": "subslide"
    },
    "tags": []
   },
   "outputs": [],
   "source": [
    "public class Time {\n",
    "    private int hour;\n",
    "    private int minute;\n",
    "    private double second;\n",
    "    \n",
    "    public Time(int hour, int minute) {\n",
    "        this.hour = hour;\n",
    "        this.minute = minute;\n",
    "        this.second = 0.0;\n",
    "    }\n",
    "    \n",
    "    public int getHour() {\n",
    "        return this.hour;\n",
    "    }\n",
    "    \n",
    "    public int getMinute() {\n",
    "        return this.minute;\n",
    "    }\n",
    "\n",
    "    public double getSecond() {\n",
    "        return this.second;\n",
    "    }\n",
    "    \n",
    "    public boolean equals(Time that) {\n",
    "        final double DELTA = 0.001;\n",
    "        return this.hour == that.getHour()\n",
    "            && this.minute == that.getMinute()\n",
    "            && Math.abs(this.second - that.getSecond()) < DELTA;\n",
    "    }\n",
    "}"
   ]
  },
  {
   "cell_type": "markdown",
   "id": "a7d81353-28bc-469a-abb6-540e120f7396",
   "metadata": {
    "slideshow": {
     "slide_type": "notes"
    },
    "tags": []
   },
   "source": [
    "De methode `equals` ken je onder andere van de klasse `String`, het is een methode om twee objecten op *waarde* te kunnen vergelijken. Deze methode kunnen wij ook voor `Time` objecten toepassen waar je vergelijkt of uren, minuten en seconden overeenkomen (of niet)."
   ]
  },
  {
   "cell_type": "code",
   "execution_count": 23,
   "id": "a0e47d35-0aa2-4a68-aa58-75da757ae55c",
   "metadata": {
    "slideshow": {
     "slide_type": "fragment"
    },
    "tags": []
   },
   "outputs": [],
   "source": [
    "Time tijd_1 = new Time(10, 30);\n",
    "Time tijd_2 = new Time(22, 30);"
   ]
  },
  {
   "cell_type": "code",
   "execution_count": 24,
   "id": "9195a603-abb7-4156-84f9-cd2176818e77",
   "metadata": {
    "slideshow": {
     "slide_type": "fragment"
    },
    "tags": []
   },
   "outputs": [
    {
     "data": {
      "text/plain": [
       "false"
      ]
     },
     "execution_count": 24,
     "metadata": {},
     "output_type": "execute_result"
    }
   ],
   "source": [
    "tijd_1.equals(tijd_2)"
   ]
  },
  {
   "cell_type": "markdown",
   "id": "81a6a367-e530-47ab-8a72-dddcffdb160d",
   "metadata": {
    "slideshow": {
     "slide_type": "subslide"
    },
    "tags": []
   },
   "source": [
    "## `toString`"
   ]
  },
  {
   "cell_type": "code",
   "execution_count": 25,
   "id": "35c58279-0011-4e22-b069-4f4703407fe1",
   "metadata": {
    "slideshow": {
     "slide_type": "subslide"
    },
    "tags": []
   },
   "outputs": [],
   "source": [
    "public class Time {\n",
    "    private int hour;\n",
    "    private int minute;\n",
    "    private double second;\n",
    "    \n",
    "    public Time(int hour, int minute) {\n",
    "        this.hour = hour;\n",
    "        this.minute = minute;\n",
    "        this.second = 0.0;\n",
    "    }\n",
    "    \n",
    "    public String toString() {\n",
    "        return String.format(\"%02d:%02d:%04.1f\", \n",
    "            this.hour, this.minute, this.second);\n",
    "    }\n",
    "}"
   ]
  },
  {
   "cell_type": "markdown",
   "id": "20691a24-c045-4291-8219-be3e5f630eef",
   "metadata": {
    "slideshow": {
     "slide_type": "notes"
    },
    "tags": []
   },
   "source": [
    "Als je `Time` objecten zou willen printen dan krijg je een cryptische string terug met een verwijzing naar een geheugenlokatie, net zoals je eerder hebt gezien bij het printen van arrays. De methode `toString` geeft een string representatie terug en deze methode wordt ook gebruikt (aangeroepen) door bijvoorbeeld `System.out.println`."
   ]
  },
  {
   "cell_type": "code",
   "execution_count": 26,
   "id": "aff06b25-a2fe-4f0a-af65-ea65e6a8e880",
   "metadata": {
    "slideshow": {
     "slide_type": "fragment"
    },
    "tags": []
   },
   "outputs": [],
   "source": [
    "Time tijd = new Time(10, 30);"
   ]
  },
  {
   "cell_type": "code",
   "execution_count": 27,
   "id": "910ff36d-0f1e-4dd6-bb75-f31e20276a03",
   "metadata": {
    "slideshow": {
     "slide_type": "fragment"
    },
    "tags": []
   },
   "outputs": [
    {
     "name": "stdout",
     "output_type": "stream",
     "text": [
      "10:30:00,0\n"
     ]
    }
   ],
   "source": [
    "System.out.println(tijd);"
   ]
  }
 ],
 "metadata": {
  "kernelspec": {
   "display_name": "Java",
   "language": "java",
   "name": "java"
  },
  "language_info": {
   "codemirror_mode": "java",
   "file_extension": ".jshell",
   "mimetype": "text/x-java-source",
   "name": "Java",
   "pygments_lexer": "java",
   "version": "11.0.11+9-Ubuntu-0ubuntu2"
  }
 },
 "nbformat": 4,
 "nbformat_minor": 5
}
