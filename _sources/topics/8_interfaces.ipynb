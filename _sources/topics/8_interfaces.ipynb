{
 "cells": [
  {
   "cell_type": "markdown",
   "id": "56880ff3-d963-409e-b74f-53c697702d04",
   "metadata": {
    "slideshow": {
     "slide_type": "slide"
    },
    "tags": []
   },
   "source": [
    "# Interfaces"
   ]
  },
  {
   "cell_type": "markdown",
   "id": "665eb408-e800-48a8-96cf-2a1dad3c88f0",
   "metadata": {
    "slideshow": {
     "slide_type": "skip"
    },
    "tags": []
   },
   "source": [
    "## De term interface"
   ]
  },
  {
   "cell_type": "markdown",
   "id": "babea0c7-0a73-48c5-800b-c5a47c8445f9",
   "metadata": {
    "slideshow": {
     "slide_type": "subslide"
    },
    "tags": []
   },
   "source": [
    "![Interface vertaling](images/8/interface_translation.png)"
   ]
  },
  {
   "cell_type": "markdown",
   "id": "d5dd10b9-04fc-48d7-8ffa-308cfadd874c",
   "metadata": {
    "slideshow": {
     "slide_type": "notes"
    },
    "tags": []
   },
   "source": [
    "Een goede Nederlandse vertaling voor het voor het Engelse woord *interface* bestaat helaas niet. \"Koppel\" is het beste wat Google Translate ons te bieden en is niet heel betekenisvol!"
   ]
  },
  {
   "cell_type": "markdown",
   "id": "eed45012-ee9e-4e5c-a2ad-bee0641bb0f0",
   "metadata": {
    "slideshow": {
     "slide_type": "subslide"
    },
    "tags": []
   },
   "source": [
    "![Interface definition](images/8/interface_definition.png)"
   ]
  },
  {
   "cell_type": "markdown",
   "id": "d1933dc8-1ad6-4208-89a3-529128e510a7",
   "metadata": {
    "slideshow": {
     "slide_type": "notes"
    },
    "tags": []
   },
   "source": [
    "De definitie van *interface* maakt al meer duidelijk, een punt waar twee systemen bij elkaar komen en met elkaar interacteren. "
   ]
  },
  {
   "cell_type": "markdown",
   "id": "465e63df-9cc0-444a-ad26-bac56a06632b",
   "metadata": {
    "slideshow": {
     "slide_type": "skip"
    },
    "tags": []
   },
   "source": [
    "### User Interface"
   ]
  },
  {
   "cell_type": "markdown",
   "id": "5c770b91-22b1-4245-8e3f-0bb5f2c12769",
   "metadata": {
    "slideshow": {
     "slide_type": "subslide"
    },
    "tags": []
   },
   "source": [
    "![Tic-tac-toe UI](images/8/tic-tac-toe-ui.png)"
   ]
  },
  {
   "cell_type": "markdown",
   "id": "3f517c84-a4d9-4c76-9f03-68a1ff236940",
   "metadata": {
    "slideshow": {
     "slide_type": "notes"
    },
    "tags": []
   },
   "source": [
    "Een *user interface* kennen we beter als term, waar we de (vaak grafische) voorkant bedoelen van een systeem waarmee de gebruiker interacteert. Vaak is dit een beperkte toegang tot functionaliteit, het achterliggende systeem zal vaak complexer zijn maar heeft daar middels deze *interface* geen toegang toe. "
   ]
  },
  {
   "cell_type": "markdown",
   "id": "68f681b9-e418-4bbf-b688-5f0b848fbda1",
   "metadata": {
    "slideshow": {
     "slide_type": "skip"
    },
    "tags": []
   },
   "source": [
    "### Application Programming Interface"
   ]
  },
  {
   "cell_type": "markdown",
   "id": "e286d0c2-d262-46b9-9b2a-e36feb19dff3",
   "metadata": {
    "slideshow": {
     "slide_type": "subslide"
    },
    "tags": []
   },
   "source": [
    "![Discord API](images/8/discord_api.png)"
   ]
  },
  {
   "cell_type": "markdown",
   "id": "d875e9d2-95e8-4994-92aa-6cc5ac3a0676",
   "metadata": {
    "slideshow": {
     "slide_type": "notes"
    },
    "tags": []
   },
   "source": [
    "Programmatische toegang tot systemen gebeurt vaak via een *application programming interface* (API) waarbij een geselecteerde set van methoden zijn aan te roepen vanuit andere programma's."
   ]
  },
  {
   "cell_type": "markdown",
   "id": "709868f0-88ca-41b6-a39c-b1afb2313ef6",
   "metadata": {
    "slideshow": {
     "slide_type": "subslide"
    },
    "tags": []
   },
   "source": [
    "### Een klasse als interface"
   ]
  },
  {
   "cell_type": "code",
   "execution_count": 32,
   "id": "f3111be7-6fd5-4f19-bff0-a51a85fb31ab",
   "metadata": {
    "slideshow": {
     "slide_type": "subslide"
    },
    "tags": []
   },
   "outputs": [],
   "source": [
    "public class Location {\n",
    "    private double latitude;\n",
    "    private double longitude;\n",
    "    \n",
    "    public Location() {\n",
    "        latitude = 0.0;\n",
    "        longitude = 0.0;\n",
    "    }\n",
    "    public Location(double latitude, double longitude) {\n",
    "        this.latitude = latitude;\n",
    "        this.longitude = longitude;\n",
    "    }\n",
    "\n",
    "    public double getLatitude() {\n",
    "        return latitude;\n",
    "    }\n",
    "\n",
    "    public double getLongitude() {\n",
    "        return longitude;\n",
    "    }    \n",
    "}"
   ]
  },
  {
   "cell_type": "markdown",
   "id": "00fe7159-3bb0-483a-bbbe-3a66ee9a54a6",
   "metadata": {
    "slideshow": {
     "slide_type": "notes"
    },
    "tags": []
   },
   "source": [
    "Als het gaat om klassen is de term interface al terloops genoemd waarmee wordt bedoeld welke velden en methoden toegankelijk zijn voor andere klassen. Het meest duidelijk wordt dit in het gebruik van de *access modifiers* `public` en `private`. Velden of methoden die `public` zijn, zijn onderdeel van de interface van de klasse waar andere klassen gebruik van kunnen maken."
   ]
  },
  {
   "cell_type": "markdown",
   "id": "34cc11d5-836d-4c70-b1dd-e5af9019afab",
   "metadata": {
    "slideshow": {
     "slide_type": "skip"
    },
    "tags": []
   },
   "source": [
    "## Tekst lezen"
   ]
  },
  {
   "cell_type": "markdown",
   "id": "b4bec1bf-4c16-4bff-b61b-bbdff637f890",
   "metadata": {
    "slideshow": {
     "slide_type": "slide"
    },
    "tags": []
   },
   "source": [
    "![Text readers](images/8/text_readers.png)"
   ]
  },
  {
   "cell_type": "markdown",
   "id": "4b1f8120-bc0d-4e21-a03b-e8a64820ec52",
   "metadata": {
    "slideshow": {
     "slide_type": "notes"
    },
    "tags": []
   },
   "source": [
    "Tekst lezen doen we op veel manieren, bijvoorbeeld met tekstberichten via SMS, WhatsApp of Discord, maar ook via andere media als bijvoorbeeld eBooks of webpagina's. Als we deze media in klassen willen vormgeven dan zullen dit verschillende klassen worden (bijvoorbeeld `TextMessage` en `Ebook`) want een teksbericht is écht iets anders dan een eBook of webpagina."
   ]
  },
  {
   "cell_type": "markdown",
   "id": "848da16c-ffc6-47cc-b09b-4ec002d5e76d",
   "metadata": {
    "slideshow": {
     "slide_type": "subslide"
    },
    "tags": []
   },
   "source": [
    "```java\n",
    "public class TextMessage {\n",
    "    // ...\n",
    "}\n",
    "\n",
    "public class Ebook {\n",
    "    // ...\n",
    "}\n",
    "```"
   ]
  },
  {
   "cell_type": "markdown",
   "id": "e4f9bb03-6bb7-450f-bc5d-68b70dcee1c4",
   "metadata": {
    "slideshow": {
     "slide_type": "notes"
    },
    "tags": []
   },
   "source": [
    "Beide zullen tekst *moeten* kunnen lezen, om deze reden zou je graag willen dat de *interface* van de klassen een publieke methode `read` heeft. Zoals je weet kan dit kan worden opgelost met een abstracte klasse waar beide klassen van erven."
   ]
  },
  {
   "cell_type": "markdown",
   "id": "cc94dc3f-4ef1-44f6-9c72-70919d54004b",
   "metadata": {
    "slideshow": {
     "slide_type": "subslide"
    },
    "tags": []
   },
   "source": [
    "```java\n",
    "abstract class ReadableThing {\n",
    "    abstract String read();\n",
    "}\n",
    "\n",
    "public class TextMessage extends ReadableThing {\n",
    "    @Override\n",
    "    public String read() {\n",
    "        // ...\n",
    "    }\n",
    "}\n",
    "\n",
    "public class Ebook extends ReadableThing {\n",
    "    @Override\n",
    "    public String read() {\n",
    "        // ...\n",
    "    }\n",
    "}\n",
    "```"
   ]
  },
  {
   "cell_type": "markdown",
   "id": "05b04b42-70de-4bf7-97e9-16fc9e7d0c2d",
   "metadata": {
    "slideshow": {
     "slide_type": "notes"
    },
    "tags": []
   },
   "source": [
    "Bij het vormgeven van een klassenhiërarchie probeer je altijd de meer abstracte vorm te vinden, maar in dit geval is het onduidelijk. Wat is de meer abstracte vorm van een `TextMessage` of `Ebook`? Een `ReadableThing`? Of iets anders? Je zal het met ons eens zijn dat dit een lastig geval is want het wordt nu wel héél abstract en misschien zelfs wat gekunsteld ...\n",
    "\n",
    "We hebben hier te maken met een ontwerpprobleem, want eigenlijk zijn we hier niet op zoek naar de meest abstracte vorm van deze klassen, maar naar een manier om aan te geven dat de interface van de klassen een methode `read` *moet* hebben (los van een eventuele klassenhiërarchie)."
   ]
  },
  {
   "cell_type": "markdown",
   "id": "07f413e7-2d46-468c-8bbd-f177742290d7",
   "metadata": {
    "slideshow": {
     "slide_type": "slide"
    },
    "tags": []
   },
   "source": [
    "## `interface`"
   ]
  },
  {
   "cell_type": "code",
   "execution_count": 44,
   "id": "a52066e1-bc62-4bd8-83b4-d99e0c55a985",
   "metadata": {
    "slideshow": {
     "slide_type": "fragment"
    },
    "tags": []
   },
   "outputs": [],
   "source": [
    "public interface Readable {\n",
    "    String read();\n",
    "}"
   ]
  },
  {
   "cell_type": "markdown",
   "id": "28aa538f-72ba-4aae-b78e-fba0a47592cb",
   "metadata": {
    "slideshow": {
     "slide_type": "notes"
    },
    "tags": []
   },
   "source": [
    "Java heeft een oplossing om dit dilemma op te lossen door het definiëren van een `interface`."
   ]
  },
  {
   "cell_type": "markdown",
   "id": "38cff400-cc86-4183-9b8d-0ee88029a89d",
   "metadata": {
    "slideshow": {
     "slide_type": "fragment"
    },
    "tags": []
   },
   "source": [
    "- van een `interface` kunnen **geen** objecten worden gemaakt (net als `abstract` klassen)\n",
    "- `interface` methoden hebben **geen** *body* (net als `abstract` methoden)\n",
    "- alle `interface` methoden **moeten** worden geïmplementeerd (net als `abstract` methoden)\n",
    "- een `interface` heeft **geen** concrete methoden\n",
    "- een `interface` heeft **geen** constructor\n",
    "- `interface` methoden zijn standaard `abstract` en `public`"
   ]
  },
  {
   "cell_type": "markdown",
   "id": "e3f56a6e-a7ff-4e24-b816-7d41d9531f4f",
   "metadata": {
    "slideshow": {
     "slide_type": "notes"
    },
    "tags": []
   },
   "source": [
    "Een interface lijkt op een klassedefinitie en in het bijzonder een *abstracte* klasse, maar kent een paar belangrijke verschillen!"
   ]
  },
  {
   "cell_type": "markdown",
   "id": "8e020b75-9d54-430b-80fe-9d2ca521d51a",
   "metadata": {
    "slideshow": {
     "slide_type": "subslide"
    },
    "tags": []
   },
   "source": [
    "```java\n",
    "public interface Readable {\n",
    "    String read();\n",
    "}\n",
    "\n",
    "public class TextMessage implements Readable {\n",
    "    @Override\n",
    "    public String read() {\n",
    "        // ...\n",
    "    }\n",
    "}\n",
    "\n",
    "public class Ebook implements Readable {\n",
    "    @Override\n",
    "    public String read() {\n",
    "        // ...\n",
    "    }\n",
    "}\n",
    "```"
   ]
  },
  {
   "cell_type": "markdown",
   "id": "dc0c4514-db27-47f6-9dd7-eb0e626f34fb",
   "metadata": {
    "slideshow": {
     "slide_type": "notes"
    },
    "tags": []
   },
   "source": [
    "Voor het implementeren van een `interface` door een klasse zie je dat het *keyword* `implements` wordt gebruikt, in tegenstelling tot `extends` in het geval van het *overerven* van klassen (zowel *absracte* als concrete klassen).  "
   ]
  },
  {
   "cell_type": "markdown",
   "id": "2457f33b-c7ef-4d47-9c6f-5e968238dc7b",
   "metadata": {
    "slideshow": {
     "slide_type": "subslide"
    },
    "tags": []
   },
   "source": [
    "### Single inheritance"
   ]
  },
  {
   "cell_type": "markdown",
   "id": "cf812683-3846-4491-b840-ead867e98a72",
   "metadata": {
    "slideshow": {
     "slide_type": "fragment"
    },
    "tags": []
   },
   "source": [
    "Klassen kunnen maar van één klasse overerven."
   ]
  },
  {
   "cell_type": "markdown",
   "id": "f0cdb2ed-cb89-4fcb-94e6-3b10a8b4e58e",
   "metadata": {
    "slideshow": {
     "slide_type": "fragment"
    },
    "tags": []
   },
   "source": [
    "Maar klassen kunnnen meerdere interfaces implementeren!"
   ]
  },
  {
   "cell_type": "markdown",
   "id": "1fc44dda-671b-4b95-a99f-da017f8766ec",
   "metadata": {
    "slideshow": {
     "slide_type": "fragment"
    },
    "tags": []
   },
   "source": [
    "```java\n",
    "public interface Encryptable {\n",
    "\n",
    "    String encrypt(String content);\n",
    "    \n",
    "    String decrypt(String content);\n",
    "}\n",
    "```"
   ]
  },
  {
   "cell_type": "markdown",
   "id": "56856f47-ca35-45ba-b5de-31f16ac2d48f",
   "metadata": {
    "slideshow": {
     "slide_type": "notes"
    },
    "tags": []
   },
   "source": [
    "Als het gaat om het lezen van tekst zal encyptie vaak een rol spelen, bijvoorbeeld om een tekstbericht veilig van een zender naar een ontvanger te transporteren. Maar ook als het gaat om eBooks waar een uitgever de tekst pas leesbaar wil maken als een gebruiker na een aankoop een sleutel ontvangt om het boek te mogen lezen. In beide gevallen zal tekst zowel *versleuteld* als *ontsleuteld* moeten kunnen worden. "
   ]
  },
  {
   "cell_type": "markdown",
   "id": "1a8e0dc3-611f-432b-b107-5ff5ddbcaf27",
   "metadata": {
    "slideshow": {
     "slide_type": "subslide"
    },
    "tags": []
   },
   "source": [
    "```java\n",
    "public interface Readable {\n",
    "    String read();\n",
    "}\n",
    "\n",
    "public interface Encryptable {\n",
    "\n",
    "    String encrypt(String content);\n",
    "    \n",
    "    String decrypt(String content);\n",
    "}\n",
    "\n",
    "public class TextMessage implements Readable, Encryptable {\n",
    "    @Override\n",
    "    public String read() {\n",
    "        // ...\n",
    "    }\n",
    "    \n",
    "    @Override\n",
    "    public String encrypt(String content) {\n",
    "        // ...\n",
    "    }\n",
    "    \n",
    "    @Override\n",
    "    public String decrypt(String content) {\n",
    "        // ...\n",
    "    }\n",
    "}\n",
    "```"
   ]
  },
  {
   "cell_type": "markdown",
   "id": "34c7fd1f-0299-4c2f-bc01-88319336a8f8",
   "metadata": {
    "slideshow": {
     "slide_type": "notes"
    },
    "tags": []
   },
   "source": [
    "Je ziet hier de syntax voor het implementeren van meerdere `interface`'s, steeds gescheiden door een komma. Alle methoden die zijn gedefinieerd in de `interface`'s moeten natuurlijk allemaal worden geïmplenteerd door de klassen!"
   ]
  },
  {
   "cell_type": "markdown",
   "id": "54acb4e2-65a4-44ed-9c0f-cd6c7e404e5f",
   "metadata": {
    "slideshow": {
     "slide_type": "subslide"
    },
    "tags": []
   },
   "source": [
    "### Compositie"
   ]
  },
  {
   "cell_type": "markdown",
   "id": "ca95415e-8f69-4588-bc9d-f0e2032eda84",
   "metadata": {
    "slideshow": {
     "slide_type": "fragment"
    },
    "tags": []
   },
   "source": [
    "```java\n",
    "public interface SafeReadable extends Readable {\n",
    "    String encrypt(String content);\n",
    "    \n",
    "    String decrypt(String content);\n",
    "}\n",
    "```"
   ]
  },
  {
   "cell_type": "markdown",
   "id": "2eab5f02-4f66-4cd7-a202-4ed53731fcf2",
   "metadata": {
    "slideshow": {
     "slide_type": "notes"
    },
    "tags": []
   },
   "source": [
    "Interfaces kennen het principe van overerving met hetzelfde keyword `extends`. Op deze manier kan je een verbijzondering maken van de interface `Readable` die methoden voor encryptie definieert (die eerder in de interface `Encryptable` waren gedefinieerd). Maar ook hier komt het weer neer op een ontwerpbeslissing waar de vraag moet worden beantwoord of deze combinatie noodzakelijk of nuttig is (of niet). Wat denk jij?"
   ]
  },
  {
   "cell_type": "markdown",
   "id": "1ca2f340-d1a3-4d57-9092-fa906af35b4d",
   "metadata": {
    "slideshow": {
     "slide_type": "subslide"
    },
    "tags": []
   },
   "source": [
    "```java\n",
    "public class TextMessage implements SafeReadable {\n",
    "    @Override\n",
    "    public String read() {\n",
    "        // ...\n",
    "    }\n",
    "    \n",
    "    @Override\n",
    "    public String encrypt(String content) {\n",
    "        // ...\n",
    "    }\n",
    "    \n",
    "    @Override\n",
    "    public String decrypt(String content) {\n",
    "        // ...\n",
    "    }\n",
    "}\n",
    "```"
   ]
  },
  {
   "cell_type": "markdown",
   "id": "a036313f-c71c-4e02-9307-b430a965724b",
   "metadata": {
    "slideshow": {
     "slide_type": "notes"
    },
    "tags": []
   },
   "source": [
    "Je zal straks het Java *collections framework* als voorbeeld zien waar heel duidelijk voor deze vorm van compositie is gekozen !"
   ]
  },
  {
   "cell_type": "markdown",
   "id": "6d6130ed-7c51-4775-b1ae-602dab7016c8",
   "metadata": {
    "slideshow": {
     "slide_type": "subslide"
    },
    "tags": []
   },
   "source": [
    "### `interface` als *type*"
   ]
  },
  {
   "cell_type": "markdown",
   "id": "c2843f34-e476-4482-99cd-023083a52592",
   "metadata": {
    "slideshow": {
     "slide_type": "notes"
    },
    "tags": []
   },
   "source": [
    "Laten we het voorgaande nu een *concreet* maken met de implementatie van de interface `Readable` door de concrete klassen `TextMessage` en `Ebook`."
   ]
  },
  {
   "cell_type": "code",
   "execution_count": 56,
   "id": "f1807723-245c-45de-aa85-78c1229b0c05",
   "metadata": {
    "slideshow": {
     "slide_type": "subslide"
    },
    "tags": []
   },
   "outputs": [],
   "source": [
    "public class TextMessage implements Readable {\n",
    "    private String sender;\n",
    "    private String content;\n",
    "\n",
    "    public TextMessage(String sender, String content) {\n",
    "        this.sender = sender;\n",
    "        this.content = content;\n",
    "    }\n",
    "\n",
    "    public String getSender() {\n",
    "        return this.sender;\n",
    "    }\n",
    "\n",
    "    public String read() {\n",
    "        return this.content;\n",
    "    }\n",
    "}"
   ]
  },
  {
   "cell_type": "code",
   "execution_count": 51,
   "id": "faf5c1a1-a7b2-41b0-a366-bc67dd11c482",
   "metadata": {
    "slideshow": {
     "slide_type": "subslide"
    },
    "tags": []
   },
   "outputs": [],
   "source": [
    "public class Ebook implements Readable {\n",
    "    private String name;\n",
    "    private List<String> pages;\n",
    "    private int pageNumber;\n",
    "\n",
    "    public Ebook(String name, ArrayList<String> pages) {\n",
    "        this.name = name;\n",
    "        this.pages = pages;\n",
    "        this.pageNumber = 0;\n",
    "    }\n",
    "\n",
    "    public String getName() {\n",
    "        return this.name;\n",
    "    }\n",
    "\n",
    "    public int pages() {\n",
    "        return this.pages.size();\n",
    "    }\n",
    "\n",
    "    public String read() {\n",
    "        String page = this.pages.get(this.pageNumber);\n",
    "        nextPage();\n",
    "        return page;\n",
    "    }\n",
    "\n",
    "    private void nextPage() {\n",
    "        this.pageNumber = this.pageNumber + 1;\n",
    "        if(this.pageNumber % this.pages.size() == 0) {\n",
    "            this.pageNumber = 0;\n",
    "        }\n",
    "    }\n",
    "}"
   ]
  },
  {
   "cell_type": "code",
   "execution_count": 53,
   "id": "4d3b6298-e394-4973-88b5-62f09b72cc2d",
   "metadata": {
    "slideshow": {
     "slide_type": "subslide"
    },
    "tags": []
   },
   "outputs": [
    {
     "name": "stdout",
     "output_type": "stream",
     "text": [
      "It's going great!\n"
     ]
    },
    {
     "data": {
      "text/plain": [
       "true"
      ]
     },
     "execution_count": 53,
     "metadata": {},
     "output_type": "execute_result"
    }
   ],
   "source": [
    "Readable message = new TextMessage(\"ope\", \"It's going great!\");\n",
    "System.out.println(message.read());\n",
    "\n",
    "ArrayList<Readable> textMessage = new ArrayList<>();\n",
    "textMessage.add(new TextMessage(\"private number\", \"I hid the body.\"));"
   ]
  },
  {
   "cell_type": "markdown",
   "id": "617f21fd-2d1d-4c5d-96fe-3439c8a08aa0",
   "metadata": {
    "slideshow": {
     "slide_type": "notes"
    },
    "tags": []
   },
   "source": [
    "Een interface is een \"type\", in dit geval kan worden gezegd dat variable `message` van type `Readable` is omdat de klasse `TextMessage` de interface `Readable` implementeert (en de methode `read` aangeroept die concreet is geïmplementeerd in `TextMessage`)."
   ]
  },
  {
   "cell_type": "code",
   "execution_count": 59,
   "id": "784b5745-fb7d-420a-82ff-ee9d8c510356",
   "metadata": {
    "slideshow": {
     "slide_type": "fragment"
    },
    "tags": []
   },
   "outputs": [],
   "source": [
    "ArrayList<String> pages = new ArrayList<>();\n",
    "pages.add(\"Split your methods into short, readable entities.\");\n",
    "pages.add(\"Separate the user-interface logic from the application logic.\");\n",
    "pages.add(\"Always program a small part initially that solves a part of the problem.\");\n",
    "pages.add(\"Practice makes the master. Try out different things for yourself and work on your own projects.\");\n",
    "\n",
    "Ebook book = new Ebook(\"Tips for programming.\", pages);"
   ]
  },
  {
   "cell_type": "markdown",
   "id": "c328061c-fb48-444c-91ec-cc44d0782a91",
   "metadata": {
    "slideshow": {
     "slide_type": "notes"
    },
    "tags": []
   },
   "source": [
    "Maar in dit geval is meer specificiteit nodig, een `Readable` is geen `Ebook` omdat methoden worden aangeroepen die specifiek zijn voor een `Ebook` en niet gedefinieerd zijn in de interface `Readable` (in dit geval de methode `pages`)."
   ]
  },
  {
   "cell_type": "code",
   "execution_count": 60,
   "id": "a2b09140-f033-4304-bdac-d3f1ff9bed3d",
   "metadata": {
    "slideshow": {
     "slide_type": "fragment"
    },
    "tags": []
   },
   "outputs": [
    {
     "name": "stdout",
     "output_type": "stream",
     "text": [
      "Split your methods into short, readable entities.\n",
      "Separate the user-interface logic from the application logic.\n",
      "Always program a small part initially that solves a part of the problem.\n",
      "Practice makes the master. Try out different things for yourself and work on your own projects.\n"
     ]
    }
   ],
   "source": [
    "int page = 0;\n",
    "while (page < book.pages()) {\n",
    "    System.out.println(book.read());\n",
    "    page = page + 1;\n",
    "}"
   ]
  },
  {
   "cell_type": "markdown",
   "id": "138eea26-2e63-4dfe-ae9a-12412c2fb29d",
   "metadata": {
    "slideshow": {
     "slide_type": "slide"
    },
    "tags": []
   },
   "source": [
    "## Een praktisch voorbeeld"
   ]
  },
  {
   "cell_type": "markdown",
   "id": "ad44b42c-bf78-46bd-b8c1-c64d260444bb",
   "metadata": {
    "slideshow": {
     "slide_type": "subslide"
    },
    "tags": []
   },
   "source": [
    "![Collections Framework](images/8/collections.png)"
   ]
  },
  {
   "cell_type": "markdown",
   "id": "8a30c63b-eaca-4629-af58-1eb9a26f7144",
   "metadata": {
    "slideshow": {
     "slide_type": "notes"
    },
    "tags": []
   },
   "source": [
    "Het Java *collections framework* is een voorbeeld waar veel gebruik gemaakt wordt van interfaces."
   ]
  },
  {
   "cell_type": "code",
   "execution_count": 68,
   "id": "9b8b45f9-e46b-44a6-9404-1045f1dda37e",
   "metadata": {
    "slideshow": {
     "slide_type": "subslide"
    },
    "tags": []
   },
   "outputs": [],
   "source": [
    "List<String> names = new ArrayList<>();"
   ]
  },
  {
   "cell_type": "code",
   "execution_count": 69,
   "id": "d0bd9e3f-5596-4a0b-ad4f-6be75b97b901",
   "metadata": {
    "slideshow": {
     "slide_type": "fragment"
    },
    "tags": []
   },
   "outputs": [
    {
     "data": {
      "text/plain": [
       "true"
      ]
     },
     "execution_count": 69,
     "metadata": {},
     "output_type": "execute_result"
    }
   ],
   "source": [
    "names.add(\"Simone\");\n",
    "names.add(\"ONBEKEND\");\n",
    "names.add(\"Dion\");\n",
    "names.add(\"Kars\");\n",
    "names.add(\"Zonne\");\n",
    "names.add(\"David\");"
   ]
  },
  {
   "cell_type": "code",
   "execution_count": 70,
   "id": "1d903cd1-7402-404a-9b90-58acc288c4bc",
   "metadata": {
    "slideshow": {
     "slide_type": "subslide"
    },
    "tags": []
   },
   "outputs": [],
   "source": [
    "Iterator<String> iter = names.iterator();"
   ]
  },
  {
   "cell_type": "code",
   "execution_count": 71,
   "id": "721fd7cd-5dd0-4d2a-a9fc-d8657226d305",
   "metadata": {
    "slideshow": {
     "slide_type": "fragment"
    },
    "tags": []
   },
   "outputs": [
    {
     "name": "stdout",
     "output_type": "stream",
     "text": [
      "Simone\n",
      "Dion\n",
      "Kars\n",
      "Zonne\n",
      "David\n"
     ]
    }
   ],
   "source": [
    "while (iter.hasNext()) {\n",
    "    String value = iter.next();\n",
    "    \n",
    "    if (value.equals(\"ONBEKEND\")) {\n",
    "        iter.remove();\n",
    "    } else {\n",
    "        System.out.println(value);\n",
    "    }\n",
    "}"
   ]
  },
  {
   "cell_type": "markdown",
   "id": "5543bdae-3a90-486e-9c51-52b36bb69339",
   "metadata": {
    "slideshow": {
     "slide_type": "notes"
    },
    "tags": []
   },
   "source": [
    "De `Iterable` inteface definiëert een methode `iterator` die door `ArrayList` is geïmplementeerd. We kunnen van dit gegeven begruik maken om eigen typen *iterable* te maken."
   ]
  },
  {
   "cell_type": "code",
   "execution_count": 86,
   "id": "06a4e5a4-43a3-40de-9365-9269a97a3ff4",
   "metadata": {
    "slideshow": {
     "slide_type": "subslide"
    },
    "tags": []
   },
   "outputs": [],
   "source": [
    "public class Person {\n",
    "    private String name;\n",
    "    \n",
    "    public Person(String name) {\n",
    "        this.name = name;\n",
    "    }\n",
    "    \n",
    "    public String toString() {\n",
    "        return name;\n",
    "    }\n",
    "}"
   ]
  },
  {
   "cell_type": "code",
   "execution_count": 87,
   "id": "8f79a5e7-cbe6-4578-828e-22c340999313",
   "metadata": {
    "slideshow": {
     "slide_type": "subslide"
    },
    "tags": []
   },
   "outputs": [],
   "source": [
    "public class Family implements Iterable<Person> {\n",
    "    private List<Person> members;\n",
    "    \n",
    "    public Family() {\n",
    "        members = new ArrayList<Person>();\n",
    "    }\n",
    "    \n",
    "    public void addMember(Person member) {\n",
    "        members.add(member);\n",
    "    }\n",
    "    \n",
    "    public Iterator<Person> iterator() {\n",
    "        return members.iterator();\n",
    "    }\n",
    "}"
   ]
  },
  {
   "cell_type": "code",
   "execution_count": 88,
   "id": "66f6ccdb-6584-4d1b-a536-2d9f7ea618f2",
   "metadata": {
    "slideshow": {
     "slide_type": "subslide"
    },
    "tags": []
   },
   "outputs": [],
   "source": [
    "Family fam = new Family();\n",
    "\n",
    "fam.addMember(new Person(\"Suzanne\"));\n",
    "fam.addMember(new Person(\"Peter\"));\n",
    "fam.addMember(new Person(\"Marlies\"));"
   ]
  },
  {
   "cell_type": "code",
   "execution_count": 89,
   "id": "32222472-ba29-4f92-8714-2b9c240db6f4",
   "metadata": {
    "slideshow": {
     "slide_type": "fragment"
    },
    "tags": []
   },
   "outputs": [
    {
     "name": "stdout",
     "output_type": "stream",
     "text": [
      "Suzanne\n",
      "Peter\n",
      "Marlies\n"
     ]
    }
   ],
   "source": [
    "for (Person member: fam) {\n",
    "    System.out.println(member);\n",
    "}"
   ]
  },
  {
   "cell_type": "markdown",
   "id": "eb6e3104-be3d-4920-a761-4ea26d89c38e",
   "metadata": {
    "slideshow": {
     "slide_type": "slide"
    },
    "tags": []
   },
   "source": [
    "## Een ander voorbeeld\n",
    "\n",
    "De interface `Comparable`."
   ]
  },
  {
   "cell_type": "code",
   "execution_count": 90,
   "id": "914f9894-11b4-4c3c-b593-bcb6e44a7c68",
   "metadata": {
    "slideshow": {
     "slide_type": "subslide"
    },
    "tags": []
   },
   "outputs": [
    {
     "data": {
      "text/plain": [
       "[Simone, Dion, Kars, Zonne, David]"
      ]
     },
     "execution_count": 90,
     "metadata": {},
     "output_type": "execute_result"
    }
   ],
   "source": [
    "names"
   ]
  },
  {
   "cell_type": "code",
   "execution_count": 91,
   "id": "692b6fb8-a54e-4f5d-8bc4-b2e7ed24a56f",
   "metadata": {
    "slideshow": {
     "slide_type": "fragment"
    },
    "tags": []
   },
   "outputs": [],
   "source": [
    "Collections.sort(names);"
   ]
  },
  {
   "cell_type": "code",
   "execution_count": 92,
   "id": "ae5c9dfa-fbd7-4036-83c1-48fe70442ea7",
   "metadata": {
    "slideshow": {
     "slide_type": "fragment"
    },
    "tags": []
   },
   "outputs": [
    {
     "data": {
      "text/plain": [
       "[David, Dion, Kars, Simone, Zonne]"
      ]
     },
     "execution_count": 92,
     "metadata": {},
     "output_type": "execute_result"
    }
   ],
   "source": [
    "names"
   ]
  }
 ],
 "metadata": {
  "kernelspec": {
   "display_name": "Java",
   "language": "java",
   "name": "java"
  },
  "language_info": {
   "codemirror_mode": "java",
   "file_extension": ".jshell",
   "mimetype": "text/x-java-source",
   "name": "Java",
   "pygments_lexer": "java",
   "version": "11.0.12+7-Ubuntu-0ubuntu3"
  }
 },
 "nbformat": 4,
 "nbformat_minor": 5
}
