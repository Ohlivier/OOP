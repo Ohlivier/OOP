{
 "cells": [
  {
   "cell_type": "markdown",
   "id": "8d7c972b",
   "metadata": {},
   "source": [
    "# Opgave 3 Alle design patterns"
   ]
  },
  {
   "cell_type": "markdown",
   "id": "0cef807a",
   "metadata": {},
   "source": [
    "## Kies en design pattern en ontwerp een applicatie\n",
    "\n",
    "Kies een design pattern en geef een voorbeeld van een toepassing (applicatie) van dit pattern. De applicatie\n",
    "moet tenminste 6 klassen bevatten.\n",
    "\n",
    "Implementeer je applicatie. Implementeer ook de interactie met de gebruiker zodat de basis functionaliteit\n",
    "gedemonstreerd kan worden. Dit hoeft niet grafisch, het kan ook via de commandline of console.\n",
    "\n",
    "Leg de werking van je applicatie uit met behulp van een klassediagram.\n"
   ]
  }
 ],
 "metadata": {
  "kernelspec": {
   "display_name": "Java",
   "language": "java",
   "name": "java"
  },
  "language_info": {
   "codemirror_mode": "java",
   "file_extension": ".jshell",
   "mimetype": "text/x-java-source",
   "name": "Java",
   "pygments_lexer": "java",
   "version": "11.0.17+8-post-Ubuntu-1ubuntu220.04"
  }
 },
 "nbformat": 4,
 "nbformat_minor": 5
}
