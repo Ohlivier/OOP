{
 "cells": [
  {
   "cell_type": "markdown",
   "id": "a899f024",
   "metadata": {},
   "source": [
    "# Methoden\n",
    "Om een (regulier) programma in Java te schrijven, is de main-methode vereist. In de praktijk bestaat een programma echter uit veel methodes dan alleen main."
   ]
  },
  {
   "cell_type": "markdown",
   "id": "c446b7a5",
   "metadata": {},
   "source": [
    "## Nieuwe methodes definiëren\n",
    "Een nieuwe methode kan als volgt worden gedefiniëerd in Java:\n",
    "```Java\n",
    "public static void <naam>() {\n",
    "\t// code van de methode\n",
    "}\n",
    "```\n",
    "\n",
    "Bijvoorbeeld:"
   ]
  },
  {
   "cell_type": "code",
   "execution_count": 1,
   "id": "2881982b",
   "metadata": {},
   "outputs": [],
   "source": [
    "public static void printAdresDoorenveste() {\n",
    "    System.out.println(\"Hanzehogeschool Van Doorenveste\");\n",
    "    System.out.println(\"Zernikeplein 11\");\n",
    "    System.out.println(\"9747 AS  Groningen\");\n",
    "}"
   ]
  },
  {
   "cell_type": "code",
   "execution_count": 5,
   "id": "fa85e6d8",
   "metadata": {},
   "outputs": [
    {
     "name": "stdout",
     "output_type": "stream",
     "text": [
      "Hanzehogeschool Van Doorenveste\n",
      "Zernikeplein 11\n",
      "9747 AS  Groningen\n"
     ]
    }
   ],
   "source": [
    "printAdresDoorenveste();"
   ]
  },
  {
   "cell_type": "markdown",
   "id": "578592a6",
   "metadata": {},
   "source": [
    "In de methode definitie komt een aantal **keywords** voor: *public*, *static*, *void*.\n",
    "\n",
    "Een **keyword** is een gereserveerd woord gebruikt in een programmeertaal, die een specifieke betekenis heeft voor de compiler (of interpreter).\n",
    "\n",
    "Het **keyword** *void* geeft aan dat de methode niets teruggeeft.\n",
    "\n",
    "De **keywords** *public* en *static* hebben te maken met de beschikbaarheid van een **methode**. Voor dit moment gebruiken we deze **keywords** zonder specifiek op deze keywords in te gaan.\n"
   ]
  },
  {
   "cell_type": "markdown",
   "id": "6cf2c586",
   "metadata": {},
   "source": [
    "## Volgorde van uitvoering\n",
    "\n",
    "Wat verschijnt op het scherm? In welke volgorde worden de methodes uitgevoerd?"
   ]
  },
  {
   "cell_type": "code",
   "execution_count": 2,
   "id": "2b25b4bb",
   "metadata": {},
   "outputs": [],
   "source": [
    "public static void main(String[] args) {\n",
    "    test1();\n",
    "    test2();\n",
    "    test3();\n",
    "}\n",
    "\n",
    "public static void test3() {\n",
    "    test1();\n",
    "    System.out.println(\"Test 3\");\n",
    "    test1();\n",
    "}\n",
    "public static void test2() {\n",
    "    System.out.println(\"Test 2\");\n",
    "    test3();\n",
    "}\n",
    "\n",
    "public static void test1() {\n",
    "    System.out.println(\"Test 1 !\");\n",
    "}\n",
    "\n"
   ]
  },
  {
   "cell_type": "markdown",
   "id": "20f15c2b",
   "metadata": {},
   "source": [
    "Methodes worden niet altijd op volgorde van plaats in de code uitgevoerd. De volgorde van uitvoering wordt bepaald door het moment van aanroep. Verder kan een methode aanweiz zijn "
   ]
  },
  {
   "cell_type": "markdown",
   "id": "d6ac54af",
   "metadata": {},
   "source": [
    "## Redenen om methoden te schrijven\n",
    "Er zijn verschillende redenen om methoden te schrijven:\n",
    "- Code wordt leesbaarder\n",
    "Methoden bieden de mogelijkheid om een reeks statements te groeperen en een naam te geven.\n",
    "- Herhaling an code voorkomen\n",
    "In plaats van duplicate code, kan code herhaald worden door een methode meerdere  aan te roepen.\n",
    "- Probleem opdelen i \n"
   ]
  },
  {
   "cell_type": "markdown",
   "id": "b58abcc6",
   "metadata": {},
   "source": [
    "## Parameters en argumenten\n",
    "Veel methodes vereisen *argumenten*. Een *argument* is een waarde die wordt meegegeven bij aanroep van een methode. Dit kan één argument zijn, maar ook meerdere argumenten.\n",
    "\n",
    "*Argumenten* worden bij aanroep meegegeven door ze tussen haakjes te plaatsen, die na de naam van de methode staan.\n",
    "\n",
    "De argumenten worden toegekend aan variabelen die in de methode definitie staan. Deze variabelen worden *parameters* genoemd.\n",
    "\n",
    "Een nieuwe methode met een argument kan als volgt worden gedefiniëerd in Java:\n",
    "```Java\n",
    "public static void <naam>(<argument type> <argument naam>) {\n",
    "\t// code van de methode\n",
    "}\n",
    "```\n",
    "\n",
    "Bijvoorbeeld:"
   ]
  },
  {
   "cell_type": "code",
   "execution_count": 3,
   "id": "165f1b92",
   "metadata": {},
   "outputs": [
    {
     "name": "stdout",
     "output_type": "stream",
     "text": [
      "Hanzehogeschool Van Doorenveste\n",
      "t.a.v. Meneer de Vries\n",
      "Zernikeplein 11\n",
      "9747 AS  Groningen\n"
     ]
    }
   ],
   "source": [
    "public static void printAdresDoorenveste(String naam) {\n",
    "    System.out.println(\"Hanzehogeschool Van Doorenveste\");\n",
    "    System.out.println(\"t.a.v. \"+naam);\n",
    "    System.out.println(\"Zernikeplein 11\");\n",
    "    System.out.println(\"9747 AS  Groningen\");\n",
    "}\n",
    "\n",
    "printAdresDoorenveste(\"Meneer de Vries\");"
   ]
  },
  {
   "cell_type": "markdown",
   "id": "06d1f6df",
   "metadata": {},
   "source": [
    "## Meerdere parameters\n",
    "Het is mogelijk om meerdere *argumenten* mee te geven aan een methode. De methode heeft dan meerdere *parameters* nodig. Deze parameters worden door een komma gescheiden meegegeven.\n",
    "\n",
    "Bijvoorbeeld:"
   ]
  },
  {
   "cell_type": "code",
   "execution_count": 4,
   "id": "aa136096",
   "metadata": {},
   "outputs": [
    {
     "name": "stdout",
     "output_type": "stream",
     "text": [
      "Hanzehogeschool Van Doorenveste\n",
      "t.a.v. meneer Jansen, kamer nummer D222\n",
      "Zernikeplein 11\n",
      "9747 AS  Groningen\n"
     ]
    }
   ],
   "source": [
    "public static void printAdresDoorenveste(String naam, String kamernummer) {\n",
    "    System.out.println(\"Hanzehogeschool Van Doorenveste\");\n",
    "    System.out.println(\"t.a.v. \"+naam+\", kamer nummer \"+kamernummer);\n",
    "    System.out.println(\"Zernikeplein 11\");\n",
    "    System.out.println(\"9747 AS  Groningen\");\n",
    "}\n",
    "\n",
    "printAdresDoorenveste(\"meneer Jansen\", \"D222\");"
   ]
  },
  {
   "cell_type": "markdown",
   "id": "4935fe83",
   "metadata": {},
   "source": [
    "## Methodes van klasse Math"
   ]
  },
  {
   "cell_type": "markdown",
   "id": "422c516a",
   "metadata": {},
   "source": [
    "Naast eigen geschreven methodes, bevat Java zelf ook veel methodes die standaard meegeleverd worden.\n",
    "\n",
    "Een voorbeeld daarvan zijn de methodes uit de klasse *Math*. Deze klasse bevat een uitgebreide collectie wiskundige methodes.\n",
    "\n",
    "Een volledig overzicht is te vinden in de documentatie van Oracle, https://docs.oracle.com/javase/9/docs/api/java/lang/Math.html\n",
    "\n",
    "Voorbeeld:\n"
   ]
  },
  {
   "cell_type": "code",
   "execution_count": 9,
   "id": "6dd50871",
   "metadata": {},
   "outputs": [
    {
     "name": "stdout",
     "output_type": "stream",
     "text": [
      "4.0\n",
      "79\n"
     ]
    }
   ],
   "source": [
    "double wortel16 = Math.sqrt(16);\n",
    "System.out.println(wortel16);\n",
    "int oppervlakte = (int)( 3.14*5*5 ); // Oppervlakte van een cirkel met een diameter van 10 centimeter\n",
    "System.out.println(oppervlakte);"
   ]
  },
  {
   "cell_type": "markdown",
   "id": "57629c56",
   "metadata": {},
   "source": [
    "De 3.14 is een benadering van de waarde van pi.\n",
    "\n",
    "Klassen kunnen naast methoden ook constanten bevatten. Constanten zijn te herkennen doordat ze volledig met hoofdletters worden geschreven.\n",
    "\n",
    "Een van de constanten uit de klasse Math is PI, zodat er een nauwkeurige waarde van pi beschikbaar is.\n",
    "\n",
    "Voorbeeld:\n"
   ]
  },
  {
   "cell_type": "code",
   "execution_count": 15,
   "id": "d74f3a66",
   "metadata": {},
   "outputs": [
    {
     "name": "stdout",
     "output_type": "stream",
     "text": [
      "Oppervlakte is: 79\n",
      "Oppervlakte is: 79\n"
     ]
    }
   ],
   "source": [
    "int oppervlakte = (int)Math.round( Math.PI*5*5 ); // Oppervlakte van een cirkel met een diameter van 10 centimeter\n",
    "System.out.println(\"Oppervlakte is: \"+oppervlakte);\n",
    "// Compositie\n",
    "System.out.println(\"Oppervlakte is: \"+Math.round( Math.PI*5*5 ));\n",
    "\n"
   ]
  },
  {
   "cell_type": "markdown",
   "id": "2cb62c80",
   "metadata": {},
   "source": [
    "Contanten zorgen voor leesbaarheid. Daarnaast maken ze het programmeren gemakkelijker doordat de programmeur niet hoeft te weten wat de exacte waarde is."
   ]
  },
  {
   "cell_type": "markdown",
   "id": "35085f7e",
   "metadata": {},
   "source": [
    "## Return waardes\n",
    "Het is mogelijk om een methode een waarde terug te laten geven.\n",
    "\n",
    "In dat geval staat op de plaats van het **keyword** *void* Het datatype van deze waarde.\n",
    "\n",
    "Bijvoorbeeld:"
   ]
  },
  {
   "cell_type": "code",
   "execution_count": 17,
   "id": "d1ac291b",
   "metadata": {},
   "outputs": [
    {
     "name": "stdout",
     "output_type": "stream",
     "text": [
      "40.0\n"
     ]
    }
   ],
   "source": [
    "public static double oppervlakte_driehoek(double basis, double hoogte) {\n",
    "    return basis * hoogte /2;\n",
    "}\n",
    "\n",
    "double oppervlakte = oppervlakte_driehoek(8, 10);\n",
    "System.out.println(oppervlakte);"
   ]
  },
  {
   "cell_type": "markdown",
   "id": "3d073766",
   "metadata": {},
   "source": [
    "Uitgebreider voorbeeld:"
   ]
  },
  {
   "cell_type": "code",
   "execution_count": 5,
   "id": "93079c8f",
   "metadata": {},
   "outputs": [
    {
     "name": "stdout",
     "output_type": "stream",
     "text": [
      "Aantal seconden na middennacht om 16:37:10 is: 59830\n"
     ]
    }
   ],
   "source": [
    "// Print het aantal seconden dat is vertreken na middennacht op een bepaald tijdstip\n",
    "public static int seconden_na_middennacht(int uur, int minuut, int seconde) {\n",
    "    int aantal_minuten = uur*60+minuut;\n",
    "    return aantal_minuten*60 + seconde;\n",
    "}\n",
    "\n",
    "int s = seconden_na_middennacht(16,37,10);\n",
    "System.out.println(\"Aantal seconden na middennacht om 16:37:10 is: \"+s);"
   ]
  },
  {
   "cell_type": "markdown",
   "id": "be452ce5",
   "metadata": {},
   "source": [
    "## Incrementeel ontwikkelen"
   ]
  },
  {
   "cell_type": "markdown",
   "id": "a42ee052",
   "metadata": {},
   "source": [
    "Een veel gemaakte beginnersfout is te veel code in één keer proberen te schrijven zonder tussentijds testen. Als het niet correct werkt, is het lastig te verklaren waarom.\n",
    "\n",
    "Een betere benadering is **incrementeel ontwikkelen**\n",
    "\n",
    "Incrementeel ontwikkelen houdt in dat een probleem wordt opgelost door steeds kleine stukken werkende code te schrijven of toe te voegen, die niet direct het gewenste eindresultaat geven, maar wel gemakkelijk getest kunnen worden. Zo wordt in stapjes naar het resultaat toe gewerkt.\n",
    "\n",
    "Voorbeeld: Schrijf een functie *distance* die de afstand berekent tussen twee coördinaten (x1, y1) en (x2, y2). Zowel de coördinaten als de afstand zijn van het type *double*.\n",
    "\n",
    "Een voorbeeld is (2,3) en (8,1): 6,32 (afgerond op twee cijfers achter de komma)\n",
    "\n",
    "Stap 1: Functie schrijven zonder inhoud, die tijdelijk een vaste waarde terug geeft."
   ]
  },
  {
   "cell_type": "code",
   "execution_count": 18,
   "id": "ead4c1e9",
   "metadata": {},
   "outputs": [
    {
     "name": "stdout",
     "output_type": "stream",
     "text": [
      "0.0\n"
     ]
    }
   ],
   "source": [
    "public static double distance(double x1, double y1, double x2, double y2) {\n",
    "    return 0;\n",
    "}\n",
    "\n",
    "System.out.println(distance(2, 3, 8, 1));"
   ]
  },
  {
   "cell_type": "markdown",
   "id": "9134e6cc",
   "metadata": {},
   "source": [
    "Stap 2: Bereken de horizontale (*dx*) en de verticale afstand (*dy)."
   ]
  },
  {
   "cell_type": "code",
   "execution_count": 19,
   "id": "58340a15",
   "metadata": {},
   "outputs": [
    {
     "name": "stdout",
     "output_type": "stream",
     "text": [
      "-6.0\n",
      "2.0\n",
      "0.0\n"
     ]
    }
   ],
   "source": [
    "public static double distance(double x1, double y1, double x2, double y2) {\n",
    "    double dx=x1-x2;\n",
    "    double dy=y1-y2;\n",
    "    System.out.println(dx);\n",
    "    System.out.println(dy);\n",
    "    return 0;\n",
    "}\n",
    "\n",
    "System.out.println(distance(2, 3, 8, 1));"
   ]
  },
  {
   "cell_type": "code",
   "execution_count": null,
   "id": "e6dd4db4",
   "metadata": {},
   "outputs": [],
   "source": [
    "Stap 3: Neem de kwadraten van de afstanden en tel ze bij elkaar op."
   ]
  },
  {
   "cell_type": "code",
   "execution_count": 20,
   "id": "96fc0c24",
   "metadata": {},
   "outputs": [
    {
     "name": "stdout",
     "output_type": "stream",
     "text": [
      "40.0\n",
      "0.0\n"
     ]
    }
   ],
   "source": [
    "public static double distance(double x1, double y1, double x2, double y2) {\n",
    "    double dx=x1-x2;\n",
    "    double dy=y1-y2;\n",
    "    double dsquare = dx*dx + dy*dy;\n",
    "    System.out.println(dsquare);\n",
    "    return 0;\n",
    "}\n",
    "\n",
    "System.out.println(distance(2, 3, 8, 1));"
   ]
  },
  {
   "cell_type": "markdown",
   "id": "84e90f1b",
   "metadata": {},
   "source": [
    "Stap 4: Neem de wortel van de opgetelde kwadraten van de afstanden."
   ]
  },
  {
   "cell_type": "code",
   "execution_count": 21,
   "id": "f2982de9",
   "metadata": {},
   "outputs": [
    {
     "name": "stdout",
     "output_type": "stream",
     "text": [
      "6.324555320336759\n",
      "0.0\n"
     ]
    }
   ],
   "source": [
    "public static double distance(double x1, double y1, double x2, double y2) {\n",
    "    double dx=x1-x2;\n",
    "    double dy=y1-y2;\n",
    "    double dsquare = dx*dx + dy*dy;\n",
    "    double result=Math.sqrt(dsquare);\n",
    "    System.out.println(result);\n",
    "    return 0;\n",
    "}\n",
    "\n",
    "System.out.println(distance(2, 3, 8, 1));"
   ]
  },
  {
   "cell_type": "markdown",
   "id": "7fe76535",
   "metadata": {},
   "source": [
    "Stap 5: Resultaat teruggeven."
   ]
  },
  {
   "cell_type": "code",
   "execution_count": 22,
   "id": "a05cb306",
   "metadata": {},
   "outputs": [
    {
     "name": "stdout",
     "output_type": "stream",
     "text": [
      "6.324555320336759\n"
     ]
    }
   ],
   "source": [
    "public static double distance(double x1, double y1, double x2, double y2) {\n",
    "    double dx=x1-x2;\n",
    "    double dy=y1-y2;\n",
    "    double dsquare = dx*dx + dy*dy;\n",
    "    double result=Math.sqrt(dsquare);\n",
    "    return result;\n",
    "}\n",
    "\n",
    "System.out.println(distance(2, 3, 8, 1));"
   ]
  },
  {
   "cell_type": "markdown",
   "id": "0b643086",
   "metadata": {},
   "source": [
    "Stap 6: Minder variabelen gebruiken"
   ]
  },
  {
   "cell_type": "code",
   "execution_count": 23,
   "id": "a0cac21c",
   "metadata": {},
   "outputs": [
    {
     "name": "stdout",
     "output_type": "stream",
     "text": [
      "6.324555320336759\n"
     ]
    }
   ],
   "source": [
    "public static double distance(double x1, double y1, double x2, double y2) {\n",
    "    double dx=x1-x2;\n",
    "    double dy=y1-y2;\n",
    "    return Math.sqrt(dx*dx + dy*dy);\n",
    "}\n",
    "\n",
    "System.out.println(distance(2, 3, 8, 1));"
   ]
  }
 ],
 "metadata": {
  "kernelspec": {
   "display_name": "Java",
   "language": "java",
   "name": "java"
  },
  "language_info": {
   "codemirror_mode": "java",
   "file_extension": ".jshell",
   "mimetype": "text/x-java-source",
   "name": "Java",
   "pygments_lexer": "java",
   "version": "11.0.11+9-Ubuntu-0ubuntu2"
  }
 },
 "nbformat": 4,
 "nbformat_minor": 5
}
