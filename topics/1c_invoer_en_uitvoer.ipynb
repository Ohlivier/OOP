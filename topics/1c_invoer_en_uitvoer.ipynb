{
 "cells": [
  {
   "cell_type": "markdown",
   "id": "a899f024",
   "metadata": {},
   "source": [
    "# Invoer en uitvoer\n",
    "\n",
    "Invoer lezen en uitvoer schrijven zijn belangrijke basisoperaties van elke programmeertaal. Immers, zonder invoer geen interactie met de gebruiker. En zonder uitvoer geen zichtbaar resultaat."
   ]
  },
  {
   "cell_type": "markdown",
   "id": "c446b7a5",
   "metadata": {},
   "source": [
    "## Standaarduitvoer\n",
    "\n",
    "Om naar de standaarduitvoer (meestal de *command line*) te schrijven gebruik je `System.out.println()`. Die methode `println()` (in de klasse `System.out`) print de tekst die je tussen de haakjes zet naar de *command line*.\n",
    "\n",
    "De klasse `System.out` [bevat meerdere methodes](https://docs.oracle.com/javase/8/docs/api/java/lang/System.html#out). Twee andere belangrijke zijn `print` en `printf`. De eerste van deze twee lijkt op `println`, alleen print deze de tekst *zonder* regeleinde. "
   ]
  },
  {
   "cell_type": "code",
   "execution_count": 1,
   "id": "2881982b",
   "metadata": {
    "vscode": {
     "languageId": "java"
    }
   },
   "outputs": [
    {
     "name": "stdout",
     "output_type": "stream",
     "text": [
      "Hello world"
     ]
    }
   ],
   "source": [
    "System.out.print(\"Hello\");\n",
    "System.out.print(\" world\")"
   ]
  },
  {
   "cell_type": "markdown",
   "id": "578592a6",
   "metadata": {},
   "source": [
    "De methode `printf` is vergelijkbaar met `print``, maar ondersteunt formattering van tekst. Hier komen we later op terug."
   ]
  },
  {
   "cell_type": "markdown",
   "id": "6cf2c586",
   "metadata": {},
   "source": [
    "## Standaard invoer\n",
    "Lezen van de standaard invoer is complexer dan schrijven naar de standaard uitvoer.\n",
    "\n",
    "Hiervoor is een **instantie** nodig van de klasse *Scanner*."
   ]
  },
  {
   "cell_type": "code",
   "execution_count": 3,
   "id": "2b25b4bb",
   "metadata": {
    "vscode": {
     "languageId": "java"
    }
   },
   "outputs": [
    {
     "name": "stdout",
     "output_type": "stream",
     "text": [
      "Wat is je naam? \n"
     ]
    },
    {
     "name": "stdout",
     "output_type": "stream",
     "text": [
      "Hallo Henk\n"
     ]
    }
   ],
   "source": [
    "import java.util.Scanner;\n",
    "Scanner in = new Scanner(System.in);\n",
    "System.out.println(\"Wat is je naam? \");\n",
    "String naam = in.nextLine();\n",
    "System.out.println(\"Hallo \" + naam);"
   ]
  },
  {
   "cell_type": "markdown",
   "id": "5f0ab3f8",
   "metadata": {},
   "source": [
    "Hieronder een wat uitgebreider voorbeeld waarbij de gebruiker twee keer iets invoert. Het Scanner-object hoeft slechts éénmalig gemaakt te worden."
   ]
  },
  {
   "cell_type": "code",
   "execution_count": 5,
   "id": "90d788ce",
   "metadata": {
    "vscode": {
     "languageId": "java"
    }
   },
   "outputs": [
    {
     "name": "stdout",
     "output_type": "stream",
     "text": [
      "Wat is je naam? \n",
      "Wat is je woonplaats? \n",
      "Hallo Henk uit Groningen\n"
     ]
    }
   ],
   "source": [
    "import java.util.Scanner;\n",
    "\n",
    "Scanner in = new Scanner(System.in);\n",
    "System.out.println(\"Wat is je naam? \");\n",
    "String naam = in.nextLine();\n",
    "System.out.println(\"Wat is je woonplaats? \");\n",
    "String woonplaats = in.nextLine();\n",
    "System.out.println(\"Hallo \" + naam + \" uit \" + woonplaats);"
   ]
  },
  {
   "cell_type": "markdown",
   "id": "20f15c2b",
   "metadata": {},
   "source": [
    "Met andere methodes van `Scanner`, zoals `nextInt()`, kunnen ook andere datatypes worden ingelezen."
   ]
  },
  {
   "cell_type": "markdown",
   "id": "d6ac54af",
   "metadata": {},
   "source": [
    "## Uitvoer formatteren\n",
    "Zoals we hebben laten zien kunnen de waardes van variabelen gecombineerd worden met de + operator. Een beter alternatief is het gebruik van tekst formattering (`printf()`).\n",
    "\n",
    "Voorbeeld:"
   ]
  },
  {
   "cell_type": "code",
   "execution_count": 4,
   "id": "7be98328",
   "metadata": {
    "scrolled": true,
    "vscode": {
     "languageId": "java"
    }
   },
   "outputs": [
    {
     "name": "stdout",
     "output_type": "stream",
     "text": [
      "Onderwijs-instelling: Hanzehogeschool in Groningen\n",
      "Onderwijs-instelling: Hanzehogeschool in Groningen\n"
     ]
    }
   ],
   "source": [
    "String schoolnaam = \"Hanzehogeschool\";\n",
    "String plaats = \"Groningen\";\n",
    "System.out.println(\"Onderwijs-instelling: \"+schoolnaam+\" in \"+plaats);\n",
    "System.out.printf(\"Onderwijs-instelling: %s in %s\", schoolnaam, plaats);\n",
    "System.out.println()"
   ]
  },
  {
   "cell_type": "markdown",
   "id": "bb681f0e",
   "metadata": {},
   "source": [
    "Er zijn vele *format specifiers*.\n",
    "De belangrijkste zijn: `%s` staat voor string, `%d` voor integer, `%f` voor een floating point.\n",
    "\n",
    "Een voorbeeld met string en integer:"
   ]
  },
  {
   "cell_type": "code",
   "execution_count": 5,
   "id": "201fec65",
   "metadata": {
    "vscode": {
     "languageId": "java"
    }
   },
   "outputs": [
    {
     "name": "stdout",
     "output_type": "stream",
     "text": [
      "Score of player The Best is 180\n"
     ]
    }
   ],
   "source": [
    "int score = 180;\n",
    "String playername = \"The Best\";\n",
    "System.out.printf(\"Score of player %s is %d\", playername, score);\n",
    "System.out.println();"
   ]
  },
  {
   "cell_type": "markdown",
   "id": "ebc2927d",
   "metadata": {},
   "source": [
    "Voordeel van tekst formattering is overzichtelijkheid.\n",
    "\n",
    "In de programmeertaal C wordt veelvuldig gebruik gemaakt van tekst formattering. In Java kan gekozen worden tussen tekst formattering of het combineren van strings met de +-operator.\n"
   ]
  },
  {
   "cell_type": "markdown",
   "id": "b58abcc6",
   "metadata": {},
   "source": [
    "## Escape-reeksen\n",
    "Hoe is het mogelijk om een dubbele quote (\") op de console te printen?\n",
    "```java\n",
    "System.out.println(\"\"\"); // Geeft een compiler error\n",
    "```\n",
    "\n",
    "Oplossing:"
   ]
  },
  {
   "cell_type": "code",
   "execution_count": 6,
   "id": "165f1b92",
   "metadata": {
    "vscode": {
     "languageId": "java"
    }
   },
   "outputs": [
    {
     "name": "stdout",
     "output_type": "stream",
     "text": [
      "\"\n"
     ]
    }
   ],
   "source": [
    "System.out.println(\"\\\"\");"
   ]
  },
  {
   "cell_type": "markdown",
   "id": "f69b54ba",
   "metadata": {},
   "source": [
    "Een karakter in een string voorafgegaan door een backslash (`\\`) wordt een escape-reeks genoemd.\n",
    "\n",
    "Escape-reeksen zijn bedoeld om karakters in een string op te nemen die zonder gebruik van escape reeksen compiler fouten geven of niet mogelijk zijn om in te typen met een toetsenbord.\n",
    "\n",
    "### Escape reeksen\n",
    "| Escape reeks | Effect |\n",
    "| --- | --- |\n",
    "| \\n | Nieuwe regel |\n",
    "| \\t | Tab |\n",
    "| \\\" | Dubbele quote | \n",
    "| \\\\ | Backslash |\n",
    "\n",
    "Voorbeeld:"
   ]
  },
  {
   "cell_type": "code",
   "execution_count": 7,
   "id": "ae9f3f76",
   "metadata": {
    "vscode": {
     "languageId": "java"
    }
   },
   "outputs": [
    {
     "name": "stdout",
     "output_type": "stream",
     "text": [
      "Met escape-reeksen\n",
      "is\n",
      "het\n",
      "mogelijk\n",
      "om op meerdere regels te printen zonder afzonderlijke println-statements.\n",
      "\t\t\tInspringen met tabs\n",
      "en het printen van \" is mogelijk met escape-reeksen.\n"
     ]
    }
   ],
   "source": [
    "System.out.println(\"Met escape-reeksen\\nis\\nhet\\nmogelijk\\nom op meerdere regels te printen zonder afzonderlijke println-statements.\");\n",
    "System.out.println(\"\\t\\t\\tInspringen met tabs\\nen het printen van \\\" is mogelijk met escape-reeksen.\");"
   ]
  },
  {
   "cell_type": "markdown",
   "id": "6fbc6d38",
   "metadata": {},
   "source": [
    "Escape-reeksen zijn niet alleen te gebruiken met de println-methode, maar in alle strings:"
   ]
  },
  {
   "cell_type": "code",
   "execution_count": 8,
   "id": "c70c70ff",
   "metadata": {
    "vscode": {
     "languageId": "java"
    }
   },
   "outputs": [
    {
     "name": "stdout",
     "output_type": "stream",
     "text": [
      "Voorbeeld van een regel Java-code: System.out.println(\"Hello world!\");\n",
      "Voorbeeld van een regel Java-code:\n",
      "\tSystem.out.println(\"Hello world!\");\n",
      "\n"
     ]
    }
   ],
   "source": [
    "String javaExample=\"System.out.println(\\\"Hello world!\\\");\";\n",
    "System.out.println(\"Voorbeeld van een regel Java-code: \"+javaExample);\n",
    "System.out.printf(\"Voorbeeld van een regel Java-code:\\n\\t%s\\n\",javaExample);\n",
    "System.out.println();"
   ]
  },
  {
   "cell_type": "markdown",
   "id": "06d1f6df",
   "metadata": {},
   "source": [
    "## Probleem met Scanner"
   ]
  },
  {
   "cell_type": "markdown",
   "id": "422c516a",
   "metadata": {},
   "source": [
    "Soms geeft de klasse Scanner problemen..."
   ]
  },
  {
   "cell_type": "code",
   "execution_count": 9,
   "id": "6dd50871",
   "metadata": {
    "vscode": {
     "languageId": "java"
    }
   },
   "outputs": [
    {
     "name": "stdout",
     "output_type": "stream",
     "text": [
      "What is your name? "
     ]
    },
    {
     "name": "stdout",
     "output_type": "stream",
     "text": [
      " Simon\n"
     ]
    },
    {
     "name": "stdout",
     "output_type": "stream",
     "text": [
      "What is your age? "
     ]
    },
    {
     "name": "stdout",
     "output_type": "stream",
     "text": [
      " 35\n"
     ]
    },
    {
     "name": "stdout",
     "output_type": "stream",
     "text": [
      "Hello Simon, age 35\n",
      "\n"
     ]
    }
   ],
   "source": [
    "System.out.print(\"What is your name? \");\n",
    "String name = in.nextLine();\n",
    "System.out.print(\"What is your age? \");\n",
    "int age = in.nextInt();\n",
    "System.out.printf(\"Hello %s, age %d\\n\", name, age);\n",
    "System.out.println()"
   ]
  },
  {
   "cell_type": "markdown",
   "id": "57629c56",
   "metadata": {},
   "source": [
    "Bovenstaand voorbeeld gaat goed.\n",
    "\n",
    "Maar wat gebeurt er als naam en leeftijd worden omgedraaid?"
   ]
  },
  {
   "cell_type": "code",
   "execution_count": 10,
   "id": "d74f3a66",
   "metadata": {
    "vscode": {
     "languageId": "java"
    }
   },
   "outputs": [
    {
     "name": "stdout",
     "output_type": "stream",
     "text": [
      "What is your age? "
     ]
    },
    {
     "name": "stdout",
     "output_type": "stream",
     "text": [
      " 35\n"
     ]
    },
    {
     "name": "stdout",
     "output_type": "stream",
     "text": [
      "What is your name? Hello , age 35\n",
      "\n"
     ]
    }
   ],
   "source": [
    "System.out.print(\"What is your age? \");\n",
    "int age = in.nextInt();\n",
    "System.out.print(\"What is your name? \");\n",
    "String name = in.nextLine();\n",
    "System.out.printf(\"Hello %s, age %d\\n\", name, age);\n",
    "System.out.println()"
   ]
  },
  {
   "cell_type": "markdown",
   "id": "2cb62c80",
   "metadata": {},
   "source": [
    "In het bovenstaande voorbeeld wordt de naam niet gelezen. Probleem is dat de methode `nextInt()` alleen de cijfers leest en niet de return. De aanroep `nextLine()` leest de return die eigenlijk bij het getal hoort, zodat er een lege string binnenkomt.\n",
    "\n",
    "Er zijn een aantal mogelijke oplossingen.\n",
    "\n",
    "Eén daarvan is geen gebruik maken van `nextInt` maar uitsluitend van `nextLine`, en waar nodig converteren naar een numeriek datatype:"
   ]
  },
  {
   "cell_type": "code",
   "execution_count": 11,
   "id": "27528d35",
   "metadata": {
    "vscode": {
     "languageId": "java"
    }
   },
   "outputs": [
    {
     "name": "stdout",
     "output_type": "stream",
     "text": [
      "What is your age? "
     ]
    },
    {
     "name": "stdout",
     "output_type": "stream",
     "text": [
      " 35\n"
     ]
    },
    {
     "name": "stdout",
     "output_type": "stream",
     "text": [
      "What is your name? "
     ]
    },
    {
     "name": "stdout",
     "output_type": "stream",
     "text": [
      " Simon\n"
     ]
    },
    {
     "name": "stdout",
     "output_type": "stream",
     "text": [
      "Hello Simon, age 35\n",
      "\n"
     ]
    }
   ],
   "source": [
    "System.out.print(\"What is your age? \");\n",
    "int age = Integer.parseInt(in.nextLine());\n",
    "System.out.print(\"What is your name? \");\n",
    "String name = in.nextLine();\n",
    "System.out.printf(\"Hello %s, age %d\\n\", name, age);\n",
    "System.out.println()"
   ]
  }
 ],
 "metadata": {
  "kernelspec": {
   "display_name": "Java",
   "language": "java",
   "name": "java"
  },
  "language_info": {
   "codemirror_mode": "java",
   "file_extension": ".jshell",
   "mimetype": "text/x-java-source",
   "name": "Java",
   "pygments_lexer": "java",
   "version": "17.0.5+8-LTS"
  }
 },
 "nbformat": 4,
 "nbformat_minor": 5
}
