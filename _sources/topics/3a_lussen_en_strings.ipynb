{
 "cells": [
  {
   "cell_type": "markdown",
   "id": "c5f3a4dd-2914-4e77-97cf-9ff1455ac5c9",
   "metadata": {
    "slideshow": {
     "slide_type": "slide"
    },
    "tags": []
   },
   "source": [
    "# Lussen en strings\n",
    "\n",
    "Handelingen herhalen en tekstuele data"
   ]
  },
  {
   "cell_type": "markdown",
   "id": "156e3393-1649-46c6-bf0c-78a274aad1c1",
   "metadata": {
    "slideshow": {
     "slide_type": "slide"
    },
    "tags": []
   },
   "source": [
    "## Oneindige lussen\n",
    "\n",
    "`while` lussen"
   ]
  },
  {
   "cell_type": "markdown",
   "id": "ecb1ce2a-50e3-448e-bc67-8e43783288c6",
   "metadata": {
    "slideshow": {
     "slide_type": "fragment"
    },
    "tags": []
   },
   "source": [
    "```java\n",
    "while (true) {\n",
    "    System.out.println(\"Help\");\n",
    "}\n",
    "```"
   ]
  },
  {
   "cell_type": "markdown",
   "id": "a54bbcc6-5b1d-4385-abd4-0b6752eb2e5b",
   "metadata": {
    "slideshow": {
     "slide_type": "notes"
    },
    "tags": []
   },
   "source": [
    "De conditie is in dit geval altijd waar en de boodschap zal eindeloos worden herhaald, een oneindige lus!"
   ]
  },
  {
   "cell_type": "code",
   "execution_count": 1,
   "id": "a8b36ebf-26cc-46f4-996b-04bca5ef26f2",
   "metadata": {
    "slideshow": {
     "slide_type": "subslide"
    },
    "tags": []
   },
   "outputs": [
    {
     "name": "stdout",
     "output_type": "stream",
     "text": [
      "3\n",
      "2\n",
      "1\n",
      "Blastoff\n"
     ]
    }
   ],
   "source": [
    "int n = 3;\n",
    "\n",
    "while (n > 0) {\n",
    "    System.out.println(n);\n",
    "    n = n - 1;\n",
    "}\n",
    "\n",
    "System.out.println(\"Blastoff\");"
   ]
  },
  {
   "cell_type": "markdown",
   "id": "d262006e-7dd8-4f9f-be94-09502c563d19",
   "metadata": {
    "slideshow": {
     "slide_type": "notes"
    },
    "tags": []
   },
   "source": [
    "Zolang de conditie `n > 0` waar is zal de body van de lus worden uitgevoerd."
   ]
  },
  {
   "cell_type": "markdown",
   "id": "3da93fe0-e93f-4ec0-a746-f0d617df9cc5",
   "metadata": {
    "slideshow": {
     "slide_type": "subslide"
    },
    "tags": []
   },
   "source": [
    "### Wanneer stopt een lus?"
   ]
  },
  {
   "cell_type": "markdown",
   "id": "171eca09-52dd-4cd7-99bd-f70678b3b392",
   "metadata": {
    "slideshow": {
     "slide_type": "fragment"
    },
    "tags": []
   },
   "source": [
    "```java\n",
    "while (n != 1) {\n",
    "    System.out.println(n);\n",
    "    if (n % 2 == 0) {         // n is even\n",
    "        n = n / 2;\n",
    "    } else {                  // n is odd\n",
    "        n = 3 * n + 1;\n",
    "    }\n",
    "}\n",
    "```"
   ]
  },
  {
   "cell_type": "markdown",
   "id": "19806ab9-3a4d-4e11-85d8-0e218d268f21",
   "metadata": {
    "slideshow": {
     "slide_type": "notes"
    },
    "tags": []
   },
   "source": [
    "Soms is het moeilijk te bepalen of een lus stopt. Deze lus gaat door tot `n` 1 is (wat de conditie `false` maakt).\n",
    "\n",
    "Elke keer dat de lus wordt doorlopen, toont het programma de waarde van `n` en controleert vervolgens of deze even of oneven is. Als het even is, wordt de waarde van `n` door 2 gedeeld. Is het oneven, dan wordt de waarde vervangen door $3n+1$. Bijvoorbeeld, als de beginwaarde 3 is, dan is de resulterende reeks 3, 10, 5, 16, 8, 4, 2, 1.\n",
    "\n",
    "Aangezien `n` soms toeneemt en soms afneemt, is er geen voor de hand liggend bewijs dat `n` ooit 1 zal bereiken en dat het programma ooit zal eindigen. Voor sommige waarden van `n`, zoals machten van twee, kunnen we bewijzen dat het programma eindigt.\n",
    "\n",
    "De moeilijke vraag is dus of dit programma eindigt voor {alle} waarden van `n`. Tot nu toe is niemand er in geslaagd om dit te bewijzen of te weerleggen! Zie voor meer informatie \n",
    "Voor meer informatie over dit probleem het[vermoeden van Collatz] (https://nl.wikipedia.org/wiki/Vermoeden_van_Collatz).\n",
    "\n",
    "Het vakgebied informatica is geïnteresseerd in dit soort vragen, omdat de antwoorden daarop inzicht geven in de grenzen van wat computers wel en niet kunnen."
   ]
  },
  {
   "cell_type": "markdown",
   "id": "260b9d39-f7c2-40cd-9ea5-baaaed21e235",
   "metadata": {
    "slideshow": {
     "slide_type": "subslide"
    },
    "tags": []
   },
   "source": [
    "## Verhogen en verlagen\n",
    "\n",
    "Of *incrementeren* en *decrementeren*"
   ]
  },
  {
   "cell_type": "code",
   "execution_count": 2,
   "id": "ab3c84f7-c83d-4b59-b1bb-64639c8a6947",
   "metadata": {
    "slideshow": {
     "slide_type": "fragment"
    },
    "tags": []
   },
   "outputs": [
    {
     "name": "stdout",
     "output_type": "stream",
     "text": [
      "1\n",
      "2\n",
      "3\n",
      "4\n",
      "5\n"
     ]
    }
   ],
   "source": [
    "int i = 1;\n",
    "while (i <= 5) {\n",
    "    System.out.println(i);\n",
    "    i++;  // add 1 to i\n",
    "}"
   ]
  },
  {
   "cell_type": "markdown",
   "id": "d1040ee7-9fe9-4011-a893-3fdba79b0ee9",
   "metadata": {
    "slideshow": {
     "slide_type": "notes"
    },
    "tags": []
   },
   "source": [
    "Aan het einde van elke iteratie wordt de teller `i` met 1 verhoogd tot de conditie `i < 5` waar is. Je ziet hier `i++` gebruikt worden om `i` met 1 te incrementeren. Dit is niet de enige mogelijke syntax voor deze operatie."
   ]
  },
  {
   "cell_type": "markdown",
   "id": "c884877f-b457-4f4b-bff9-7dd1b15d961c",
   "metadata": {
    "slideshow": {
     "slide_type": "subslide"
    },
    "tags": []
   },
   "source": [
    "### Syntax"
   ]
  },
  {
   "cell_type": "markdown",
   "id": "c1814ad4-d975-45e9-9ede-56ed84230b77",
   "metadata": {
    "slideshow": {
     "slide_type": "fragment"
    },
    "tags": []
   },
   "source": [
    "Incrementeren\n",
    "\n",
    "1. `n = n + 1`\n",
    "2. `n += 1`\n",
    "3. `n++`"
   ]
  },
  {
   "cell_type": "markdown",
   "id": "16c35d57-3f44-4bd6-b6ac-cce26140fa47",
   "metadata": {
    "slideshow": {
     "slide_type": "fragment"
    },
    "tags": []
   },
   "source": [
    "Decrementeren\n",
    "\n",
    "1. `n = n - 1`\n",
    "2. `n -= 1`\n",
    "3. `n--`"
   ]
  },
  {
   "cell_type": "markdown",
   "id": "fc6d199f-d79d-46a4-8dd7-f5ad0a1e8ef9",
   "metadata": {
    "slideshow": {
     "slide_type": "notes"
    },
    "tags": []
   },
   "source": [
    "Drie varianten zijn dus mogelijk om dezelde handeling uit te drukken. Misschien zelfs een vierde want `++n` (of `--n`) is ook mogelijk!"
   ]
  },
  {
   "cell_type": "markdown",
   "id": "557c8f96-d512-4378-b37b-cf9ab8b9cf25",
   "metadata": {
    "slideshow": {
     "slide_type": "subslide"
    },
    "tags": []
   },
   "source": [
    "### Een subtiel verschil\n",
    "\n",
    "`n++` versus `++n`"
   ]
  },
  {
   "cell_type": "code",
   "execution_count": 3,
   "id": "ec28bfc8-4a36-4f30-a217-145cc862a576",
   "metadata": {
    "slideshow": {
     "slide_type": "fragment"
    },
    "tags": []
   },
   "outputs": [],
   "source": [
    "int i = 3;\n",
    "int a = i++; // a = 3, i = 4\n",
    "int b = ++a; // b = 4, a = 4"
   ]
  },
  {
   "cell_type": "code",
   "execution_count": 4,
   "id": "741ee2c4-f990-4a5e-a8d2-f8b6e91825d7",
   "metadata": {
    "slideshow": {
     "slide_type": "fragment"
    },
    "tags": []
   },
   "outputs": [
    {
     "data": {
      "text/plain": [
       "4"
      ]
     },
     "execution_count": 4,
     "metadata": {},
     "output_type": "execute_result"
    }
   ],
   "source": [
    "a"
   ]
  },
  {
   "cell_type": "code",
   "execution_count": 5,
   "id": "79c17b40-634e-4606-a56e-014223bc83b8",
   "metadata": {
    "slideshow": {
     "slide_type": "fragment"
    },
    "tags": []
   },
   "outputs": [
    {
     "data": {
      "text/plain": [
       "4"
      ]
     },
     "execution_count": 5,
     "metadata": {},
     "output_type": "execute_result"
    }
   ],
   "source": [
    "b"
   ]
  },
  {
   "cell_type": "markdown",
   "id": "5300b214-885f-4b61-bfb2-549e2e3f87ea",
   "metadata": {
    "slideshow": {
     "slide_type": "notes"
    },
    "tags": []
   },
   "source": [
    "Zowel de waarden van `i` als `a` worden geïncrementeerd, het verschil tussen beide is wannéér dit gebeurt, voor of ná de expressie.\n",
    "\n",
    "`++i` verhoogt het getal *voordat* de huidige uitdrukking wordt geëvalueerd, terwijl `i++` het getal verhoogt *nadat* de uitdrukking is geëvalueerd."
   ]
  },
  {
   "cell_type": "code",
   "execution_count": 6,
   "id": "f085f8a6-4e93-4cb7-b997-32e6b61bd9e3",
   "metadata": {
    "slideshow": {
     "slide_type": "subslide"
    },
    "tags": []
   },
   "outputs": [],
   "source": [
    "int a = 2"
   ]
  },
  {
   "cell_type": "code",
   "execution_count": 7,
   "id": "7f6a740a-4fb5-47a6-86a9-67a3ad5c8ebb",
   "metadata": {
    "slideshow": {
     "slide_type": "fragment"
    },
    "tags": []
   },
   "outputs": [
    {
     "data": {
      "text/plain": [
       "3"
      ]
     },
     "execution_count": 7,
     "metadata": {},
     "output_type": "execute_result"
    }
   ],
   "source": [
    "++a"
   ]
  },
  {
   "cell_type": "markdown",
   "id": "fbdfa1a8-8d6c-4fc1-ba1b-5cc2ec2c09c4",
   "metadata": {
    "slideshow": {
     "slide_type": "notes"
    },
    "tags": []
   },
   "source": [
    "Incrementeer **voor** de expressie, de waarde 3 wordt teruggegeven. "
   ]
  },
  {
   "cell_type": "code",
   "execution_count": 8,
   "id": "1c01944e-b402-4ae6-a933-4bea23136d11",
   "metadata": {
    "slideshow": {
     "slide_type": "fragment"
    },
    "tags": []
   },
   "outputs": [
    {
     "data": {
      "text/plain": [
       "3"
      ]
     },
     "execution_count": 8,
     "metadata": {},
     "output_type": "execute_result"
    }
   ],
   "source": [
    "a"
   ]
  },
  {
   "cell_type": "markdown",
   "id": "93e54b90-0bb4-4f38-a90f-62fce2b31336",
   "metadata": {
    "slideshow": {
     "slide_type": "notes"
    },
    "tags": []
   },
   "source": [
    "Als we `a` opvragen dan is de waarde inderdaad 3."
   ]
  },
  {
   "cell_type": "code",
   "execution_count": 9,
   "id": "573cc328-d6d1-40ff-ab9f-83142922ed81",
   "metadata": {
    "slideshow": {
     "slide_type": "subslide"
    },
    "tags": []
   },
   "outputs": [],
   "source": [
    "int b = 2;"
   ]
  },
  {
   "cell_type": "code",
   "execution_count": 10,
   "id": "a0a7c49c-28b6-4433-9f7b-639c08a9ed91",
   "metadata": {
    "slideshow": {
     "slide_type": "fragment"
    },
    "tags": []
   },
   "outputs": [
    {
     "data": {
      "text/plain": [
       "2"
      ]
     },
     "execution_count": 10,
     "metadata": {},
     "output_type": "execute_result"
    }
   ],
   "source": [
    "b++"
   ]
  },
  {
   "cell_type": "markdown",
   "id": "b8e0bd1d-0f9c-4960-9790-f6ca1e6e38d2",
   "metadata": {
    "slideshow": {
     "slide_type": "notes"
    },
    "tags": []
   },
   "source": [
    "Incrementeer **na** de expressie, de waarde 2 wordt teruggegeven (de beginwaarde)."
   ]
  },
  {
   "cell_type": "code",
   "execution_count": 11,
   "id": "53cf59d7-cd5f-47e4-be03-e2f2c1a03263",
   "metadata": {
    "slideshow": {
     "slide_type": "fragment"
    },
    "tags": []
   },
   "outputs": [
    {
     "data": {
      "text/plain": [
       "3"
      ]
     },
     "execution_count": 11,
     "metadata": {},
     "output_type": "execute_result"
    }
   ],
   "source": [
    "b"
   ]
  },
  {
   "cell_type": "markdown",
   "id": "fe219675-001b-4b16-9688-1936a3892141",
   "metadata": {
    "slideshow": {
     "slide_type": "notes"
    },
    "tags": []
   },
   "source": [
    "Als `b` vervolgens wordt opgevraagd is het inderdaad geïncrementeerd!"
   ]
  },
  {
   "cell_type": "markdown",
   "id": "049ec423-0f9c-42e3-b32b-64812a07ddd7",
   "metadata": {
    "slideshow": {
     "slide_type": "slide"
    },
    "tags": []
   },
   "source": [
    "## Eindige lussen\n",
    "\n",
    "`for` lussen"
   ]
  },
  {
   "cell_type": "markdown",
   "id": "a3a2b568-5f57-468a-b12f-4561d515c152",
   "metadata": {
    "slideshow": {
     "slide_type": "fragment"
    },
    "tags": []
   },
   "source": [
    "```java\n",
    "int n = 3;\n",
    "\n",
    "while (n > 0) {\n",
    "    System.out.println(n);\n",
    "    n = n - 1;\n",
    "}\n",
    "\n",
    "System.out.println(\"Blastoff\");\n",
    "```"
   ]
  },
  {
   "cell_type": "markdown",
   "id": "f3ef86b6-7f2c-4ded-afa9-1f85d544e946",
   "metadata": {
    "slideshow": {
     "slide_type": "notes"
    },
    "tags": []
   },
   "source": [
    "Denk terug aan de `while` lus waar we mee zijn begonnen, dit kan worden herschreven naar een `for` lus."
   ]
  },
  {
   "cell_type": "code",
   "execution_count": 12,
   "id": "5479dbc8-c680-4b23-bb0e-988fc5274ff7",
   "metadata": {
    "slideshow": {
     "slide_type": "fragment"
    },
    "tags": []
   },
   "outputs": [
    {
     "name": "stdout",
     "output_type": "stream",
     "text": [
      "3\n",
      "2\n",
      "1\n",
      "Blastoff\n"
     ]
    }
   ],
   "source": [
    "for (int n = 3; n > 0; n = n - 1) {\n",
    "    System.out.println(n);\n",
    "}\n",
    "\n",
    "System.out.println(\"Blastoff\");"
   ]
  },
  {
   "cell_type": "markdown",
   "id": "95b300fb-4d99-4995-9fc9-02ecd39aa7ab",
   "metadata": {
    "slideshow": {
     "slide_type": "subslide"
    },
    "tags": []
   },
   "source": [
    "```java\n",
    "for (int n = 3; n > 0; n = n - 1) {\n",
    "    // ...\n",
    "}\n",
    "```\n",
    "\n",
    "> ( **initialisatie ; conditie ; incrementatie of decrementatie** )\n"
   ]
  },
  {
   "cell_type": "markdown",
   "id": "ae5e3fdb-481c-470d-9c60-8f571bceada2",
   "metadata": {
    "slideshow": {
     "slide_type": "notes"
    },
    "tags": []
   },
   "source": [
    "1.  initialisatie\n",
    "\n",
    "    Hier wordt een variabele geinitialisereerd, dit wordt eenmalig uitgevoerd wanneer de lus start.\n",
    "\n",
    "2.  conditie\n",
    "\n",
    "    Deze conditie wordt elke keer getest en de lus wordt uitgevoerd zolang deze conditie waar is (`true`).\n",
    "\n",
    "3.  Incrementeren of decrementeren\n",
    "\n",
    "    Het verhogen of verlagen van de variabele waarde. Dit wordt uitgevoerd bij elke volgende herhaling."
   ]
  },
  {
   "cell_type": "markdown",
   "id": "ec4eea1f-149e-4ad6-b5a5-ed44a48c6d33",
   "metadata": {
    "slideshow": {
     "slide_type": "skip"
    },
    "tags": []
   },
   "source": [
    "### Eindig en oneindig\n",
    "\n",
    "Waarom wordt een `while` een oneindige lus genoemd? Je gebruikt deze lus wanneer je niet zeker weet hoeveel keer de lus moet worden doorlopen. Bijvoorbeeld als je een gebruiker vraagt naar een wachtwoord, dan weet je niet van tevoren hoe vaak je de vraag moet herhalen omdat de gebruiker daar meerdere keren over kan doen (wachtwoord vergeten, verkeerd getypt, etc.).\n",
    "\n",
    "Een `for` lus gebruik je eerder als je wél weet hoe vaak het zal moeten doorlopen, bijvoorbeeld voor het doorlopen van een array van waarden of een string.\n",
    "\n",
    "Maar bedenk, elke `while` lus kan herschreven worden naar een `for` lus en vice versa."
   ]
  },
  {
   "cell_type": "markdown",
   "id": "1f3674ad-b5dc-4e35-9e1c-16005f220437",
   "metadata": {
    "slideshow": {
     "slide_type": "slide"
    },
    "tags": []
   },
   "source": [
    "## Geneste lussen"
   ]
  },
  {
   "cell_type": "markdown",
   "id": "41368b6f-1825-4186-bf4c-26489c40b58b",
   "metadata": {
    "slideshow": {
     "slide_type": "subslide"
    },
    "tags": []
   },
   "source": [
    "![Railway clock](images/3/SBB_railway_clock_animated.gif)"
   ]
  },
  {
   "cell_type": "markdown",
   "id": "938ce5ec-8de8-4c2d-bfde-f882217d5260",
   "metadata": {
    "slideshow": {
     "slide_type": "notes"
    },
    "tags": []
   },
   "source": [
    "Voordat de klok een uur kan verspringen zullen eerst alle minuten worden doorlopen..."
   ]
  },
  {
   "cell_type": "markdown",
   "id": "c8251461-49ad-4edc-9bca-f62a7d1cceca",
   "metadata": {
    "slideshow": {
     "slide_type": "subslide"
    },
    "tags": []
   },
   "source": [
    "```java\n",
    "import java.util.concurrent.TimeUnit;\n",
    "\n",
    "public class Time {\n",
    "    public static void main(String[] args) {\n",
    "        for (int hour = 0; hour < 24; hour++) {\n",
    "            for (int minute = 0; minute < 60; minute++) {\n",
    "                System.out.printf(\"De tijd is %02d:%02d\\n\", hour, minute);\n",
    "                TimeUnit.SECONDS.sleep(60); // sleep 60 seconds\n",
    "            }\n",
    "        }\n",
    "    }\n",
    "}\n",
    "```"
   ]
  },
  {
   "cell_type": "markdown",
   "id": "f19cd869-7846-4440-8315-6cfc8d96aadb",
   "metadata": {
    "slideshow": {
     "slide_type": "fragment"
    },
    "tags": []
   },
   "source": [
    "```console\n",
    "De tijd is 00:00\n",
    "De tijd is 00:01\n",
    "...\n",
    "De tijd is 23:58\n",
    "De tijd is 23:59\n",
    "```"
   ]
  },
  {
   "cell_type": "markdown",
   "id": "efe1bce0-722f-49b8-8bad-7d5dab8c97e8",
   "metadata": {
    "slideshow": {
     "slide_type": "notes"
    },
    "tags": []
   },
   "source": [
    "De buitenste lus doorloopt de uren, de binnenste lus de minuten. De buitenste lus zal pas een volgende iteratie starten als de binnenste lus in beëindigd."
   ]
  },
  {
   "cell_type": "markdown",
   "id": "e51b488f-b5a7-447e-ae78-2f43e983efef",
   "metadata": {
    "slideshow": {
     "slide_type": "slide"
    },
    "tags": []
   },
   "source": [
    "## Karakters\n",
    "\n",
    "Een `char` representeert een enkel karakter."
   ]
  },
  {
   "cell_type": "code",
   "execution_count": 13,
   "id": "fbd3a831-5080-44ec-b335-6b00508b59a4",
   "metadata": {
    "slideshow": {
     "slide_type": "subslide"
    },
    "tags": []
   },
   "outputs": [],
   "source": [
    "char c = '!';"
   ]
  },
  {
   "cell_type": "markdown",
   "id": "0c9c728c-3812-44af-95f9-19dc37419fb2",
   "metadata": {
    "slideshow": {
     "slide_type": "notes"
    },
    "tags": []
   },
   "source": [
    "Let op de enkele aanhalingstekens! Maakt twee karakters een string?"
   ]
  },
  {
   "cell_type": "code",
   "execution_count": 14,
   "id": "ec5847d9-97eb-411c-b217-ca747d13fb58",
   "metadata": {
    "slideshow": {
     "slide_type": "fragment"
    },
    "tags": []
   },
   "outputs": [
    {
     "data": {
      "text/plain": [
       "66"
      ]
     },
     "execution_count": 14,
     "metadata": {},
     "output_type": "execute_result"
    }
   ],
   "source": [
    "c + c;"
   ]
  },
  {
   "cell_type": "markdown",
   "id": "f493a2ea-97f8-4524-a897-e6f2a5780567",
   "metadata": {
    "slideshow": {
     "slide_type": "notes"
    },
    "tags": []
   },
   "source": [
    "Zou een optelling een string opleveren? Nee, het levert een numerieke waarde op!"
   ]
  },
  {
   "cell_type": "code",
   "execution_count": 15,
   "id": "f7676d67-0c4b-4c23-9542-8a885c07167e",
   "metadata": {
    "slideshow": {
     "slide_type": "fragment"
    },
    "tags": []
   },
   "outputs": [
    {
     "data": {
      "text/plain": [
       "B"
      ]
     },
     "execution_count": 15,
     "metadata": {},
     "output_type": "execute_result"
    }
   ],
   "source": [
    "(char) 66"
   ]
  },
  {
   "cell_type": "markdown",
   "id": "d878b1c8-3764-4d0c-affe-0e41f12b77e2",
   "metadata": {
    "slideshow": {
     "slide_type": "notes"
    },
    "tags": []
   },
   "source": [
    "Maar een `int` kan je *casten* naar een `char` en in dit geval komt 66 overeen met B. Hoe werkt dit? "
   ]
  },
  {
   "cell_type": "markdown",
   "id": "7c857ef1-5748-4bc3-a5c3-0164aaeae7fe",
   "metadata": {
    "slideshow": {
     "slide_type": "subslide"
    },
    "tags": []
   },
   "source": [
    "### Unicode\n",
    "\n",
    "[Unicode](https://nl.wikipedia.org/wiki/Unicode) is een superset van [ASCII](https://nl.wikipedia.org/wiki/ASCII_(tekenset))\n",
    "\n",
    "![ASCII table](images/3/ascii_table.png)"
   ]
  },
  {
   "cell_type": "markdown",
   "id": "78205586-e212-4305-bbc4-929524c03ad0",
   "metadata": {
    "slideshow": {
     "slide_type": "notes"
    },
    "tags": []
   },
   "source": [
    "Een `char` staat voor een *code point*, een numerieke waarde die voor een karakter staat. De numerieke waarde van \"!\" is 33, als je dit verdubbelt dan komt je uit op 66, wat staat voor het karakter \"B\"."
   ]
  },
  {
   "cell_type": "markdown",
   "id": "1c14b24f-91dd-4ea9-b68e-0770ac216af6",
   "metadata": {
    "slideshow": {
     "slide_type": "subslide"
    },
    "tags": []
   },
   "source": [
    "### `char` en `String`"
   ]
  },
  {
   "cell_type": "code",
   "execution_count": 16,
   "id": "b72e6145-e86e-49b6-a1d0-3bb902f3fb1e",
   "metadata": {
    "slideshow": {
     "slide_type": "fragment"
    },
    "tags": []
   },
   "outputs": [],
   "source": [
    "char a = 'a';"
   ]
  },
  {
   "cell_type": "code",
   "execution_count": 17,
   "id": "9668b638-5c35-41f9-b820-ca0e9908b332",
   "metadata": {
    "slideshow": {
     "slide_type": "fragment"
    },
    "tags": []
   },
   "outputs": [],
   "source": [
    "String b = \"ha\";"
   ]
  },
  {
   "cell_type": "code",
   "execution_count": 18,
   "id": "699b5da3-f7bd-48c4-a4dc-eaac92456f37",
   "metadata": {
    "slideshow": {
     "slide_type": "fragment"
    },
    "tags": []
   },
   "outputs": [],
   "source": [
    "char c = '!';"
   ]
  },
  {
   "cell_type": "code",
   "execution_count": 19,
   "id": "d30739a0-c0f3-4c69-b859-a7da41e6b15c",
   "metadata": {
    "slideshow": {
     "slide_type": "fragment"
    },
    "tags": []
   },
   "outputs": [
    {
     "data": {
      "text/plain": [
       "aha!"
      ]
     },
     "execution_count": 19,
     "metadata": {},
     "output_type": "execute_result"
    }
   ],
   "source": [
    "a + b + c"
   ]
  },
  {
   "cell_type": "markdown",
   "id": "4b10386f-c860-406c-bb76-7d719d7d518e",
   "metadata": {
    "slideshow": {
     "slide_type": "notes"
    },
    "tags": []
   },
   "source": [
    "Een karakter toevoegen aan een `String` is dus heel goed mogelijk!"
   ]
  },
  {
   "cell_type": "markdown",
   "id": "8dac7b07-7d11-44ad-9603-37168d11b8ef",
   "metadata": {
    "slideshow": {
     "slide_type": "slide"
    },
    "tags": []
   },
   "source": [
    "## Strings\n",
    "\n",
    "Een verzameling van `char`'s?"
   ]
  },
  {
   "cell_type": "markdown",
   "id": "9f37ad01-a501-41ff-95e8-a89676cea29d",
   "metadata": {
    "slideshow": {
     "slide_type": "subslide"
    },
    "tags": []
   },
   "source": [
    "### De lengte van een `String`"
   ]
  },
  {
   "cell_type": "code",
   "execution_count": 20,
   "id": "a4e50e49-4361-45f6-b59b-7e35586db9ed",
   "metadata": {
    "slideshow": {
     "slide_type": "fragment"
    },
    "tags": []
   },
   "outputs": [],
   "source": [
    "String fruit = \"banana\";"
   ]
  },
  {
   "cell_type": "code",
   "execution_count": 21,
   "id": "d9e7f373-e1eb-42ce-a379-f9aab9c9cf51",
   "metadata": {
    "slideshow": {
     "slide_type": "fragment"
    },
    "tags": []
   },
   "outputs": [
    {
     "data": {
      "text/plain": [
       "6"
      ]
     },
     "execution_count": 21,
     "metadata": {},
     "output_type": "execute_result"
    }
   ],
   "source": [
    "fruit.length()"
   ]
  },
  {
   "cell_type": "markdown",
   "id": "0eadf3a0-a409-44a7-b7d1-7ee0338dbba4",
   "metadata": {
    "slideshow": {
     "slide_type": "subslide"
    },
    "tags": []
   },
   "source": [
    "### Een string doorlopen"
   ]
  },
  {
   "cell_type": "code",
   "execution_count": 22,
   "id": "f139c8eb-010c-460d-80fc-ec4d0a43d70c",
   "metadata": {
    "slideshow": {
     "slide_type": "fragment"
    },
    "tags": []
   },
   "outputs": [],
   "source": [
    "String reversed = \"\";\n",
    "\n",
    "for (int i = 0; i < fruit.length(); i++) {\n",
    "    reversed = fruit.charAt(i) + reversed;\n",
    "}"
   ]
  },
  {
   "cell_type": "code",
   "execution_count": 23,
   "id": "94d4f9af-7c38-4adf-a408-15bd0c53446d",
   "metadata": {
    "slideshow": {
     "slide_type": "fragment"
    },
    "tags": []
   },
   "outputs": [
    {
     "data": {
      "text/plain": [
       "ananab"
      ]
     },
     "execution_count": 23,
     "metadata": {},
     "output_type": "execute_result"
    }
   ],
   "source": [
    "reversed"
   ]
  },
  {
   "cell_type": "markdown",
   "id": "84bb4d04-7fc8-42d3-a12f-cc19f859f48a",
   "metadata": {
    "slideshow": {
     "slide_type": "subslide"
    },
    "tags": []
   },
   "source": [
    "### Substrings\n",
    "\n",
    "Een deel van een `String`"
   ]
  },
  {
   "cell_type": "markdown",
   "id": "0903749e-7621-4a9b-b949-4914aa80290b",
   "metadata": {
    "slideshow": {
     "slide_type": "subslide"
    },
    "tags": []
   },
   "source": [
    "![Fruit index](images/3/fruit_index.png)"
   ]
  },
  {
   "cell_type": "code",
   "execution_count": 24,
   "id": "8fb4b2d0-19b1-492f-8974-715c47042faa",
   "metadata": {
    "slideshow": {
     "slide_type": "fragment"
    },
    "tags": []
   },
   "outputs": [
    {
     "data": {
      "text/plain": [
       "ban"
      ]
     },
     "execution_count": 24,
     "metadata": {},
     "output_type": "execute_result"
    }
   ],
   "source": [
    "fruit.substring(0, 3);"
   ]
  },
  {
   "cell_type": "code",
   "execution_count": 25,
   "id": "fe566472-f99a-4f80-8de3-c05ec4eec727",
   "metadata": {
    "slideshow": {
     "slide_type": "fragment"
    },
    "tags": []
   },
   "outputs": [
    {
     "data": {
      "text/plain": [
       "nan"
      ]
     },
     "execution_count": 25,
     "metadata": {},
     "output_type": "execute_result"
    }
   ],
   "source": [
    "fruit.substring(2, 5);"
   ]
  },
  {
   "cell_type": "code",
   "execution_count": 26,
   "id": "294f1e91-842c-43af-82e2-28ab1ad9ff87",
   "metadata": {
    "slideshow": {
     "slide_type": "fragment"
    },
    "tags": []
   },
   "outputs": [
    {
     "data": {
      "text/plain": []
     },
     "execution_count": 26,
     "metadata": {},
     "output_type": "execute_result"
    }
   ],
   "source": [
    "fruit.substring(6, 6);"
   ]
  },
  {
   "cell_type": "markdown",
   "id": "d7fa555d-a4cb-4e2f-a93e-7cd81b796bdb",
   "metadata": {
    "slideshow": {
     "slide_type": "notes"
    },
    "tags": []
   },
   "source": [
    "De eerste parameter is de start index, deze is *inclusief*. De stop index is *exclusief* (tot, en niet tot *en met*).\n",
    "\n",
    "Als je meer vraagt dan de string lang is zal je een lege string als returnwaarde krijgen."
   ]
  },
  {
   "cell_type": "code",
   "execution_count": 27,
   "id": "3005e260-acdd-48d3-87d3-0916af60d6e2",
   "metadata": {
    "slideshow": {
     "slide_type": "subslide"
    },
    "tags": []
   },
   "outputs": [
    {
     "data": {
      "text/plain": [
       "banana"
      ]
     },
     "execution_count": 27,
     "metadata": {},
     "output_type": "execute_result"
    }
   ],
   "source": [
    "fruit.substring(0);"
   ]
  },
  {
   "cell_type": "code",
   "execution_count": 28,
   "id": "5349383e-8638-4202-9c3b-0f67c650c7e5",
   "metadata": {
    "slideshow": {
     "slide_type": "fragment"
    },
    "tags": []
   },
   "outputs": [
    {
     "data": {
      "text/plain": [
       "nana"
      ]
     },
     "execution_count": 28,
     "metadata": {},
     "output_type": "execute_result"
    }
   ],
   "source": [
    "fruit.substring(2);"
   ]
  },
  {
   "cell_type": "code",
   "execution_count": 29,
   "id": "2d7c941f-60ce-4d46-91c8-928700a81194",
   "metadata": {
    "slideshow": {
     "slide_type": "fragment"
    },
    "tags": []
   },
   "outputs": [
    {
     "data": {
      "text/plain": []
     },
     "execution_count": 29,
     "metadata": {},
     "output_type": "execute_result"
    }
   ],
   "source": [
    "fruit.substring(6);"
   ]
  },
  {
   "cell_type": "markdown",
   "id": "82c67bbe-94b7-40e7-b3e0-b881a1db7c8f",
   "metadata": {
    "slideshow": {
     "slide_type": "notes"
    },
    "tags": []
   },
   "source": [
    "Een stopwaarde is niet noodzakelijk, als je `substring` een enkele parameter aanroept dan zal de returnwaarde een substring zijn vanaf deze index."
   ]
  },
  {
   "cell_type": "markdown",
   "id": "0df3440a-ce3f-4a55-83b2-67ebb944e984",
   "metadata": {
    "slideshow": {
     "slide_type": "subslide"
    },
    "tags": []
   },
   "source": [
    "### Strings vergelijken\n",
    "\n",
    "Over waarde en identiteit"
   ]
  },
  {
   "cell_type": "code",
   "execution_count": 30,
   "id": "b57fb5c2-9358-40e7-858b-df6c139fc4c5",
   "metadata": {
    "slideshow": {
     "slide_type": "subslide"
    },
    "tags": []
   },
   "outputs": [],
   "source": [
    "String a = \"Hallo wereld!\";\n",
    "String b = \"Dag allemaal!\";"
   ]
  },
  {
   "cell_type": "code",
   "execution_count": 31,
   "id": "86ae3de2-c19f-4cf7-8b6b-e9e497ea244a",
   "metadata": {
    "slideshow": {
     "slide_type": "fragment"
    },
    "tags": []
   },
   "outputs": [
    {
     "data": {
      "text/plain": [
       "false"
      ]
     },
     "execution_count": 31,
     "metadata": {},
     "output_type": "execute_result"
    }
   ],
   "source": [
    "a == b"
   ]
  },
  {
   "cell_type": "markdown",
   "id": "b101d01c-bf87-409c-82a1-de63eac7ca30",
   "metadata": {
    "slideshow": {
     "slide_type": "notes"
    },
    "tags": []
   },
   "source": [
    "`==` betekent een vergelijking van identiteit, of met andere woorden, hebben deze objecten hetzelfde adres in het geheugen?"
   ]
  },
  {
   "cell_type": "code",
   "execution_count": 32,
   "id": "2ff3f184-21f4-4bb5-9f50-be2193a5d4dd",
   "metadata": {
    "slideshow": {
     "slide_type": "fragment"
    },
    "tags": []
   },
   "outputs": [
    {
     "data": {
      "text/plain": [
       "false"
      ]
     },
     "execution_count": 32,
     "metadata": {},
     "output_type": "execute_result"
    }
   ],
   "source": [
    "a.equals(b)"
   ]
  },
  {
   "cell_type": "markdown",
   "id": "f691da57-a672-4cf5-8a78-f36038247818",
   "metadata": {
    "slideshow": {
     "slide_type": "notes"
    },
    "tags": []
   },
   "source": [
    "De methode `equals` gebruik je voor een vergelijking van waarden, ongeacht de lokatie in het geheugen."
   ]
  },
  {
   "cell_type": "markdown",
   "id": "32be6c8a-005e-4d97-a8d1-64ceac7bf58e",
   "metadata": {
    "slideshow": {
     "slide_type": "subslide"
    },
    "tags": []
   },
   "source": [
    "### Bijzonder gedrag"
   ]
  },
  {
   "cell_type": "code",
   "execution_count": 33,
   "id": "876e6eea-3c3e-413b-9608-b7ecb9814f52",
   "metadata": {
    "slideshow": {
     "slide_type": "fragment"
    },
    "tags": []
   },
   "outputs": [],
   "source": [
    "String a = \"Hallo wereld!\";\n",
    "String b = \"Hallo wereld!\";"
   ]
  },
  {
   "cell_type": "code",
   "execution_count": 34,
   "id": "481d5bdf-5566-480b-ad49-8f9ca7c1706f",
   "metadata": {
    "slideshow": {
     "slide_type": "fragment"
    },
    "tags": []
   },
   "outputs": [
    {
     "data": {
      "text/plain": [
       "true"
      ]
     },
     "execution_count": 34,
     "metadata": {},
     "output_type": "execute_result"
    }
   ],
   "source": [
    "a == b"
   ]
  },
  {
   "cell_type": "code",
   "execution_count": 35,
   "id": "68fdc4ae-9c60-421e-bcd7-2c80c09bc4dc",
   "metadata": {
    "slideshow": {
     "slide_type": "fragment"
    },
    "tags": []
   },
   "outputs": [
    {
     "data": {
      "text/plain": [
       "true"
      ]
     },
     "execution_count": 35,
     "metadata": {},
     "output_type": "execute_result"
    }
   ],
   "source": [
    "a.equals(b)"
   ]
  },
  {
   "cell_type": "markdown",
   "id": "406c946a-50cf-49ec-a674-0ae51ec9f173",
   "metadata": {
    "slideshow": {
     "slide_type": "notes"
    },
    "tags": []
   },
   "source": [
    "Nu lijken het wel dezelfde objecten wat betreft zowel identiteit als waarde?!? Er is iets bijzonders aan de hand met strings, lees om deze reden [String Mystery](3c_string_mystery) door voor de achtergrond van dit gedrag, het heeft alles te maken hoe strings worden aangemaakt en optimalisaties die de JVM toepast."
   ]
  },
  {
   "cell_type": "markdown",
   "id": "acb8ef12-ffef-4d41-9d98-3c5c214fe206",
   "metadata": {
    "slideshow": {
     "slide_type": "subslide"
    },
    "tags": []
   },
   "source": [
    "### De boodschap\n",
    "\n",
    "Gebruik altijd `equals` als je wilt vergelijken op *waarde*!"
   ]
  }
 ],
 "metadata": {
  "kernelspec": {
   "display_name": "Java",
   "language": "java",
   "name": "java"
  },
  "language_info": {
   "codemirror_mode": "java",
   "file_extension": ".jshell",
   "mimetype": "text/x-java-source",
   "name": "Java",
   "pygments_lexer": "java",
   "version": "11.0.11+9-Ubuntu-0ubuntu2"
  }
 },
 "nbformat": 4,
 "nbformat_minor": 5
}
