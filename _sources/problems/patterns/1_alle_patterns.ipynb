{
 "cells": [
  {
   "cell_type": "markdown",
   "id": "8d7c972b",
   "metadata": {},
   "source": [
    "# Opgave 1 Alle design patterns"
   ]
  },
  {
   "cell_type": "markdown",
   "id": "0cef807a",
   "metadata": {},
   "source": [
    "## Koppel elk pattern aan de juiste zin\n",
    "\n",
    "1. Strategy pattern\n",
    "2. Observer pattern\n",
    "3. Decorator pattern\n",
    "4. Factory pattern\n",
    "5. Singleton pattern\n",
    "6. Command pattern\n",
    "7. Iterator pattern\n",
    "8. Composite pattern\n",
    "9. State pattern\n",
    "\n",
    "A. Maakt het mogelijk dat objecten 'op de hoogte worden gesteld' als er veranderingen in een bepaald object zijn\n",
    "\n",
    "B. Een verzameling van objecten en individuele objecten kunnen op dezelfde manier behandeld worden\n",
    "\n",
    "C. Gedrag van een object in een bepaalde toestand is geïmplementeerd in een bijbehorende klasse, en functionaliteit \n",
    "van dat object wordt gedelegeerd naar de klasse van de huidige toestand.\n",
    "\n",
    "D. Omhult ('wrapt') een object in een ander object om nieuwe functionaliteit toe te voegen\n",
    "\n",
    "E. Object bevat alle informatie die nodig is om een actie op een later moment uit te voeren, via een uniforme interface met een methode om de actie uit te voeren.\n",
    "\n",
    "F. Maakt het mogelijk om een verzameling van objecten te doorlopen zonder dat het nodig is om de specifieke methodes van die verzameling te kennen.\n",
    "\n",
    "G. Implementeert functionaliteit in een klasse om objecten te maken. Deze functionaliteit is gedefiniëerd in een interface, zodat het niet nodig is om te weten welke klasse precies wordt gebruikt.\n",
    "\n",
    "H. Verzekert dat slechts er één instantie is van een bepaalde klasse\n",
    "\n",
    "I. Definiëert een groep algoritmes, die zijn geïmplementeerd in klassen toegankelijk via een interface, zodat ze uitwisselbaar zijn, zelfs tijdens uitvoering van een programma.\n"
   ]
  }
 ],
 "metadata": {
  "kernelspec": {
   "display_name": "Java",
   "language": "java",
   "name": "java"
  },
  "language_info": {
   "codemirror_mode": "java",
   "file_extension": ".jshell",
   "mimetype": "text/x-java-source",
   "name": "Java",
   "pygments_lexer": "java",
   "version": "11.0.13+8-Ubuntu-0ubuntu1.20.04"
  }
 },
 "nbformat": 4,
 "nbformat_minor": 5
}
