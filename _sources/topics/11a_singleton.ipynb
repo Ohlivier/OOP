{
 "cells": [
  {
   "cell_type": "markdown",
   "id": "7207cd21-a058-4bda-9305-3d89eab43e2e",
   "metadata": {
    "slideshow": {
     "slide_type": "slide"
    },
    "tags": []
   },
   "source": [
    "# Singleton pattern\n",
    "\n",
    "> zorgt dat nooit meer dan één instantie van de klasse bestaat en geeft globale toegang tot deze instantie"
   ]
  },
  {
   "cell_type": "markdown",
   "id": "5b415e17-9e63-48f3-9d02-f3eec1252ff7",
   "metadata": {
    "slideshow": {
     "slide_type": "subslide"
    },
    "tags": []
   },
   "source": [
    "## Globaal?\n",
    "\n",
    "Wat zijn globale variabelen in Java?"
   ]
  },
  {
   "cell_type": "code",
   "execution_count": 1,
   "id": "d4d813dc-894e-4533-8830-56a31e9682a5",
   "metadata": {
    "slideshow": {
     "slide_type": "fragment"
    },
    "tags": []
   },
   "outputs": [
    {
     "data": {
      "text/plain": [
       "3.141592653589793"
      ]
     },
     "execution_count": 1,
     "metadata": {},
     "output_type": "execute_result"
    }
   ],
   "source": [
    "Math.PI"
   ]
  },
  {
   "cell_type": "markdown",
   "id": "1e8a31d4-cafd-469c-ab07-6f67a8af87a4",
   "metadata": {
    "slideshow": {
     "slide_type": "subslide"
    },
    "tags": []
   },
   "source": [
    "## Mogelijkheden\n",
    "\n",
    "- controle op het creëren van instanties\n",
    "- *beperken* van het aantal instanties\n",
    "- kan uitgebreid worden naar een *factory* pattern\n",
    "- helpt afhankelijkeden te verbergen\n",
    "- centraal punt, gemakkelijk te onderhouden (vergelijk met *factory* pattern)"
   ]
  },
  {
   "cell_type": "markdown",
   "id": "f22513b1-a16c-425e-8788-179f58f7b192",
   "metadata": {
    "slideshow": {
     "slide_type": "subslide"
    },
    "tags": []
   },
   "source": [
    "## Voorbeelden\n",
    "\n",
    "- driver objects\n",
    "- database connecties\n",
    "- caching en thread pool\n",
    "- logging"
   ]
  },
  {
   "cell_type": "markdown",
   "id": "d7d6b45d-0f05-4827-91e8-a458fa5c38a4",
   "metadata": {
    "slideshow": {
     "slide_type": "slide"
    },
    "tags": []
   },
   "source": [
    "## Implementatie"
   ]
  },
  {
   "cell_type": "markdown",
   "id": "90f4752a-ea36-4123-9298-33c9a8900b5d",
   "metadata": {
    "slideshow": {
     "slide_type": "fragment"
    },
    "tags": []
   },
   "source": [
    "![Singleton](images/11/singleton.png)"
   ]
  },
  {
   "cell_type": "code",
   "execution_count": 2,
   "id": "87a568c5-76a3-49bd-8999-c9f1b932b659",
   "metadata": {
    "slideshow": {
     "slide_type": "subslide"
    },
    "tags": []
   },
   "outputs": [],
   "source": [
    "public class Singleton {\n",
    "\n",
    "    private static Singleton instance;\n",
    "\n",
    "    private Singleton() {}\n",
    "\n",
    "    public static Singleton getInstance() {\n",
    "        if (instance == null) {\n",
    "            instance = new Singleton();\n",
    "        }\n",
    "        return instance;\n",
    "    }\n",
    "}"
   ]
  },
  {
   "cell_type": "markdown",
   "id": "5f846905-ee72-4aa9-a32a-fa279c2b252d",
   "metadata": {
    "slideshow": {
     "slide_type": "fragment"
    },
    "tags": []
   },
   "source": [
    "- `instance` is met `static` een veld van de *klasse*, niet van een *instantie*\n",
    "- de constructor is `private`, alleen de klasse zelf kan instantiëren!\n",
    "- de methode `getInstance` controleert op de enkele instantie"
   ]
  },
  {
   "cell_type": "code",
   "execution_count": 3,
   "id": "bb4dd668-8663-49f6-aaf6-ec9023d9d5c8",
   "metadata": {
    "slideshow": {
     "slide_type": "subslide"
    },
    "tags": []
   },
   "outputs": [],
   "source": [
    "Singleton first = Singleton.getInstance()"
   ]
  },
  {
   "cell_type": "code",
   "execution_count": 4,
   "id": "8a35e9c3-900a-4027-b1d1-f4312073593d",
   "metadata": {
    "slideshow": {
     "slide_type": "fragment"
    },
    "tags": []
   },
   "outputs": [],
   "source": [
    "Singleton second = Singleton.getInstance()"
   ]
  },
  {
   "cell_type": "code",
   "execution_count": 5,
   "id": "18711a42-ade7-49aa-82a9-1e2b0fc758f2",
   "metadata": {
    "slideshow": {
     "slide_type": "fragment"
    },
    "tags": []
   },
   "outputs": [
    {
     "data": {
      "text/plain": [
       "true"
      ]
     },
     "execution_count": 5,
     "metadata": {},
     "output_type": "execute_result"
    }
   ],
   "source": [
    "first == second"
   ]
  },
  {
   "cell_type": "markdown",
   "id": "0f36ef4d-101f-4e1d-8193-776eb01db7cd",
   "metadata": {
    "slideshow": {
     "slide_type": "skip"
    },
    "tags": []
   },
   "source": [
    "## Voorbeeld"
   ]
  },
  {
   "cell_type": "markdown",
   "id": "dee81486-9a03-4e82-977d-eefc1706161a",
   "metadata": {
    "slideshow": {
     "slide_type": "subslide"
    },
    "tags": []
   },
   "source": [
    "![Python None](images/11/python_none.png)"
   ]
  },
  {
   "cell_type": "markdown",
   "id": "cbedf67c-e9ee-41e3-9fce-8086b8f456d8",
   "metadata": {
    "slideshow": {
     "slide_type": "subslide"
    },
    "tags": []
   },
   "source": [
    "![Python None instance](images/11/python_none_instance.png)"
   ]
  },
  {
   "cell_type": "markdown",
   "id": "0c859fed-3f20-4ad7-b045-a93c4d024c96",
   "metadata": {
    "slideshow": {
     "slide_type": "notes"
    },
    "tags": []
   },
   "source": [
    "In Python is álles een object, zo ook `None` (en `True` en `False` ...). Het object `None`wordt gebruikt om een lege waarde te representeren (vergelijk dit met `null` in Java). Let op, dit object heeft verder geen enkele verantwoordelijkheid."
   ]
  },
  {
   "cell_type": "markdown",
   "id": "6326b8a1-1f49-4fe4-9b33-dd9bdc0ebcf8",
   "metadata": {
    "slideshow": {
     "slide_type": "slide"
    },
    "tags": []
   },
   "source": [
    "## Problemen\n",
    "\n",
    "Threading, een enkele instantie is niet gegarandeerd!"
   ]
  },
  {
   "cell_type": "code",
   "execution_count": 6,
   "id": "120c4138-6c97-44cb-8650-03bb17533fa2",
   "metadata": {
    "slideshow": {
     "slide_type": "subslide"
    },
    "tags": []
   },
   "outputs": [],
   "source": [
    "public class Singleton {\n",
    "\n",
    "    private static Singleton instance = new Singleton();\n",
    "\n",
    "    private Singleton() {}\n",
    "\n",
    "    public static Singleton getInstance() {\n",
    "        return instance;\n",
    "    }\n",
    "}"
   ]
  },
  {
   "cell_type": "markdown",
   "id": "f10f4f81-d56f-474f-be68-d392e4ecf3f1",
   "metadata": {
    "slideshow": {
     "slide_type": "notes"
    },
    "tags": []
   },
   "source": [
    "Een optie om dit te voorkomen is door een instantie te creëren zonder dat dit op verzoek pas gebeurt (eagerly creation)."
   ]
  },
  {
   "cell_type": "code",
   "execution_count": 7,
   "id": "0ad4e882-0f5b-4989-b888-1571f2782343",
   "metadata": {
    "slideshow": {
     "slide_type": "subslide"
    },
    "tags": []
   },
   "outputs": [],
   "source": [
    "public class Singleton {\n",
    "\n",
    "    private volatile static Singleton instance;\n",
    "\n",
    "    private Singleton() {}\n",
    "\n",
    "    public static Singleton getInstance() {\n",
    "        \n",
    "        if (instance == null) {\n",
    "            synchronized (Singleton.class) {\n",
    "                if (instance == null) {\n",
    "                    instance = new Singleton();\n",
    "                }\n",
    "            }\n",
    "        }\n",
    "        return instance;\n",
    "    }\n",
    "}"
   ]
  },
  {
   "cell_type": "markdown",
   "id": "9a5a130c-134d-457b-8d82-c7261672054a",
   "metadata": {
    "slideshow": {
     "slide_type": "notes"
    },
    "tags": []
   },
   "source": [
    "Een tweede optie om thread-safety te garanderen is *double-checked locking* toe te passen. Alleen bij een eerste check (`instance == null`) wordt gesyncroniseerd, dat wil zeggen dat steeds maar één thread dit blok mag uitvoeren.\n",
    "\n",
    "In combinatie met het *keyword* `volatile` wordt gegarandeerd dat in dit geval maar één instantie wordt aangemaakt. Synchroniseren van threads heeft een een impact op de efficiency, op deze wijze blijft dit beperkt.\n",
    "\n",
    "Het effect van het keyword `volatile` heeft te maken met geheugenbeheer en hoe wijzigingen in caching een effect hebben op threads. In [Guide to the Volatile Keyword in Java](https://www.baeldung.com/java-volatile) kan je meer lezen over de praktische kant van geheugen in threaded applicaties."
   ]
  },
  {
   "cell_type": "markdown",
   "id": "3f40922c-7bcf-4f67-90a7-824c9aafa1b3",
   "metadata": {
    "slideshow": {
     "slide_type": "subslide"
    },
    "tags": []
   },
   "source": [
    "## Verantwoord gebruik\n",
    "\n",
    "Is singleton een *anti pattern*?"
   ]
  },
  {
   "cell_type": "markdown",
   "id": "e2cfc7dc-4c6f-4bad-b150-0360986fb02b",
   "metadata": {
    "slideshow": {
     "slide_type": "fragment"
    },
    "tags": []
   },
   "source": [
    "- overtreedt het principe van *single responsibility*\n",
    "- tight coupling\n",
    "- moeilijk te testen"
   ]
  },
  {
   "cell_type": "markdown",
   "id": "1c6dd092-a1f2-4f18-a734-584780920782",
   "metadata": {
    "slideshow": {
     "slide_type": "notes"
    },
    "tags": []
   },
   "source": [
    "Een singleton heeft twee verantwoordelijkheden, ten eerste het bijhouden van een enkele instantie en ten tweede de functionaliteit van de klasse zelf, dit overtreedt het principe dat een klasse een enkele verantwoordelijkheid zou moeten hebben.\n",
    "\n",
    "Verder heeft een singleton de karakteristieken van een globale variabele, waarmee client klassen \"intieme\" kennis nodig hebben van deze singleton en waarmee ze *tightly coupled* zijn.\n",
    "\n",
    "Deze tight coupling heeft ook als gevolg dat het moeilijk is om methoden afzonderlijk te testen, omdat altijd de singleton als constante in de weg zit (je moet altijd in combinatie testen)."
   ]
  },
  {
   "cell_type": "markdown",
   "id": "8e08d4da-063a-4efb-825f-64f6060e508c",
   "metadata": {
    "slideshow": {
     "slide_type": "skip"
    },
    "tags": []
   },
   "source": [
    "## Mail Service"
   ]
  },
  {
   "cell_type": "code",
   "execution_count": 8,
   "id": "65cd9bb9-c148-4068-80d3-9009ddb20ee5",
   "metadata": {
    "slideshow": {
     "slide_type": "slide"
    },
    "tags": []
   },
   "outputs": [],
   "source": [
    "public class MailService {\n",
    "    private static MailService instance;\n",
    "\n",
    "    private MailService() {}\n",
    "\n",
    "    public static MailService getInstance() {\n",
    "        if (instance == null) {\n",
    "            instance = new MailService();\n",
    "        }\n",
    "        return instance;\n",
    "    }\n",
    "\n",
    "    // connects with SMTP server and sends mail\n",
    "    public void sendMail(String message) {\n",
    "        System.out.println(\"Mail sent.\");\n",
    "    }\n",
    "}"
   ]
  },
  {
   "cell_type": "markdown",
   "id": "35170e7f-86df-4d74-8364-0f31841b11ae",
   "metadata": {
    "slideshow": {
     "slide_type": "notes"
    },
    "tags": []
   },
   "source": [
    "Stel dat je in jouw applicatie mail moet versturen. Het is voor te stellen dat je dit als singleton zou willen implementeren. Naast dat deze klasse verantwoordelijkheid heeft voor het beheren van een enkele instantie van zichzelf heeft het ook een tweede verantwoordelijkheid (het versturen van email)."
   ]
  },
  {
   "cell_type": "code",
   "execution_count": 9,
   "id": "5d534233-daf1-460d-886d-edc7cc2967a9",
   "metadata": {
    "slideshow": {
     "slide_type": "fragment"
    },
    "tags": []
   },
   "outputs": [],
   "source": [
    "public class MailClient {\n",
    "    public void sendPaymentReminder() {\n",
    "        MailService.getInstance().sendMail(\"The message\");\n",
    "    }\n",
    "}"
   ]
  },
  {
   "cell_type": "markdown",
   "id": "96695b19-9500-496f-af40-14ddb3c253f9",
   "metadata": {
    "slideshow": {
     "slide_type": "notes"
    },
    "tags": []
   },
   "source": [
    "Het gebruik is nu eenvoudig, mail valt direct te versturen via de singleton."
   ]
  },
  {
   "cell_type": "markdown",
   "id": "98ef0727-376d-4dc9-93cb-128c7ce17ecb",
   "metadata": {
    "slideshow": {
     "slide_type": "skip"
    },
    "tags": []
   },
   "source": [
    "### Testen"
   ]
  },
  {
   "cell_type": "markdown",
   "id": "60427df1-23d5-48b4-bcda-6b2055e699b1",
   "metadata": {
    "slideshow": {
     "slide_type": "subslide"
    },
    "tags": []
   },
   "source": [
    "```java\n",
    "public class MailClientTest {\n",
    "    @Test\n",
    "    public void testSendPaymentReminder() {\n",
    "        // Test the correct working of sending a payment reminder\n",
    "\n",
    "        // We would like to mock the MailService singleton to check\n",
    "        // if sendMail was correctly called, but we can't ...\n",
    "\n",
    "        // And what's worse ... the singleton instance\n",
    "        // will be the same for every next test we will run.\n",
    "    }\n",
    "}\n",
    "```"
   ]
  },
  {
   "cell_type": "markdown",
   "id": "4f2f74c2-8396-43bf-9907-81dcca292b20",
   "metadata": {
    "slideshow": {
     "slide_type": "notes"
    },
    "tags": []
   },
   "source": [
    "Je wilt deze methode van `MailClient` natuurlijk ook testen, maar dan loop je tegen een probleem aan waar je wilt testen of de methode inderdaad een bericht verstuurt. Met andere woorden, je wilt testen of de methode `sendMail` correct wordt aangeroepen en niet zozeer dat mail wordt verstuurd.\n",
    "\n",
    "Bovendien, als een singleton eenmaal is geïnstantieerd dan zal dit voor elke volgende test dezelfde waarde hebben."
   ]
  },
  {
   "cell_type": "markdown",
   "id": "ffad2642-69a6-4ac7-ac4e-4279cc389136",
   "metadata": {
    "slideshow": {
     "slide_type": "skip"
    },
    "tags": []
   },
   "source": [
    "### Alternatief"
   ]
  },
  {
   "cell_type": "code",
   "execution_count": 10,
   "id": "0a4cf772-8239-4ac8-8013-12114d736647",
   "metadata": {
    "slideshow": {
     "slide_type": "subslide"
    },
    "tags": []
   },
   "outputs": [],
   "source": [
    "public interface Mailable {\n",
    "    public void sendMail(String message);\n",
    "}\n",
    "\n",
    "public class MailService implements Mailable {\n",
    "    public void sendMail(String message) {\n",
    "       // ...\n",
    "    }\n",
    "}"
   ]
  },
  {
   "cell_type": "markdown",
   "id": "12e5de3a-aca2-428a-94eb-fe20dfd9ad67",
   "metadata": {
    "slideshow": {
     "slide_type": "notes"
    },
    "tags": []
   },
   "source": [
    "In dit geval zal je moeten bekijken hoe je deze *tight coupling* kan wijzigen en misschien zelfs of de voordelen van een singleton in dit specifieke geval gaan opwegen tegen de nadelen.\n",
    "\n",
    "Het probleem dat je van een singleton niet kunt erven zou je in ieder geval kunnen verhelpen door het op een interface te baseren, en waar de concrete implementatie een singleton zou kunnen zijn."
   ]
  },
  {
   "cell_type": "code",
   "execution_count": 11,
   "id": "35e0ef44-6b4b-4287-9b8b-508365d15f4f",
   "metadata": {
    "slideshow": {
     "slide_type": "fragment"
    },
    "tags": []
   },
   "outputs": [],
   "source": [
    "public class MailClient {\n",
    "   private final Mailable mailService;\n",
    "\n",
    "   public MailClient(Mailable singleton) {\n",
    "      this.mailService = singleton;\n",
    "   }\n",
    "\n",
    "   public void sendPaymentReminder(){\n",
    "       mailService.sendMail(\"The message\");\n",
    "   }\n",
    "}"
   ]
  },
  {
   "cell_type": "markdown",
   "id": "7476f58a-ee20-4456-8f2e-363b593e9b78",
   "metadata": {
    "slideshow": {
     "slide_type": "notes"
    },
    "tags": []
   },
   "source": [
    "In plaast van de singleton als \"globale variabele\" aan te roepen zou je nu kunnen kiezen om de singleton expliciet als parameter door te geven, en waar je nu voldoende hebt aan de *interface*."
   ]
  },
  {
   "cell_type": "code",
   "execution_count": 12,
   "id": "1212a2ba-7b3b-4faa-9541-681ef3c71eaf",
   "metadata": {
    "slideshow": {
     "slide_type": "subslide"
    },
    "tags": []
   },
   "outputs": [],
   "source": [
    "public class MockMailService implements Mailable {\n",
    "    private String messageRecieved;\n",
    "\n",
    "    public MockMailService() {}\n",
    "\n",
    "    @Override\n",
    "    public void sendMail(String message) {\n",
    "        messageRecieved = message;\n",
    "    }\n",
    "\n",
    "    public String getMessageRecieved() {\n",
    "        return messageRecieved;\n",
    "    }\n",
    "}"
   ]
  },
  {
   "cell_type": "markdown",
   "id": "8ef62487-71e7-4606-b6ba-f4044f018f30",
   "metadata": {
    "slideshow": {
     "slide_type": "notes"
    },
    "tags": []
   },
   "source": [
    "Omdat je met een interface werkt is het nu ook eenvoudig om een *mock* `MailService` klasse te schrijven die je kan gegruiken in tests."
   ]
  },
  {
   "cell_type": "markdown",
   "id": "fc45e2ae-c6c6-4b61-a949-1a78583b2d4d",
   "metadata": {
    "slideshow": {
     "slide_type": "fragment"
    },
    "tags": []
   },
   "source": [
    "```java\n",
    "public class MailClientTest {\n",
    "    @Test\n",
    "    public void testSendPaymentReminder() {\n",
    "        MockMailService mock = new MockMailService();\n",
    "        MailClient client = new MailClient(mock);\n",
    "\n",
    "        client.sendPaymentReminder();\n",
    "\n",
    "        // test if mail service was called\n",
    "        assertEquals(\"The message\", mock.getMessageRecieved());\n",
    "    }\n",
    "}\n",
    "```"
   ]
  },
  {
   "cell_type": "markdown",
   "id": "2133a16d-86ea-4577-ac6e-1eef74ea190a",
   "metadata": {
    "slideshow": {
     "slide_type": "notes"
    },
    "tags": []
   },
   "source": [
    "Met deze wijziging kan je nu de onderdelen afzonderlijk en isolatie van elkaar testen. Voor tests kan je nu een klasse schrijven die `MailService` simuleert (een *mock* klasse) en gebruiken om te testen of deze inderdaad wordt aangeroepen."
   ]
  }
 ],
 "metadata": {
  "kernelspec": {
   "display_name": "Java",
   "language": "java",
   "name": "java"
  },
  "language_info": {
   "codemirror_mode": "java",
   "file_extension": ".jshell",
   "mimetype": "text/x-java-source",
   "name": "Java",
   "pygments_lexer": "java",
   "version": "11.0.12+7-Ubuntu-0ubuntu3"
  }
 },
 "nbformat": 4,
 "nbformat_minor": 5
}
