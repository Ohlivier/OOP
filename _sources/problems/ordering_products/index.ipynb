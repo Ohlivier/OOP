{
 "cells": [
  {
   "cell_type": "markdown",
   "id": "8d7c972b",
   "metadata": {},
   "source": [
    "# Opgave 1 State pattern"
   ]
  },
  {
   "cell_type": "markdown",
   "id": "9c57a6be",
   "metadata": {},
   "source": [
    "## Klasse Order\n",
    "Hieronder staat een state diagram van een bestelling (order):\n",
    "![statediagram_order.png](images/statediagram_order.png)\n",
    "\n",
    "Een bestelling heeft 3 toestanden (states): openstaande bestelling, betaalde betalling en verzonden bestelling.\n",
    "\n",
    "Aan een openstaande bestelling kunnen nog producten worden toegevoegd of verwijderd, totdat wordt betaald. Aan een betaalde of verzonden bestelling kunnen geen producten worden toegevoegd of verwijderd. Dit wordt in deel 1 van de opgave buiten beschouwing gelaten maar in deel 2 verder uitgewerkt.\n",
    "\n",
    "Er zijn 4 acties: betalen, verzenden, terug sturen en betaling restituëren.\n",
    "\n",
    "Uiteraard zijn deze acties alleen in een specifieke toestand mogelijk.\n",
    "\n",
    "Bijvoorbeeld: Betalen kan niet een tweede keer, een bestelling verzenden kan alleen na betaling. Alleen een verzonden bestelling kan teruggestuurd worden. En alleen voor een betaalde bestelling kan de betaling gerestituëerd worden.\n"
   ]
  },
  {
   "cell_type": "markdown",
   "id": "0cef807a",
   "metadata": {},
   "source": [
    "## Opgave deel 1\n",
    "Schrijf de klasse **Order** en bijbehorende hulpklassen waarbij gebruik wordt gemaakt van het state pattern.\n",
    "\n",
    "De klasse **Order** is de *context-klasse*.\n",
    "\n",
    "De *interface* **State** bevat methodes voor de 4 acties: **payOrder()**, **sendOrder()**, **returnOrder()** en **refundOrder()**.\n",
    "\n",
    "Er zijn 3 *states*."
   ]
  },
  {
   "cell_type": "markdown",
   "id": "d758d2eb",
   "metadata": {},
   "source": [
    "## Opgave deel 2\n",
    "\n",
    "Breid de klasse **Order** uit met de mogelijkheid om producten toe te voegen aan de bestelling en het bedrag van de bestelling op te vragen.\n",
    "\n",
    "Het gaat om drie methodes:\n",
    "- addProduct - Voegt product toe aan bestelling\n",
    "- removeProduct - Verwijdert product uit bestelling\n",
    "- getAmount - Retourneert totaal bedrag van de bestelling. Deze methode kan in elke toestand gebruikt worden.\n",
    "- print - Print op de console een overzicht van producten, aantallen en bedragen, het totaalbedrag, en de status: open order, paid order of sent order. Deze methode kan in elke toestand gebruikt worden.\n",
    "\n",
    "De methodes dienen gebruik maken van het *state pattern* om te bepalen wat er in welke toestand wel of niet moet gebeuren. Dit betekent dat het niet is toegestaan om if-statements om te bepalen of er sprake is van een bepaalde *state*.\n",
    "\n",
    "Bepaal zelf welke methoden opgenomen moeten worden in de states. Daarnaast is het van belang om na te denken over de argumenten van deze methoden en de te gebruiken datatypes."
   ]
  }
 ],
 "metadata": {
  "kernelspec": {
   "display_name": "Java",
   "language": "java",
   "name": "java"
  },
  "language_info": {
   "codemirror_mode": "java",
   "file_extension": ".jshell",
   "mimetype": "text/x-java-source",
   "name": "Java",
   "pygments_lexer": "java",
   "version": "11.0.13+8-Ubuntu-0ubuntu1.21.10"
  }
 },
 "nbformat": 4,
 "nbformat_minor": 5
}
