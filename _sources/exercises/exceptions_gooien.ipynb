{
 "cells": [
  {
   "cell_type": "markdown",
   "id": "8d7c972b",
   "metadata": {},
   "source": [
    "# Exceptions 'gooien'\n",
    "## Doel\n",
    "- Exceptions toepassen in methodes"
   ]
  },
  {
   "cell_type": "markdown",
   "id": "b2e645db",
   "metadata": {},
   "source": [
    "## De methode intToHex\n",
    "Implementeer de methode intToHex.\n",
    "\n",
    "```Java\n",
    "    /**\n",
    "     * Converts a positive integer to hexadecimal\n",
    "     * \n",
    "     * @param x Positive integer number\n",
    "     * @return String containing hexadecimal value\n",
    "     */\n",
    "    public String intToHex(int x) {\n",
    "        \n",
    "    }\n",
    "```\n",
    "\n",
    "Maak geen gebruik van recursie of reeds aanwezige methodes voor het converteren van decimaal naar hexadecimaal. Hou geen rekening met eventueel ongeldige waardes van **x**.\n",
    "\n",
    "````{important}\n",
    "Een letter genereren aan de hand van een integer-waarde kan als volgt:\n",
    "```java\n",
    "int i=1;\n",
    "char c=(char)('A'+i); // c='B'\n",
    "```\n",
    "````\n",
    "\n",
    "Test de methode als volgt:\n",
    "```Java\n",
    "    System.out.println(intToHex(128)); // 80\n",
    "    System.out.println(intToHex(11256099)); // ABC123\n",
    "    System.out.println(intToHex(0)); // 0\n",
    "    System.out.println(intToHex(-1)); // Ongeldig\n",
    "```"
   ]
  },
  {
   "cell_type": "markdown",
   "id": "fba4924f",
   "metadata": {},
   "source": [
    "## De methode hexToInt\n",
    "Implementeer de methode hexToInt.\n",
    "\n",
    "```Java\n",
    "    /**\n",
    "     * Converts a hexadecimal number to integer\n",
    "     *\n",
    "     * @param s String containing hexadecimal number\n",
    "     * @return Integer value of hexadecimal number\n",
    "     */\n",
    "    public int hexToInt(String s) {\n",
    "        \n",
    "    }\n",
    "```\n",
    "\n",
    "Maak geen gebruik van recursie of reeds aanwezige methodes voor het converteren van hexadecimaal naar decimaal. Hou geen rekening met eventueel onjuiste waardes van **s**.\n",
    "\n",
    "````{important}\n",
    "Een integer-waarde genereren aan de hand van een letter kan als volgt:\n",
    "```java\n",
    "char c='B';\n",
    "int i=c-'A'; // i=1\n",
    "```\n",
    "\n",
    "De methode charAt kan gebruikt worden om een afzonderlijk karakter uit een string te halen.\n",
    "````\n",
    "\n",
    "Test de methode als volgt:\n",
    "```Java\n",
    "    System.out.println(hexToInt(\"100\")); // 256\n",
    "    System.out.println(hexToInt(\"EFFE\")); // 61438\n",
    "    System.out.println(hexToInt(\"1A0\")); // 416\n",
    "    System.out.println(hexToInt(\"0\")); // 0\n",
    "    System.out.println(hexToInt(\"\")); // Ongeldig\n",
    "    System.out.println(hexToInt(\"Java\")); // Ongeldig\n",
    "```"
   ]
  },
  {
   "cell_type": "markdown",
   "id": "d758d2eb",
   "metadata": {},
   "source": [
    "## Fouten\n",
    "Welke argumenten voor de methodes **intToHex** en **hexToInt** zijn niet geldig?\n",
    "\n",
    "Test de gemaakte methodes met ongeldige waardes. Wat gebeurt er?"
   ]
  },
  {
   "cell_type": "markdown",
   "id": "deeab47d",
   "metadata": {},
   "source": [
    "## Reageren op fouten\n",
    "De gevolgen van ongeldige argumenten zijn afhankelijk van jouw implementatie. Het kan zijn dat het ongeldige argument genegeerd wordt (met een onvoorspelbaar resultaat) of dat er een fout (exception) verschijnt."
   ]
  },
  {
   "cell_type": "markdown",
   "id": "ae66b412",
   "metadata": {},
   "source": [
    "## Exceptions\n",
    "Gooi een exception in het geval van een ongeldig argument.\n",
    "\n",
    "````{note} Exceptions 'gooien'\n",
    "Een exception 'gooien' gebeurt als volgt:\n",
    " ```Java\n",
    " throw new <Exception klasse>(<melding>);\n",
    " ```\n",
    "Bijvoorbeeld:\n",
    " ```Java\n",
    " throw new IOException(\"Error while reading from disk.\");\n",
    " ```\n",
    "````\n",
    "\n",
    "Een ongeldig argument kan een ongeldige waarde zijn maar ook een ongeldig karakter als het gaat om een string.\n",
    "\n",
    "Kies uit de volgende exceptions: **Exception**, **RuntimeException** of **IllegalArgumentException**.\n",
    "\n",
    "Welke van deze exceptions gebruik je, en waarom?"
   ]
  },
  {
   "cell_type": "markdown",
   "id": "b532ae1e",
   "metadata": {},
   "source": [
    "## Recursie\n",
    "De methodes **intToHex** en **hexToInt** kunnen ook recursief geïmplementeerd worden.\n",
    "\n",
    "Implementeer recursieve versies van **intToHex** en **hexToInt** met de namen **intToHexRec** en **hexToIntRec**.\n",
    "\n",
    "Gooi ook de exceptions in het geval van ongeldige argumenten.\n",
    "\n",
    "Maakt het voor de werking van de exceptions wat uit of recursie wordt toegepast?"
   ]
  },
  {
   "cell_type": "code",
   "execution_count": null,
   "id": "2635e93b",
   "metadata": {},
   "outputs": [],
   "source": []
  }
 ],
 "metadata": {
  "kernelspec": {
   "display_name": "Java",
   "language": "java",
   "name": "java"
  },
  "language_info": {
   "codemirror_mode": "java",
   "file_extension": ".jshell",
   "mimetype": "text/x-java-source",
   "name": "Java",
   "pygments_lexer": "java",
   "version": "11.0.11+9-Ubuntu-0ubuntu2.18.04"
  }
 },
 "nbformat": 4,
 "nbformat_minor": 5
}
