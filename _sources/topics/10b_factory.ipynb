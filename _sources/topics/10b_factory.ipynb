{
 "cells": [
  {
   "cell_type": "markdown",
   "id": "920e8bbc-93d7-4d06-9a0f-9aa1c9db507a",
   "metadata": {
    "slideshow": {
     "slide_type": "slide"
    },
    "tags": []
   },
   "source": [
    "# Factory method pattern"
   ]
  },
  {
   "cell_type": "markdown",
   "id": "54a27e74-aa56-434e-9a47-b90f712069a7",
   "metadata": {
    "slideshow": {
     "slide_type": "fragment"
    },
    "tags": []
   },
   "source": [
    "> Het factory method pattern is een manier om objecten te instantiëren zonder exact vast hoeven te leggen van welke klasse deze objecten zullen zijn."
   ]
  },
  {
   "cell_type": "markdown",
   "id": "c54409c7-a26e-4b61-9331-c536bc83c364",
   "metadata": {
    "slideshow": {
     "slide_type": "notes"
    },
    "tags": []
   },
   "source": [
    "Het patroon voorziet in *loose coupling* door de verantwoordelijkheid van het aanmaken van instanties te delegeren aan specifieke subklassen."
   ]
  },
  {
   "cell_type": "markdown",
   "id": "efb66722-d816-46a0-91d2-da0b239d2135",
   "metadata": {
    "slideshow": {
     "slide_type": "subslide"
    },
    "tags": []
   },
   "source": [
    "## Mogelijkheden"
   ]
  },
  {
   "cell_type": "markdown",
   "id": "ccd41566-4ee8-481c-9ce4-45a678d0f262",
   "metadata": {
    "slideshow": {
     "slide_type": "fragment"
    },
    "tags": []
   },
   "source": [
    "- Wanneer je niet op voorhand weet welk klasse object je nodig hebt\n",
    "  - pas tijdens *runtime* bekend\n",
    "- Wanneer alle potentiële klassen in dezelfde subklassenhiërarchie staan\n",
    "- Om code voor selectie van klasse te centraliseren\n",
    "- Wanneer je niet wil dat de gebruiker elke subklasse moet kennen\n",
    "- Om objectcreatie in te kapselen (verbergen van details)"
   ]
  },
  {
   "cell_type": "markdown",
   "id": "0aa69e4a-27d6-4d58-b250-03989f1e2e77",
   "metadata": {
    "slideshow": {
     "slide_type": "skip"
    },
    "tags": []
   },
   "source": [
    "## Implementatie"
   ]
  },
  {
   "cell_type": "markdown",
   "id": "1bf78fa7-c901-4214-83f1-d8eff889ac5e",
   "metadata": {
    "slideshow": {
     "slide_type": "subslide"
    },
    "tags": []
   },
   "source": [
    "![Factory method](images/10/factory_method.png)"
   ]
  },
  {
   "cell_type": "markdown",
   "id": "28f4c083-cdd7-4bda-9bba-b7778b2c4c40",
   "metadata": {
    "slideshow": {
     "slide_type": "notes"
    },
    "tags": []
   },
   "source": [
    "Definieer een interface voor het aanmaken van een object, maar laat subklassen beslissen welke klasse te instantiëren. Met andere woorden, de *factory method* delegeert de instantie die wordt gebruikt naar de subklassen."
   ]
  },
  {
   "cell_type": "markdown",
   "id": "24d87b61-a748-47d8-923a-7a37e1dda3db",
   "metadata": {
    "slideshow": {
     "slide_type": "subslide"
    },
    "tags": []
   },
   "source": [
    "![JDBC API](images/10/jdbc_api.png)"
   ]
  },
  {
   "cell_type": "markdown",
   "id": "63909c81-f0ba-427f-a719-0360c54d8b3c",
   "metadata": {
    "slideshow": {
     "slide_type": "notes"
    },
    "tags": []
   },
   "source": [
    "Een bekend voorbeeld van dit patroon kan je vinden in de Java JDBC API. Deze API definieert een interface waar database drivers (klassen die een specifieke database kunnen aanspreken).\n",
    "\n",
    "Welke driver moet worden gebruikt is tijdens *runtime* bekend, bijvoorbeeld via een configuratie. Zo is het mogelijk dat tijdens ontwikkeling een driver voor SQLite wordt gebruikt, maar in productie een PostgreSQL driver."
   ]
  },
  {
   "cell_type": "markdown",
   "id": "c8efbe65-2217-4ec7-b746-ebb5d526d9fb",
   "metadata": {
    "slideshow": {
     "slide_type": "subslide"
    },
    "tags": []
   },
   "source": [
    "```java\n",
    "import java.sql.*;\n",
    "\n",
    "public class JdbcExample {\n",
    "    public static void main(String[] args) throws SQLException {\n",
    "        Connection con = DriverManager.getConnection(\n",
    "                \"jdbc:mysql://localhost:3306/myDb\", \"user1\", \"pass\");\n",
    "        \n",
    "        Statement stmt = con.createStatement();\n",
    "        String selectSql = \"SELECT * FROM employees\"; \n",
    "        ResultSet resultSet = stmt.executeQuery(selectSql);\n",
    "        \n",
    "        // ...\n",
    "    }\n",
    "}\n",
    "```"
   ]
  },
  {
   "cell_type": "markdown",
   "id": "5a96b97f-29ed-4ef4-9449-4c55c1ac243b",
   "metadata": {
    "slideshow": {
     "slide_type": "notes"
    },
    "tags": []
   },
   "source": [
    "Je kan hier afleiden dat `DriverManager` een *factory* klasse is. Op basis van een *connection string* en eventuele andere parameters (gebruikersnaam, wachtwoord) zal het een connectie naar de database teruggeven met een driver specifiek voor deze database. De details van de implementatie blijven voor ons onbekend (welke driver klasse gebruikt moet worden, hoe de connectie wordt opgezet, etc.)."
   ]
  },
  {
   "cell_type": "markdown",
   "id": "7d1b14fd-7af1-423c-858b-e2c1081c7883",
   "metadata": {
    "slideshow": {
     "slide_type": "skip"
    },
    "tags": []
   },
   "source": [
    "## Een voorbeeld"
   ]
  },
  {
   "cell_type": "markdown",
   "id": "6d3c03d5-78c2-45eb-a84b-e4db872d0101",
   "metadata": {
    "slideshow": {
     "slide_type": "slide"
    },
    "tags": []
   },
   "source": [
    "![Document](images/10/document.png)"
   ]
  },
  {
   "cell_type": "markdown",
   "id": "a37faf16-a368-4597-bacf-01bc7ec0651f",
   "metadata": {
    "slideshow": {
     "slide_type": "notes"
    },
    "tags": []
   },
   "source": [
    "Documenten moeten worden aangemaakt en kunnen worden opgeslagen. Het formaat van deze documenten kan verschillen inclusief mogelijke manieren van opslag. Dit zijn details die worden uitgewerkt in verschillende subklassen."
   ]
  },
  {
   "cell_type": "markdown",
   "id": "789481d2-6bc6-4dfa-bce4-6808ee858357",
   "metadata": {
    "slideshow": {
     "slide_type": "subslide"
    },
    "tags": []
   },
   "source": [
    "![Document Factory](images/10/document_factory.png)"
   ]
  },
  {
   "cell_type": "markdown",
   "id": "9128396e-45fd-4a6a-9128-7a80de19c5d4",
   "metadata": {
    "slideshow": {
     "slide_type": "notes"
    },
    "tags": []
   },
   "source": [
    "Welk document type wordt gebruikt wordt overgelaten aan een *factory*, deze heeft kennis van de verschillende typen en voor clients (klassen die gebruik maken van `Document`'s) volstaat deze interface, méér kennis is niet nodig. Op deze manier wordt gezorgd voor encapsulatie en loose coupling.\n",
    "\n",
    "Een interface wordt hier gebruikt, maar dit zou natuurlijk ook een abstracte klasse kunnen zijn, beide dwingen een implementatie af."
   ]
  },
  {
   "cell_type": "markdown",
   "id": "1de5eb73-a64a-448e-84a1-b4b1c7c41646",
   "metadata": {
    "slideshow": {
     "slide_type": "subslide"
    },
    "tags": []
   },
   "source": [
    "```java\n",
    "public class TextFactory {\n",
    "    public Document makeDocument(String mimeType) throws IllegalArgumentException {\n",
    "        Document file;\n",
    "        \n",
    "        if (mimeType.equals(\"text/html\")) {\n",
    "            file = new HTMLDocument();\n",
    "        } else if (mimeType.equals(\"application/json\")) {\n",
    "            file = new JSONDocument();\n",
    "        } else if (mimeType.equals(\"application/x-latex\")) {\n",
    "            file = new LaTeXDocument();\n",
    "        } else {\n",
    "            throw new IllegalArgumentException(\"Unsupported MIME type\");\n",
    "        }\n",
    "        \n",
    "        return file;\n",
    "    }\n",
    "}\n",
    "```"
   ]
  },
  {
   "cell_type": "markdown",
   "id": "0437a7ff-9bfe-414f-949d-012222600f25",
   "metadata": {
    "slideshow": {
     "slide_type": "notes"
    },
    "tags": []
   },
   "source": [
    "De implementatie van de methode `makeDocument` zou als volg kunnen zijn waar op basis van een *mime type* het een instantie van de correcte klasse wordt teruggegeven. Dit principe lijkt op wat je eerder bij het JDBC API voorbeeld hebt gezien."
   ]
  },
  {
   "cell_type": "markdown",
   "id": "37be65f0-c24d-43fc-92dd-3fc55d299940",
   "metadata": {
    "slideshow": {
     "slide_type": "subslide"
    },
    "tags": []
   },
   "source": [
    "![Document Builder](images/10/document_builder.png)"
   ]
  },
  {
   "cell_type": "markdown",
   "id": "a139c385-ce60-4c63-8d0a-8c241221353a",
   "metadata": {
    "slideshow": {
     "slide_type": "notes"
    },
    "tags": []
   },
   "source": [
    "Een *client* klasse `DocumentBuilder` die de factory kan gebruiken zonder de specifieke implementatie te kennen voor het aanmaken en bewaren van documenten."
   ]
  },
  {
   "cell_type": "markdown",
   "id": "5844cd63-822f-45e4-a784-ca8d7dc0b07a",
   "metadata": {
    "slideshow": {
     "slide_type": "subslide"
    },
    "tags": []
   },
   "source": [
    "```java\n",
    "public class DocumentBuilder {\n",
    "    private DocumentFactory document;\n",
    "    \n",
    "    public DocumentBuilder(DocumentFactory factory) {\n",
    "        this.factory = factory;\n",
    "    }\n",
    "    \n",
    "    private createDocument(String mimeType) {\n",
    "        try {\n",
    "            return factory.makeDocument(mimeType);\n",
    "        catch (IllegalArgumentException e) {\n",
    "            // ...\n",
    "        }\n",
    "    }\n",
    "}\n",
    "```"
   ]
  },
  {
   "cell_type": "markdown",
   "id": "f5c7c7f6-5745-40b8-927c-c2b0d7cd4937",
   "metadata": {
    "slideshow": {
     "slide_type": "slide"
    },
    "tags": []
   },
   "source": [
    "## Een familie van objecten\n",
    "\n",
    "*Abstract Factory Pattern*"
   ]
  },
  {
   "cell_type": "markdown",
   "id": "38b849c1-b0ae-40e4-bbf9-37c30f5f3a5e",
   "metadata": {
    "slideshow": {
     "slide_type": "fragment"
    },
    "tags": []
   },
   "source": [
    "> Definieert een interface voor het creëren van families van *gerelateerde* of *afhankelijke* objecten zonder de concrete klassen klassen direct te instantiëren. "
   ]
  },
  {
   "cell_type": "markdown",
   "id": "33612577-8af7-4fcc-85bb-61687a21c1c7",
   "metadata": {
    "slideshow": {
     "slide_type": "subslide"
    },
    "tags": []
   },
   "source": [
    "![Text Image Document](images/10/text_image_document.png)"
   ]
  },
  {
   "cell_type": "markdown",
   "id": "43e265e8-3dd2-4c4c-ac72-f8b97e6b23e7",
   "metadata": {
    "slideshow": {
     "slide_type": "notes"
    },
    "tags": []
   },
   "source": [
    "In het vorige voorbeeld was een interface gedefinieerd voor het creëren van enkele documenten. Maar wat nu als je te maken hebt met objecten uit een grotere familie die moet worden aangemaakt?"
   ]
  },
  {
   "cell_type": "markdown",
   "id": "0136ba76-7d7b-4423-b77a-80bfc98f6391",
   "metadata": {
    "slideshow": {
     "slide_type": "subslide"
    },
    "tags": []
   },
   "source": [
    "![Text Image Factory](images/10/text_image_factory.png)"
   ]
  },
  {
   "cell_type": "markdown",
   "id": "1e6b80ac-1b95-4506-aa26-61aa2e252be3",
   "metadata": {
    "slideshow": {
     "slide_type": "notes"
    },
    "tags": []
   },
   "source": [
    "Door gebruik te maken van de interface kunnen de meerdere factories worden gedefinieerd die verschillende (maar onderscheiden) typen objecten kunnen aanmaken."
   ]
  }
 ],
 "metadata": {
  "kernelspec": {
   "display_name": "Java",
   "language": "java",
   "name": "java"
  },
  "language_info": {
   "codemirror_mode": "java",
   "file_extension": ".jshell",
   "mimetype": "text/x-java-source",
   "name": "Java",
   "pygments_lexer": "java",
   "version": "11.0.12+7-Ubuntu-0ubuntu3"
  }
 },
 "nbformat": 4,
 "nbformat_minor": 5
}
