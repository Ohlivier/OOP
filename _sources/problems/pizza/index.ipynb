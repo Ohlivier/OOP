{
 "cells": [
  {
   "cell_type": "markdown",
   "id": "8d7c972b",
   "metadata": {},
   "source": [
    "# Opgave factory pattern\n",
    "## Doel\n",
    "- Oefenen met het factory pattern"
   ]
  },
  {
   "cell_type": "markdown",
   "id": "9c57a6be",
   "metadata": {},
   "source": [
    "## Pizza\n",
    "Deze opgave gaat over het maken van (virtuele) pizza's met behulp van het factory pattern.\n",
    "\n",
    "Gebruik hiervoor het gemaakte project van het Practicum decorator pattern."
   ]
  },
  {
   "cell_type": "markdown",
   "id": "0cef807a",
   "metadata": {},
   "source": [
    "## Interface PizzaFactory\n",
    "\n",
    "De pizza-factories implementeren de volgende interface:\n",
    "```Java\n",
    "public interface PizzaFactory {\n",
    "\n",
    "    public Pizza createPizza(String name);\n",
    "    \n",
    "}\n",
    "```\n",
    "\n",
    "Voeg aan het pizza-project (of een kopie van dat project) de interface **PizzaFactory** toe."
   ]
  },
  {
   "cell_type": "markdown",
   "id": "d758d2eb",
   "metadata": {},
   "source": [
    "## Twee factories\n",
    "\n",
    "Twee pizzaria's, 'Italia' en 'Milaan' hebben een bescheiden assortiment pizza's.\n",
    "\n",
    "Pizzaria 'Italia':\n",
    "- Funghi: champignons\n",
    "- Hawaii: ham en ananas\n",
    "- Samplice: champignons en ham\n",
    "\n",
    "Pizzaria 'Milaan':\n",
    "- Denna: champignons, ham, salami, rosbief\n",
    "- Samplice: champignons en ham\n",
    "- Sanremo: champignons en salami\n",
    "- Al Tonno: Tonijn en ui\n",
    "\n",
    "Maak twee factories, **PizzaFactoryItalia** en **PizzaFactoryMilaan**. Deze factories implementeren **PizzaFactory** en maken de pizza's in het assortiment van de betreffende pizzaria. \n",
    "\n",
    "Gooi een exception als de naam van de pizza niet bekend is.\n",
    "\n",
    "Het kan nodig zijn om voor sommige ingrediënten aanvullende decorators te maken. Bedenk zelf een prijs voor deze ingrediënten.\n",
    "\n",
    "Voorbeeld van een mogelijke test waarbij een pizza Hawaii wordt gemaakt:\n",
    "```Java\n",
    "PizzaFactory pizzaFactoryItalia = new PizzaFactoryItalia();\n",
    "Pizza pizzaHawaii = pizzaFactoryItalia.createPizza(\"Hawaii\");\n",
    "System.out.println(pizzaHawaii.getDescription()+\", € \"+ pizzaHawaii.getPrice());\n",
    "```\n",
    "Resultaat van de test:\n",
    "```\n",
    "Pizza Ham Pineapple, € 11.25\n",
    "```"
   ]
  },
  {
   "cell_type": "markdown",
   "id": "e177cf41",
   "metadata": {},
   "source": [
    "## Abstract Factory\n",
    "\n",
    "Factories die de interface **PizzaFactory** implementeren werken met een *factory method*. De *factory* bestaat uit één methode.\n",
    "\n",
    "Een alternatief is de **Abstract Factory**. Waarom is deze niet geschikt om de factories **PizzaFactoryItalia** en **PizzaFactoryMilaan** te maken ?\n",
    "\n",
    "Maak een pizza factory waarbij gebruikt wordt gemaakt van een *abstract Factory*, die de volgende pizza's kan maken: Funghi, Hawaii en Al Tonno.\n",
    "\n",
    "Voorbeeld van een mogelijke test waarbij twee pizza's worden gemaakt:\n",
    "```Java\n",
    "    PizzaFactory2 pizzaFactory2 = new PizzaFactory2();\n",
    "    Pizza pizzaFunghi = pizzaFactory2.createPizzaFunghi();\n",
    "    System.out.println(pizzaFunghi.getDescription()+\", € \"+ pizzaFunghi.getPrice());\n",
    "    Pizza pizzaHawaii = pizzaFactory2.createPizzaHawaii();\n",
    "    System.out.println(pizzaHawaii.getDescription()+\", € \"+ pizzaHawaii.getPrice());\n",
    "```\n",
    "Resultaat van de test:\n",
    "```\n",
    "Pizza Mushrooms, € 9.5\n",
    "Pizza Ham Pineapple, € 11.25\n",
    "```"
   ]
  }
 ],
 "metadata": {
  "kernelspec": {
   "display_name": "Java",
   "language": "java",
   "name": "java"
  },
  "language_info": {
   "codemirror_mode": "java",
   "file_extension": ".jshell",
   "mimetype": "text/x-java-source",
   "name": "Java",
   "pygments_lexer": "java",
   "version": "11.0.12+7-Ubuntu-0ubuntu3"
  }
 },
 "nbformat": 4,
 "nbformat_minor": 5
}
