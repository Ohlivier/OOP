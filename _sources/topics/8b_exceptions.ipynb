{
 "cells": [
  {
   "cell_type": "markdown",
   "id": "8d7c972b",
   "metadata": {},
   "source": [
    "# Foutafhandeling en exceptions\n",
    "Er zijn verschillende mogelijke acties in geval van een fout tijdens uitvoering van een programma.\n",
    "\n",
    "Het gebruik van *exceptions* is een veelvoorkomende aanpak bij het reageren op en afhandelen van fouten.\n",
    " \n",
    "## Hoe te handelen bij een fout?\n",
    "Er zijn verschillende mogelijke acties in geval van een fout tijdens uitvoering van een programma.\n",
    "\n",
    "Bijvoorbeeld:\n",
    "\n",
    "- De fout negeren\n",
    "- Foutmelding op het scherm afdrukken\n",
    "- Fout aangeven door middel van return value\n",
    "- Exception 'gooien'"
   ]
  },
  {
   "cell_type": "markdown",
   "id": "d758d2eb",
   "metadata": {},
   "source": [
    "## Actie bij fout: De fout negeren\n",
    "De meest eenvoudige actie in geval van een fout, is de fout simpelweg negeren. Hiervoor hoeft vaak geen code te worden geschreven.\n",
    "\n",
    "Het onderstaande voorbeeld is een methode die een binair getal in een string omzet naar een integer. Een binair getal bevat alleen 0 of 1. Ongeldige symbolen worden genegeerd."
   ]
  },
  {
   "cell_type": "code",
   "execution_count": 9,
   "id": "0d47c553",
   "metadata": {},
   "outputs": [
    {
     "name": "stdout",
     "output_type": "stream",
     "text": [
      "19\n",
      "19\n",
      "31\n"
     ]
    }
   ],
   "source": [
    "public int bin2dec(String b) {\n",
    "    int value = 0;\n",
    "    for(int i=0; i<b.length(); i++) {\n",
    "        value=value*2;\n",
    "        if (b.charAt(i)=='1') {\n",
    "            value++;\n",
    "        }\n",
    "    }\n",
    "    return value;\n",
    "}\n",
    "\n",
    "System.out.println(bin2dec(\"10011\")); // geldig arugment\n",
    "System.out.println(bin2dec(\"10211\")); // ongeldig argument\n",
    "System.out.println(bin2dec(\"11111\")); // geldig arugment"
   ]
  },
  {
   "cell_type": "markdown",
   "id": "8c522da2",
   "metadata": {},
   "source": [
    "In de meeste gevallen is het niet wenselijk om fouten te negeren. Het levert onvoorspelbare resultaten op."
   ]
  },
  {
   "cell_type": "markdown",
   "id": "6fc7e914",
   "metadata": {},
   "source": [
    "## Actie bij fout: Foutmelding op het scherm afdrukken\n",
    "Een andere eenvoudige actie in geval van een fout, is een melding op het scherm afdrukken. Hiervoor moet de code meestal van extra controles worden voorzien.\n",
    "\n",
    "Het onderstaande voorbeeld is een methode die een binair getal in een string omzet naar een integer. Een binair getal bevat alleen 0 of 1. In geval van een ongeldig symbool wordt een melding afgedrukt."
   ]
  },
  {
   "cell_type": "code",
   "execution_count": 10,
   "id": "9e945d3a",
   "metadata": {},
   "outputs": [
    {
     "name": "stdout",
     "output_type": "stream",
     "text": [
      "19\n"
     ]
    },
    {
     "name": "stderr",
     "output_type": "stream",
     "text": [
      "Invalid binary character 2\n"
     ]
    },
    {
     "name": "stdout",
     "output_type": "stream",
     "text": [
      "19\n",
      "31\n"
     ]
    }
   ],
   "source": [
    " public int bin2dec(String b) {\n",
    "    int value = 0;\n",
    "    for(int i=0; i<b.length(); i++) {\n",
    "        value=value*2;\n",
    "        if (b.charAt(i)=='1') {\n",
    "            value++;\n",
    "        } else if (b.charAt(i)!='0') {\n",
    "            System.err.println(\"Invalid binary character \"+b.charAt(i));\n",
    "        }\n",
    "    }\n",
    "    return value;\n",
    "}\n",
    "\n",
    "System.out.println(bin2dec(\"10011\")); // geldig arugment\n",
    "System.out.println(bin2dec(\"10211\")); // ongeldig argument\n",
    "System.out.println(bin2dec(\"11111\")); // geldig arugment"
   ]
  },
  {
   "cell_type": "markdown",
   "id": "d797a357",
   "metadata": {},
   "source": [
    "In plaats van **System.out.println** wordt **System.err.println** gebruikt voor foutmeldingen.\n",
    "\n",
    "Eventueel kan met een return-statement bij een fout de methode worden beëindigd.\n",
    "\n",
    "Hoewel deze aanpak duidelijker maakt dat er sprake is van een fout dan wanneer de fout wordt genegeerd zijn er veel nadelen: Het is niet mogelijk om de fout te onderscheppen en op een andere manier af te handelen, de foutmelding is in een specifieke taal wat meertaligheid lastig maakt, in grafische gebruikersinterfaces is de foutmelding niet te zien."
   ]
  },
  {
   "cell_type": "markdown",
   "id": "78625b4f",
   "metadata": {},
   "source": [
    "## Actie bij fout: Fout aangeven door middel van return value\n",
    "Om manier om aan te geven dat er een fout is opgetreden, is het gebruiken van speciale return-waardes.\n",
    "\n",
    "Het onderstaande voorbeeld is een methode die een binair getal in een string omzet naar een integer. Een binair getal bevat alleen 0 of 1. De resultaten van deze methode zijn 0 of positief. Daarom kan de return-waarde -1 worden gebruikt om aan te geven dat er sprake is van een ongeldig symbool."
   ]
  },
  {
   "cell_type": "code",
   "execution_count": 11,
   "id": "6b2e5510",
   "metadata": {},
   "outputs": [
    {
     "name": "stdout",
     "output_type": "stream",
     "text": [
      "19\n",
      "-1\n",
      "31\n"
     ]
    }
   ],
   "source": [
    "public int bin2dec(String b) {\n",
    "    int value = 0;\n",
    "    for(int i=0; i<b.length(); i++) {\n",
    "        value=value*2;\n",
    "        if (b.charAt(i)=='1') {\n",
    "            value++;\n",
    "        } else if (b.charAt(i)!='0') {\n",
    "            return -1;\n",
    "        }\n",
    "    }\n",
    "    return value;\n",
    "}\n",
    "\n",
    "System.out.println(bin2dec(\"10011\")); // geldig arugment\n",
    "System.out.println(bin2dec(\"10211\")); // ongeldig argument\n",
    "System.out.println(bin2dec(\"11111\")); // geldig arugment"
   ]
  },
  {
   "cell_type": "markdown",
   "id": "1dced6d7",
   "metadata": {},
   "source": [
    "Voordeel van deze aanpak is eenvoud. Daarnaast is deze aanpak onafhankelijk van het type gebruikersinterface en taal. De programmeer kan bij gebruik van deze methode zelf bepalen hoe de fout af te handelen.\n",
    "\n",
    "Nadeel van deze aanpak is dat het niet mogelijk (of moeilijk) is om meer informatie over de fout mee te geven. Daarnaast is het niet altijd mogelijk om een speciale waarde te gebruiken voor fouten, bijvoorbeeld als een functie alle mogelijke integers als resultaat kan teruggeven. Verder vereist het afhandelen van een fout vele extra if-statements bij gebruik van een methode. In geval dit wordt vergeten, komen er onverwachte waardes terug als resultaat, wat weer voor onvoorspelbaar gedrag van een programma kan zorgen."
   ]
  },
  {
   "cell_type": "markdown",
   "id": "7e5baf3b",
   "metadata": {},
   "source": [
    "## Actie bij fout: Exception 'gooien'\n",
    "Om manier om aan te geven dat er een fout is opgetreden, is het 'gooien' van een exception.\n",
    "\n",
    "Het onderstaande voorbeeld is een methode die een binair getal in een string omzet naar een integer. Een binair getal bevat alleen 0 of 1. De resultaten van deze methode zijn 0 of positief. Er wordt een exception 'gegooid' als er sprake is van een ongeldig symbool."
   ]
  },
  {
   "cell_type": "code",
   "execution_count": 12,
   "id": "0c268e87",
   "metadata": {},
   "outputs": [
    {
     "name": "stdout",
     "output_type": "stream",
     "text": [
      "19\n"
     ]
    },
    {
     "ename": "EvalException",
     "evalue": "Invalid binary character 2",
     "output_type": "error",
     "traceback": [
      "\u001b[1m\u001b[31m---------------------------------------------------------------------------\u001b[0m",
      "\u001b[1m\u001b[31mjava.lang.RuntimeException: Invalid binary character 2\u001b[0m",
      "\u001b[1m\u001b[31m\tat .bin2dec(#21:8)\u001b[0m",
      "\u001b[1m\u001b[31m\tat .(#32:2)\u001b[0m"
     ]
    }
   ],
   "source": [
    "public int bin2dec(String b) {\n",
    "    int value = 0;\n",
    "    for(int i=0; i<b.length(); i++) {\n",
    "        value=value*2;\n",
    "        if (b.charAt(i)=='1') {\n",
    "            value++;\n",
    "        } else if (b.charAt(i)!='0') {\n",
    "            throw new RuntimeException(\"Invalid binary character \"+b.charAt(i));\n",
    "        }\n",
    "    }\n",
    "    return value;\n",
    "}\n",
    "\n",
    "System.out.println(bin2dec(\"10011\")); // geldig arugment\n",
    "System.out.println(bin2dec(\"10211\")); // ongeldig argument\n",
    "System.out.println(bin2dec(\"11111\")); // geldig arugment"
   ]
  },
  {
   "cell_type": "markdown",
   "id": "c045bef5",
   "metadata": {},
   "source": [
    "Dit is de meest gebruikte aanpak bij fouten in Java.\n",
    "\n",
    "Voordeelen:\n",
    "- Een exception 'gooien' is eenvoudig\n",
    "- Uitvoering van de methode (of blok code waar de fout optreedt) wordt automatisch beëindigd\n",
    "- Aan de exception kan extra informatie worden toegevoegd over de fout\n",
    "- Exceptions zijn zeer flexibel\n",
    "- Exceptions kunnen op verschillende manieren afgehandeld worden. In geval er niets afgehandeld wordt, wordt het programma beëindigd en zal de fout niet over het hoofd worden gezien."
   ]
  },
  {
   "cell_type": "markdown",
   "id": "78a88de6",
   "metadata": {},
   "source": [
    "## Wat is een exception?\n",
    "Een *exception* is een gebeurtenis (meestal een fout), tijdens de uitvoering van een programma, die de normale uitvoering van een (deel van een) programma onderbreekt.\n",
    "\n",
    "Informatie over de gebeurtenis wordt doorgegeven via een speciaal object.\n",
    "\n",
    "Dit object wordt ook wel eens 'exception' genoemd, maar het begrip *exception* heeft betrekking op de gebeurtenis die aanleiding is om uitvoering van een programma niet voort te zetten."
   ]
  },
  {
   "cell_type": "markdown",
   "id": "c523321b",
   "metadata": {},
   "source": [
    "## Exception 'gooien'\n",
    "\n",
    "Een exception wordt 'gegooid' met het keyword throw.\n",
    "```Java\n",
    "throw <exception-object>\n",
    "```\n",
    "\n",
    "Voorbeeld:"
   ]
  },
  {
   "cell_type": "code",
   "execution_count": 13,
   "id": "6bc3daa7",
   "metadata": {},
   "outputs": [
    {
     "ename": "EvalException",
     "evalue": "Dit is een exception",
     "output_type": "error",
     "traceback": [
      "\u001b[1m\u001b[31m---------------------------------------------------------------------------\u001b[0m",
      "\u001b[1m\u001b[31mjava.lang.Exception: Dit is een exception\u001b[0m",
      "\u001b[1m\u001b[31m\tat .(#33:1)\u001b[0m"
     ]
    }
   ],
   "source": [
    "throw new Exception(\"Dit is een exception\");\n",
    "throw new RuntimeException(\"Something went wrong..\");\n",
    "throw new IllegalArgumentException(\"Index negatief\");\n"
   ]
  },
  {
   "cell_type": "markdown",
   "id": "c5d198ef",
   "metadata": {},
   "source": [
    "## Afhandelen van exceptions\n",
    "\n",
    "Er zijn twee mogelijkheden om te reageren op exceptions:\n",
    "- Negeren. De exception kan eventueel afgehandeld worden door de aanroeper van de methode. Als een exception nergens wordt afgehandeld, beëindigt de Java virtuele machine het programma en print de exception op de error-console.\n",
    "- Opvangen. De exceptions kan opgevangen worden met een try..catch-block."
   ]
  },
  {
   "cell_type": "markdown",
   "id": "60c9cd25",
   "metadata": {},
   "source": [
    "Exceptions opvangen\n",
    "\n",
    "Bij het opvangen van exceptions zijn drie keywords betrokken, die alle drie vooraf gaan aan een blok code: **try**, **catch** en **finally**.\n",
    "\n",
    "- **try** Als tijdens het uitvoeren van code in een try-block een exception optreedt, wordt uitvoering van de code in het try-block gestopt en voortgezet in het catch-block.\n",
    "- **catch** Code in het catch-block wordt uitgevoerd als een exception optreedt. Als geen exception optreedt, wordt de code niet uitgevoerd.\n",
    "- **finally** Code in een finally-block wordt in alle gevallen uitgevoerd, ongeacht of er wel of niet een exception optreedt. Code in een finally-block wordt als laatste uitgevoerd.\n",
    "\n",
    "In een *try-catch-finally-block* is alleen het keyword **try** verplicht. Een **try**-block gaat in de meeste gevallen samen met een **catch**-block.\n",
    "    \n",
    "Voorbeeld:"
   ]
  },
  {
   "cell_type": "code",
   "execution_count": 14,
   "id": "8bd299f6",
   "metadata": {},
   "outputs": [
    {
     "name": "stdout",
     "output_type": "stream",
     "text": [
      "19\n",
      "Er is een fout opgetreden.\n",
      "Melding: Invalid binary character 2\n"
     ]
    }
   ],
   "source": [
    "public int bin2dec(String b) {\n",
    "    int value = 0;\n",
    "    for(int i=0; i<b.length(); i++) {\n",
    "        value=value*2;\n",
    "        if (b.charAt(i)=='1') {\n",
    "            value++;\n",
    "        } else if (b.charAt(i)!='0') {\n",
    "            throw new RuntimeException(\"Invalid binary character \"+b.charAt(i));\n",
    "        }\n",
    "    }\n",
    "    return value;\n",
    "}\n",
    "\n",
    "try {\n",
    "    System.out.println(bin2dec(\"10011\")); // geldig arugment\n",
    "    System.out.println(bin2dec(\"10211\")); // ongeldig argument\n",
    "    System.out.println(bin2dec(\"11111\")); // geldig arugment\n",
    "} catch (Exception e) {\n",
    "    System.out.println(\"Er is een fout opgetreden.\");\n",
    "    System.out.println(\"Melding: \"+e.getMessage());\n",
    "}"
   ]
  },
  {
   "cell_type": "markdown",
   "id": "792077d7",
   "metadata": {},
   "source": [
    "## Types exceptions\n",
    "\n",
    "Er zijn drie types exceptions:\n",
    "- Error\n",
    "Een error is een gebeurtenis die onherstelbaar is. In de regel treden errors alleen op vanuit de Java virtuele machine.\n",
    "- Checked exception\n",
    "Een checked exception is een exception die verplicht afgehandeld moet worden met een try..catch-block.\n",
    "- Unchecked exception\n",
    "Een unchecked exception is een exception die niet verplicht afgehandeld hoeft te worden met een try..catch-block. \n",
    "\n",
    "Elke exception is een object van een klasse die overerft van **Throwable**. Het exacte type van een bepaalde exception wordt bepaald door overerving van een van de subclasses van **Throwable**: **Error**, **Exception** en/of **RuntimeException**.\n",
    "\n",
    "![exhierarchy.png](images/8/exhierarchy.png)\n"
   ]
  },
  {
   "cell_type": "markdown",
   "id": "01122553",
   "metadata": {},
   "source": [
    "## Error\n",
    "Een error is een gebeurtenis die onherstelbaar is. Daarom heeft het in de regel weinig zin om ze op te vangen met **catch**. In de regel treden errors alleen op vanuit de Java virtuele machine.\n",
    "\n",
    "Errors worden niet gebruikt of afgehandeld in normale programma's.\n",
    "\n",
    "Een error overerft van de klasse **Error**, https://docs.oracle.com/en/java/javase/11/docs/api/java.base/java/lang/Error.html\n",
    "\n",
    "Het onderstaande voorbeeld triggert een error vanuit de Java virtuele machine:"
   ]
  },
  {
   "cell_type": "markdown",
   "id": "63142c11-2b0c-49ea-b15f-fe7a03406d2e",
   "metadata": {},
   "source": [
    "```java\n",
    "public void trigger_error() {\n",
    "    trigger_error(); // oneindige recursie\n",
    "}\n",
    "trigger_error();\n",
    "```"
   ]
  },
  {
   "cell_type": "markdown",
   "id": "523554f5",
   "metadata": {},
   "source": [
    "## Checked exception\n",
    "Een checked exception is een exception die verplicht afgehandeld moet worden met een try..catch-block.\n",
    "\n",
    "Een checked exception wordt gebruikt als een fout mogelijk afgehandeld kan worden, en deze fout niet het gevolg is van een fout van de programmeur. Bijvoorbeeld netwerk- of schijffouten. Dit zijn fouten die buiten de invloed van de programmeur liggen.\n",
    "\n",
    "Checked exception overerven van de klasse **Exception** maar <u>niet</u> van de klasse **RuntimeException**: https://docs.oracle.com/en/java/javase/11/docs/api/java.base/java/lang/Exception.html\n",
    "\n",
    "Code met een niet afgehandelde checked exception compileert niet.\n",
    "\n",
    "De meest voorkomende checked exception is IOException, die onder andere optreedt bij allerlei I/O fouten bij het openen, lezen en schrijven van bestanden.\n",
    "\n",
    "In het onderstaande voorbeeld wordt de IOException afgehandeld:"
   ]
  },
  {
   "cell_type": "code",
   "execution_count": 16,
   "id": "55cc30cd",
   "metadata": {},
   "outputs": [
    {
     "name": "stdout",
     "output_type": "stream",
     "text": [
      "Fout bij openen of lezen bestand: file.txt (Bestand of map bestaat niet)\n"
     ]
    }
   ],
   "source": [
    "public void printFileContents(String filename) {\n",
    "    try {\n",
    "        BufferedReader br = new BufferedReader(new FileReader(filename));\n",
    "        String line;\n",
    "        while ((line=br.readLine()) != null) {\n",
    "            System.out.println(line);\n",
    "        }\n",
    "        br.close();\n",
    "    } catch(IOException e) {\n",
    "        System.out.println(\"Fout bij openen of lezen bestand: \"+e.getMessage());\n",
    "    }\n",
    "}\n",
    "\n",
    "printFileContents(\"file.txt\");"
   ]
  },
  {
   "cell_type": "markdown",
   "id": "6621be04",
   "metadata": {},
   "source": [
    "## Unchecked exception\n",
    "Een unchecked exception kan afgehandeld worden, maar het is niet verplicht.\n",
    "    \n",
    "Een unchecked exception wordt ook wel runtime exception genoemd. Deze overerft van de klasse RuntimeException: https://docs.oracle.com/en/java/javase/11/docs/api/java.base/java/lang/RuntimeException.html.\n",
    "    \n",
    "Een unchecked exception wordt gebruikt als de fout het gevolg is van eenn fout van de programmeur. Daarom is het in de regel niet wenselijk om een unchecked exception af te handelen. Als een dergelijke exception optreedt, dan is dat een indicatie dat in de code iets gecorrigeerd moet worden.\n",
    "\n",
    "Unchecked exceptions treden op bij bijvoorbeeld een integer delen door 0 of het benaderen van een niet-bestaand element in een array.\n",
    "\n",
    "In het onderstaande voorbeeld treden unchecked exceptions op:"
   ]
  },
  {
   "cell_type": "code",
   "execution_count": 17,
   "id": "5829b65f",
   "metadata": {},
   "outputs": [
    {
     "ename": "EvalException",
     "evalue": "Index 20 out of bounds for length 10",
     "output_type": "error",
     "traceback": [
      "\u001b[1m\u001b[31m---------------------------------------------------------------------------\u001b[0m",
      "\u001b[1m\u001b[31mjava.lang.ArrayIndexOutOfBoundsException: Index 20 out of bounds for length 10\u001b[0m",
      "\u001b[1m\u001b[31m\tat .(#39:1)\u001b[0m"
     ]
    }
   ],
   "source": [
    "int[] scores = new int[10];\n",
    "System.out.println(scores[20]);\n",
    "\n",
    "int a=3;\n",
    "int b=0;\n",
    "System.out.println(a/b);"
   ]
  },
  {
   "cell_type": "markdown",
   "id": "8ad0feb3",
   "metadata": {},
   "source": [
    "## Zelf exceptions 'gooien'\n",
    "In geval een methode een exception gooit, is het niet geen good practica om de generieke klassen Exception of RuntimeException te gebruiken. Wenselijk is een specifieke klasse.\n",
    "\n",
    "Een dergelijke klasse kan zelf geschreven worden, maar standaard zijn ook vele klassen voor exceptions aanwezig.\n",
    "\n",
    "Bijvoorbeeld **IllegalArgumentException** in geval van een ongeldig argument:"
   ]
  },
  {
   "cell_type": "code",
   "execution_count": 18,
   "id": "204a3ec0",
   "metadata": {},
   "outputs": [
    {
     "name": "stdout",
     "output_type": "stream",
     "text": [
      "19\n"
     ]
    },
    {
     "ename": "EvalException",
     "evalue": "Invalid binary character 2",
     "output_type": "error",
     "traceback": [
      "\u001b[1m\u001b[31m---------------------------------------------------------------------------\u001b[0m",
      "\u001b[1m\u001b[31mjava.lang.IllegalArgumentException: Invalid binary character 2\u001b[0m",
      "\u001b[1m\u001b[31m\tat .bin2dec(#21:8)\u001b[0m",
      "\u001b[1m\u001b[31m\tat .(#41:2)\u001b[0m"
     ]
    }
   ],
   "source": [
    "public int bin2dec(String b) {\n",
    "    int value = 0;\n",
    "    for(int i=0; i<b.length(); i++) {\n",
    "        value=value*2;\n",
    "        if (b.charAt(i)=='1') {\n",
    "            value++;\n",
    "        } else if (b.charAt(i)!='0') {\n",
    "            throw new IllegalArgumentException(\"Invalid binary character \"+b.charAt(i));\n",
    "        }\n",
    "    }\n",
    "    return value;\n",
    "}\n",
    "\n",
    "System.out.println(bin2dec(\"10011\")); // geldig arugment\n",
    "System.out.println(bin2dec(\"10211\")); // ongeldig argument\n",
    "System.out.println(bin2dec(\"11111\")); // geldig arugment"
   ]
  },
  {
   "cell_type": "markdown",
   "id": "90390baa",
   "metadata": {},
   "source": [
    "## Specifieke exceptions opvangen\n",
    "\n",
    "Ook voor het opvangen van exceptions geldt dat dit zo specifiek mogelijk dient te zijn.\n",
    "\n",
    "Indien bijvoorbeeld een **IOException** moet worden opgevangen, dan wordt in de catch-blok niet het type **Exception** maar **IOException** gebruikt.\n",
    "\n",
    "Door meerdere catch-blokken te gebruiken, is het mogelijk om verschillende types exceptions verschillend af te handelen.\n",
    "\n",
    "Bijvoorbeeld:"
   ]
  },
  {
   "cell_type": "code",
   "execution_count": 19,
   "id": "f0e86a6b",
   "metadata": {},
   "outputs": [
    {
     "name": "stdout",
     "output_type": "stream",
     "text": [
      "Bestand niet gevonden\n"
     ]
    }
   ],
   "source": [
    "public void printFileContents(String filename) {\n",
    "    try {\n",
    "        BufferedReader br = new BufferedReader(new FileReader(filename));\n",
    "        String line;\n",
    "        while ((line=br.readLine()) != null) {\n",
    "            System.out.println(line);\n",
    "        }\n",
    "        br.close();\n",
    "    } catch(FileNotFoundException e) {\n",
    "        System.out.println(\"Bestand niet gevonden\");\n",
    "    } catch(IOException e) {\n",
    "        System.out.println(\"Fout bij openen of lezen bestand: \"+e.getMessage());\n",
    "    }\n",
    "}\n",
    "\n",
    "printFileContents(\"file.txt\");"
   ]
  },
  {
   "cell_type": "markdown",
   "id": "18f0c1e0",
   "metadata": {},
   "source": [
    "## Het keyword **throws**\n",
    "\n",
    "Indien het wenselijk is dat een checked exception niet ter plekke wordt afgehandeld, maar op de plek waar een methode wordt aangeroepen, dan wordt met het keyword *throws* aangegeven dat de methode de exception kan opleveren. Het is dan niet meer verplicht om in de methode zelf de exception af te handelen. Deze verplichting wordt verplaatst naar de aanroeper."
   ]
  },
  {
   "cell_type": "code",
   "execution_count": 20,
   "id": "ce3a70cb",
   "metadata": {},
   "outputs": [
    {
     "name": "stdout",
     "output_type": "stream",
     "text": [
      "Bestand niet gevonden\n"
     ]
    }
   ],
   "source": [
    "public void printFileContents(String filename) throws IOException {\n",
    "    BufferedReader br = new BufferedReader(new FileReader(filename));\n",
    "    String line;\n",
    "    while ((line=br.readLine()) != null) {\n",
    "        System.out.println(line);\n",
    "    }\n",
    "    br.close();\n",
    "}\n",
    "\n",
    "public void test() {\n",
    "    try {\n",
    "        printFileContents(\"file.txt\");\n",
    "    } catch(FileNotFoundException e) {\n",
    "        System.out.println(\"Bestand niet gevonden\");\n",
    "    } catch(IOException e) {\n",
    "        System.out.println(\"Fout bij openen of lezen bestand: \"+e.getMessage());\n",
    "    }\n",
    "}\n",
    "\n",
    "test();"
   ]
  },
  {
   "cell_type": "markdown",
   "id": "bfd10f95",
   "metadata": {},
   "source": [
    "## Lezen over exceptions\n",
    "Meer weten over exceptions? De onderstaande bronnen bevatten diepgaande informatie over exceptions.\n",
    "\n",
    "- https://docs.oracle.com/javase/tutorial/essential/exceptions/index.html\n",
    "- https://www.baeldung.com/java-exceptions\n",
    "- https://www.programiz.com/java-programming/exceptions\n"
   ]
  },
  {
   "cell_type": "code",
   "execution_count": null,
   "id": "3c1fb876",
   "metadata": {},
   "outputs": [],
   "source": []
  }
 ],
 "metadata": {
  "kernelspec": {
   "display_name": "Java",
   "language": "java",
   "name": "java"
  },
  "language_info": {
   "codemirror_mode": "java",
   "file_extension": ".jshell",
   "mimetype": "text/x-java-source",
   "name": "Java",
   "pygments_lexer": "java",
   "version": "11.0.12+7-Ubuntu-0ubuntu3"
  }
 },
 "nbformat": 4,
 "nbformat_minor": 5
}
