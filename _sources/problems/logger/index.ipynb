{
 "cells": [
  {
   "cell_type": "markdown",
   "id": "8d7c972b",
   "metadata": {},
   "source": [
    "# Opgave singleton pattern\n",
    "## Doel\n",
    "- Oefenen met het singleton pattern"
   ]
  },
  {
   "cell_type": "markdown",
   "id": "9c57a6be",
   "metadata": {},
   "source": [
    "## Loggers\n",
    "Deze opgave gaat over het gebruik van een logger.\n",
    "\n",
    "Een logger is een klasse waarmee een bericht geschreven kan worden naar een log. Deze wordt dan voorzien een regelnummer en op de console afgedrukt.\n",
    "\n",
    "Dit is een eenvoudige implementatie van een dergelijke logger:\n",
    "```Java\n",
    "public class Logger {\n",
    "\n",
    "    private int lineNr;\n",
    "\n",
    "    public Logger() {\n",
    "        log(\"Instance of Logger created.\");\n",
    "    }\n",
    "\n",
    "    public void log(String text) {\n",
    "        lineNr++;\n",
    "        System.out.println(\"LOG \"+lineNr+\": \"+text);\n",
    "    }\n",
    "\n",
    "}\n",
    "```"
   ]
  },
  {
   "cell_type": "markdown",
   "id": "0cef807a",
   "metadata": {},
   "source": [
    "## Gebruik maken van de logger\n",
    "\n",
    "Gebruik maken van de bovenstaande klasse `Logger` is een kwestie van een instantie maken en de methode `log` aanroepen:\n",
    "\n",
    "```Java\n",
    "Logger logger = new Logger();\n",
    "logger.log(\"Hello world!\");\n",
    "```\n",
    "\n",
    "De onderstaande klasse `ReadFile` maakt op deze wijze gebruik van de klasse `Logger`:\n",
    "\n",
    "```Java\n",
    "public class ReadFile {\n",
    "\n",
    "    private String filename;\n",
    "\n",
    "    public ReadFile(String filename) {\n",
    "        this.filename = filename;\n",
    "    }\n",
    "\n",
    "    public String[] readLines() throws IOException {\n",
    "        try (BufferedReader br = new BufferedReader(new FileReader(filename))) {\n",
    "            String[] lines = (String[])br.lines().toArray();\n",
    "            Logger logger = new Logger();\n",
    "            logger.log(lines.length+\" lines read succesfully from file \"+filename);\n",
    "            return lines;\n",
    "        } catch(FileNotFoundException e) {\n",
    "            Logger logger = new Logger();\n",
    "            logger.log(\"File \"+filename+\" not found\");\n",
    "        }\n",
    "        return null;\n",
    "    }\n",
    "}\n",
    "```\n",
    "\n",
    "Maak een nieuw project (of een package binnen een bestaand project) en neem de klassen `Logger` en `ReadFile` over. Maak vervolgens een main-klasse met main-methode met daarin de volgende regels code:\n",
    "\n",
    "```Java\n",
    "    Logger logger = new Logger();\n",
    "    logger.log(\"Start program\");\n",
    "    ReadFile readFile = new ReadFile(\"test.txt\");\n",
    "    String[] lines= new String[0];\n",
    "    try {\n",
    "        lines = readFile.readLines();\n",
    "        if (lines!=null) {\n",
    "            for(String line : lines) {\n",
    "                System.out.println(line);\n",
    "            }\n",
    "        }\n",
    "    } catch (IOException e) {\n",
    "        e.printStackTrace();\n",
    "    }\n",
    "    logger.log(\"Eind of program\");\n",
    "```\n",
    "\n",
    "Eventueel kan een bestand `test.txt` gemaakt worden, maar voor deze oefening maakt het niet veel uit of het bestand bestaat of niet."
   ]
  },
  {
   "cell_type": "markdown",
   "id": "d758d2eb",
   "metadata": {},
   "source": [
    "## Aantal instanties van de klasse `Logger`\n",
    "\n",
    "Hoeveel instanties van de klasse `Logger` worden gemaakt als het programma wordt uitgevoerd?\n",
    "\n",
    "Hoe is dat te zien in de code?\n",
    "\n",
    "Hoe is dat te zien in bij uitvoering?"
   ]
  },
  {
   "cell_type": "markdown",
   "id": "f37450df",
   "metadata": {},
   "source": [
    "## Eén instantie van klasse `Logger`\n",
    "\n",
    "Zorg ervoor dat in het hele programma dezelfde instantie van de klasse `Logger` wordt gebruikt. Er mag slechts één instantie van `Logger` bestaan. Maak daarbij gebruik van het singleton pattern."
   ]
  },
  {
   "cell_type": "markdown",
   "id": "d4e89381",
   "metadata": {},
   "source": [
    "## Evaluatie\n",
    "\n",
    "Hoe is na te gaan of er daadwerkelijk slechts één instantie van klasse `Logger` is?\n",
    "\n",
    "Het singleton pattern is niet de enige manier om er voor te zorgen dat alle onderdelen van het programma dezelfde instantie van klasse `Logger` gebruiken. Er is veel kritiek op het gebruik van het singleton pattern. Beschrijf een goed en werkbaar alternatief voor gebruik van het singleton pattern om een vergelijkbaar resultaat te krijgen. Pas dit eventueel toe."
   ]
  }
 ],
 "metadata": {
  "kernelspec": {
   "display_name": "Java",
   "language": "java",
   "name": "java"
  },
  "language_info": {
   "codemirror_mode": "java",
   "file_extension": ".jshell",
   "mimetype": "text/x-java-source",
   "name": "java",
   "pygments_lexer": "java",
   "version": "11.0.12+7-Ubuntu-0ubuntu3"
  }
 },
 "nbformat": 4,
 "nbformat_minor": 5
}
