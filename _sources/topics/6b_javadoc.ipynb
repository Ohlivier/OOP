{
 "cells": [
  {
   "cell_type": "markdown",
   "id": "587d0921",
   "metadata": {},
   "source": [
    "# Javadoc\n",
    "Javadoc is een tool dat aan de hand van Java broncode HTML-bestanden genereert met documentatie over een klasse."
   ]
  },
  {
   "cell_type": "markdown",
   "id": "d2d62d71",
   "metadata": {},
   "source": [
    "## Commentaar\n",
    "Java broncode kan drie verschillende types commentaar bevatten:\n",
    "\n",
    "**End-of-line commentaar**\n",
    "Dit commentaar start met // en bevat één regel commentaar.\n",
    "\n",
    "**Commentaar-blok**\n",
    "Dit commentaar start met /* en eindigt met */. Daar tussenin staat commentaar, dat uit meerdere regels kan bestaan.\n",
    "\n",
    "**Documentatie-commentaar**\n",
    "Dit commentaar start met /** en eindigt met */. Daar tussenin staat commentaar, waarmee een klasse of methode wordt gedocumenteerd.\n",
    "\n",
    "Het documentatie-commentaar wordt door de tool *javadoc* omgezet in HTML-bestanden met documentatie."
   ]
  },
  {
   "cell_type": "markdown",
   "id": "4e2f2675",
   "metadata": {},
   "source": [
    "## Java documentatie\n",
    "Ook de documentatie van de standaard Java-klassen is gegenereerd met Javadoc.\n",
    "\n",
    "https://docs.oracle.com/en/java/javase/11/docs/api/allclasses.html\n",
    "\n",
    "Documentatie van een klasse bevat de volgende onderdelen:\n",
    "\n",
    "**Field Summary**\n",
    "Overzicht variabelen van de klasse. Vaak zijn dit constanten.\n",
    "\n",
    "**Constructor Summary**\n",
    "Overzicht van constructors van de klasse. Deze worden aangeroepen als de klasse wordt geïnstantieerd (een object wordt gemaakt) met het keyword *new*.\n",
    "\n",
    "**Methode summary**\n",
    "Overzicht van de aanwezige methoden.\n",
    "\n",
    "Na de summaries volgen Field Detail, Constructor Detail en Method Detail met gedetailleerde beschrijvingen van de variabelen, constructors en methoden.\n"
   ]
  },
  {
   "cell_type": "markdown",
   "id": "2f60f153",
   "metadata": {},
   "source": [
    "## Documentatie schrijven\n",
    "Documentatie schrijven gebeurt door direct voor de klassen-definitie en methode-signature documentatie-commentaar te plaatsen.\n",
    "\n",
    "Bijvoorbeeld:\n",
    "```Java\n",
    "/**\n",
    " * Class containing method for counting vowels\n",
    " */\n",
    "public class CountVowels {\n",
    "\n",
    "    /**\n",
    "     * Counts and returns the number of vowels in a string\n",
    "     */\n",
    "    public static int countVowels(String s) {\n",
    "        int counter=0;\n",
    "        for(int i=0; i<s.length(); i++) {\n",
    "            if (\"aeiou\".indexOf(s.charAt(i))>-1) {\n",
    "                counter++;\n",
    "            }\n",
    "        }\n",
    "        return counter;\n",
    "    }\n",
    "```\n"
   ]
  },
  {
   "cell_type": "markdown",
   "id": "ea67c2ec",
   "metadata": {},
   "source": [
    "## Javadoc tags\n",
    "Naast algemene omschrijvingen, wordt door middel van tags specifieke informatie toegevoegd aan de documentatie.\n",
    "\n",
    "Javadoc tags worden voorafgegaan door een @.\n",
    "\n",
    "### Tags voor klasse-definitie\n",
    "\n",
    "**@author**\n",
    "De auteur van de klasse\n",
    "\n",
    "**@version**\n",
    "Versie van de klasse\n",
    "\n",
    "Voorbeeld:\n",
    "```Java\n",
    "/**\n",
    " * Class containing method for counting vowels\n",
    " * \n",
    " * @author Joe the Plumber\n",
    " * @version 1.0\n",
    " */\n",
    "public class CountVowels {\n",
    "```\n",
    "\n",
    "### Tags voor methode-signature\n",
    "\n",
    "**@param**\n",
    "Parameter. De tag wordt direct opgevolgd door de naam van de parameter en een korte omschrijving.\n",
    "\n",
    "**@return**\n",
    "Korte omschrijving van return-waarde. Daarbij wordt het datatype niet benoemd.\n",
    "\n",
    "Voorbeeld:\n",
    "```Java\n",
    "    /**\n",
    "     * Counts and returns the number of vowels in a string\n",
    "     *\n",
    "     * @param s String, of which to count the number of cowels\n",
    "     * @return Number of vowels in string\n",
    "     */\n",
    "    public static int countVowels(String s) {\n",
    "```"
   ]
  },
  {
   "cell_type": "markdown",
   "id": "f0a631e2",
   "metadata": {},
   "source": [
    "## Javadoc genereren\n",
    "\n",
    "**Javadoc genereren met javadoc**\n",
    "```Bash\n",
    "javadoc <klassebestand>\n",
    "```\n",
    "\n",
    "**Javadoc genereren met IntelliJ**\n",
    "menu Tools -> Generate JavaDoc\n",
    "\n",
    "**Javadoc snel weergeven in editor met IntelliJ**\n",
    "Plaats cursor op (naam van) klasse of methode, en ga naar menu View -> Quick Documentation (of CTRL+Q).\n"
   ]
  },
  {
   "cell_type": "markdown",
   "id": "9015c273",
   "metadata": {},
   "source": []
  }
 ],
 "metadata": {
  "kernelspec": {
   "display_name": "Java",
   "language": "java",
   "name": "java"
  },
  "language_info": {
   "codemirror_mode": "java",
   "file_extension": ".jshell",
   "mimetype": "text/x-java-source",
   "name": "Java",
   "pygments_lexer": "java",
   "version": "11.0.11+9-Ubuntu-0ubuntu2.18.04"
  }
 },
 "nbformat": 4,
 "nbformat_minor": 5
}
