{
 "cells": [
  {
   "cell_type": "markdown",
   "id": "8d7c972b",
   "metadata": {},
   "source": [
    "# Opgave facade pattern\n",
    "## Doel\n",
    "- Kennis maken en oefenen met het facade pattern"
   ]
  },
  {
   "cell_type": "markdown",
   "id": "9c57a6be",
   "metadata": {},
   "source": [
    "## Inleiding\n",
    "Deze opgave gaat over het facade pattern.\n",
    "\n",
    "Een facade is een object die functionaliteit aanbiedt om (complexe) operaties uit te voeren op onderliggende klassen."
   ]
  },
  {
   "cell_type": "markdown",
   "id": "0cef807a",
   "metadata": {},
   "source": [
    "## Maps\n",
    "\n",
    "Een map, bijvoorbeeld de klasse HashMap, biedt de mogelijkheid om objecten op te slaan en terug te vinden op basis van een key.\n",
    "\n",
    "Bijvoorbeeld:\n",
    "```Java\n",
    "    Map<Integer, String> membersMap = new HashMap<>();\n",
    "\n",
    "    // Leden toevoegen\n",
    "    membersMap.put(232, \"Henk\");\n",
    "    membersMap.put(184, \"Els\");\n",
    "    membersMap.put(481, \"Joe\");\n",
    "\n",
    "    // Lid opvragen\n",
    "    String memberName=membersMap.get(184);\n",
    "    System.out.println(memberName); // Els\n",
    "```"
   ]
  },
  {
   "cell_type": "markdown",
   "id": "d758d2eb",
   "metadata": {},
   "source": [
    "## Lists\n",
    "Een list, bijvoorbeeld de klasse ArrayList, biedt de mogelijkheid om objecten toe te voegen, en terug te vinden op basis van een index.\n",
    "\n",
    "Een map op basis van lists\n",
    "\n",
    "Met twee lists kan, met een omweg de functionaliteit van een map worden gerealiseerd.\n",
    "\n",
    "Bijvoorbeeld:\n",
    "```Java\n",
    "    List<Integer> ids = new ArrayList<>();\n",
    "    List<String> members = new ArrayList<>();\n",
    "\n",
    "    // Leden toevoegen\n",
    "    ids.add(232); members.add(\"Henk\");\n",
    "    ids.add(184); members.add(\"Els\");\n",
    "    ids.add(481); members.add(\"Joe\");\n",
    "\n",
    "    // Lid opvragen\n",
    "    int idx=ids.indexOf(184);\n",
    "    String memberName=members.get(idx);\n",
    "    System.out.println(memberName); // Els\n",
    "```\n",
    "Het werken met twee lists in plaats van een map heeft als gevolg dat zelfs elementaire handelingen,\n",
    "zoals het toevoegen van een key-object paar en het opvragen van een waarde, complexe code opleveren.\n",
    "\n",
    "De meest voor de hand liggende oplossing is het gebruiken van een map. Dit is echter niet altijd mogelijk of wenselijk.\n",
    "Bijvoorbeeld als er sprake is van lists, deze lists gebruikt worden door andere delen van het programma, en kopiëren niet wenselijk is."
   ]
  },
  {
   "cell_type": "markdown",
   "id": "f37450df",
   "metadata": {},
   "source": [
    "## De klasse ListMap\n",
    "Het facade pattern biedt de mogelijkheid om de eenvoud van een map te bieden zonder dat de arraylists omgezet worden naar een map. De onderstaande klasse **ListMap** is een *facade* en een mogelijke implementatie van het *facade pattern*.\n",
    "\n",
    "De klasse **ListMap** bevat de volgende publieke methodes:\n",
    "```Java\n",
    "public void put(Integer key, String value)\n",
    "public String get(Integer key)\n",
    "```\n",
    "\n",
    "De lists die gebruikt worden, worden doorgegeven via de *constructor*."
   ]
  },
  {
   "cell_type": "markdown",
   "id": "d4e89381",
   "metadata": {},
   "source": [
    "## Opgave\n",
    "\n",
    "1. Maak een main-klasse met main-methode en neem het bovenstaande voorbeeld over waarbij twee lijsten worden gebruikt om id's en leden bij te houden.\n",
    "\n",
    "\n",
    "2. Maak de klasse **ListMap** conform bovenstaande omschrijving. Maak voor *keys* en *values* gebruik van de datatypes **List\\<Integer\\>** en **List\\<String\\>**.\n",
    "\n",
    "    \n",
    "3. Pas de main-klasse aan, zodat het toevoegen van leden en het opvragen van een lid met een **ListMap**-object gedaan wordt.\n",
    "\n",
    "    \n",
    "4. Vul de methodes in **ListMap** aan met enkele controles. De methode put overschrijft een waarde als de key al bestaat. Controleer of de key al aanwezig is, en zo ja, zorg er voor dat de al aanwezige waarde wordt overschreven. De methode get geeft een exception als de key niet bestaat. Pas deze methode aan zodat er in dat geval *null* wordt geretourneerd in plaats van een exception.\n",
    "\n",
    "    \n",
    "5. *(optioneel, dit is geen tentamenstof!)*\n",
    "Pas de klasse ListMap aan, zodat deze voor alle lijsten worden gebruikt, ongeacht de datatypes van key en values.\n",
    "Dit kan met de volgende stappen:\n",
    "    - Pas de definitie aan van klasse **ListMap** aan door *\\<K,V\\>* toe te voegen: *public class ListMap<K,V>*\n",
    "    - Vervang in de klasse *ListMap* het datatype **Integer** door *K* en **String** door *V*\n",
    "    - Pas in de main-methode de declaratie van **ListMap** aan naar *ListMap<String, Integer>* en *new ListMap<>()*\n",
    "\n",
    "    De datatypes **K** en **V** worden *generic types* genoemd.\n",
    "\n",
    "\n",
    "\n"
   ]
  },
  {
   "cell_type": "code",
   "execution_count": null,
   "id": "ef49d9b1",
   "metadata": {},
   "outputs": [],
   "source": []
  },
  {
   "cell_type": "code",
   "execution_count": null,
   "id": "a1512d34",
   "metadata": {},
   "outputs": [],
   "source": []
  }
 ],
 "metadata": {
  "kernelspec": {
   "display_name": "Java",
   "language": "java",
   "name": "java"
  },
  "language_info": {
   "codemirror_mode": "java",
   "file_extension": ".jshell",
   "mimetype": "text/x-java-source",
   "name": "Java",
   "pygments_lexer": "java",
   "version": "11.0.17+8-post-Ubuntu-1ubuntu220.04"
  }
 },
 "nbformat": 4,
 "nbformat_minor": 5
}
