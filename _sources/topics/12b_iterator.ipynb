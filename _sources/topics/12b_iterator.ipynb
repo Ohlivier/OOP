{
 "cells": [
  {
   "cell_type": "markdown",
   "id": "e57d964e-b197-4ac3-b2ca-28b597cd4aaf",
   "metadata": {
    "slideshow": {
     "slide_type": "slide"
    },
    "tags": []
   },
   "source": [
    "# Iterator Pattern"
   ]
  },
  {
   "cell_type": "markdown",
   "id": "f58f585b-5cdc-40fe-a339-f0c15fa2b70a",
   "metadata": {
    "slideshow": {
     "slide_type": "fragment"
    },
    "tags": []
   },
   "source": [
    "> Een manier om de elementen van een geaggregeerd object sequentieel te doorlopen zonder kennis te hebben van de onderliggende representatie."
   ]
  },
  {
   "cell_type": "markdown",
   "id": "3ec03223-5b18-4a02-8a89-d4848e0f1f88",
   "metadata": {
    "slideshow": {
     "slide_type": "fragment"
    },
    "tags": []
   },
   "source": [
    "- een *geaggregeerd object*: een verzameling of collectie van iets\n",
    "- *sequentieel* doorlopen: veronderstelt een vaste volgorde"
   ]
  },
  {
   "cell_type": "markdown",
   "id": "dd0b11c3-9c01-4d1b-8056-fa1aeef2b693",
   "metadata": {
    "slideshow": {
     "slide_type": "notes"
    },
    "tags": []
   },
   "source": [
    "Collecties of verzamelingen ken je, denk bijvoorbeeld aan een array of `ArrayList`, dit zijn ook typen waar de volgorde vaststaat (je benadert ze op index). Maar ook jouw eigen typen kunnen een verzameling van dingen representeren waar je sequentieel doorheen zou willen stappen."
   ]
  },
  {
   "cell_type": "markdown",
   "id": "20bc3854-3a48-47ca-8ae7-1ffbd9a3dc26",
   "metadata": {
    "slideshow": {
     "slide_type": "subslide"
    },
    "tags": []
   },
   "source": [
    "## Implementatie"
   ]
  },
  {
   "cell_type": "markdown",
   "id": "ec766941-04bf-4081-8be4-9ed089511018",
   "metadata": {
    "slideshow": {
     "slide_type": "fragment"
    },
    "tags": []
   },
   "source": [
    "![Iterator Pattern](images/12/iterator_pattern.png)"
   ]
  },
  {
   "cell_type": "markdown",
   "id": "84339af3-e526-46e7-8d01-f6b0e4f17d8f",
   "metadata": {
    "slideshow": {
     "slide_type": "notes"
    },
    "tags": []
   },
   "source": [
    "In plaats van aggregate zal je ook vaak de term *collection* gebruikt zien worden."
   ]
  },
  {
   "cell_type": "markdown",
   "id": "194f5f49-5811-4d2d-8e06-f8cab133d13d",
   "metadata": {
    "slideshow": {
     "slide_type": "subslide"
    },
    "tags": []
   },
   "source": [
    "## Een voorbeeld"
   ]
  },
  {
   "cell_type": "code",
   "execution_count": 1,
   "id": "872d1673-8c2d-4efc-9725-826290b5edb8",
   "metadata": {
    "slideshow": {
     "slide_type": "subslide"
    },
    "tags": []
   },
   "outputs": [],
   "source": [
    "public class Family {\n",
    "    private String name;\n",
    "    private List<String> members;\n",
    "    \n",
    "    public Family(String name) {\n",
    "        this.name = name;\n",
    "        members = new ArrayList<>();\n",
    "    }\n",
    "    \n",
    "    public void addMember(String fullName) {\n",
    "        String[] parts = fullName.split(\" \");\n",
    "        if (parts[1].equals(name)) {\n",
    "            members.add(parts[0]);\n",
    "        }\n",
    "    }\n",
    "    \n",
    "    public String getName() {\n",
    "        return name;\n",
    "    }\n",
    "    \n",
    "    public List<String> getMembers() {\n",
    "        return members;\n",
    "    }\n",
    "}"
   ]
  },
  {
   "cell_type": "markdown",
   "id": "c8ef4e1c-818a-4239-9403-9f667eb986f6",
   "metadata": {
    "slideshow": {
     "slide_type": "notes"
    },
    "tags": []
   },
   "source": [
    "De klasse `Family` representeert (op eenvoudige) wijze een familie met familieleden, en deze worden bijgehouden in een collectie (de `ArrayList` `members`). We zullen zien dat aan deze uitwerking een aantal bezwaren kleven!"
   ]
  },
  {
   "cell_type": "markdown",
   "id": "296a69e5-4c88-4ae9-9829-7bee4c8b4935",
   "metadata": {
    "slideshow": {
     "slide_type": "subslide"
    },
    "tags": []
   },
   "source": [
    "![The Simpsons](images/12/simpsons.jpg)"
   ]
  },
  {
   "cell_type": "code",
   "execution_count": 2,
   "id": "9cfda008-de68-434c-befb-ee4f907b3a79",
   "metadata": {
    "slideshow": {
     "slide_type": "subslide"
    },
    "tags": []
   },
   "outputs": [],
   "source": [
    "Family fam = new Family(\"Simpson\");"
   ]
  },
  {
   "cell_type": "code",
   "execution_count": 3,
   "id": "9bd745e7-c2c9-4f55-ac64-b2075466889f",
   "metadata": {
    "slideshow": {
     "slide_type": "fragment"
    },
    "tags": []
   },
   "outputs": [],
   "source": [
    "fam.addMember(\"Marge Simpson\");\n",
    "fam.addMember(\"Homer Simpson\");\n",
    "fam.addMember(\"Bart Simpson\");\n",
    "fam.addMember(\"Lisa Simpson\");\n",
    "fam.addMember(\"Maggie Simpson\");"
   ]
  },
  {
   "cell_type": "markdown",
   "id": "40cb61cc-bc5c-40db-96bd-4e5486e7fb98",
   "metadata": {
    "slideshow": {
     "slide_type": "subslide"
    },
    "tags": []
   },
   "source": [
    "### Meer leden"
   ]
  },
  {
   "cell_type": "markdown",
   "id": "96a7b929-f1e0-44e3-bccf-814a5c1a55eb",
   "metadata": {
    "slideshow": {
     "slide_type": "fragment"
    },
    "tags": []
   },
   "source": [
    "![Brian Griffin](images/12/brian_griffin.png)"
   ]
  },
  {
   "cell_type": "code",
   "execution_count": 4,
   "id": "8cf49f69-19b9-4369-a750-e71844f09dbb",
   "metadata": {
    "slideshow": {
     "slide_type": "subslide"
    },
    "tags": []
   },
   "outputs": [],
   "source": [
    "fam.addMember(\"Brian Griffin\");"
   ]
  },
  {
   "cell_type": "code",
   "execution_count": 5,
   "id": "7b826e59-0eb5-4d56-ba2b-0d771fe7a908",
   "metadata": {
    "slideshow": {
     "slide_type": "fragment"
    },
    "tags": []
   },
   "outputs": [
    {
     "name": "stdout",
     "output_type": "stream",
     "text": [
      "Marge\n",
      "Homer\n",
      "Bart\n",
      "Lisa\n",
      "Maggie\n"
     ]
    }
   ],
   "source": [
    "List<String> members = fam.getMembers();\n",
    "\n",
    "for (int i = 0; i < members.size(); i++) {\n",
    "    System.out.println(members.get(i));\n",
    "}"
   ]
  },
  {
   "cell_type": "markdown",
   "id": "7e32d606-00fa-4820-9faa-5c6baccbdfca",
   "metadata": {
    "slideshow": {
     "slide_type": "notes"
    },
    "tags": []
   },
   "source": [
    "De implementatie doet wat het moet doen, het accepteert via de `addMember` methode alleen leden gelijk aan de familienaam van de instantie."
   ]
  },
  {
   "cell_type": "markdown",
   "id": "1620874d-b3f1-442b-8688-90ccc8dc1e1e",
   "metadata": {
    "slideshow": {
     "slide_type": "subslide"
    },
    "tags": []
   },
   "source": [
    "### Nog meer leden"
   ]
  },
  {
   "cell_type": "markdown",
   "id": "ea2e279b-dc48-456f-ada7-2cd8d46157dd",
   "metadata": {
    "slideshow": {
     "slide_type": "fragment"
    },
    "tags": []
   },
   "source": [
    "![Stewie Griffin](images/12/stewie_griffin.png)"
   ]
  },
  {
   "cell_type": "code",
   "execution_count": 6,
   "id": "a5418ee2-75bc-4f0e-ba29-c8bff72ceaf2",
   "metadata": {
    "slideshow": {
     "slide_type": "subslide"
    },
    "tags": []
   },
   "outputs": [
    {
     "data": {
      "text/plain": [
       "true"
      ]
     },
     "execution_count": 6,
     "metadata": {},
     "output_type": "execute_result"
    }
   ],
   "source": [
    "List<String> members = fam.getMembers();\n",
    "\n",
    "members.add(\"Stewie\");"
   ]
  },
  {
   "cell_type": "code",
   "execution_count": 7,
   "id": "6805d26c-5ed8-4025-b6d0-f3c88af6ce73",
   "metadata": {
    "slideshow": {
     "slide_type": "fragment"
    },
    "tags": []
   },
   "outputs": [
    {
     "name": "stdout",
     "output_type": "stream",
     "text": [
      "Marge Simpson\n",
      "Homer Simpson\n",
      "Bart Simpson\n",
      "Lisa Simpson\n",
      "Maggie Simpson\n",
      "Stewie Simpson\n"
     ]
    }
   ],
   "source": [
    "for (int i = 0; i < members.size(); i++) {\n",
    "    System.out.println(members.get(i) + \" \" + fam.getName());\n",
    "}"
   ]
  },
  {
   "cell_type": "markdown",
   "id": "3625384b-f511-45cc-92ff-00ccd9005a87",
   "metadata": {
    "slideshow": {
     "slide_type": "notes"
    },
    "tags": []
   },
   "source": [
    "Maar Stewie is lid van de Griffin familie, niet van de Simpsons!\n",
    "\n",
    "Omdat we via `getMembers` toegang hebben tot de (mutable) `ArrayList` `members` is het mogelijk deze direct aan te passen, buiten de klasse om, en dit is niet de bedoeling.\n",
    "\n",
    "Snel Stewie maar weer verwijderen ..."
   ]
  },
  {
   "cell_type": "code",
   "execution_count": 8,
   "id": "1906d0ed-0958-432b-a01e-ce1007cee2c5",
   "metadata": {
    "slideshow": {
     "slide_type": "fragment"
    },
    "tags": []
   },
   "outputs": [
    {
     "data": {
      "text/plain": [
       "true"
      ]
     },
     "execution_count": 8,
     "metadata": {},
     "output_type": "execute_result"
    }
   ],
   "source": [
    "members.remove(\"Stewie\");"
   ]
  },
  {
   "cell_type": "markdown",
   "id": "193a6954-4d84-4103-9c58-81d961e20fd4",
   "metadata": {
    "slideshow": {
     "slide_type": "subslide"
    },
    "tags": []
   },
   "source": [
    "### Twee problemen\n",
    "\n",
    "Het vorige bevat twee problemen, welke?"
   ]
  },
  {
   "cell_type": "markdown",
   "id": "c4e7b86f-7060-42cf-b6a8-1eb762a0c646",
   "metadata": {
    "slideshow": {
     "slide_type": "fragment"
    },
    "tags": []
   },
   "source": [
    "- te veel kennis van de onderliggende representatie\n",
    "- onvoldoende encapsulatie"
   ]
  },
  {
   "cell_type": "markdown",
   "id": "b9d31283-73cb-4b10-afcf-44be6541efec",
   "metadata": {
    "slideshow": {
     "slide_type": "notes"
    },
    "tags": []
   },
   "source": [
    "We hebben te veel kennis van de onderliggende representie nodig, bijvoorbeeld dat leden van de familie in een `ArrayList` worden bewaard om ze sequentieel te kunnen doorlopen met een `for`-lus.\n",
    "\n",
    "Met de methode `addMembers` zorgen we voor encapsulatie, de klasse is verantwoordelijk voor het toevoegen van leden. Maar de methode `getMembers` \"lekt\" teveel detail, het interne object waar leden in worden bijgehouden.\n",
    "\n",
    "Hoe kunnen we deze twee problemen vermijden, maar toch door de leden van deze familie itereren?"
   ]
  },
  {
   "cell_type": "markdown",
   "id": "f8098448-2c7f-47fe-8c7e-95af31beb50f",
   "metadata": {
    "slideshow": {
     "slide_type": "slide"
    },
    "tags": []
   },
   "source": [
    "## For-each lussen"
   ]
  },
  {
   "cell_type": "markdown",
   "id": "b7817953-2bda-48cc-85ec-6e7f1ed5a4a9",
   "metadata": {
    "slideshow": {
     "slide_type": "fragment"
    },
    "tags": []
   },
   "source": [
    "```java\n",
    "for (T t : tList) { // Assume we have a List<T> named tList\n",
    "    // ...\n",
    "}\n",
    "```"
   ]
  },
  {
   "cell_type": "markdown",
   "id": "a04cd4ee-dd91-4ad2-88c9-ad2e8cb98b1d",
   "metadata": {
    "slideshow": {
     "slide_type": "notes"
    },
    "tags": []
   },
   "source": [
    "Dit is de algemene syntax voor for-each lussen (of ook wel een *enhanced for loop* in Java genoemd). `getMembers`  gaf een `ArrayList` terug waar je met dit type lus door de elementen kon itereren:"
   ]
  },
  {
   "cell_type": "code",
   "execution_count": 9,
   "id": "2f170a6e-961b-4e60-8e1e-eb38119bd6bb",
   "metadata": {
    "slideshow": {
     "slide_type": "fragment"
    },
    "tags": []
   },
   "outputs": [],
   "source": [
    "List<String> members = fam.getMembers();\n",
    "\n",
    "for (String person: members) {\n",
    "    // ...\n",
    "}"
   ]
  },
  {
   "cell_type": "markdown",
   "id": "49010a60-ce91-40b6-a2fb-49b6fae7fb4d",
   "metadata": {
    "slideshow": {
     "slide_type": "notes"
    },
    "tags": []
   },
   "source": [
    "Wat maakt `ArrayList` nu zo bijzonder dat het met een andere syntax kan worden doorlopen? Een syntax waar geen index hoeft te worden bijgehouden om het element op te vragen, maar je tóch sequentieel doorheen kan stappen?\n",
    "\n",
    "Je zal zien dat `ArrayList` helemaal niet zo speciaal is, en is het gewoon een bijzonder voorbeeld van een veel algemener idee, dat we ook voor onze eigen klassen kunnen gebruiken."
   ]
  },
  {
   "cell_type": "markdown",
   "id": "95a703de-898e-42f5-b1b1-92e76701e5b5",
   "metadata": {
    "slideshow": {
     "slide_type": "subslide"
    },
    "tags": []
   },
   "source": [
    "### `Iterator`'s"
   ]
  },
  {
   "cell_type": "markdown",
   "id": "2ef8a365-250d-49c6-8f67-140eb80f0f2e",
   "metadata": {
    "slideshow": {
     "slide_type": "fragment"
    },
    "tags": []
   },
   "source": [
    "Stel ...\n",
    "\n",
    "- we weten niet of een object op index te bevragen is\n",
    "- we hebben geen kennis van for-each\n",
    "\n",
    "Welk type lus blijft over?"
   ]
  },
  {
   "cell_type": "markdown",
   "id": "c444dcc3-8b87-4407-b990-28342f130fab",
   "metadata": {
    "slideshow": {
     "slide_type": "fragment"
    },
    "tags": []
   },
   "source": [
    "```java\n",
    "// setup things ...\n",
    "\n",
    "while (something is true) {\n",
    "    // do suff ... \n",
    "}\n",
    "\n",
    "// use results ...\n",
    "```"
   ]
  },
  {
   "cell_type": "markdown",
   "id": "5fc7bb9d-1586-4930-b5fc-a8192f383209",
   "metadata": {
    "slideshow": {
     "slide_type": "notes"
    },
    "tags": []
   },
   "source": [
    "While lussen zijn goed om zolang het nodig is handelingen te herhalen. For-each lussen blijven in essentie doorlussen zolang er nog meer items te verwerken zijn.\n",
    "\n",
    "Dus misschien ziet de essentie van het gedrag van onze for-each lus, wanneer uitgedrukt als een while lus, er als volgt uit:"
   ]
  },
  {
   "cell_type": "markdown",
   "id": "4801b055-7fa9-46c6-8a7d-48552cd256f8",
   "metadata": {
    "slideshow": {
     "slide_type": "fragment"
    },
    "tags": []
   },
   "source": [
    "```java\n",
    "while (hasMoreElements(tList)) {\n",
    "    T t = nextItemOf(tList);\n",
    "\n",
    "    // do stuff with t \n",
    "}\n",
    "```"
   ]
  },
  {
   "cell_type": "markdown",
   "id": "38ad2d8e-9fb6-4259-a94b-6ef49877a46d",
   "metadata": {
    "slideshow": {
     "slide_type": "fragment"
    },
    "tags": []
   },
   "source": [
    "Dit veronderstelt wel dat `tList` een staat bijhoudt (van het eerstvolgende element)!"
   ]
  },
  {
   "cell_type": "markdown",
   "id": "074d8746-6915-487c-8ac0-c1e5cf6aced2",
   "metadata": {
    "slideshow": {
     "slide_type": "notes"
    },
    "tags": []
   },
   "source": [
    "Het bovenstaande zal niet echt werken, omdat de functies `hasMoreElements` en `nextItemOf` tussen aanroepen door extra gegevens zouden moeten bijhouden, anders zouden ze elke keer dezelfde antwoorden geven. Maar deze twee functies lijken een elegante, eenvoudige manier om het proces van itereren over gegevens te beschrijven: zolang er meer gegevens zijn, haal het volgende item op en verwerk het, en herhaal het voor het volgende element.\n",
    "\n",
    "Om deze reden zouden we deze twee functies willen behouden, maar we moeten de toestand (of *staat*) bijhouden om ze goed te laten werken. Daarom moeten we een nieuw object maken, wiens enige verantwoordelijkheid is om ons te helpen itereren over `tList`. \n",
    "\n",
    "Bovendien, als we het zo formuleren, klinkt dit gedrag niet erg specifiek voor `ArrayList`'s, we zouden over bijna alles kunnen itereren!"
   ]
  },
  {
   "cell_type": "markdown",
   "id": "90655eab-f97e-40de-84e5-127c45c8188d",
   "metadata": {
    "slideshow": {
     "slide_type": "subslide"
    },
    "tags": []
   },
   "source": [
    "```java\n",
    "interface Iterator<T> {\n",
    "    // Does this sequence have at least one more value?\n",
    "    boolean hasNext();\n",
    "\n",
    "    // Get the next value in this sequence\n",
    "    // EFFECT: Advance the iterator to the subsequent value\n",
    "    T next();\n",
    "    \n",
    "    // EFFECT: Remove the item just returned by next()\n",
    "    // NOTE: This method may not be supported by every iterator,\n",
    "    // ignore it for now\n",
    "    void remove();\n",
    "}\n",
    "```"
   ]
  },
  {
   "cell_type": "markdown",
   "id": "8b96b16e-1b98-48fc-b2ba-999e23119677",
   "metadata": {
    "slideshow": {
     "slide_type": "notes"
    },
    "tags": []
   },
   "source": [
    "Laten we zeggen dat een object *iterable* is als er een `Iterator` implementatie voor bestaat. Dat klinkt als een interface en deze is al voor ons gedefinieerd door Java in `java.util.Iterator`!\n",
    "\n",
    "De enige taak van een `Iterator` is het bijhouden van een staat die nodig is om één voor één waarden te produceren uit een sequentie, of het nu een `ArrayList` of iets anders is. We zullen zo meteen zien hoe we deze interface kunnen implementeren, laten we zien hoe we het kunnen gebruiken."
   ]
  },
  {
   "cell_type": "markdown",
   "id": "1deb4710-6e9f-46b8-9b20-fe6dec622e8a",
   "metadata": {
    "slideshow": {
     "slide_type": "fragment"
    },
    "tags": []
   },
   "source": [
    "```java\n",
    "Iterator<T> listIter = new ArrayListIterator<T>(aList);\n",
    "\n",
    "while (listIter.hasNext()) {\n",
    "    T t = listIter.next();\n",
    "    // do stuff with t\n",
    "}\n",
    "```"
   ]
  },
  {
   "cell_type": "markdown",
   "id": "bf5862c1-9fb5-4b11-9df2-3928da4feb83",
   "metadata": {
    "slideshow": {
     "slide_type": "subslide"
    },
    "tags": []
   },
   "source": [
    "### `Iterable`'s"
   ]
  },
  {
   "cell_type": "markdown",
   "id": "4641bf20-f0da-4da0-88ca-cc5ee9066948",
   "metadata": {
    "slideshow": {
     "slide_type": "fragment"
    },
    "tags": []
   },
   "source": [
    "```java\n",
    "Iterator<String> familyIter = new FamilyIterator<>();\n",
    "    \n",
    "while (familyIter.hasNext()) {\n",
    "    String person = familyIter.next();\n",
    "    // do stuff with person\n",
    "}\n",
    "```"
   ]
  },
  {
   "cell_type": "markdown",
   "id": "fb3e5e3e-d474-469c-afc0-ea8e95e985f6",
   "metadata": {
    "slideshow": {
     "slide_type": "notes"
    },
    "tags": []
   },
   "source": [
    "Tot zover gaat het goed, we kunnen het gedrag van een for-each lus beschrijven in termen van een while lus over een `Iterator`. Maar hoe weet Java wat voor iterator het moet construeren? Tenslotte is de `ArrayListIterator` hierboven echt specifiek voor `ArrayList`'s en bijvoorbeeld een `FamilyIterator` alleen voor `Family`'s."
   ]
  },
  {
   "cell_type": "markdown",
   "id": "3f6e6f71-221d-4c29-b0de-3378294de480",
   "metadata": {
    "slideshow": {
     "slide_type": "fragment"
    },
    "tags": []
   },
   "source": [
    "```java\n",
    "for (String person: fam) {\n",
    "    // ...\n",
    "}\n",
    "```"
   ]
  },
  {
   "cell_type": "markdown",
   "id": "eda3f074-c246-4225-8090-c6ca3dc2da12",
   "metadata": {
    "slideshow": {
     "slide_type": "notes"
    },
    "tags": []
   },
   "source": [
    "Als we willen dat onze for-each loops over andere soorten dingen werken (bijvoorbeeld `Family`), hebben we een ander mechanisme nodig. Laten we zeggen dat een object iterable is als er een `Iterator` implementatie voor bestaat. Dit klinkt als een andere interface!"
   ]
  },
  {
   "cell_type": "markdown",
   "id": "401d096a-2065-4f25-9138-234d459773a3",
   "metadata": {
    "slideshow": {
     "slide_type": "subslide"
    },
    "tags": []
   },
   "source": [
    "```java\n",
    "// Represents anything that can be iterated over\n",
    "interface Iterable<T> {\n",
    "    // Returns an iterator over this collection\n",
    "    Iterator<T> iterator();\n",
    "}\n",
    "```"
   ]
  },
  {
   "cell_type": "markdown",
   "id": "b93f9cf0-fb36-4679-a367-9d2e80dfc9a6",
   "metadata": {
    "slideshow": {
     "slide_type": "notes"
    },
    "tags": []
   },
   "source": [
    "Ook deze interface is al gedefinieerd door Java, en deze interface dwingt af dat als een object *iterable* wil zijn er ook een `Iterator` implementatie voor moet bestaan."
   ]
  },
  {
   "cell_type": "markdown",
   "id": "3da40b46-b9fc-49cb-bf4a-a6abe9f1b781",
   "metadata": {
    "slideshow": {
     "slide_type": "fragment"
    },
    "tags": []
   },
   "source": [
    "```java\n",
    "class ArrayList<T> implements Iterable<T> {\n",
    "    // lots of other details ...\n",
    "\n",
    "    public Iterator<T> iterator() {\n",
    "        return new ArrayListIterator<T>(this);\n",
    "    }\n",
    "}\n",
    "```"
   ]
  },
  {
   "cell_type": "markdown",
   "id": "c0d9a368-1270-4c55-899b-e80d873ac2a0",
   "metadata": {
    "slideshow": {
     "slide_type": "fragment"
    },
    "tags": []
   },
   "source": [
    "In de werkelijke Java implementatie van `ArrayList` zal je iets als in het bovenstaande letterlijk terugzien."
   ]
  },
  {
   "cell_type": "markdown",
   "id": "169740b5-9750-4c40-a416-c3f75218086b",
   "metadata": {
    "slideshow": {
     "slide_type": "subslide"
    },
    "tags": []
   },
   "source": [
    "### `Family` als `Iterable`"
   ]
  },
  {
   "cell_type": "code",
   "execution_count": 10,
   "id": "3195a505-21fa-47a0-908c-fd3b65d55ff1",
   "metadata": {
    "slideshow": {
     "slide_type": "subslide"
    },
    "tags": []
   },
   "outputs": [],
   "source": [
    "public class Family implements Iterable<String> {\n",
    "    private String name;\n",
    "    private List<String> members;\n",
    "    \n",
    "    public Family(String name) {\n",
    "        this.name = name;\n",
    "        members = new ArrayList<>();\n",
    "    }\n",
    "    \n",
    "    public void addMember(String fullName) {\n",
    "        String[] parts = fullName.split(\" \");\n",
    "        if (parts[1].equals(name)) {\n",
    "            members.add(parts[0]);\n",
    "        }\n",
    "    }\n",
    "    \n",
    "    public String getName() {\n",
    "        return name;\n",
    "    }\n",
    "    \n",
    "    @Override\n",
    "    public Iterator<String> iterator() {\n",
    "        return members.iterator();\n",
    "    }\n",
    "}"
   ]
  },
  {
   "cell_type": "markdown",
   "id": "4615656a-df9b-453e-a5e9-ba1443213383",
   "metadata": {
    "slideshow": {
     "slide_type": "notes"
    },
    "tags": []
   },
   "source": [
    "We kunnen hier gebruik maken van het feit dat, omdat we door de familieleden willen itereren, we een *iterator* teruggeven voor de `ArrayList` `members`. Met andere woorden in dit geval hoeven we geen aparte `FamilyIterator` te gebruiken.\n",
    "\n",
    "Mochten we in de toekomst een andere structuur willen kiezen dan hoeven we alleen maar een andere implementatie voor de `Iterator` terug te geven. Clients die `Family` gebruiken hoeven daar verder niets van te weten en kunnen nog steeds met een for-each lus de elementen doorlopen. "
   ]
  },
  {
   "cell_type": "code",
   "execution_count": 11,
   "id": "a3114154-d8cc-4293-aadb-f971884d7586",
   "metadata": {
    "slideshow": {
     "slide_type": "subslide"
    },
    "tags": []
   },
   "outputs": [],
   "source": [
    "Family fam = new Family(\"Simpson\");"
   ]
  },
  {
   "cell_type": "code",
   "execution_count": 12,
   "id": "1916c08c-b3d6-4485-8418-4b8710c4babf",
   "metadata": {
    "slideshow": {
     "slide_type": "fragment"
    },
    "tags": []
   },
   "outputs": [],
   "source": [
    "fam.addMember(\"Marge Simpson\");\n",
    "fam.addMember(\"Homer Simpson\");\n",
    "fam.addMember(\"Bart Simpson\");\n",
    "fam.addMember(\"Lisa Simpson\");\n",
    "fam.addMember(\"Maggie Simpson\");"
   ]
  },
  {
   "cell_type": "code",
   "execution_count": 13,
   "id": "fc33d748-1f15-41ea-bcfc-7321aba7f689",
   "metadata": {
    "slideshow": {
     "slide_type": "fragment"
    },
    "tags": []
   },
   "outputs": [
    {
     "name": "stdout",
     "output_type": "stream",
     "text": [
      "Marge Simpson\n",
      "Homer Simpson\n",
      "Bart Simpson\n",
      "Lisa Simpson\n",
      "Maggie Simpson\n"
     ]
    }
   ],
   "source": [
    "for (String person : fam) {\n",
    "    System.out.println(person + \" \" + fam.getName());\n",
    "}"
   ]
  },
  {
   "cell_type": "markdown",
   "id": "e0f946aa-0653-4e2d-8989-719a655c06e9",
   "metadata": {
    "slideshow": {
     "slide_type": "subslide"
    },
    "tags": []
   },
   "source": [
    "## Een ander voorbeeld"
   ]
  },
  {
   "cell_type": "markdown",
   "id": "ac860d16-6f69-4270-8a66-12ea3a5f53f0",
   "metadata": {
    "slideshow": {
     "slide_type": "subslide"
    },
    "tags": []
   },
   "source": [
    "```python\n",
    "for i in range(10):\n",
    "    ...\n",
    "```"
   ]
  },
  {
   "cell_type": "markdown",
   "id": "70c74bbf-1b16-4087-abf3-d4601902150a",
   "metadata": {
    "slideshow": {
     "slide_type": "notes"
    },
    "tags": []
   },
   "source": [
    "Het idee van *iterables* is in Python ingebakken, het is onderdeel van de taal. Hoe vaak heb je de Python functie `range` wel niet gebruikt om een reeks van getallen te doorlopen?"
   ]
  },
  {
   "cell_type": "markdown",
   "id": "58250200-7d30-4b4e-acee-79f9cf08dda7",
   "metadata": {
    "slideshow": {
     "slide_type": "fragment"
    },
    "tags": []
   },
   "source": [
    "```java\n",
    "for (Integer i : new Range(10)) {\n",
    "    // ...\n",
    "}\n",
    "```"
   ]
  },
  {
   "cell_type": "markdown",
   "id": "d396a3af-9b5e-4d9d-8c73-821b71859833",
   "metadata": {
    "slideshow": {
     "slide_type": "notes"
    },
    "tags": []
   },
   "source": [
    "Hoe zouden we gebruik kunnen maken van het Iterator pattern om een `Range` implementatie te maken die Python's `range` simuleert?"
   ]
  },
  {
   "cell_type": "markdown",
   "id": "01f8a306-ba96-43e9-b0f9-74d198b370e1",
   "metadata": {
    "slideshow": {
     "slide_type": "subslide"
    },
    "tags": []
   },
   "source": [
    "```java\n",
    "public class Range implements Iterable<Integer> {\n",
    "    private int start;\n",
    "    private int stop;\n",
    "\n",
    "    public Range(int start, int stop) {\n",
    "        this.start = start;\n",
    "        this.stop = stop;\n",
    "    }\n",
    "\n",
    "    public Range(int stop) {\n",
    "        this(0, stop);\n",
    "    }\n",
    "\n",
    "    public int getStart() {\n",
    "        return start;\n",
    "    }\n",
    "\n",
    "    public int getStop() {\n",
    "        return stop;\n",
    "    }\n",
    "\n",
    "    @Override\n",
    "    public RangeIterator iterator() {\n",
    "        return new RangeIterator(this);\n",
    "    }\n",
    "}\n",
    "```"
   ]
  },
  {
   "cell_type": "markdown",
   "id": "1b23f9a6-76eb-46a3-a52d-e4d5a66699b0",
   "metadata": {
    "slideshow": {
     "slide_type": "notes"
    },
    "tags": []
   },
   "source": [
    "Om te beginnen is een klasse `Range` nodig die de methode `interator` implementeert en een `RangeIterator` teruggeeft. Let ook op dat de klasse een de instantie (`this`) als parameter doorgeeft aan `RangeIterator`."
   ]
  },
  {
   "cell_type": "markdown",
   "id": "6242c960-4abc-4423-8a48-2c1d048d80f4",
   "metadata": {
    "slideshow": {
     "slide_type": "subslide"
    },
    "tags": []
   },
   "source": [
    "```java\n",
    "public class RangeIterator implements Iterator<Integer> {\n",
    "    private Range range;\n",
    "    private int nextIndex;\n",
    "\n",
    "    public RangeIterator(Range range) {\n",
    "        this.range = range;\n",
    "        this.nextIndex = range.getStart();\n",
    "    }\n",
    "\n",
    "    public boolean hasNext() {\n",
    "        return nextIndex < range.getStop();\n",
    "    }\n",
    "\n",
    "    public Integer next() {\n",
    "        int index = nextIndex;\n",
    "        nextIndex++;\n",
    "        return index;\n",
    "    }\n",
    "\n",
    "    public void remove() {\n",
    "        throw new UnsupportedOperationException();\n",
    "    }\n",
    "}\n",
    "```"
   ]
  },
  {
   "cell_type": "markdown",
   "id": "019df840-c203-4422-aff1-62749850ac02",
   "metadata": {
    "slideshow": {
     "slide_type": "notes"
    },
    "tags": []
   },
   "source": [
    "De enige veratwoordelijkheid van deze klasse is om een staat bij te houden, in dit geval de eerstvolgende index (`nextIndex`)."
   ]
  },
  {
   "cell_type": "markdown",
   "id": "93cdac2a-24b9-4f0a-aa27-c142563709c1",
   "metadata": {
    "slideshow": {
     "slide_type": "subslide"
    },
    "tags": []
   },
   "source": [
    "```java\n",
    "for (Integer i : new Range(1, 5)) {\n",
    "    System.out.println(i);\n",
    "}\n",
    "```"
   ]
  },
  {
   "cell_type": "markdown",
   "id": "710e82a3-3565-47f3-b49f-0984ed493e03",
   "metadata": {
    "slideshow": {
     "slide_type": "notes"
    },
    "tags": []
   },
   "source": [
    "Met deze implementatie kan een reeks worden doorlopen met een for-each lus."
   ]
  },
  {
   "cell_type": "markdown",
   "id": "182b6c7a-702f-4fbd-9ee0-2c095c5d7dad",
   "metadata": {
    "slideshow": {
     "slide_type": "notes"
    },
    "tags": []
   },
   "source": [
    "### Tightly coupled"
   ]
  },
  {
   "cell_type": "markdown",
   "id": "a6207b2d-9a27-4d69-a443-7719d88bb876",
   "metadata": {
    "slideshow": {
     "slide_type": "notes"
    },
    "tags": []
   },
   "source": [
    "Dit is een duidelijk geval van *tight coupling* want de klasse `RangeIterator` is afhankelijk van de klasse `Range` (en vice versa) en deze afhankelijkheid is in dit geval onvermijdelijk.\n",
    "\n",
    "De klasse `RangeIterator` is ook een klasse waarvan je zou willen dat een client deze niet zou kunnen instantiëren, het is iets dat in het ideale geval alleen door de klasse `Range` zou moeten kunnen om deze intieme relatie te \"verbergen\".\n",
    "\n",
    "Je zal in de (Java) praktijk vaak *inner classes* gebruikt zien worden om dit probleem op te lossen. Net als velden zoals je ze kent kunnen in Java ook klassen als een veld worden gedefiniëerd, en worden daarmee een klasse in een klasse.\n",
    "\n",
    "Een inner class heeft (net als methoden) daarmee ook toegang tot `this`, de instantie van de \"omsluitende\" klasse. "
   ]
  },
  {
   "cell_type": "code",
   "execution_count": 16,
   "id": "eb704dc8-f7ef-4ebb-901b-62084ee9df61",
   "metadata": {
    "slideshow": {
     "slide_type": "subslide"
    },
    "tags": []
   },
   "outputs": [],
   "source": [
    "public class Range implements Iterable<Integer> {\n",
    "    private int start;\n",
    "    private int stop;\n",
    "\n",
    "    public Range(int start, int stop) {\n",
    "        this.start = start;\n",
    "        this.stop = stop;\n",
    "    }\n",
    "\n",
    "    public Range(int stop) {\n",
    "        this(0, stop);\n",
    "    }\n",
    "\n",
    "    public RangeIterator iterator() {\n",
    "        return new RangeIterator();\n",
    "    }\n",
    "\n",
    "    private class RangeIterator implements Iterator<Integer> {\n",
    "        private int nextIndex;\n",
    "\n",
    "        public RangeIterator() {\n",
    "            this.nextIndex = Range.this.start;\n",
    "        }\n",
    "\n",
    "        public boolean hasNext() {\n",
    "            return nextIndex < Range.this.stop;\n",
    "        }\n",
    "\n",
    "        public Integer next() {\n",
    "            int index = nextIndex;\n",
    "            nextIndex++;\n",
    "            return index;\n",
    "        }\n",
    "\n",
    "        public void remove() {\n",
    "            throw new UnsupportedOperationException();\n",
    "        }\n",
    "    }\n",
    "}"
   ]
  },
  {
   "cell_type": "markdown",
   "id": "2ccbb68c-5a7d-4561-93b9-7903f5422489",
   "metadata": {
    "slideshow": {
     "slide_type": "notes"
    },
    "tags": []
   },
   "source": [
    "De `Iterator` als inner class, let op dat de toegang tot `this` verloopt via de omsluitende klasse (bijvoorbeeld `Range.this.start`). Het lijkt op de aanroep van een *statisch* veld `this`, maar in dit geval wijst het naar de instantie van de omsluitende klasse! "
   ]
  },
  {
   "cell_type": "code",
   "execution_count": 17,
   "id": "47c1fc4b-ef7e-4ddc-8733-b85f01a9c3b2",
   "metadata": {
    "slideshow": {
     "slide_type": "subslide"
    },
    "tags": []
   },
   "outputs": [
    {
     "name": "stdout",
     "output_type": "stream",
     "text": [
      "1\n",
      "2\n",
      "3\n",
      "4\n"
     ]
    }
   ],
   "source": [
    "for (Integer i : new Range(1, 5)) {\n",
    "    System.out.println(i);\n",
    "}"
   ]
  },
  {
   "cell_type": "markdown",
   "id": "2695c2c3-b419-49a5-977b-4130bc04ba48",
   "metadata": {
    "slideshow": {
     "slide_type": "subslide"
    },
    "tags": []
   },
   "source": [
    "## Let op\n",
    "\n",
    "Een andere gedachte zou zijn om zowel `Iterator` als `Iterable` in een enkele klasse te implementeren. Doe dit **niet**, want ze hebben ieder een eigen verantwoordelijkheid.\n",
    "\n",
    "Een `Iterator` is van nature *stateful*, dat wil zeggen dat als je er iteraties mee uitvoert, het steeds blik op de wereld moet bijwerken (een veranderende staat). Een `Iterable` heeft andere verantwoordelijkheden en moet *alleen* maar nieuwe *iterators* kunnen maken."
   ]
  }
 ],
 "metadata": {
  "kernelspec": {
   "display_name": "Java",
   "language": "java",
   "name": "java"
  },
  "language_info": {
   "codemirror_mode": "java",
   "file_extension": ".jshell",
   "mimetype": "text/x-java-source",
   "name": "Java",
   "pygments_lexer": "java",
   "version": "18.0.2-ea+9-Ubuntu-2"
  }
 },
 "nbformat": 4,
 "nbformat_minor": 5
}
