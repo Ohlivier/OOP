{
 "cells": [
  {
   "cell_type": "markdown",
   "id": "8d7c972b",
   "metadata": {},
   "source": [
    "# Opgave 1 Alle design patterns"
   ]
  },
  {
   "cell_type": "markdown",
   "id": "0cef807a",
   "metadata": {},
   "source": [
    "## Koppel elk pattern aan de juiste zin\n",
    "\n",
    "Deze opgave gaat over de onderstaande twaalf patterns:\n",
    "\n",
    "1. Strategy pattern\n",
    "2. Observer pattern\n",
    "3. Decorator pattern\n",
    "4. Factory patterns\n",
    "5. Singleton pattern\n",
    "6. Command pattern\n",
    "\n",
    "7. Adapter pattern\n",
    "8. Facade pattern\n",
    "9. Template method pattern\n",
    "\n",
    "10. Iterator pattern\n",
    "11. Composite pattern\n",
    "12. State pattern\n",
    "\n",
    "## 1. Koppel elk pattern aan de juiste zin\n",
    "Koppel elk pattern aan de zin tie van toepassing is.\n",
    "\n",
    "A. Maakt het mogelijk dat objecten 'op de hoogte worden gesteld' als er veranderingen in een bepaald object zijn\n",
    "\n",
    "B. Een verzameling van objecten en individuele objecten kunnen op dezelfde manier behandeld worden\n",
    "\n",
    "C. Gedrag van een object in een bepaalde toestand is geïmplementeerd in een bijbehorende klasse, en functionaliteit \n",
    "van dat object wordt gedelegeerd naar de klasse van de huidige toestand.\n",
    "\n",
    "D. Omhult ('wrapt') een object in een ander object om nieuwe functionaliteit toe te voegen\n",
    "\n",
    "E. Omhult ('wrapt') een object om deze te voorzien van een andere interface.\n",
    "\n",
    "F. In subklassen worden stappen van een algoritme geïmplementeerd\n",
    "\n",
    "G. Object bevat alle informatie die nodig is om een actie op een later moment uit te voeren, via een uniforme interface met een methode om de actie uit te voeren.\n",
    "\n",
    "H. Maakt het mogelijk om een verzameling van objecten te doorlopen zonder dat het nodig is om de specifieke methodes van die verzameling te kennen.\n",
    "\n",
    "I. Implementeert functionaliteit in een klasse om objecten te maken. Deze functionaliteit is gedefiniëerd in een interface, zodat het niet nodig is om te weten welke klasse precies wordt gebruikt.\n",
    "\n",
    "J. Biedt een vereenvoudigde interface aan voor een set klassen\n",
    "\n",
    "K. Verzekert dat slechts er één instantie is van een bepaalde klasse\n",
    "\n",
    "L. Definiëert een groep algoritmes, die zijn geïmplementeerd in klassen toegankelijk via een interface, zodat ze uitwisselbaar zijn, zelfs tijdens uitvoering van een programma.\n",
    "\n",
    "## 2. Patterns categoriseren\n",
    "Deel elk van de patterns in onder één van de volgende categorieën:\n",
    "- Creational\n",
    "- Behavioral\n",
    "- Structural\n",
    "\n",
    "## 3. Class en object patterns\n",
    "Een andere wijze om patterns te categoriseren is de indeling in class en object patterns.\n",
    "\n",
    "**Class patterns** beschrijven hoe relaties tussen klassen zijn definiëerd door middel van overerving. Relaties tussen klassen worden bepaald bij het compileren. *Overervaring is het leidende principe*.\n",
    "\n",
    "**Object patterns** beschrijven relaties tussen objecten. Relaties tussen klassen worden vooral runtime bepaald. *Compositie is het leidende principe*.\n",
    "\n",
    "Deel elk van de patterns in bij één van deze categorieën.\n",
    "\n",
    "Maak bij de *Factory patterns* onderscheid tussen *factory mathod* en *abstract factory*."
   ]
  },
  {
   "cell_type": "code",
   "execution_count": null,
   "id": "1a6170de",
   "metadata": {},
   "outputs": [],
   "source": []
  },
  {
   "cell_type": "code",
   "execution_count": null,
   "id": "6dab90a4",
   "metadata": {},
   "outputs": [],
   "source": []
  }
 ],
 "metadata": {
  "kernelspec": {
   "display_name": "Java",
   "language": "java",
   "name": "java"
  },
  "language_info": {
   "codemirror_mode": "java",
   "file_extension": ".jshell",
   "mimetype": "text/x-java-source",
   "name": "Java",
   "pygments_lexer": "java",
   "version": "11.0.17+8-post-Ubuntu-1ubuntu220.04"
  }
 },
 "nbformat": 4,
 "nbformat_minor": 5
}
