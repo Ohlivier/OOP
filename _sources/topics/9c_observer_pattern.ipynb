{
 "cells": [
  {
   "cell_type": "markdown",
   "id": "8d7c972b",
   "metadata": {},
   "source": [
    "# Observer pattern\n",
    "Het observer pattern is een design pattern dat er voor zorgt dat bij verandering van de state van een object (*subject* of *observable*) andere objecten (*observer*) een notificatie krijgen.\n",
    "\n",
    "Het pattern voorziet in *loose coupling* tussen bijvoorbeeld logica en weergave."
   ]
  },
  {
   "cell_type": "markdown",
   "id": "9c57a6be",
   "metadata": {},
   "source": [
    "## Mogelijkheden\n",
    "\n",
    "Het pattern biedt de volgende mogelijkheden:\n",
    "- Een één-op-veel relatie tussen objecten realiseren, zonder dat er een strikte koppeling ontstaat.\n",
    "- Het automatiseert het updaten van objecten als de state van een object verandert\n",
    "- Het biedt volledige flexibiliteit als het gaat om het aantal objecten."
   ]
  },
  {
   "cell_type": "markdown",
   "id": "4341a6f6",
   "metadata": {},
   "source": [
    "## Implementatie van het pattern\n",
    "\n",
    "![observerpattern.png](images/9/observerpattern.png)\n",
    "\n",
    "Vaste onderdelen van het observer pattern zijn de interfaces Observer en Subject\n",
    "\n",
    "### Interface **Observer**:\n",
    "```Java\n",
    "public interface Observer {\n",
    "\n",
    "    public void update(Object subject);\n",
    "\n",
    "}\n",
    "```\n",
    "\n",
    "Alle *observers* implementeren de interface **Observer**.\n",
    "\n",
    "De methode **update** wordt aangeroepen zodra er iets veranderd is in object **subject**.\n",
    "\n",
    "### Interface **Subject**:\n",
    "```Java\n",
    "public interface Subject {\n",
    "\n",
    "    public void registerObserver(Observer o);\n",
    "    public void removeObserver(Observer o);\n",
    "    public void notifyObservers();\n",
    "\n",
    "}\n",
    "```\n",
    "\n",
    "De methoden van de interface bieden de mogelijkheid om observers te registreren of te verwijderen. De methode notifyObservers roept de methode **update** aan van alle aanwezige observers. Om de observers bij te houden is een collectie nodig.\n",
    "\n",
    "Een mogelijke implementatie:\n",
    "```Java\n",
    "    private List<Observer> observers = new ArrayList<>();\n",
    "\n",
    "    @Override\n",
    "    public void registerObserver(Observer o) {\n",
    "        observers.add(o);\n",
    "    }\n",
    "\n",
    "    @Override\n",
    "    public void removeObserver(Observer o) {\n",
    "        observers.remove(o);\n",
    "    }\n",
    "\n",
    "    @Override\n",
    "    public void notifyObservers() {\n",
    "        for(Observer observer : observers) {\n",
    "            observer.update(this);\n",
    "        }\n",
    "    }\n",
    "```\n",
    "\n",
    "De interface **Subject** wordt soms **Observable** genoemd. Dit kan ook een abstract klasse zijn.\n",
    "\n",
    "Nadat in de subject-klasse (of observable) een wijziging heeft plaatsgevonden, worden de observers op de hoogte gebracht door de methode **notifyObservers** aan te roepen.\n",
    "\n"
   ]
  },
  {
   "cell_type": "code",
   "execution_count": null,
   "id": "7c8d1423",
   "metadata": {},
   "outputs": [],
   "source": []
  }
 ],
 "metadata": {
  "kernelspec": {
   "display_name": "Java",
   "language": "java",
   "name": "java"
  },
  "language_info": {
   "codemirror_mode": "java",
   "file_extension": ".jshell",
   "mimetype": "text/x-java-source",
   "name": "Java",
   "pygments_lexer": "java",
   "version": "11.0.11+9-Ubuntu-0ubuntu2.20.04"
  }
 },
 "nbformat": 4,
 "nbformat_minor": 5
}
