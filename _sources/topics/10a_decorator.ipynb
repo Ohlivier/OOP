{
 "cells": [
  {
   "cell_type": "markdown",
   "id": "8d7c972b",
   "metadata": {},
   "source": [
    "# Decorator pattern\n",
    "Het decorator pattern voorziet in de mogelijkheid om dynamisch extra functionaliteit toe te voegen aan objecten."
   ]
  },
  {
   "cell_type": "markdown",
   "id": "9c57a6be",
   "metadata": {},
   "source": [
    "## Mogelijkheden\n",
    "\n",
    "Het pattern biedt de volgende mogelijkheden:\n",
    "- Het dynamisch toevoegen van functionaliteit en (oneindige aantallen) combinaties van functionaliteiten, zonder dat voor elke combinatie een subklasse nodig is."
   ]
  },
  {
   "cell_type": "markdown",
   "id": "4341a6f6",
   "metadata": {},
   "source": [
    "## Implementatie van het pattern\n",
    "\n",
    "![decorator.png](images/10/decorator.png)\n",
    "\n",
    "Vaste onderdelen van het decorator pattern zijn de interfaces **Component**, en de abstracte klasse **Decorator**. Daarnaast is er altijd tenminste één concrete klasse die de interface **Component** implementeert.\n",
    "\n",
    "### Interface **Component**:\n",
    "```Java\n",
    "public interface Component {\n",
    "\n",
    "    \n",
    "}\n",
    "```\n",
    "\n",
    "Deze *interface* beschrijft de functionaliteit van een component.\n",
    "\n",
    "### Concrete klasse die interface Component implementeert\n",
    "\n",
    "```Java\n",
    "public class ConcreteComponent implements Component {\n",
    "\n",
    "    \n",
    "}\n",
    "```\n",
    "\n",
    "Dit is het basis-component, dat implementaties bevat van interface **Component**.\n",
    "\n",
    "Als er meerdere verschillende componenten zijn, dan kan er een *abstracte klasse* gebruikt worden die de *interface* Component implementeert.\n",
    "\n",
    "\n",
    "### Abstracte klasse Decorator\n",
    "```Java\n",
    "abstract class Decorator implements Component {\n",
    "       \n",
    "    Component component;\n",
    "    \n",
    "    Decorator(Component component) {\n",
    "        this.component = component;\n",
    "    }\n",
    "\n",
    "}\n",
    "```\n",
    "\n",
    "De abstracte klasse **Decorator** is de parent class van elke concrete **Decorator**. In de concrete decorator worden één of meer methodes van **Component** geïmplementeerd.\n",
    "\n",
    "Eventueel kan de abstracte klasse **Decorator** standaard implementaties bevatten.\n",
    "\n",
    "\n"
   ]
  },
  {
   "cell_type": "code",
   "execution_count": null,
   "id": "7c8d1423",
   "metadata": {},
   "outputs": [],
   "source": []
  }
 ],
 "metadata": {
  "kernelspec": {
   "display_name": "Java",
   "language": "java",
   "name": "java"
  },
  "language_info": {
   "codemirror_mode": "java",
   "file_extension": ".jshell",
   "mimetype": "text/x-java-source",
   "name": "Java",
   "pygments_lexer": "java",
   "version": "11.0.11+9-Ubuntu-0ubuntu2.20.04"
  }
 },
 "nbformat": 4,
 "nbformat_minor": 5
}
