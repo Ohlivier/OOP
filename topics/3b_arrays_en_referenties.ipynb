{
 "cells": [
  {
   "cell_type": "markdown",
   "id": "a899f024",
   "metadata": {},
   "source": [
    "# Arrays en referenties\n",
    "Een **array** is een datastructuur, waarbij meerdere waardes van een bepaald datatype opgeslagen worden.\n",
    "\n",
    "Dit biedt de mogelijkheid om via één variabele meerdere waardes te adresseren. Een waarde in een **array** wordt een *element* genoemd. Elk element heeft een **index**, een getal dat de positie van het **element** in de **array** aangeeft. Een **index** wordt geteld vanaf 0.\n",
    "\n",
    "Een waarde (**element**) in een **array** wordt benaderd door de **index** tussen blokhaken (`[` en `]`) te zetten van het gewenste **element**, bijvoorbeeld\n",
    "\n",
    "```Java\n",
    "System.out.println(scores[2]); // De derde score\n",
    "```"
   ]
  },
  {
   "cell_type": "markdown",
   "id": "c446b7a5",
   "metadata": {},
   "source": [
    "## Arrays declareren en maken\n",
    "Een **array** wordt als volgt gedeclareerd:\n",
    "```Java\n",
    "<type>[] <naam>\n",
    "```\n",
    "Bijvoorbeeld:\n"
   ]
  },
  {
   "cell_type": "code",
   "execution_count": 1,
   "id": "2881982b",
   "metadata": {
    "vscode": {
     "languageId": "java"
    }
   },
   "outputs": [],
   "source": [
    "int[] scores; // Array van integers met naam 'scores'\n",
    "String[] namen; // Array van strings met naam 'namen'"
   ]
  },
  {
   "cell_type": "markdown",
   "id": "578592a6",
   "metadata": {},
   "source": [
    "Een alternatieve wijze om **arrays** te declareren is:\n",
    "```Java\n",
    "<type> <naam>[];\n",
    "```\n",
    "Voordat een **array** kan worden gebruikt, moet deze worden gemaakt. De declaratie geeft namelijk alleen maar aan dat er een **array** is waar de gedeclareerde variabele naar verwijst, maar daarmee bestaat de daadwerkelijke **array** nog niet.\n",
    "\n",
    "Array maken:\n",
    "```Java\n",
    "<naam> = new[<aantal elementen>];\n",
    "```\n",
    "Bijvoorbeeld:"
   ]
  },
  {
   "cell_type": "code",
   "execution_count": 2,
   "id": "8e6eacdf",
   "metadata": {
    "vscode": {
     "languageId": "java"
    }
   },
   "outputs": [],
   "source": [
    "scores = new int[10]; // Array met 10 integers\n",
    "namen = new String[30]; // Array met 30 strings"
   ]
  },
  {
   "cell_type": "markdown",
   "id": "73f7bc52",
   "metadata": {},
   "source": [
    "Het declareren en maken van de **array** kan ook gecombineerd worden:\n",
    "```Java\n",
    "<type>[] <naam> = new[<aantal elementen>];\n",
    "```\n",
    "Bijvoorbeeld:"
   ]
  },
  {
   "cell_type": "code",
   "execution_count": 4,
   "id": "1b296cf3",
   "metadata": {
    "vscode": {
     "languageId": "java"
    }
   },
   "outputs": [],
   "source": [
    "int[] scores = new int[10]; // Array met 10 integers\n",
    "String[] namen = new String[30]; // Array met 30 strings"
   ]
  },
  {
   "cell_type": "markdown",
   "id": "6cf2c586",
   "metadata": {},
   "source": [
    "## Arrays gebruiken\n",
    "\n",
    "Het benaderen van een **element**, gebeurt door de **index** tussen blokhaken achter de naam van de **array** te plaatsen:\n",
    "\n",
    "```Java\n",
    "<naam>[<index>]\n",
    "```\n",
    "\n",
    "Bijvoorbeeld:"
   ]
  },
  {
   "cell_type": "code",
   "execution_count": 7,
   "id": "2b25b4bb",
   "metadata": {
    "vscode": {
     "languageId": "java"
    }
   },
   "outputs": [
    {
     "name": "stdout",
     "output_type": "stream",
     "text": [
      "Score met index 1: 10\n",
      "Henk en Els\n"
     ]
    }
   ],
   "source": [
    "scores[0]=5;\n",
    "scores[1]=10;\n",
    "System.out.println(\"Score met index 1: \"+scores[1]);\n",
    "namen[0]=\"Henk\";\n",
    "namen[1]=\"Els\";\n",
    "System.out.println(namen[0]+\" en \"+namen[1]);"
   ]
  },
  {
   "cell_type": "markdown",
   "id": "d6ac54af",
   "metadata": {},
   "source": [
    "## Arrays initialiseren\n",
    "\n",
    "Ook **elementen** die nog geen waarde toegekend hebben gekregen, zijn wél te benaderen.\n",
    "\n",
    "Bijvoorbeeld:"
   ]
  },
  {
   "cell_type": "code",
   "execution_count": 13,
   "id": "99af1ddb",
   "metadata": {
    "vscode": {
     "languageId": "java"
    }
   },
   "outputs": [
    {
     "name": "stdout",
     "output_type": "stream",
     "text": [
      "Score index 0: 10\n",
      "Score index 1: 0\n",
      "Score index 2: 5\n"
     ]
    }
   ],
   "source": [
    "int[] scores = new int[3];\n",
    "scores[0]=10;\n",
    "scores[2]=5;\n",
    "System.out.println(\"Score index 0: \"+scores[0]);\n",
    "System.out.println(\"Score index 1: \"+scores[1]);\n",
    "System.out.println(\"Score index 2: \"+scores[2]);"
   ]
  },
  {
   "cell_type": "markdown",
   "id": "a53f8e65",
   "metadata": {},
   "source": [
    "Waardes in een numerieke array worden geïnitialiseerd met de waarde `0`. Voor niet-numerieke types wordt een waarde toegekend die enigszins vergelijkbaar is met 0.\n",
    "\n",
    "| type | geïnitialiseerde waarde |\n",
    "|---|---|\n",
    "| byte, short, int, long | 0 |\n",
    "| double, float | 0.0 |\n",
    "| boolean | *false* |\n",
    "| char | '\\0' (ASCII 0) |\n",
    "| String | *null* |\n",
    "\n",
    "De waarde *null* is van toepassing op niet-primitieve types en betekent dat een **instantie** (in dit geval een string) niet aanwezig is."
   ]
  },
  {
   "cell_type": "markdown",
   "id": "492bbbba",
   "metadata": {},
   "source": [
    "Een array kan ook in één keer geïntialiseerd worden door de waardes tussen accolades te plaatsen:\n",
    "```Java\n",
    "<type>[] <naam> = new <type>[] { waarde1, waarde2, etc.. };\n",
    "```\n",
    "of\n",
    "```Java\n",
    "<type>[] <naam> = { waarde1, waarde2, etc.. };\n",
    "```\n",
    "\n",
    "Bijvoorbeeld:"
   ]
  },
  {
   "cell_type": "code",
   "execution_count": 28,
   "id": "702b797e",
   "metadata": {
    "vscode": {
     "languageId": "java"
    }
   },
   "outputs": [],
   "source": [
    "int[] scores = new int[] { 10, 4, 3, 22 };\n",
    "String[] namen = { \"Henk\", \"Jan\", \"Els\" };"
   ]
  },
  {
   "cell_type": "markdown",
   "id": "121c891d",
   "metadata": {},
   "source": [
    "Als initialisatie in één keer plaatsvindt, dan kan het *new*-keyword achterwege worden gelaten.  Deze wijze van initialiseren heeft wel beperkingen: het is alleen mogelijk in combinatie met de *declaratie* van de array en alle waardes moeten meegegeven worden (gedeeltelijk initialiseren kan niet)."
   ]
  },
  {
   "cell_type": "markdown",
   "id": "b58abcc6",
   "metadata": {},
   "source": [
    "## Arrays weergeven\n",
    "\n",
    "Een **array** printen op de console, laat niet de waardes zien:"
   ]
  },
  {
   "cell_type": "code",
   "execution_count": 19,
   "id": "165f1b92",
   "metadata": {
    "vscode": {
     "languageId": "java"
    }
   },
   "outputs": [
    {
     "name": "stdout",
     "output_type": "stream",
     "text": [
      "[I@7629b699\n"
     ]
    }
   ],
   "source": [
    "System.out.println(scores);"
   ]
  },
  {
   "cell_type": "markdown",
   "id": "d697347e",
   "metadata": {},
   "source": [
    "Wat wordt getoond is niet de inhoud van de array, maar het geheugenadres. Om de waardes te laten zien, moeten deze stuk voor stuk worden geprint. Dit is eenvoudig te realiseren met een for-loop:"
   ]
  },
  {
   "cell_type": "code",
   "execution_count": 20,
   "id": "b38953ff",
   "metadata": {
    "vscode": {
     "languageId": "java"
    }
   },
   "outputs": [
    {
     "name": "stdout",
     "output_type": "stream",
     "text": [
      "Score index 0: 12\n",
      "Score index 1: 2\n",
      "Score index 2: 7\n"
     ]
    }
   ],
   "source": [
    "for(int i=0; i<3; i++) {\n",
    "    System.out.f(\"Score index %d: %d\", i, scores[i]);\n",
    "}"
   ]
  },
  {
   "cell_type": "markdown",
   "id": "4156247e",
   "metadata": {},
   "source": [
    "In bovenstaand voorbeeld is de lengte van de array 'hardcoded' aanwezig. Om fouten te voorkomen, wordt meestal (altijd?) de property `length` van een array gebruikt:"
   ]
  },
  {
   "cell_type": "code",
   "execution_count": 21,
   "id": "d15d2484",
   "metadata": {
    "vscode": {
     "languageId": "java"
    }
   },
   "outputs": [
    {
     "name": "stdout",
     "output_type": "stream",
     "text": [
      "Score index 0: 12\n",
      "Score index 1: 2\n",
      "Score index 2: 7\n"
     ]
    }
   ],
   "source": [
    "for(int i=0; i<scores.length; i++) {\n",
    "\tSystem.out.printf(\"Score index %d: %d\", i, scores[i]);\n",
    "}"
   ]
  },
  {
   "cell_type": "markdown",
   "id": "fff45e3f",
   "metadata": {},
   "source": [
    "De property `length` geeft het aantal elementen van de array aan. Dat is het getal wat bij het maken van de array tussen de blokhaken na `new` staat."
   ]
  },
  {
   "cell_type": "markdown",
   "id": "06d1f6df",
   "metadata": {},
   "source": [
    "## Arrays doorlopen\n",
    "\n",
    "Met een lus (*loop*) kun je een array doorlopen. Natuurlijk niet alleen om te printen, maar ook voor operaties op de elementen.\n",
    "\n",
    "Bijvoorbeeld alle scores met 1 verhogen:"
   ]
  },
  {
   "cell_type": "code",
   "execution_count": 22,
   "id": "aa136096",
   "metadata": {
    "vscode": {
     "languageId": "java"
    }
   },
   "outputs": [
    {
     "name": "stdout",
     "output_type": "stream",
     "text": [
      "Nieuwe scores:\n",
      "Score index 0: 13\n",
      "Score index 1: 3\n",
      "Score index 2: 8\n"
     ]
    }
   ],
   "source": [
    "for(int i=0; i<scores.length; i++) {\n",
    "    scores[i]=scores[i]+1; // score met 1 verhogen\n",
    "}\n",
    "System.out.println(\"Nieuwe scores:\");\n",
    "for(int i=0; i<scores.length; i++) {\n",
    "    System.out.println(\"Score index \"+i+\": \"+scores[i]);\n",
    "}"
   ]
  },
  {
   "cell_type": "markdown",
   "id": "14bdf9d3",
   "metadata": {},
   "source": [
    "Uiteraard kan in plaats van een for-loop ook een while-loop worden gebruikt.\n",
    "\n",
    "Per situatie moet worden bekeken welk type loop het meest geschikt is."
   ]
  },
  {
   "cell_type": "markdown",
   "id": "70fb0ac4",
   "metadata": {},
   "source": [
    "## Arrays kopieëren"
   ]
  },
  {
   "cell_type": "markdown",
   "id": "5eee5bb0",
   "metadata": {},
   "source": [
    "Wat gebeurt er als een array aan een andere variabele wordt toegekend?\n",
    "Uiteraard moet deze variabele een array van hetzelfde type zijn.\n",
    "\n",
    "Bijvoorbeeld:"
   ]
  },
  {
   "cell_type": "code",
   "execution_count": 32,
   "id": "41ccd6bc",
   "metadata": {
    "vscode": {
     "languageId": "java"
    }
   },
   "outputs": [
    {
     "name": "stdout",
     "output_type": "stream",
     "text": [
      "51 51\n"
     ]
    }
   ],
   "source": [
    "int[] a = { 3, 50, 20 };\n",
    "int[] b;\n",
    "b=a;\n",
    "a[1]++;\n",
    "System.out.println(a[1]+\" \"+b[1]);\n"
   ]
  },
  {
   "cell_type": "markdown",
   "id": "6401f54b",
   "metadata": {},
   "source": [
    "Een verandering in array *a*, is ook zichtbaar in array *b*.\n",
    "\n",
    "Oorzaak: <u>*a* en *b* verwijzen naar dezelfde array</u>\n",
    "\n",
    "![Array reference](images/3/array_mem_reference.png)\n",
    "\n",
    "Toekenning van een array aan een andere variabele, kopieert de inhoud van de array niet, maar alleen de **referentie** naar die array. Een array kan gekopieerd worden door een array van hetzelfde type en dezelfde grootte te maken, en de elementen stuk voor stuk te kopiëren met een `for`-loop:"
   ]
  },
  {
   "cell_type": "code",
   "execution_count": 33,
   "id": "195bd79b",
   "metadata": {
    "vscode": {
     "languageId": "java"
    }
   },
   "outputs": [
    {
     "name": "stdout",
     "output_type": "stream",
     "text": [
      "51 50\n"
     ]
    }
   ],
   "source": [
    "int[] a = { 3, 50, 20 };\n",
    "int[] b = new int[a.length];\n",
    "for(int i=0; i<a.length; i++) {\n",
    "    b[i]=a[i];\n",
    "}\n",
    "a[1]++;\n",
    "System.out.println(a[1]+\" \"+b[1]);\n"
   ]
  },
  {
   "cell_type": "markdown",
   "id": "67be312a",
   "metadata": {},
   "source": [
    "Een verandering in array *a*, is niet zichtbaar in array *b*.\n",
    "\n",
    "oorzaak: <u>*a* en *b* verwijzen naar verschillende arrays</u>\n",
    "    \n",
    "![Array copy](images/3/array_mem_copy.png)"
   ]
  },
  {
   "cell_type": "markdown",
   "id": "4bf38d2b",
   "metadata": {},
   "source": [
    "Een andere manier om een array te kopiëren is gebruik maken van de methode `Arrays.copyOf()`.\n",
    "\n",
    "Voorbeeld:"
   ]
  },
  {
   "cell_type": "code",
   "execution_count": 36,
   "id": "e6c7ada0",
   "metadata": {
    "vscode": {
     "languageId": "java"
    }
   },
   "outputs": [],
   "source": [
    "int[] a = { 3, 50, 20 };\n",
    "int[] b = Arrays.copyOf(a, a.length);"
   ]
  },
  {
   "cell_type": "markdown",
   "id": "a4074e04",
   "metadata": {},
   "source": [
    "## Willekeurige getallen\n",
    "Soms, bijvoorbeeld wanneer je met spelletjes bezig bent, is het nodig dat een computerprogramma onvoorspelbaar is. Een computer is daarom in staat om willekeurige getallen te generen.\n",
    "\n",
    "Met Java kan dat op de volgende wijze:"
   ]
  },
  {
   "cell_type": "code",
   "execution_count": 29,
   "id": "f31ef857",
   "metadata": {
    "vscode": {
     "languageId": "java"
    }
   },
   "outputs": [
    {
     "name": "stdout",
     "output_type": "stream",
     "text": [
      "46\n"
     ]
    }
   ],
   "source": [
    "Random random = new Random();\n",
    "int willekeurigGetal = random.nextInt(100); // Willekeurig getal, van 0 tot 100 (99 is het hoogste getal)\n",
    "System.out.println(willekeurigGetal);"
   ]
  },
  {
   "cell_type": "markdown",
   "id": "9c112a0e",
   "metadata": {},
   "source": [
    "De klasse `Random` wordt geïmporteerd uit de `package java.util.Random`.\n",
    "\n",
    "De methode `nextInt()` kan ook gebruikt worden om een willekeurig element uit een array te halen.\n",
    "\n",
    "Voorbeeld:"
   ]
  },
  {
   "cell_type": "code",
   "execution_count": 30,
   "id": "fdcb2eb3",
   "metadata": {
    "vscode": {
     "languageId": "java"
    }
   },
   "outputs": [
    {
     "name": "stdout",
     "output_type": "stream",
     "text": [
      "Henk\n"
     ]
    }
   ],
   "source": [
    "String[] namen = { \"Henk\", \"Els\", \"Jan\", \"Moniek\" };\n",
    "Random random = new Random();\n",
    "String willekeurigeNaam=namen[random.nextInt(namen.length)];\n",
    "System.out.println(willekeurigeNaam);"
   ]
  },
  {
   "cell_type": "markdown",
   "id": "56bba10c",
   "metadata": {},
   "source": [
    "## Enhanced `for`-loop\n",
    "Voor de standaard `for`-loop om een array te doorlopen is een alternatief: de enhanced `for`-loop Deze wordt ook wel de `for-each`-loop genoemd.\n",
    "\n",
    "Voorbeeld:"
   ]
  },
  {
   "cell_type": "code",
   "execution_count": 1,
   "id": "b4cfdb6b",
   "metadata": {
    "vscode": {
     "languageId": "java"
    }
   },
   "outputs": [
    {
     "name": "stdout",
     "output_type": "stream",
     "text": [
      "10\n",
      "7\n",
      "-1\n",
      "5\n",
      "10\n",
      "7\n",
      "-1\n",
      "5\n"
     ]
    }
   ],
   "source": [
    "int[] values = { 10, 7, -1, 5 };\n",
    "// Standaard for-loop\n",
    "for (int i = 0; i < values.length; i++) {\n",
    "    int value = values[i];\n",
    "    System.out.println(value);\n",
    "}\n",
    "// Bovenstaande loop is de vervangen door:\n",
    "for (int value : values) {\n",
    "    System.out.println(value);\n",
    "}\n"
   ]
  },
  {
   "cell_type": "markdown",
   "id": "9f0d7355",
   "metadata": {},
   "source": [
    "Een voordeel van de `enhanced for`-loop is de eenvoudige syntax. Er is dan echter geen index beschikbaar. Per situatie moet worden bekeken welk type loop het meest geschikt is."
   ]
  }
 ],
 "metadata": {
  "kernelspec": {
   "display_name": "Java",
   "language": "java",
   "name": "java"
  },
  "language_info": {
   "codemirror_mode": "java",
   "file_extension": ".jshell",
   "mimetype": "text/x-java-source",
   "name": "Java",
   "pygments_lexer": "java",
   "version": "11.0.11+9-Ubuntu-0ubuntu2"
  }
 },
 "nbformat": 4,
 "nbformat_minor": 5
}
