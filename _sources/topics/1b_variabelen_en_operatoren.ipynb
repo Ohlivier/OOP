{
 "cells": [
  {
   "cell_type": "markdown",
   "id": "f1629cc2-5832-4d42-a8e2-1413668bcc8a",
   "metadata": {
    "slideshow": {
     "slide_type": "slide"
    },
    "tags": []
   },
   "source": [
    "# Variabelen en operatoren"
   ]
  },
  {
   "cell_type": "markdown",
   "id": "112ebd40-83c9-4cde-a7ee-25d406e9ef27",
   "metadata": {
    "slideshow": {
     "slide_type": "subslide"
    },
    "tags": []
   },
   "source": [
    "## Variabelen"
   ]
  },
  {
   "cell_type": "markdown",
   "id": "68d0aedf",
   "metadata": {
    "slideshow": {
     "slide_type": "fragment"
    },
    "tags": []
   },
   "source": [
    "**Datatypen**\n",
    "\n",
    "- getallen\n",
    "- strings (tekst)\n",
    "- booleans (*true* of *false*)\n",
    "- ..."
   ]
  },
  {
   "cell_type": "markdown",
   "id": "9be0f1ce-1d6c-4a38-9e9f-51a1584a2725",
   "metadata": {
    "slideshow": {
     "slide_type": "notes"
    },
    "tags": []
   },
   "source": [
    "Variabelen hebben altijd een datatype, ongeacht de taal. De wijze van toekenning van waarden aan variabelen, en daarmee de typen, kunnen verschillen. We gaan een onderscheid maken tussen *dynamisch*- en *statisch* getypeerde talen."
   ]
  },
  {
   "cell_type": "markdown",
   "id": "deaadc3c-b914-4f55-a0cb-f17dc4111e49",
   "metadata": {
    "slideshow": {
     "slide_type": "subslide"
    },
    "tags": []
   },
   "source": [
    "### Dynamisch- en statisch getypeerde talen"
   ]
  },
  {
   "cell_type": "markdown",
   "id": "bdbf7378-0324-4b6e-b4d9-def0aa2f5b7e",
   "metadata": {
    "slideshow": {
     "slide_type": "subslide"
    },
    "tags": []
   },
   "source": [
    "*Dynamisch* getypeerd\n",
    "> Het type wordt bepaald tijdens uitvoering van een programma aan de hand van de waarde die aan de variabele wordt toegekend, het type kan veranderen door toekenning van andere waarden."
   ]
  },
  {
   "cell_type": "markdown",
   "id": "055083a5-68aa-4688-84bd-b0558ee042e2",
   "metadata": {
    "slideshow": {
     "slide_type": "notes"
    },
    "tags": []
   },
   "source": [
    "Voorbeelden van *dynamisch* getypeerde talen zijn Python, PHP en JavaScript."
   ]
  },
  {
   "cell_type": "markdown",
   "id": "e62e52c3-a848-4828-9053-d60744ba90cd",
   "metadata": {
    "slideshow": {
     "slide_type": "subslide"
    },
    "tags": []
   },
   "source": [
    "#### Voorbeeld\n",
    "\n",
    "```python\n",
    "a = 10\n",
    "a = \"tien\"\n",
    "```"
   ]
  },
  {
   "cell_type": "markdown",
   "id": "0b1132f6-bbed-411a-93e3-c43131d6bb0b",
   "metadata": {
    "slideshow": {
     "slide_type": "notes"
    },
    "tags": []
   },
   "source": [
    "Dit is een voorbeeld in Python. Tijdens de loop van het programma (*runtime*) zal `a` eerst verwijzen naar een waarde van type *integer* (`10`), later naar een type *string* (`\"tien\"`)."
   ]
  },
  {
   "cell_type": "markdown",
   "id": "c15f93bc-90cb-48a7-a570-d78da099734e",
   "metadata": {
    "slideshow": {
     "slide_type": "subslide"
    },
    "tags": []
   },
   "source": [
    "*Statisch* (of sterk) getypeerd\n",
    "> Het type wordt vooraf vastgelegd (gedeclareerd) en het type kan niet veranderen."
   ]
  },
  {
   "cell_type": "markdown",
   "id": "2e4455fb-2c5c-4062-b7d0-88929362d2ac",
   "metadata": {
    "slideshow": {
     "slide_type": "notes"
    },
    "tags": []
   },
   "source": [
    "Java is een statisch getypeerde programmeertaal waar alle variabelen *vóór* gebruik gedeclareerd moeten  worden. Een ander voorbeeld van een statisch getypeerde taal is C."
   ]
  },
  {
   "cell_type": "markdown",
   "id": "f890d1f8",
   "metadata": {
    "slideshow": {
     "slide_type": "subslide"
    },
    "tags": []
   },
   "source": [
    "### Variabelen declareren\n",
    "\n",
    "Het declareren van een variabele vindt plaats met de volgende syntax:\n",
    "```text\n",
    "<type> <naam>\n",
    "```"
   ]
  },
  {
   "cell_type": "code",
   "execution_count": 1,
   "id": "a82b7fd4",
   "metadata": {
    "slideshow": {
     "slide_type": "fragment"
    },
    "tags": []
   },
   "outputs": [],
   "source": [
    "int score;         // variabele met naam 'score' en type int\n",
    "String woonplaats; // variabele met naam 'woonplaats' en type String\n",
    "double prijs;      // variabele met naam 'prijs' en type double\n",
    "boolean isManager; // variabele met naam 'isManager' en type boolean"
   ]
  },
  {
   "cell_type": "markdown",
   "id": "e23d3653-ccdb-455f-a157-84c41fa0d451",
   "metadata": {
    "slideshow": {
     "slide_type": "notes"
    },
    "tags": []
   },
   "source": [
    "De variabelen hebben hier nog geen waarde, je *verklaart* hier alleen dat je een variabele van een bepaald type gaat gebruiken, de daadwerkelijke waarde zal pas later worden gezet (*geïnitialisereerd*)."
   ]
  },
  {
   "cell_type": "markdown",
   "id": "1ccbb28e",
   "metadata": {
    "slideshow": {
     "slide_type": "subslide"
    },
    "tags": []
   },
   "source": [
    "### Variabelen initialiseren\n",
    "\n",
    "Als een variabele eenmaal is gedeclareerd, dan kan daar een waarde aan worden toegekend."
   ]
  },
  {
   "cell_type": "code",
   "execution_count": 2,
   "id": "ea094491",
   "metadata": {
    "slideshow": {
     "slide_type": "fragment"
    },
    "tags": []
   },
   "outputs": [],
   "source": [
    "score = 12;\n",
    "woonplaats = \"Groningen\";\n",
    "prijs = 4.95;\n",
    "isManager = true;"
   ]
  },
  {
   "cell_type": "code",
   "execution_count": 36,
   "id": "a6efffd5-c4ea-4903-808f-53bd00b8e7ef",
   "metadata": {
    "slideshow": {
     "slide_type": "fragment"
    },
    "tags": []
   },
   "outputs": [
    {
     "ename": "CompilationException",
     "evalue": "",
     "output_type": "error",
     "traceback": [
      "\u001b[1m\u001b[30m|   \u001b[1m\u001b[30mscore = \u001b[0m\u001b[1m\u001b[30m\u001b[41m\"twaalf\"\u001b[0m\u001b[1m\u001b[30m\u001b[0m",
      "\u001b[1m\u001b[31mincompatible types: java.lang.String cannot be converted to int\u001b[0m",
      ""
     ]
    }
   ],
   "source": [
    "score = \"twaalf\""
   ]
  },
  {
   "cell_type": "markdown",
   "id": "50e5c6f2-71d0-45fb-a1e8-75b758f69670",
   "metadata": {
    "slideshow": {
     "slide_type": "notes"
    },
    "tags": []
   },
   "source": [
    "Dit geeft een fout. Als het type eenmaal is gedeclareed dan mag geen waarde van een ander type worden toegekend!"
   ]
  },
  {
   "cell_type": "markdown",
   "id": "227a5e19",
   "metadata": {
    "slideshow": {
     "slide_type": "subslide"
    },
    "tags": []
   },
   "source": [
    "### Declareren én initialiseren"
   ]
  },
  {
   "cell_type": "code",
   "execution_count": 57,
   "id": "7be8b326",
   "metadata": {
    "slideshow": {
     "slide_type": "fragment"
    },
    "tags": []
   },
   "outputs": [],
   "source": [
    "int score = 12;\n",
    "String woonplaats = \"Groningen\";\n",
    "double prijs = 4.95;\n",
    "boolean isManager = true;"
   ]
  },
  {
   "cell_type": "markdown",
   "id": "e4712279-6ded-4f75-8324-f8bd4fe5da5e",
   "metadata": {
    "slideshow": {
     "slide_type": "notes"
    },
    "tags": []
   },
   "source": [
    "Declareren en initialiseren kan in één regel!"
   ]
  },
  {
   "cell_type": "markdown",
   "id": "956fc168-853d-4508-8ce0-6e0a9442572c",
   "metadata": {
    "slideshow": {
     "slide_type": "slide"
    },
    "tags": []
   },
   "source": [
    "## Dynamische versus statische toekenning"
   ]
  },
  {
   "cell_type": "markdown",
   "id": "1896a344-02d2-4cc1-a21d-4c9eb5b04060",
   "metadata": {
    "slideshow": {
     "slide_type": "fragment"
    },
    "tags": []
   },
   "source": [
    "```java\n",
    "int score = 12;\n",
    "```\n",
    "\n",
    "![statisch 1b](images/1/1a_static.png)"
   ]
  },
  {
   "cell_type": "markdown",
   "id": "72df4f24-4449-42c0-aa4d-a09cd10c114a",
   "metadata": {
    "slideshow": {
     "slide_type": "notes"
    },
    "tags": []
   },
   "source": [
    "Je hebt nu gezien hoe variabelen worden gedeclareerd (met type en naam) en vervolgens worden geinitialiseerd met een waarde van het type dat eerder is gedeclareerd. *Naam*, *type* en *waarde* horen bij elkaar en worden als geheel in het geheugen bewaard. Het type kan niet meer worden gewijzigd en daarmee kan het ook niet meer een waarde van een ander type krijgen."
   ]
  },
  {
   "cell_type": "markdown",
   "id": "1a8f3e56-9436-4c9a-aca9-3cdb0b6e24a2",
   "metadata": {
    "slideshow": {
     "slide_type": "subslide"
    },
    "tags": []
   },
   "source": [
    "```python\n",
    "a = 10\n",
    "```\n",
    "\n",
    "![dynamisch 1a](images/1/1a_dynamic.png)"
   ]
  },
  {
   "cell_type": "markdown",
   "id": "f5eeaede-21f7-4057-84e0-40d70d9fb8ea",
   "metadata": {
    "slideshow": {
     "slide_type": "notes"
    },
    "tags": []
   },
   "source": [
    "Hoe verschilt dit nu van *dynamische* typering? Een taal als Python zal bij de toekenning van een waarde een object in het geheugen aanmaken met type en waarde. De naam (variabele) is echter een *verwijzing* naar (en niet een onderdeel van) het object."
   ]
  },
  {
   "cell_type": "markdown",
   "id": "449b86fa-cd36-4112-8d61-9617b0e32083",
   "metadata": {
    "slideshow": {
     "slide_type": "subslide"
    },
    "tags": []
   },
   "source": [
    "```python\n",
    "a = \"tien\"\n",
    "```\n",
    "\n",
    "![dynamisch 1b](images/1/1b_dynamic.png)"
   ]
  },
  {
   "cell_type": "markdown",
   "id": "0809dfdb-f5b1-4af8-a8da-11220b4a6426",
   "metadata": {
    "slideshow": {
     "slide_type": "notes"
    },
    "tags": []
   },
   "source": [
    "Een verwijzing wordt nu gemaakt naar een *nieuw* object, een *string* in dit geval. De verwijzing naar het vorige object bestaat niet meer en het object zal op een gegeven moment uit het geheugen worden verwijderd (*garbage collection*).\n",
    "\n",
    "Strikt (technisch) gezien zou je kunnen stellen dat het objecttype niet verandert, alleen maar de verwijzing.\n",
    "\n",
    "Je kan je misschien nu afvragen welke benadering (statisch of dynamisch) beter is. Ons antwoord is dat het niet een kwestie van beter of slechter is, beide hebben hun voor- en nadelen."
   ]
  },
  {
   "cell_type": "markdown",
   "id": "bcf74347",
   "metadata": {
    "slideshow": {
     "slide_type": "slide"
    },
    "tags": []
   },
   "source": [
    "## Variabelen en geheugen"
   ]
  },
  {
   "cell_type": "code",
   "execution_count": 13,
   "id": "17ee1a3c",
   "metadata": {
    "slideshow": {
     "slide_type": "fragment"
    },
    "tags": []
   },
   "outputs": [],
   "source": [
    "int a = 3;\n",
    "int b = a;"
   ]
  },
  {
   "cell_type": "markdown",
   "id": "a08fa9f6-7b5b-4c07-81f2-b792d2d430d9",
   "metadata": {
    "slideshow": {
     "slide_type": "notes"
    },
    "tags": []
   },
   "source": [
    "De bovenstaande declaraties plaatsen *twee* integers in het geheugen. De toekenning `b = a` plaatst de **waarde** van `a` in `b`"
   ]
  },
  {
   "cell_type": "code",
   "execution_count": 14,
   "id": "e2aab457",
   "metadata": {
    "slideshow": {
     "slide_type": "fragment"
    },
    "tags": []
   },
   "outputs": [],
   "source": [
    "a = 10;"
   ]
  },
  {
   "cell_type": "markdown",
   "id": "3ee0c645",
   "metadata": {
    "slideshow": {
     "slide_type": "notes"
    },
    "tags": []
   },
   "source": [
    "Wat is de waarde van `a` en `b` na het uitvoeren van deze regel?"
   ]
  },
  {
   "cell_type": "code",
   "execution_count": 15,
   "id": "30547cb5-b0f0-488b-89fc-8991d2739655",
   "metadata": {
    "slideshow": {
     "slide_type": "fragment"
    },
    "tags": []
   },
   "outputs": [
    {
     "data": {
      "text/plain": [
       "10"
      ]
     },
     "execution_count": 15,
     "metadata": {},
     "output_type": "execute_result"
    }
   ],
   "source": [
    "a"
   ]
  },
  {
   "cell_type": "code",
   "execution_count": 16,
   "id": "8d879559-f2d5-4c4c-83a5-74730818056c",
   "metadata": {
    "slideshow": {
     "slide_type": "fragment"
    },
    "tags": []
   },
   "outputs": [
    {
     "data": {
      "text/plain": [
       "3"
      ]
     },
     "execution_count": 16,
     "metadata": {},
     "output_type": "execute_result"
    }
   ],
   "source": [
    "b"
   ]
  },
  {
   "cell_type": "markdown",
   "id": "dc18a8c0",
   "metadata": {
    "slideshow": {
     "slide_type": "slide"
    },
    "tags": []
   },
   "source": [
    "## Variabelen op de console\n",
    "Variabelen kunnen meegegeven worden aan een `System.out.println`-statement."
   ]
  },
  {
   "cell_type": "code",
   "execution_count": 17,
   "id": "c76baa09",
   "metadata": {
    "slideshow": {
     "slide_type": "fragment"
    },
    "tags": []
   },
   "outputs": [
    {
     "name": "stdout",
     "output_type": "stream",
     "text": [
      "12\n",
      "Groningen\n",
      "4.95\n",
      "true\n"
     ]
    }
   ],
   "source": [
    "System.out.println(score);\n",
    "System.out.println(woonplaats);\n",
    "System.out.println(prijs);\n",
    "System.out.println(isManager);"
   ]
  },
  {
   "cell_type": "markdown",
   "id": "35e945d9",
   "metadata": {
    "slideshow": {
     "slide_type": "notes"
    },
    "tags": []
   },
   "source": [
    "Dit kan ook gecombineerd worden met tekst:"
   ]
  },
  {
   "cell_type": "code",
   "execution_count": 61,
   "id": "528bdb83",
   "metadata": {
    "slideshow": {
     "slide_type": "fragment"
    },
    "tags": []
   },
   "outputs": [
    {
     "name": "stdout",
     "output_type": "stream",
     "text": [
      "Score: 12\n"
     ]
    }
   ],
   "source": [
    "System.out.println(\"Score: \" + score);"
   ]
  },
  {
   "cell_type": "markdown",
   "id": "3159cb59",
   "metadata": {
    "slideshow": {
     "slide_type": "notes"
    },
    "tags": []
   },
   "source": [
    "Ook complexere combinaties zijn mogelijk:"
   ]
  },
  {
   "cell_type": "code",
   "execution_count": 37,
   "id": "89a3dbd5",
   "metadata": {
    "slideshow": {
     "slide_type": "fragment"
    },
    "tags": []
   },
   "outputs": [
    {
     "name": "stdout",
     "output_type": "stream",
     "text": [
      "De prijs van een middag parkeren in Groningen is €4.95.\n"
     ]
    }
   ],
   "source": [
    "System.out.println(\"De prijs van een middag parkeren in \"+woonplaats+\" is €\"+prijs+\".\");"
   ]
  },
  {
   "cell_type": "markdown",
   "id": "bb14aaaf",
   "metadata": {
    "slideshow": {
     "slide_type": "slide"
    },
    "tags": []
   },
   "source": [
    "## Typen in Java\n",
    "\n",
    "* Java heeft 8 verschillende *primitieve* typen.\n",
    "* De meeste daarvan zijn numerieke types, variabelen die een *getal* bevatten.\n",
    "* Numerieke types zijn in twee groepen te verdelen:\n",
    "  - gehele getallen\n",
    "  - floating point getallen."
   ]
  },
  {
   "cell_type": "markdown",
   "id": "aa7af0dd-e6b0-4cdb-b401-92b1b4eaf12a",
   "metadata": {
    "slideshow": {
     "slide_type": "subslide"
    },
    "tags": []
   },
   "source": [
    "### Gehele getallen\n",
    "\n",
    "| Type | Omvang | Bereik |\n",
    "| --- | --- | --- |\n",
    "| byte | 8 bits | -128 t/m 127 |\n",
    "| short | 16 bits | -32768 t/m 32767 |\n",
    "| int | 32 bits | -2 147 483 648 t/m 2 147 483 647 |\n",
    "| long | 64 bits | -2^63 t/m 2^63-1 |"
   ]
  },
  {
   "cell_type": "markdown",
   "id": "342c8c68-0ebd-4498-9064-433e4cff01f6",
   "metadata": {
    "slideshow": {
     "slide_type": "notes"
    },
    "tags": []
   },
   "source": [
    "Gehele getallen in Java zijn altijd *signed*."
   ]
  },
  {
   "cell_type": "markdown",
   "id": "7c0ed2d6-13c0-4a24-82a7-d566add1c9f0",
   "metadata": {
    "slideshow": {
     "slide_type": "subslide"
    },
    "tags": []
   },
   "source": [
    "### Floating point getallen\n",
    "\n",
    "| Type | Omvang |\n",
    "| --- | --- |\n",
    "| float | 32 bits |\n",
    "| double | 64 bits |"
   ]
  },
  {
   "cell_type": "markdown",
   "id": "2323ffc2-a011-42fd-8b5f-d1b800fd2f39",
   "metadata": {
    "slideshow": {
     "slide_type": "notes"
    },
    "tags": []
   },
   "source": [
    "Naast de algemene numerieke types heeft Java nog twee aanvullende types, `float` en `double`."
   ]
  },
  {
   "cell_type": "markdown",
   "id": "3f2fd9cd-2ae5-43c3-a543-34707b4694b8",
   "metadata": {
    "slideshow": {
     "slide_type": "subslide"
    },
    "tags": []
   },
   "source": [
    "### Overige types\n",
    "\n",
    "| Type | Beschrijving |\n",
    "| --- | --- |\n",
    "| boolean | heeft waarde *true* of *false* |\n",
    "| char | één karakter |"
   ]
  },
  {
   "cell_type": "markdown",
   "id": "c2e05c91-e340-4632-b76b-1c4f434a00aa",
   "metadata": {
    "slideshow": {
     "slide_type": "slide"
    },
    "tags": []
   },
   "source": [
    "## Primitief?"
   ]
  },
  {
   "cell_type": "markdown",
   "id": "8dff14e5-4b0c-4a03-8e2d-2f6509f2860b",
   "metadata": {
    "slideshow": {
     "slide_type": "fragment"
    },
    "tags": []
   },
   "source": [
    "Aanduidingen van primitieve types beginnen met een kleine letter.\n",
    "\n",
    "```java\n",
    "int score = 12;\n",
    "```"
   ]
  },
  {
   "cell_type": "markdown",
   "id": "32bf7d6d-1876-4474-97cc-03b36370c115",
   "metadata": {
    "slideshow": {
     "slide_type": "fragment"
    },
    "tags": []
   },
   "source": [
    "```java\n",
    "String text = \"Hallo wereld!\";\n",
    "```"
   ]
  },
  {
   "cell_type": "markdown",
   "id": "c499b113-fe50-485b-8f43-58fbf63b259f",
   "metadata": {
    "slideshow": {
     "slide_type": "notes"
    },
    "tags": []
   },
   "source": [
    "Maar we hebben eerder ook typen gezien met hoofdletter, bijvoorbeeld `String`. Dit zijn *niet*-primitieve types. Aanduidingen van niet-primitieve types beginnen met een hoofdletter. Deze worden later behandeld.\n",
    "\n",
    "Voor nu is het belangrijk om te weten dat het niet-primitieve type `String` voor strings gebruikt wordt in Java."
   ]
  },
  {
   "cell_type": "markdown",
   "id": "7b428940",
   "metadata": {
    "slideshow": {
     "slide_type": "slide"
    },
    "tags": []
   },
   "source": [
    "## Rekenkundige operatoren\n",
    "Op numerieke types kunnen de basis rekenkundige operatoren gebruikt worden.\n",
    "\n",
    "Dit zijn onder andere `+`, `-`, `/` en `*`:"
   ]
  },
  {
   "cell_type": "code",
   "execution_count": 18,
   "id": "001f0cc8",
   "metadata": {
    "slideshow": {
     "slide_type": "subslide"
    },
    "tags": []
   },
   "outputs": [
    {
     "name": "stdout",
     "output_type": "stream",
     "text": [
      "6\n",
      "40\n",
      "2\n"
     ]
    }
   ],
   "source": [
    "int a = 10;\n",
    "int b = 4;\n",
    "System.out.println(a - b);\n",
    "System.out.println(a * b);\n",
    "System.out.println(a / b);"
   ]
  },
  {
   "cell_type": "markdown",
   "id": "727fc4f7",
   "metadata": {
    "slideshow": {
     "slide_type": "notes"
    },
    "tags": []
   },
   "source": [
    "Het laatste voorbeeld waarbij `a` gedeeld wordt door `b` geeft wellicht een onverwacht resultaat. Het getal 10 delen door 4 levert immers het getal 2,5 op.\n",
    "\n",
    "Verklaring: Het type van het resultaat van een operator is gebaseerd op de types waarop de operatie wordt toegepast. In dit voorbeeld: Twee integers worden door elkaar gedeeld. Resultaat komt ook in een integer, als geheel getal.\n",
    "\n",
    "Oplossing:"
   ]
  },
  {
   "cell_type": "code",
   "execution_count": 19,
   "id": "917c160c",
   "metadata": {
    "slideshow": {
     "slide_type": "fragment"
    },
    "tags": []
   },
   "outputs": [
    {
     "name": "stdout",
     "output_type": "stream",
     "text": [
      "2.5\n"
     ]
    }
   ],
   "source": [
    "System.out.println((float) a / b);"
   ]
  },
  {
   "cell_type": "markdown",
   "id": "6a868a01",
   "metadata": {
    "slideshow": {
     "slide_type": "fragment"
    },
    "tags": []
   },
   "source": [
    "De type-aanduiding *float* tussen haakjes wordt een *cast*-operator genoemd. Het instrueert de compiler om `a` te behandelen alsof het een `float` is. Daardoor wordt het resultaat ook van het type `float`."
   ]
  },
  {
   "cell_type": "markdown",
   "id": "c63be4b5",
   "metadata": {},
   "source": [
    "Voor modulo (rest) wordt `%` gebruikt:"
   ]
  },
  {
   "cell_type": "code",
   "execution_count": 22,
   "id": "9eb78c1e",
   "metadata": {
    "slideshow": {
     "slide_type": "fragment"
    },
    "tags": []
   },
   "outputs": [
    {
     "name": "stdout",
     "output_type": "stream",
     "text": [
      "4\n"
     ]
    }
   ],
   "source": [
    "int a = 20;\n",
    "System.out.println(a % 8); // 4"
   ]
  },
  {
   "cell_type": "markdown",
   "id": "c0bfe9a5",
   "metadata": {
    "slideshow": {
     "slide_type": "slide"
    },
    "tags": []
   },
   "source": [
    "## Afrondingsfouten"
   ]
  },
  {
   "cell_type": "code",
   "execution_count": 23,
   "id": "eba41efd",
   "metadata": {
    "slideshow": {
     "slide_type": "fragment"
    },
    "tags": []
   },
   "outputs": [
    {
     "name": "stdout",
     "output_type": "stream",
     "text": [
      "1.0\n",
      "0.9999999999999999\n"
     ]
    }
   ],
   "source": [
    "System.out.println(0.1 * 10);\n",
    "System.out.println(\n",
    "    0.1 + 0.1 + 0.1 + 0.1 + 0.1 +\n",
    "    0.1 + 0.1 + 0.1 + 0.1 + 0.1\n",
    ");"
   ]
  },
  {
   "cell_type": "markdown",
   "id": "148b3fa3",
   "metadata": {
    "slideshow": {
     "slide_type": "notes"
    },
    "tags": []
   },
   "source": [
    "Bij floatingpoint getallen kun je te maken krijgen met afrondingsfouten, deze afrondingsfouten zijn inherent aan floatingpoint types!"
   ]
  },
  {
   "cell_type": "markdown",
   "id": "20d25507",
   "metadata": {
    "slideshow": {
     "slide_type": "slide"
    },
    "tags": []
   },
   "source": [
    "## String operatoren\n",
    "\n",
    "Rekenkundige operatoren zoals aftrekken, delen en vermenigvuldigen zijn niet mogelijk met strings. Deze geven een *compileerfout*.\n",
    "\n",
    "De `+` operator is wel mogelijk met strings. Deze combineert twee strings tot een nieuwe string."
   ]
  },
  {
   "cell_type": "code",
   "execution_count": 24,
   "id": "130911c1",
   "metadata": {
    "slideshow": {
     "slide_type": "subslide"
    },
    "tags": []
   },
   "outputs": [
    {
     "name": "stdout",
     "output_type": "stream",
     "text": [
      "Hello world!\n"
     ]
    }
   ],
   "source": [
    "String firstpart = \"Hello \";\n",
    "String secondpart = \"world!\";\n",
    "String message = firstpart + secondpart;\n",
    "System.out.println(message);"
   ]
  },
  {
   "cell_type": "markdown",
   "id": "7a1a1ece",
   "metadata": {
    "slideshow": {
     "slide_type": "notes"
    },
    "tags": []
   },
   "source": [
    "Ook complexere combinaties zijn mogelijk:"
   ]
  },
  {
   "cell_type": "code",
   "execution_count": 25,
   "id": "75376c44",
   "metadata": {
    "slideshow": {
     "slide_type": "subslide"
    },
    "tags": []
   },
   "outputs": [
    {
     "name": "stdout",
     "output_type": "stream",
     "text": [
      "Hello Hanze students!\n"
     ]
    }
   ],
   "source": [
    "String greet=\"Hello\";\n",
    "String name=\"Hanze students\";\n",
    "String message = greet + \" \" + name + \"!\";\n",
    "System.out.println(message);"
   ]
  },
  {
   "cell_type": "markdown",
   "id": "1bc1877f",
   "metadata": {
    "slideshow": {
     "slide_type": "notes"
    },
    "tags": []
   },
   "source": [
    "Combineren met andere types is mogelijk:"
   ]
  },
  {
   "cell_type": "code",
   "execution_count": 26,
   "id": "861a5b5e",
   "metadata": {
    "slideshow": {
     "slide_type": "subslide"
    },
    "tags": []
   },
   "outputs": [
    {
     "name": "stdout",
     "output_type": "stream",
     "text": [
      "180\n"
     ]
    }
   ],
   "source": [
    "int score=180;\n",
    "String message = \"Uw score is \"+score+\" punten!\";\n",
    "System.out.println(score);"
   ]
  },
  {
   "cell_type": "markdown",
   "id": "2aa435e2",
   "metadata": {
    "slideshow": {
     "slide_type": "notes"
    },
    "tags": []
   },
   "source": [
    "In het bovenstaande voorbeeld wordt de numerieke variabele *score* **impliciet** omgezet naar een string en vervolgens gecombineerd met de andere strings."
   ]
  },
  {
   "cell_type": "markdown",
   "id": "f60293be-921a-4c39-9baf-f328efb7de2f",
   "metadata": {
    "slideshow": {
     "slide_type": "slide"
    },
    "tags": []
   },
   "source": [
    "## Maar in een andere taal..."
   ]
  },
  {
   "cell_type": "markdown",
   "id": "777998ae-daaf-4913-b857-f2e4a48d6883",
   "metadata": {
    "slideshow": {
     "slide_type": "fragment"
    },
    "tags": []
   },
   "source": [
    "kan ik wel strings vermenigvuldigen!\n",
    "\n",
    "```python\n",
    "\"ha\" * 10\n",
    "```"
   ]
  },
  {
   "cell_type": "markdown",
   "id": "c6a774b3-d2b9-4df8-bb7f-a312c5ebfcba",
   "metadata": {
    "slideshow": {
     "slide_type": "notes"
    },
    "tags": []
   },
   "source": [
    "De vermenigvuldigingsoperator `*` kan je in Java niet gebruiken in combinatie met strings. Bij het leren van een nieuwe taal zul je soms zoeken naar een manier om een idee uit te drukken die je misschien uit een andere taal kent, bijvoorbeeld Python. Het kan zijn dat de ontwerpers van een taal er voor gekozen hebben om het anders uit te druken of is het misschien technisch niet mogelijk."
   ]
  },
  {
   "cell_type": "code",
   "execution_count": 35,
   "id": "0109ddcb-29a3-40a6-805c-8a19f3ba90eb",
   "metadata": {
    "slideshow": {
     "slide_type": "fragment"
    },
    "tags": []
   },
   "outputs": [
    {
     "data": {
      "text/plain": [
       "hahahahahahahahahaha"
      ]
     },
     "execution_count": 35,
     "metadata": {},
     "output_type": "execute_result"
    }
   ],
   "source": [
    "String text = \"ha\";\n",
    "text.repeat(10);"
   ]
  },
  {
   "cell_type": "markdown",
   "id": "dba02318-8bdd-44a5-8916-74e64d7b7774",
   "metadata": {
    "slideshow": {
     "slide_type": "notes"
    },
    "tags": []
   },
   "source": [
    "Dit is de oplossing die Java voor dit specifieke probleem heeft waar de *methode* `repeat()` van het `String` object `text` moet worden aangeroepen voor het aantal gewenste herhalingen. Let op, dit kan pas vanaf Java versie 11."
   ]
  },
  {
   "cell_type": "markdown",
   "id": "53450e51",
   "metadata": {
    "slideshow": {
     "slide_type": "slide"
    },
    "tags": []
   },
   "source": [
    "## Fouten\n",
    "\n",
    "- *Compiler* fout\n",
    "- *Runtime* fout\n",
    "- *Logische* fout"
   ]
  },
  {
   "cell_type": "markdown",
   "id": "090ffc91-7ba8-43e3-92b2-7017ec5297d3",
   "metadata": {
    "slideshow": {
     "slide_type": "notes"
    },
    "tags": []
   },
   "source": [
    "Er zijn 3 types fouten die met het compileren of uitvoeren van een programma kunnen optreden."
   ]
  },
  {
   "cell_type": "markdown",
   "id": "1e348b65-03f5-4226-a37e-6a51c11764f9",
   "metadata": {
    "jp-MarkdownHeadingCollapsed": true,
    "slideshow": {
     "slide_type": "subslide"
    },
    "tags": []
   },
   "source": [
    "### Compiler fout\n",
    "\n",
    "Een compiler fout treedt op tijdens het compileren, als een regel geen correcte Java-code bevat.\n",
    "Bijvoorbeeld een accolade of puntkomma ontbreekt."
   ]
  },
  {
   "cell_type": "markdown",
   "id": "0d2ad6ee-b17f-4f15-b738-5543dab61903",
   "metadata": {
    "slideshow": {
     "slide_type": "subslide"
    },
    "tags": []
   },
   "source": [
    "### Runtime fout\n",
    "\n",
    "Een run-time fout treedt op tijdens het uitvoeren van een programma. Het compileren is in dat geval wel goed verlopen. Bijvoorbeeld delen door nul."
   ]
  },
  {
   "cell_type": "code",
   "execution_count": 27,
   "id": "9ac663df",
   "metadata": {
    "slideshow": {
     "slide_type": "fragment"
    },
    "tags": []
   },
   "outputs": [
    {
     "ename": "EvalException",
     "evalue": "/ by zero",
     "output_type": "error",
     "traceback": [
      "\u001b[1m\u001b[31m---------------------------------------------------------------------------\u001b[0m",
      "\u001b[1m\u001b[31mjava.lang.ArithmeticException: / by zero\u001b[0m",
      "\u001b[1m\u001b[31m\tat .(#54:1)\u001b[0m"
     ]
    }
   ],
   "source": [
    "int a = 5;\n",
    "int b = 0;\n",
    "System.out.println(a / b);"
   ]
  },
  {
   "cell_type": "markdown",
   "id": "01908303",
   "metadata": {
    "slideshow": {
     "slide_type": "subslide"
    },
    "tags": []
   },
   "source": [
    "### Logische fout\n",
    "Van een logische fout is sprake als code succesvol is gecompileerd en zonder run-time fouten wordt uitgevoerd, maar door een programmeerfout niet het gewenste resultaat geeft.\n",
    "\n",
    "Bijvoorbeeld een off-by-one fout:"
   ]
  },
  {
   "cell_type": "code",
   "execution_count": 28,
   "id": "f6e0538b",
   "metadata": {
    "slideshow": {
     "slide_type": "fragment"
    },
    "tags": []
   },
   "outputs": [
    {
     "name": "stdout",
     "output_type": "stream",
     "text": [
      "De derde letter van Hanze is z\n"
     ]
    }
   ],
   "source": [
    "String naam = \"Hanze\";\n",
    "char derdeLetter = naam.charAt(3);\n",
    "System.out.println(\"De derde letter van \" + naam + \" is \" + derdeLetter);"
   ]
  }
 ],
 "metadata": {
  "kernelspec": {
   "display_name": "Java",
   "language": "java",
   "name": "java"
  },
  "language_info": {
   "codemirror_mode": "java",
   "file_extension": ".jshell",
   "mimetype": "text/x-java-source",
   "name": "Java",
   "pygments_lexer": "java",
   "version": "11.0.11+9-Ubuntu-0ubuntu2"
  }
 },
 "nbformat": 4,
 "nbformat_minor": 5
}
