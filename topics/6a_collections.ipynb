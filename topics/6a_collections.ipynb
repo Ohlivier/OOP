{
 "cells": [
  {
   "cell_type": "markdown",
   "id": "8f6163fb-f9a9-4b02-94f6-e1c5e8ac89d7",
   "metadata": {
    "slideshow": {
     "slide_type": "slide"
    },
    "tags": []
   },
   "source": [
    "## Arrays\n",
    "\n",
    "Net als constanten zijn arrays ook \"final\". Als de grootte eenmaal is bepaald, dan kan deze niet meer worden gewijzigd: de array kan niet meer worden uitgebreid. De elementen in de array kunnen nog wel worden gewijzigd."
   ]
  },
  {
   "cell_type": "code",
   "execution_count": 22,
   "id": "ee4035d9-0c6f-4ad4-86c2-073dbf80de25",
   "metadata": {
    "slideshow": {
     "slide_type": "subslide"
    },
    "tags": [],
    "vscode": {
     "languageId": "java"
    }
   },
   "outputs": [],
   "source": [
    "class Lingo {\n",
    "    private char[] letters;\n",
    "    \n",
    "    public Lingo(String word) {\n",
    "        letters = new char[word.length()];\n",
    "        \n",
    "        for (int i = 0; i < letters.length; i++) {\n",
    "            letters[i] = word.charAt(i);\n",
    "        }\n",
    "    }\n",
    "    \n",
    "    public boolean guessLetter(int position, char letter) {\n",
    "        if (letters[position] == letter) {\n",
    "            return true;\n",
    "        }\n",
    "        return false;\n",
    "    }\n",
    "}"
   ]
  },
  {
   "cell_type": "code",
   "execution_count": 23,
   "id": "99031470-12ac-4c47-859d-e08d8157a561",
   "metadata": {
    "slideshow": {
     "slide_type": "fragment"
    },
    "tags": [],
    "vscode": {
     "languageId": "java"
    }
   },
   "outputs": [],
   "source": [
    "Lingo game = new Lingo(\"opzet\")"
   ]
  },
  {
   "cell_type": "code",
   "execution_count": 24,
   "id": "b1d47bff-c6a7-4948-878b-267d2cedac25",
   "metadata": {
    "slideshow": {
     "slide_type": "fragment"
    },
    "tags": [],
    "vscode": {
     "languageId": "java"
    }
   },
   "outputs": [
    {
     "data": {
      "text/plain": [
       "false"
      ]
     },
     "execution_count": 24,
     "metadata": {},
     "output_type": "execute_result"
    }
   ],
   "source": [
    "game.guessLetter(0, 'z')"
   ]
  },
  {
   "cell_type": "markdown",
   "id": "15aa11a6-a57d-4c80-94f5-9994bbf9e356",
   "metadata": {
    "slideshow": {
     "slide_type": "subslide"
    },
    "tags": []
   },
   "source": [
    "## Collecties\n",
    "\n",
    "Arrays zijn eenvoudige types voor het beheren van een collectie elementen. Collecties zijn typen die veel flexibeler zijn, bijvoorbeeld ze groeien en weer krimpen (in tegenstelling tot arrays waar de lengte vast is)."
   ]
  },
  {
   "cell_type": "code",
   "execution_count": 25,
   "id": "d88cb315-adc3-4b86-9059-b7a717c43bbd",
   "metadata": {
    "slideshow": {
     "slide_type": "subslide"
    },
    "tags": [],
    "vscode": {
     "languageId": "java"
    }
   },
   "outputs": [],
   "source": [
    "import java.util.ArrayList;"
   ]
  },
  {
   "cell_type": "code",
   "execution_count": 26,
   "id": "4b4d0d97-a35d-4ecf-b444-5ffc3819effe",
   "metadata": {
    "slideshow": {
     "slide_type": "fragment"
    },
    "tags": [],
    "vscode": {
     "languageId": "java"
    }
   },
   "outputs": [],
   "source": [
    "ArrayList<String> gameWords = new ArrayList<String>();"
   ]
  },
  {
   "cell_type": "code",
   "execution_count": 27,
   "id": "cdfda69b-68b9-4c35-964a-add57c9fdc45",
   "metadata": {
    "slideshow": {
     "slide_type": "fragment"
    },
    "tags": [],
    "vscode": {
     "languageId": "java"
    }
   },
   "outputs": [
    {
     "data": {
      "text/plain": [
       "true"
      ]
     },
     "execution_count": 27,
     "metadata": {},
     "output_type": "execute_result"
    }
   ],
   "source": [
    "gameWords.add(\"opzet\");"
   ]
  },
  {
   "cell_type": "code",
   "execution_count": 28,
   "id": "41e4c85e-d3d7-4ca3-8605-cfe017ad37e3",
   "metadata": {
    "slideshow": {
     "slide_type": "fragment"
    },
    "tags": [],
    "vscode": {
     "languageId": "java"
    }
   },
   "outputs": [
    {
     "data": {
      "text/plain": [
       "true"
      ]
     },
     "execution_count": 28,
     "metadata": {},
     "output_type": "execute_result"
    }
   ],
   "source": [
    "gameWords.add(\"pannekoek\")"
   ]
  },
  {
   "cell_type": "code",
   "execution_count": 29,
   "id": "31ef308a-1632-48a6-86db-205ac27725a3",
   "metadata": {
    "slideshow": {
     "slide_type": "fragment"
    },
    "tags": [],
    "vscode": {
     "languageId": "java"
    }
   },
   "outputs": [
    {
     "data": {
      "text/plain": [
       "2"
      ]
     },
     "execution_count": 29,
     "metadata": {},
     "output_type": "execute_result"
    }
   ],
   "source": [
    "gameWords.size()"
   ]
  },
  {
   "cell_type": "code",
   "execution_count": 30,
   "id": "fdc79fb3-de1e-4e7d-b89f-140cd02b69a6",
   "metadata": {
    "slideshow": {
     "slide_type": "subslide"
    },
    "tags": [],
    "vscode": {
     "languageId": "java"
    }
   },
   "outputs": [
    {
     "data": {
      "text/plain": [
       "pannekoek"
      ]
     },
     "execution_count": 30,
     "metadata": {},
     "output_type": "execute_result"
    }
   ],
   "source": [
    "gameWords.remove(1)"
   ]
  },
  {
   "cell_type": "code",
   "execution_count": 31,
   "id": "477f3fdf-efe0-4b0b-a22e-666f02fbb7b3",
   "metadata": {
    "slideshow": {
     "slide_type": "fragment"
    },
    "tags": [],
    "vscode": {
     "languageId": "java"
    }
   },
   "outputs": [
    {
     "data": {
      "text/plain": [
       "true"
      ]
     },
     "execution_count": 31,
     "metadata": {},
     "output_type": "execute_result"
    }
   ],
   "source": [
    "gameWords.add(\"pannenkoek\")"
   ]
  },
  {
   "cell_type": "code",
   "execution_count": 32,
   "id": "da40534a-86d7-4d0f-9be2-a93ff6ac3bab",
   "metadata": {
    "slideshow": {
     "slide_type": "fragment"
    },
    "tags": [],
    "vscode": {
     "languageId": "java"
    }
   },
   "outputs": [
    {
     "name": "stdout",
     "output_type": "stream",
     "text": [
      "[opzet, pannenkoek]"
     ]
    }
   ],
   "source": [
    "System.out.print(gameWords)"
   ]
  },
  {
   "cell_type": "code",
   "execution_count": 33,
   "id": "8ef47095-15bb-48e1-99a7-fffcd2403e71",
   "metadata": {
    "slideshow": {
     "slide_type": "fragment"
    },
    "tags": [],
    "vscode": {
     "languageId": "java"
    }
   },
   "outputs": [
    {
     "name": "stdout",
     "output_type": "stream",
     "text": [
      "opzet\n",
      "pannenkoek\n"
     ]
    }
   ],
   "source": [
    "for (String woord: gameWords) {\n",
    "    System.out.println(woord);\n",
    "}"
   ]
  },
  {
   "cell_type": "markdown",
   "id": "349bb7d9-05cb-481f-8562-c3c8a2220465",
   "metadata": {
    "slideshow": {
     "slide_type": "subslide"
    },
    "tags": []
   },
   "source": [
    "![Word cloud](images/6/word_cloud.png)"
   ]
  },
  {
   "cell_type": "markdown",
   "id": "b3542829-4801-42f8-bb47-736245af1b8d",
   "metadata": {
    "slideshow": {
     "slide_type": "notes"
    },
    "tags": []
   },
   "source": [
    "In hoofdstuk [12](https://books.trinket.io/thinkjava2/chapter12.html) tot en met [13](https://books.trinket.io/thinkjava2/chapter13.html) worden kaartspellen uitgewerkt, in opgave [simulatie](/problems/simulation/index) ga je dit voor het spel oorlogje (\"War\") uitwerken en het spel simuleren."
   ]
  }
 ],
 "metadata": {
  "kernelspec": {
   "display_name": "Java",
   "language": "java",
   "name": "java"
  },
  "language_info": {
   "codemirror_mode": "java",
   "file_extension": ".jshell",
   "mimetype": "text/x-java-source",
   "name": "Java",
   "pygments_lexer": "java",
   "version": "11.0.11+9-Ubuntu-0ubuntu2"
  },
  "toc-autonumbering": true,
  "toc-showcode": true
 },
 "nbformat": 4,
 "nbformat_minor": 5
}
