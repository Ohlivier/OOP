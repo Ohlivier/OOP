{
 "cells": [
  {
   "cell_type": "markdown",
   "id": "8d7c972b",
   "metadata": {},
   "source": [
    "# Exceptions gebruiken\n",
    "## Doel\n",
    "- Exceptions toepassen in een klasse"
   ]
  },
  {
   "cell_type": "markdown",
   "id": "9c57a6be",
   "metadata": {},
   "source": [
    "## Stack\n",
    "Een stack is een datastructuur waar items worden opgeslagen op basis van het principe last in, first out (LIFO).\n",
    "\n",
    "Er zijn twee basisoperaties:\n",
    "- push: Een item toevoegen aan de stack\n",
    "- pop: Het laatste item van de stack halen (en teruggeven)"
   ]
  },
  {
   "cell_type": "markdown",
   "id": "0cef807a",
   "metadata": {},
   "source": [
    "## Klasse Stack\n",
    "\n",
    "Implementeer de klasse Stack die aan de volgende eigenschappen voldoet:\n",
    "\n",
    "De klasse bevat de methodes:\n",
    "```Java\n",
    "public void push(Object item) // Voegt een item toe aan de stack\n",
    "public Object pop() // Verwijdert het laatste item van de stack en geeft het terug\n",
    "public void empty() // Verwijder alle items van de stack\n",
    "public boolean isEmpty() // Retourneert true als de stack leeg is\n",
    "```\n",
    "\n",
    "De klasse heeft uitsluitend de volgende instantie variabelen:\n",
    "```Java\n",
    "private Object[] items;\n",
    "private int numerOfItems;\n",
    "```\n",
    "\n",
    "De klasse heeft twee constructors:\n",
    "```Java\n",
    "public Stack(int capacity) // Constructor voor stack met bepaalde capaciteit\n",
    "public Stack() // Constructor voor stack met standaard capaciteit (maximaal 100 items)\n",
    "```\n",
    "\n",
    "````{note}\n",
    "De standaard capaciteit van 100 is tamelijk arbitrair. Het is wenselijk om hiervoor een constante **DEFAULT_CAPACITY** te definiëren in de klasse en gebruiken.\n",
    "````\n",
    "\n",
    "````{note}\n",
    "Als beide constructors afzonderlijk worden geschreven, dan zullen ze waarschijnlijk erg op elkaar lijken. In het ene geval wordt een array gemaakt met **capaciteit** items, in het andere geval met DEFAULT_CAPACITY (of 100) items.\n",
    "\n",
    "In veel gevallen is het efficiënter om vanuit de ene constructor de andere constructor aan te roepen. Dit kan met het keyword **this**. In dat geval wordt **this** niet gebruikt als variabele, maar als methode *this();*. Dit is alleen mogelijk vanuit een constructor.\n",
    "````\n",
    "Er hoeft nog geen rekening gehouden te worden met fouten als gevolg van incorrect gebruik van de stack."
   ]
  },
  {
   "cell_type": "markdown",
   "id": "d758d2eb",
   "metadata": {},
   "source": [
    "## De stack testen\n",
    "Test de klasse als volgt:\n",
    "```Java\n",
    "Stack stack = new Stack();\n",
    "stack.push(\"Pascal\");\n",
    "stack.empty();\n",
    "stack.push(\"Python\");\n",
    "stack.push(\"Java\");\n",
    "stack.push(\"C\");\n",
    "System.out.println(stack.pop()); // C\n",
    "stack.push(\"PHP\");\n",
    "System.out.println(stack.pop()); // PHP\n",
    "System.out.println(stack.pop()); // Java\n",
    "System.out.println(stack.isEmpty()); // false\n",
    "System.out.println(stack.pop()); // Python\n",
    "System.out.println(stack.isEmpty()); // true\n",
    "System.out.println(stack.pop()); // Deze is te veel..\n",
    "```"
   ]
  },
  {
   "cell_type": "markdown",
   "id": "a2e68c5b",
   "metadata": {},
   "source": [
    "## Fouten\n",
    "Welke fouten kunnen optreden bij incorrect gebruik van de stack?\n",
    "\n",
    "Denk goed na wat er allemaal mis kan gaan.\n",
    "\n",
    "Een voorbeeld is de methode pop() gebruiken terwijl de stack leeg is.\n",
    "\n",
    "````{note} Niet elke fout is een probleem\n",
    "Niet elke ogenschijnlijke fout is een probleem. Bijvoorbeeld de methode *empty()* aanroepen op een lege stack lijkt niet zinvol, maar het levert verder geen enkel probleem op. In dat geval is een exception niet wenselijk.\n",
    "````"
   ]
  },
  {
   "cell_type": "markdown",
   "id": "1e959f92",
   "metadata": {},
   "source": [
    "## Exceptions toevoegen\n",
    "Zorg ervoor dat in geval van fouten een exception wordt gegooid met een duidelijke foutmelding.\n",
    "\n",
    "Kies zelf geschikte exception-klassen.\n",
    "\n",
    "````{note} Het kiezen van een geschikte exception-klasse begint altijd met de vraag: Gaat het om een checked of een unchecked exception?\n",
    "````"
   ]
  },
  {
   "cell_type": "markdown",
   "id": "da30b6fb",
   "metadata": {},
   "source": [
    "## Exceptions in constructors\n",
    "Wat kan fout gaan in de constructor van *Stack*? Voeg passende exception(s) toe als dit nog niet eerder is gebeurd.\n",
    "\n",
    "Wat gebeurt er als een exception wordt 'gegooid' in een constructor? Onderzoek met een try..catch-block rond de regel **new Stack()** wat het gevolg is van de exception."
   ]
  },
  {
   "cell_type": "markdown",
   "id": "b7a718b7",
   "metadata": {},
   "source": [
    "## Exception-handling\n",
    "Onderstaande code verwijdert alle items van een stack en drukt ze af op het scherm, zonder dat bekend is hoe veel items er zijn:\n",
    "```Java\n",
    "Stack stack = new Stack();\n",
    "stack.push(7);\n",
    "stack.push(210);\n",
    "stack.push(-20);\n",
    "try {\n",
    "    while(true) {\n",
    "        System.out.println(stack.pop());\n",
    "    }\n",
    "} catch (RuntimeException e) { }\n",
    "System.out.println(\"Einde stack\");\n",
    "```\n",
    "\n",
    "Waarom is het gebruik maken van exception-handling in deze situatie niet wenselijk?\n",
    "\n",
    "Herschrijf deze code zodat er niet meer sprake is van een bad-practice."
   ]
  },
  {
   "cell_type": "markdown",
   "id": "9b4a9bdd",
   "metadata": {},
   "source": [
    "## Eigen exception\n",
    "Maak een klasse **StackException** die gebruikt gaat worden voor alle exceptions die gegooid worden door de klasse **Stack**.\n",
    "\n",
    "Van welke klasse moet **StackException** overerven om deze correct werkend te krijgen?\n",
    "\n",
    "Aanbeveling: Maak eerst een kopie van de klasse **Stack** en noem deze **StackOld** om de vorige versie te behouden."
   ]
  },
  {
   "cell_type": "code",
   "execution_count": null,
   "id": "6cbe9252",
   "metadata": {},
   "outputs": [],
   "source": []
  }
 ],
 "metadata": {
  "kernelspec": {
   "display_name": "Java",
   "language": "java",
   "name": "java"
  },
  "language_info": {
   "codemirror_mode": "java",
   "file_extension": ".jshell",
   "mimetype": "text/x-java-source",
   "name": "Java",
   "pygments_lexer": "java",
   "version": "11.0.11+9-Ubuntu-0ubuntu2.18.04"
  }
 },
 "nbformat": 4,
 "nbformat_minor": 5
}
