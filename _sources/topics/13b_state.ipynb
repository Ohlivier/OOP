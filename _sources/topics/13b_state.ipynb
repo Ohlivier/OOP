{
 "cells": [
  {
   "cell_type": "markdown",
   "id": "d16ea871-b444-4430-b38d-751d975c4425",
   "metadata": {
    "slideshow": {
     "slide_type": "slide"
    },
    "tags": []
   },
   "source": [
    "# State Pattern"
   ]
  },
  {
   "cell_type": "markdown",
   "id": "6263de0a-00e9-4134-8dd0-d1abedd3cf46",
   "metadata": {
    "slideshow": {
     "slide_type": "fragment"
    },
    "tags": []
   },
   "source": [
    "> Een manier om het gedrag van een object aan te passen bij de verandering van een interne staat. Het object lijkt daarmee zijn klasse te wijzigen."
   ]
  },
  {
   "cell_type": "markdown",
   "id": "12fdb22b-58c2-4d60-9f30-8d1f273d4403",
   "metadata": {
    "slideshow": {
     "slide_type": "skip"
    },
    "tags": []
   },
   "source": [
    "## Implementatie"
   ]
  },
  {
   "cell_type": "markdown",
   "id": "fe41608f-0b07-4d7c-8690-f8f1669ace64",
   "metadata": {
    "slideshow": {
     "slide_type": "subslide"
    },
    "tags": []
   },
   "source": [
    "![State Pattern](images/13/state_pattern.png)"
   ]
  },
  {
   "cell_type": "markdown",
   "id": "e0cecc1f-8810-4916-ab96-c513a61af5ef",
   "metadata": {
    "slideshow": {
     "slide_type": "notes"
    },
    "tags": []
   },
   "source": [
    "De `Context` is waar clients mee te maken hebben. Op basis van een (veranderlijke) `State` zal het op basis van de aanroep van een `request` de `handle` methode aanroepen van het huidige `state` object."
   ]
  },
  {
   "cell_type": "markdown",
   "id": "c42f350f-b421-4a86-8908-6c91ad2b6861",
   "metadata": {
    "slideshow": {
     "slide_type": "subslide"
    },
    "tags": []
   },
   "source": [
    "## Gebruik\n",
    "\n",
    "- Als een object zich verschillend moet gedragen afhankelijk van een specifieke toestand (state)\n",
    "\n",
    "- Het aantal states groot is, en de state-specifieke code vaak verandert"
   ]
  },
  {
   "cell_type": "markdown",
   "id": "394dd4b9-f1c8-4a58-8495-058f42c0aad3",
   "metadata": {
    "slideshow": {
     "slide_type": "slide"
    },
    "tags": []
   },
   "source": [
    "## State machines"
   ]
  },
  {
   "cell_type": "markdown",
   "id": "37f88aaf-dfae-4653-8bb4-359c129e9a4f",
   "metadata": {
    "slideshow": {
     "slide_type": "subslide"
    },
    "tags": []
   },
   "source": [
    "![Power Button](images/13/on_off.png)"
   ]
  },
  {
   "cell_type": "markdown",
   "id": "fee4e449-793c-4242-a829-af14e8d3b0ba",
   "metadata": {
    "slideshow": {
     "slide_type": "notes"
    },
    "tags": []
   },
   "source": [
    "Het state pattern heeft veel te maken *finite state machines*, of [eindigetoestandsautomaat](https://nl.wikipedia.org/wiki/Eindigetoestandsautomaat), waar een systeem zich op enig moment in een bepaalde toestand kan bevinden en waar mogelijke overgangen tussen deze toestanden en bijbehorende acties zijn beschreven.\n",
    "\n",
    "Een heel eenvoudig voorbeeld is een aan- of uitknop. "
   ]
  },
  {
   "cell_type": "markdown",
   "id": "2ab31308-97cf-4e4f-93ff-e3ac4c5fcd02",
   "metadata": {
    "slideshow": {
     "slide_type": "subslide"
    },
    "tags": []
   },
   "source": [
    "![FSM](images/13/fsm.png)"
   ]
  },
  {
   "cell_type": "markdown",
   "id": "57f5d835-dc82-455f-97a9-3b56011373c5",
   "metadata": {
    "slideshow": {
     "slide_type": "notes"
    },
    "tags": []
   },
   "source": [
    "In dit geval zijn maar twee toestanden mogelijk, *aan* of *uit*. Een (wederzijdse) overgang van een toestand naar een ander is hier mogelijk door middel van de actie, \"push button\". Laten we deze twee toestanden en handeling uitwerken in een concrete implementatie om licht aan en uit te zetten."
   ]
  },
  {
   "cell_type": "code",
   "execution_count": 1,
   "id": "ce9777ad-f969-44a8-8d97-404fc43cc68d",
   "metadata": {
    "slideshow": {
     "slide_type": "subslide"
    },
    "tags": []
   },
   "outputs": [],
   "source": [
    "public class Light {\n",
    "    final static int OFF = 0;\n",
    "    final static int ON = 1;\n",
    "    \n",
    "    private int state = OFF;\n",
    "    \n",
    "    public void pushButton() {\n",
    "        if (state == OFF) {\n",
    "            state = ON;\n",
    "            System.out.println(\"Light switched on\");\n",
    "        } else if (state == ON) {\n",
    "            state = OFF;\n",
    "            System.out.println(\"Light switched off\");\n",
    "        }\n",
    "    }\n",
    "}"
   ]
  },
  {
   "cell_type": "markdown",
   "id": "492ad116-d192-4434-a057-6650cf9e7e8a",
   "metadata": {
    "slideshow": {
     "slide_type": "notes"
    },
    "tags": []
   },
   "source": [
    "De klasse `Light` heeft twee mogelijke toestanden, `OFF` en `ON`. De *huidige* toestand wordt bewaard in de variabele `state` (en zal verwijzen naar óf het veld `OFF`, óf naar het veld `ON`) en de beginwaarde is `OFF`.\n",
    "\n",
    "De overgang van de ene naar de andere toestand (de handeling of actie) is beschreven in de methode `pushButton`."
   ]
  },
  {
   "cell_type": "code",
   "execution_count": 2,
   "id": "ca3360f8-5efc-4489-81b9-5e2e8abb530d",
   "metadata": {
    "slideshow": {
     "slide_type": "fragment"
    },
    "tags": []
   },
   "outputs": [],
   "source": [
    "Light light = new Light();"
   ]
  },
  {
   "cell_type": "code",
   "execution_count": 3,
   "id": "b75b7c50-32ed-4a42-9c71-b3cc18362233",
   "metadata": {
    "slideshow": {
     "slide_type": "fragment"
    },
    "tags": []
   },
   "outputs": [
    {
     "name": "stdout",
     "output_type": "stream",
     "text": [
      "Light switched on\n"
     ]
    }
   ],
   "source": [
    "light.pushButton()"
   ]
  },
  {
   "cell_type": "markdown",
   "id": "e12827b5-8ecd-4519-91b9-d4beb1748d95",
   "metadata": {
    "slideshow": {
     "slide_type": "notes"
    },
    "tags": []
   },
   "source": [
    "De initiële staat was `OFF`, met de druk op de kop is deze nu gewijzigd naar `ON`."
   ]
  },
  {
   "cell_type": "code",
   "execution_count": 4,
   "id": "eefa0b7c-5638-4952-8407-f3f26d8b79fb",
   "metadata": {
    "slideshow": {
     "slide_type": "fragment"
    },
    "tags": []
   },
   "outputs": [
    {
     "name": "stdout",
     "output_type": "stream",
     "text": [
      "Light switched off\n"
     ]
    }
   ],
   "source": [
    "light.pushButton()"
   ]
  },
  {
   "cell_type": "markdown",
   "id": "b64210bb-41f7-43c3-a9f9-b04aa0076803",
   "metadata": {
    "slideshow": {
     "slide_type": "notes"
    },
    "tags": []
   },
   "source": [
    "Een volgende aanroep zal de toestand weer terugzetten naar `OFF`."
   ]
  },
  {
   "cell_type": "markdown",
   "id": "6d79f3f5-494a-43ea-931a-a7d3dad797c1",
   "metadata": {
    "slideshow": {
     "slide_type": "skip"
    },
    "tags": []
   },
   "source": [
    "### Een uitbreiding"
   ]
  },
  {
   "cell_type": "markdown",
   "id": "78df85ff-b116-4d23-9eae-ed198dd6a2f1",
   "metadata": {
    "slideshow": {
     "slide_type": "subslide"
    },
    "tags": []
   },
   "source": [
    "![FSM 1](images/13/fsm_1.png)"
   ]
  },
  {
   "cell_type": "markdown",
   "id": "bbc2a193-ac38-4af4-a7e4-3f34ab0fb8de",
   "metadata": {
    "slideshow": {
     "slide_type": "notes"
    },
    "tags": []
   },
   "source": [
    "Je kan jezelf misschien een uitbreiding van deze toestanden kunnen voorstellen, bijvoorbeeld de backlight van toetsenborden hebben soms drie toestanden, uit, gedimd, of volle sterkte."
   ]
  },
  {
   "cell_type": "code",
   "execution_count": 5,
   "id": "68632f07-a2fe-4434-a083-57ba0c220f5e",
   "metadata": {
    "slideshow": {
     "slide_type": "subslide"
    },
    "tags": []
   },
   "outputs": [],
   "source": [
    "public class Light {\n",
    "    final static int OFF = 0;\n",
    "    final static int DIM = 1;\n",
    "    final static int BRIGHT = 2;\n",
    "    \n",
    "    private int state = OFF;\n",
    "    \n",
    "    public void pushButton() {\n",
    "        if (state == OFF) {\n",
    "            state = DIM;\n",
    "            System.out.println(\"Dimmed light\");\n",
    "        } else if (state == DIM) {\n",
    "            state = BRIGHT;\n",
    "            System.out.println(\"Bright light\");\n",
    "        } else if (state == BRIGHT) {\n",
    "            state = OFF;\n",
    "            System.out.println(\"Light switched off\");\n",
    "        }\n",
    "    }\n",
    "}"
   ]
  },
  {
   "cell_type": "code",
   "execution_count": 6,
   "id": "f47f95c3-2ba8-4b26-9fec-9463cb313c40",
   "metadata": {
    "slideshow": {
     "slide_type": "subslide"
    },
    "tags": []
   },
   "outputs": [],
   "source": [
    "Light light = new Light()"
   ]
  },
  {
   "cell_type": "code",
   "execution_count": 7,
   "id": "15f61658-4a88-4c1f-aace-1baa2319c186",
   "metadata": {
    "slideshow": {
     "slide_type": "fragment"
    },
    "tags": []
   },
   "outputs": [
    {
     "name": "stdout",
     "output_type": "stream",
     "text": [
      "Dimmed light\n"
     ]
    }
   ],
   "source": [
    "light.pushButton()"
   ]
  },
  {
   "cell_type": "code",
   "execution_count": 8,
   "id": "39ec6177-fd05-4948-ab80-76d3595192a5",
   "metadata": {
    "slideshow": {
     "slide_type": "fragment"
    },
    "tags": []
   },
   "outputs": [
    {
     "name": "stdout",
     "output_type": "stream",
     "text": [
      "Bright light\n"
     ]
    }
   ],
   "source": [
    "light.pushButton()"
   ]
  },
  {
   "cell_type": "code",
   "execution_count": 9,
   "id": "c86623c6-8142-4651-8f5a-10e923e23657",
   "metadata": {
    "slideshow": {
     "slide_type": "fragment"
    },
    "tags": []
   },
   "outputs": [
    {
     "name": "stdout",
     "output_type": "stream",
     "text": [
      "Light switched off\n"
     ]
    }
   ],
   "source": [
    "light.pushButton()"
   ]
  },
  {
   "cell_type": "markdown",
   "id": "69968ecd-0de8-4bb9-966a-e9b190241551",
   "metadata": {
    "slideshow": {
     "slide_type": "notes"
    },
    "tags": []
   },
   "source": [
    "We hebben hier nu drie toestanden gedefinieerd, maar wat zou het betekenen als we meer toestanden zouden willen toevoegen? Of meer acties? Bijvoorbeeld overgangen van 1 tot en met 100 procent lichtsterkte? De conditie waar we op moeten testen zal steeds uitgebreider gaan worden ... (en daarmee onze code)."
   ]
  },
  {
   "cell_type": "markdown",
   "id": "b41a6758-48be-4c54-9775-e45640bd5b9c",
   "metadata": {
    "slideshow": {
     "slide_type": "slide"
    },
    "tags": []
   },
   "source": [
    "## Track & Trace"
   ]
  },
  {
   "cell_type": "markdown",
   "id": "ef355530-65b9-4be3-9f08-b944c4a89224",
   "metadata": {
    "slideshow": {
     "slide_type": "subslide"
    },
    "tags": []
   },
   "source": [
    "![FSM 2](images/13/fsm_2.png)"
   ]
  },
  {
   "cell_type": "markdown",
   "id": "63c05cd4-b8c3-45d2-a7be-ca0d953c44a5",
   "metadata": {
    "slideshow": {
     "slide_type": "notes"
    },
    "tags": []
   },
   "source": [
    "De staat van een bestelling is een ander voorbeeld. Als een pakket is besteld (ordered) dan is het klaar voor verzending en op weg naar het postkantoor. Eenmaal daar aangekomen dan wijzigt de toestand naar afgeleverd (delivered). Tot slot zal het pakket door de bezorgdienst worden afgeleverd bij de klant (received). Het is ook mogelijk om naar een vorige staat terug te keren, indien nodig."
   ]
  },
  {
   "cell_type": "code",
   "execution_count": 10,
   "id": "88fb50c5-7f09-4eb5-806e-87c68edc70a4",
   "metadata": {
    "slideshow": {
     "slide_type": "subslide"
    },
    "tags": []
   },
   "outputs": [],
   "source": [
    "public class Package {\n",
    "    private static int ORDERED = 0;\n",
    "    private static int DELIVERED = 1;\n",
    "    private static int RECEIVED = 2;\n",
    "    \n",
    "    private int state = ORDERED;\n",
    "    \n",
    "    public void next() {\n",
    "        if (state == ORDERED) {\n",
    "            state = DELIVERED;\n",
    "            System.out.println(\"Package delivered\");\n",
    "        } else if (state == DELIVERED) {\n",
    "            state = RECEIVED;\n",
    "            System.out.println(\"Package recieved\");\n",
    "        } else if (state == RECEIVED) {\n",
    "            System.out.println(\"Package already received\");\n",
    "        }\n",
    "    }\n",
    "    \n",
    "    public void prev() {\n",
    "        if (state == ORDERED) {\n",
    "            System.out.println(\"Already in initial state\");\n",
    "        } else if (state == DELIVERED) {\n",
    "            state = ORDERED;\n",
    "            System.out.println(\"Package ordered\");\n",
    "        } else if (state == RECEIVED) {\n",
    "            state = DELIVERED;\n",
    "            System.out.println(\"Package delivered\");\n",
    "        }\n",
    "    }\n",
    "    \n",
    "    public void printStatus() {\n",
    "        if (state == ORDERED) {\n",
    "            System.out.println(\"Package ready for post office\");\n",
    "        } else if (state == RECEIVED) {\n",
    "            System.out.println(\"Package delivered to post office\");\n",
    "        } else if (state == DELIVERED) {\n",
    "            System.out.println(\"Package recieved by customer\");\n",
    "        }\n",
    "    }\n",
    "}"
   ]
  },
  {
   "cell_type": "markdown",
   "id": "3c439722-326b-4e36-ade1-f2212ccd1be2",
   "metadata": {
    "slideshow": {
     "slide_type": "subslide"
    },
    "tags": []
   },
   "source": [
    "### Uitbreiden\n",
    "\n",
    "Een nieuwe state toevoegen, wat is nodig? "
   ]
  },
  {
   "cell_type": "markdown",
   "id": "23e88504-20cb-4af2-973b-045c1680fb3b",
   "metadata": {
    "slideshow": {
     "slide_type": "notes"
    },
    "tags": []
   },
   "source": [
    "Stel je wilt een RETURNED state toevoegen om aan te geven dat de klant het pakket heeft teruggestuurd, wat is daar voor nodig? Je zult in alle drie de methoden de condities moeten uitbreiden. Je kan je voorstellen dat met elke volgende nieuwe staat de code steeds minder flexibel en uitbreidbaar wordt."
   ]
  },
  {
   "cell_type": "markdown",
   "id": "0475bfc3-e0f7-4ed4-888b-8643ad855aec",
   "metadata": {
    "slideshow": {
     "slide_type": "fragment"
    },
    "tags": []
   },
   "source": [
    "- \"encapsulate what varies\" (state)\n",
    "- \"favor composition\" (delegate behaviour)"
   ]
  },
  {
   "cell_type": "markdown",
   "id": "fc58bd15-081f-4d38-b977-a417b422e464",
   "metadata": {
    "slideshow": {
     "slide_type": "notes"
    },
    "tags": []
   },
   "source": [
    "Isoleer wat veranderlijk is. Dat is in dit geval de staat, en alles wat daar bij hoort (acties en overgangen). Delegeer vervolgens handelingen naar de staat, dit wordt de rol van de *context*."
   ]
  },
  {
   "cell_type": "markdown",
   "id": "048af878-d3fe-40c5-8ba1-c07c4717ca89",
   "metadata": {
    "slideshow": {
     "slide_type": "subslide"
    },
    "tags": []
   },
   "source": [
    "## State"
   ]
  },
  {
   "cell_type": "code",
   "execution_count": 11,
   "id": "ccfeb72c-d75f-40ce-b108-6914a68d6a9b",
   "metadata": {
    "slideshow": {
     "slide_type": "fragment"
    },
    "tags": []
   },
   "outputs": [],
   "source": [
    "public interface State {\n",
    "    public void prev(Package pkg);\n",
    "    public void next(Package pkg);\n",
    "    public void printStatus();\n",
    "}"
   ]
  },
  {
   "cell_type": "markdown",
   "id": "690bb6ee-1e9f-4b48-92d8-dcf8dac02a31",
   "metadata": {
    "slideshow": {
     "slide_type": "notes"
    },
    "tags": []
   },
   "source": [
    "Wat varieert zijn de acties die relevant zijn voor een bepaalde staat, deze kunnen we vastleggen in een interface."
   ]
  },
  {
   "cell_type": "code",
   "execution_count": 12,
   "id": "af412ded-aaad-41e3-b47c-8e3f4e192312",
   "metadata": {
    "slideshow": {
     "slide_type": "subslide"
    },
    "tags": []
   },
   "outputs": [],
   "source": [
    "public class OrderedState implements State {\n",
    "    public void next(Package pkg) {\n",
    "        pkg.setState(new DeliveredState());\n",
    "    }\n",
    "\n",
    "    public void prev(Package pkg) {\n",
    "        System.out.println(\"Already in initial state\");\n",
    "    }\n",
    "\n",
    "    public void printStatus() {\n",
    "        System.out.println(\"Package ready for post office\");\n",
    "    }\n",
    "}"
   ]
  },
  {
   "cell_type": "markdown",
   "id": "9e851489-e569-4e74-a779-8643edf7eb80",
   "metadata": {
    "slideshow": {
     "slide_type": "notes"
    },
    "tags": []
   },
   "source": [
    "Vervolgens kunnen we concrete implementaties maken voor elke staat. Een volgende staat wordt als een bericht doorgegeven aan de context. "
   ]
  },
  {
   "cell_type": "code",
   "execution_count": 13,
   "id": "1b5571ac-d167-4825-8cd8-d57c54e217d7",
   "metadata": {
    "slideshow": {
     "slide_type": "subslide"
    },
    "tags": []
   },
   "outputs": [],
   "source": [
    "public class DeliveredState implements State {\n",
    "    public void next(Package pkg) {\n",
    "        pkg.setState(new ReceivedState());\n",
    "    }\n",
    "\n",
    "    public void prev(Package pkg) {\n",
    "        pkg.setState(new OrderedState());\n",
    "    }\n",
    "\n",
    "    public void printStatus() {\n",
    "        System.out.println(\"Package delivered to post office\");\n",
    "    }\n",
    "}"
   ]
  },
  {
   "cell_type": "code",
   "execution_count": 14,
   "id": "20084fb6-52b4-4082-af1e-fa52c01556a9",
   "metadata": {
    "slideshow": {
     "slide_type": "subslide"
    },
    "tags": []
   },
   "outputs": [],
   "source": [
    "public class ReceivedState implements State {\n",
    "    public void next(Package pkg) {\n",
    "        System.out.println(\"Package already received\");\n",
    "    }\n",
    "\n",
    "    public void prev(Package pkg) {\n",
    "        pkg.setState(new DeliveredState());\n",
    "    }\n",
    "\n",
    "    public void printStatus() {\n",
    "        System.out.println(\"Package recieved by customer\");\n",
    "    }\n",
    "}"
   ]
  },
  {
   "cell_type": "markdown",
   "id": "2a0b22b1-d361-491e-b223-768ccf08e56a",
   "metadata": {
    "slideshow": {
     "slide_type": "subslide"
    },
    "tags": []
   },
   "source": [
    "## Context\n",
    "\n",
    "- bevat een staat\n",
    "- delegeert handelingen naar de staat"
   ]
  },
  {
   "cell_type": "markdown",
   "id": "8931110a-b212-4e34-b6b2-e88fbb3f169b",
   "metadata": {
    "slideshow": {
     "slide_type": "notes"
    },
    "tags": []
   },
   "source": [
    "Clients hebben *niet* direct te maken een staat, de context delegeert de handelingen op basis van de staat waarin het zich op dat moment in bevindt. "
   ]
  },
  {
   "cell_type": "code",
   "execution_count": 15,
   "id": "390b0009-2f05-4757-a1bb-68804a5073aa",
   "metadata": {
    "slideshow": {
     "slide_type": "subslide"
    },
    "tags": []
   },
   "outputs": [],
   "source": [
    "public class Package {\n",
    "\n",
    "    private State state = new OrderedState();\n",
    "\n",
    "    public void setState(State state) {\n",
    "        this.state = state;\n",
    "    }\n",
    "\n",
    "    public void previousState() {\n",
    "        state.prev(this);\n",
    "    }\n",
    "\n",
    "    public void nextState() {\n",
    "        state.next(this);\n",
    "    }\n",
    "\n",
    "    public void printStatus() {\n",
    "        state.printStatus();\n",
    "    }\n",
    "}"
   ]
  },
  {
   "cell_type": "markdown",
   "id": "71bc4bd3-5564-4f6d-87df-22ec1fd20183",
   "metadata": {
    "slideshow": {
     "slide_type": "notes"
    },
    "tags": []
   },
   "source": [
    "De klasse `Package` kan nu sterk vereenvoudigd worden, het hoeft niet specifiek te weten welke toestanden en overgangen mogelijk zijn, deze zijn gedefinieerd in concrete `State` imlementaties."
   ]
  },
  {
   "cell_type": "code",
   "execution_count": 16,
   "id": "9eedaf28-0f73-410e-ab53-0937b8752722",
   "metadata": {
    "slideshow": {
     "slide_type": "subslide"
    },
    "tags": []
   },
   "outputs": [],
   "source": [
    "Package pkg = new Package()"
   ]
  },
  {
   "cell_type": "code",
   "execution_count": 17,
   "id": "5c755435-707e-44f0-9f74-6853fbd19a2a",
   "metadata": {
    "slideshow": {
     "slide_type": "fragment"
    },
    "tags": []
   },
   "outputs": [
    {
     "name": "stdout",
     "output_type": "stream",
     "text": [
      "Package ready for post office\n"
     ]
    }
   ],
   "source": [
    "pkg.printStatus()"
   ]
  },
  {
   "cell_type": "code",
   "execution_count": 18,
   "id": "efaf9085-4fae-4e97-ae34-f1f4cc1c3488",
   "metadata": {
    "slideshow": {
     "slide_type": "fragment"
    },
    "tags": []
   },
   "outputs": [],
   "source": [
    "pkg.nextState()"
   ]
  },
  {
   "cell_type": "code",
   "execution_count": 19,
   "id": "a45e824b-018c-494a-b718-a20ac07f8b22",
   "metadata": {
    "slideshow": {
     "slide_type": "fragment"
    },
    "tags": []
   },
   "outputs": [
    {
     "name": "stdout",
     "output_type": "stream",
     "text": [
      "Package delivered to post office\n"
     ]
    }
   ],
   "source": [
    "pkg.printStatus()"
   ]
  },
  {
   "cell_type": "code",
   "execution_count": 20,
   "id": "dc3174cd-1774-4be3-9a1c-ff691c924813",
   "metadata": {
    "slideshow": {
     "slide_type": "fragment"
    },
    "tags": []
   },
   "outputs": [],
   "source": [
    "pkg.nextState()"
   ]
  },
  {
   "cell_type": "code",
   "execution_count": 21,
   "id": "c79fd94a-1889-4ad1-921e-e66003f217ab",
   "metadata": {
    "slideshow": {
     "slide_type": "fragment"
    },
    "tags": []
   },
   "outputs": [
    {
     "name": "stdout",
     "output_type": "stream",
     "text": [
      "Package recieved by customer\n"
     ]
    }
   ],
   "source": [
    "pkg.printStatus()"
   ]
  },
  {
   "cell_type": "markdown",
   "id": "1eb51757-8fae-432c-8cb6-c83d8b106efd",
   "metadata": {
    "slideshow": {
     "slide_type": "slide"
    },
    "tags": []
   },
   "source": [
    "## Een complexer voorbeeld\n",
    "\n",
    "- In een game kan een speler handelingen verrichten\n",
    "- De mogelijke handelingen worden beperkt door een staat"
   ]
  },
  {
   "cell_type": "markdown",
   "id": "14830647-bd91-4385-91f6-f88f33ca424a",
   "metadata": {
    "slideshow": {
     "slide_type": "subslide"
    },
    "tags": []
   },
   "source": [
    "![Game](images/13/game.png)"
   ]
  },
  {
   "cell_type": "markdown",
   "id": "a33773f2-7ef4-4430-87f5-11596c81173d",
   "metadata": {
    "slideshow": {
     "slide_type": "notes"
    },
    "tags": []
   },
   "source": [
    "- een speler kan handelingen verrichten (`attack`, `fireBomb`, etc.)\n",
    "- de handelingen worden beperkt door de staat (healthy, survival, dead).\n",
    "- `Game` definieert de context (`state` en `player`)\n",
    "- de actie is `gameAction`, die wordt gedelegeerd naar `action` van `State`"
   ]
  },
  {
   "cell_type": "markdown",
   "id": "89bfc9c3-14ac-4a04-9665-0f09064b31d0",
   "metadata": {
    "slideshow": {
     "slide_type": "skip"
    },
    "tags": []
   },
   "source": [
    "### De klasse `Player`"
   ]
  },
  {
   "cell_type": "code",
   "execution_count": 22,
   "id": "c05ace7d-ea1c-4022-9080-391de490a572",
   "metadata": {
    "slideshow": {
     "slide_type": "subslide"
    },
    "tags": []
   },
   "outputs": [],
   "source": [
    "public class Player {\n",
    "    public void attack() {\n",
    "        System.out.println(\"Attack\");\n",
    "    }\n",
    "\n",
    "    public void fireBomb() {\n",
    "        System.out.println(\"Fire Bomb\");\n",
    "    }\n",
    "\n",
    "    public void fireGunblade() {\n",
    "        System.out.println(\"Fire Gunblade\");\n",
    "    }\n",
    "\n",
    "    public void fireLaserPistol() {\n",
    "        System.out.println(\"Laser Pistols\");\n",
    "    }\n",
    "\n",
    "    public void firePistol() {\n",
    "        System.out.println(\"Fire Pistol\");\n",
    "    }\n",
    "\n",
    "    public void survive() {\n",
    "        System.out.println(\"Surviving!\");\n",
    "    }\n",
    "\n",
    "    public void dead() {\n",
    "        System.out.println(\"Dead! Game Over\");\n",
    "    }\n",
    "}"
   ]
  },
  {
   "cell_type": "markdown",
   "id": "a61c84c3-0f1b-4a18-b92e-3359970a74b3",
   "metadata": {
    "slideshow": {
     "slide_type": "subslide"
    },
    "tags": []
   },
   "source": [
    "### State"
   ]
  },
  {
   "cell_type": "code",
   "execution_count": 23,
   "id": "06b90d80-af84-40e0-8c17-eb4e6067b693",
   "metadata": {
    "slideshow": {
     "slide_type": "fragment"
    },
    "tags": []
   },
   "outputs": [],
   "source": [
    "public interface PlayerState {\n",
    "    public void action(Player player);\n",
    "}"
   ]
  },
  {
   "cell_type": "markdown",
   "id": "89785e98-1a48-4d9b-9099-55044c7957af",
   "metadata": {
    "slideshow": {
     "slide_type": "subslide"
    },
    "tags": []
   },
   "source": [
    "### Concrete states"
   ]
  },
  {
   "cell_type": "code",
   "execution_count": 24,
   "id": "5cbc29c2-74a1-47a5-af00-e7d6c846826a",
   "metadata": {
    "slideshow": {
     "slide_type": "subslide"
    },
    "tags": []
   },
   "outputs": [],
   "source": [
    "public class HealthyState implements PlayerState {\n",
    "    @Override\n",
    "    public void action(Player player) {\n",
    "        player.attack();\n",
    "        player.fireBomb();\n",
    "        player.fireGunblade();\n",
    "        player.fireLaserPistol();\n",
    "    }\n",
    "}"
   ]
  },
  {
   "cell_type": "code",
   "execution_count": 25,
   "id": "a77ff8bd-4a2b-4fdd-8b3a-3d653c624aaa",
   "metadata": {
    "slideshow": {
     "slide_type": "subslide"
    },
    "tags": []
   },
   "outputs": [],
   "source": [
    "public class SurvivalState implements PlayerState {\n",
    "    @Override\n",
    "    public void action(Player player) {\n",
    "        player.survive();\n",
    "        player.firePistol();\n",
    "    }\n",
    "}"
   ]
  },
  {
   "cell_type": "code",
   "execution_count": 26,
   "id": "30ed4fe7-96ab-4233-aee6-2ed71b08d23d",
   "metadata": {
    "slideshow": {
     "slide_type": "subslide"
    },
    "tags": []
   },
   "outputs": [],
   "source": [
    "public class DeadState implements PlayerState {\n",
    "    @Override\n",
    "    public void action(Player player) {\n",
    "        player.dead();\n",
    "    }\n",
    "}"
   ]
  },
  {
   "cell_type": "markdown",
   "id": "5768c5ac-fc3a-4bc5-a058-ee37b4dec4a0",
   "metadata": {
    "slideshow": {
     "slide_type": "subslide"
    },
    "tags": []
   },
   "source": [
    "### Context"
   ]
  },
  {
   "cell_type": "code",
   "execution_count": 27,
   "id": "267b762c-01f6-4989-8d4d-29b82285994e",
   "metadata": {
    "slideshow": {
     "slide_type": "subslide"
    },
    "tags": []
   },
   "outputs": [],
   "source": [
    "public class Game {\n",
    "    private PlayerState state = null;\n",
    "    private Player player = new Player();\n",
    "\n",
    "    public void setState(PlayerState state) {\n",
    "        this.state = state;\n",
    "    }\n",
    "\n",
    "    public void gameAction() {\n",
    "        state.action(player);\n",
    "    }\n",
    "}"
   ]
  },
  {
   "cell_type": "markdown",
   "id": "c892a50d-7de2-406c-a5fd-fdb0206d891c",
   "metadata": {
    "slideshow": {
     "slide_type": "skip"
    },
    "tags": []
   },
   "source": [
    "### Testen"
   ]
  },
  {
   "cell_type": "code",
   "execution_count": 28,
   "id": "d378f443-c8e2-47a0-8beb-e9d5d3ecc3bc",
   "metadata": {
    "slideshow": {
     "slide_type": "subslide"
    },
    "tags": []
   },
   "outputs": [],
   "source": [
    "Game context = new Game();"
   ]
  },
  {
   "cell_type": "code",
   "execution_count": 29,
   "id": "d577bded-aacc-41c5-b624-523c0963067a",
   "metadata": {
    "slideshow": {
     "slide_type": "fragment"
    },
    "tags": []
   },
   "outputs": [
    {
     "name": "stdout",
     "output_type": "stream",
     "text": [
      "Attack\n",
      "Fire Bomb\n",
      "Fire Gunblade\n",
      "Laser Pistols\n"
     ]
    }
   ],
   "source": [
    "context.setState(new HealthyState());\n",
    "context.gameAction();"
   ]
  },
  {
   "cell_type": "code",
   "execution_count": 30,
   "id": "6744aae1-c556-442c-aa25-d7d1774869dd",
   "metadata": {
    "slideshow": {
     "slide_type": "fragment"
    },
    "tags": []
   },
   "outputs": [
    {
     "name": "stdout",
     "output_type": "stream",
     "text": [
      "Surviving!\n",
      "Fire Pistol\n"
     ]
    }
   ],
   "source": [
    "context.setState(new SurvivalState());\n",
    "context.gameAction();"
   ]
  },
  {
   "cell_type": "code",
   "execution_count": 31,
   "id": "10b7e681-6d89-4e73-934d-ea12583dd7ca",
   "metadata": {
    "slideshow": {
     "slide_type": "fragment"
    },
    "tags": []
   },
   "outputs": [
    {
     "name": "stdout",
     "output_type": "stream",
     "text": [
      "Dead! Game Over\n"
     ]
    }
   ],
   "source": [
    "context.setState(new DeadState());\n",
    "context.gameAction();"
   ]
  }
 ],
 "metadata": {
  "kernelspec": {
   "display_name": "Java",
   "language": "java",
   "name": "java"
  },
  "language_info": {
   "codemirror_mode": "java",
   "file_extension": ".jshell",
   "mimetype": "text/x-java-source",
   "name": "Java",
   "pygments_lexer": "java",
   "version": "11.0.13+8-Ubuntu-0ubuntu1.21.10"
  }
 },
 "nbformat": 4,
 "nbformat_minor": 5
}
