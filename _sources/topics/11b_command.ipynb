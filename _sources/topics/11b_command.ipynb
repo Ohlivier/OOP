{
 "cells": [
  {
   "cell_type": "markdown",
   "id": "8d7c972b",
   "metadata": {},
   "source": [
    "# Command pattern\n",
    "Het command pattern is een behavioral design pattern waarbij een object wordt gebruikt om een bepaalde actie uit te voeren."
   ]
  },
  {
   "cell_type": "markdown",
   "id": "9c57a6be",
   "metadata": {},
   "source": [
    "## Mogelijkheden\n",
    "\n",
    "Het command pattern biedt de mogelijkheid om een commando in een object op te slaan. Het onderdeel dat de actie uitvoert (*invoker*, hoeft niets te weten van de actie zelf of het object waarop de actie plaatsvindt (*receiver*)\n",
    "\n",
    "Toepassingen zijn onder andere afstandsbedieningen, grafische gebruikers interfaces, undo-functionaliteit."
   ]
  },
  {
   "cell_type": "markdown",
   "id": "719a6d1d",
   "metadata": {},
   "source": [
    "## Onderdelen\n",
    "\n",
    "- *receiver*: Het object waarop een actie wordt uitgevoerd\n",
    "- *command*: Een object dat een actie bevat, die wordt uitgevoerd op een receiver\n",
    "\n",
    "- *invoker (of caller)*: Voert het commando uit\n",
    "- *client*: Maakt commando objecten en kent de receiver toe"
   ]
  },
  {
   "cell_type": "markdown",
   "id": "4341a6f6",
   "metadata": {},
   "source": [
    "## Implementatie van het pattern\n",
    "\n",
    "![commandpattern.png](images/11/commandpattern.png)\n",
    "\n",
    "Vast onderdeel van het *command pattern* is de interface **Command**.\n",
    "\n",
    "Elk concrete command implementeert deze interface. Aan een concrete command wordt via de constructor de *receiver* doorgegeven.\n",
    "\n",
    "Het command pattern voorziet niet in standaard interfaces voor Receiver, invoker en client.\n",
    "\n",
    "### Interface **Command**:\n",
    "```java\n",
    "public interface Command {\n",
    "\n",
    "    public void execute();\n",
    "    \n",
    "}\n",
    "```\n"
   ]
  }
 ],
 "metadata": {
  "kernelspec": {
   "display_name": "Java",
   "language": "java",
   "name": "java"
  },
  "language_info": {
   "codemirror_mode": "java",
   "file_extension": ".jshell",
   "mimetype": "text/x-java-source",
   "name": "Java",
   "pygments_lexer": "java",
   "version": "11.0.12+7-Ubuntu-0ubuntu3"
  }
 },
 "nbformat": 4,
 "nbformat_minor": 5
}
