{
 "cells": [
  {
   "cell_type": "markdown",
   "id": "8d7c972b",
   "metadata": {},
   "source": [
    "# Composite pattern\n",
    "Het composite pattern voorziet in de mogelijkheid om binnen een hiërarchie van objecten een object dat één enkel element representeert op dezelfde manier te benaderen als een object dat een verzameling elementen representeert (en vice versa)"
   ]
  },
  {
   "cell_type": "markdown",
   "id": "9c57a6be",
   "metadata": {},
   "source": [
    "## Mogelijkheden\n",
    "\n",
    "Het pattern biedt een oplossing voor de volgende problemen:\n",
    "- Een verzameling bevat zowel elementen die een verzameling van (andere) elementen zijn als individuele elementen, en er is behoefte aan een universele benadering voor beide;\n",
    "- Elementen moeten opgeslagen worden in een hiërarchie met een boom-structuur.\n",
    "\n",
    "Voorbeelden van dergelijke hiërarchiën zijn de mappen-structuur op een computer bestaande uit mappen en bestanden, of een menu bestaande uit acties en submenu's.\n",
    "\n",
    "Het pattern biedt de volgende mogelijkheden:\n",
    "- Een object dat een verzameling of een individueel element representeert dezelfde functionaliteit geven. Met andere woorden: individuele elementen en objecten die meerdere elementen bevatten, hebben dezelfde interface.\n",
    "- Een hiërarchie van objecten maken."
   ]
  },
  {
   "cell_type": "markdown",
   "id": "4341a6f6",
   "metadata": {},
   "source": [
    "## Implementatie van het pattern\n",
    "\n",
    "![composite_pattern.png](images/13/composite_pattern.png)\n",
    "\n",
    "Het composite pattern gaat uit van twee soorten componenten: **Leaf** en **Composite**.\n",
    "\n",
    "**Composite** is een verzameling andere componenten\n",
    "\n",
    "**Leaf** is één enkel component.\n",
    "\n",
    "**Composite** en **Leaf** implementeren de interface **Component**. In plaats van een *interface* kan ook een *abstracte klasse* worden gebruikt.\n",
    "\n",
    "**Composite** en **Leaf** hebben gedeelde functionaliteit in de vorm van overeenkomende methodes. Deze zijn gedefiniëerd in **Component**. Indien de methodes voor **Composite** en **Leaf** hetzelfde zijn, dan kan de implementatie in **Component** mits dit een abstracte klasse is.\n",
    "\n",
    "Functionaliteit die slechts in één van beide soorten componenten aanwezig is, kan op twee manieren geïmplementeerd worden:\n",
    "- Uitsluitend in de klasse **Leaf** of **Composite**.\n",
    "- Abstract in **Composite**. In de klasse waar de functionaliteit niet van toepassing is, wordt de exception **UnsupportedOperationException** gegooid.\n",
    "\n"
   ]
  }
 ],
 "metadata": {
  "kernelspec": {
   "display_name": "Java",
   "language": "java",
   "name": "java"
  },
  "language_info": {
   "codemirror_mode": "java",
   "file_extension": ".jshell",
   "mimetype": "text/x-java-source",
   "name": "Java",
   "pygments_lexer": "java",
   "version": "11.0.13+8-Ubuntu-0ubuntu1.21.10"
  }
 },
 "nbformat": 4,
 "nbformat_minor": 5
}
