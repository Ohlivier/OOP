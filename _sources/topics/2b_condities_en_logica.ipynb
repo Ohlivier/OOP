{
 "cells": [
  {
   "cell_type": "markdown",
   "id": "a899f024",
   "metadata": {},
   "source": [
    "# Condities en logica\n",
    "Het is mogelijk om een programma te schrijven dat altijd hetzelfde doet, ongeacht de invoer. Dit is echter meestal niet wenselijk. Wat een programma doet hangt vaak af van de invoer. Met condities en conditionele statements kan een programma beslissingen nemen en code onder bepaalde voorwaarden uitvoeren."
   ]
  },
  {
   "cell_type": "markdown",
   "id": "c446b7a5",
   "metadata": {},
   "source": [
    "## Relationele operatoren\n",
    "Java heeft zes relationele operatoren: operatoren die de relatie tussen twee waardes checken, en teruggeven of deze relatie van toepassing is of niet.\n",
    "\n",
    "| Relationele operator | Voorwaarde |\n",
    "| --- | --- |\n",
    "| `x == y` | `x` is gelijk aan `y`\n",
    "| `x != y` | `x` is niet gelijk aan `y` |\n",
    "| `x > y` | `x` is groter (hoger) dan `y` | \n",
    "| `x < y` | `x` is kleiner (lager) dan `y` |\n",
    "| `x >= y` | `x` is groter (hoger) dan of gelijk aan `y` | \n",
    "| `x <= y` | `x` is kleiner (lager) dan of gelijk aan `y` |\n",
    "\n",
    "Het resultaat is van het type `boolean`. De relatie is van toepassing (waar, *true*) of niet van toepassing (niet waar, *false*).\n",
    "\n",
    "De relationele operator kan alleen gebruikt worden met variabelen van types die compatible aan elkaar zijn. Dat wil zeggen: vergelijkbaar.\n",
    "    \n",
    "Zo is een `int` wel te vergelijken met een `double` (beide getallen), maar niet met een `String` of `boolean` (te verschillend om met elkaar te kunnen vergelijken).\n",
    "\n",
    "```{warning}\n",
    "- Een is -gelijk-aan-relatie wordt aangegeven met een dubbel `=`-teken. Een enkel `=`-teken zal niet werken.\n",
    "- Vuistregel: Meestel geldt dat de relationele operatoren gebruikt worden met primitieve types.\n",
    "- Gebruik relationele operatoren niet voor het vergelijken van strings. Het vergelijken van strings doen we op een andere manier, waar we nog op terug zullen komen.\n",
    "```"
   ]
  },
  {
   "cell_type": "markdown",
   "id": "6cf2c586",
   "metadata": {},
   "source": [
    "## Het `if`-statement\n",
    "\n",
    "Een `if`-statement kan gebruikt worden om code alleen onder een bepaalde voorwaarde uit te voeren.\n",
    "\n",
    "De voorwaarde wordt omschreven met een relationele operator.\n",
    "\n",
    "```java\n",
    "if (<relationele operator>) {\n",
    "    // code die wordt uigevoerd als de relationele operator 'waar' is\n",
    "}\n",
    "```\n",
    "\n",
    "Voorbeeld:"
   ]
  },
  {
   "cell_type": "code",
   "execution_count": 46,
   "id": "2b25b4bb",
   "metadata": {
    "vscode": {
     "languageId": "java"
    }
   },
   "outputs": [
    {
     "name": "stdout",
     "output_type": "stream",
     "text": [
      "De waarde van x is een positief getal.\n"
     ]
    }
   ],
   "source": [
    "int x = 2;\n",
    "\n",
    "if (x>0) {\n",
    "    System.out.println(\"De waarde van x is een positief getal.\");\n",
    "}"
   ]
  },
  {
   "cell_type": "markdown",
   "id": "d6ac54af",
   "metadata": {},
   "source": [
    "## het `else`-keyword\n",
    "In sommige gevallen is het de bedoeling dat een (ander) blok code wordt uitgevoerd als de relationele operator niet 'waar' is. Dit is te realiseren met twee afzonderlijke `if`-statements.\n",
    "\n",
    "Voorbeeld:"
   ]
  },
  {
   "cell_type": "code",
   "execution_count": 47,
   "id": "7be98328",
   "metadata": {
    "scrolled": true,
    "vscode": {
     "languageId": "java"
    }
   },
   "outputs": [
    {
     "name": "stdout",
     "output_type": "stream",
     "text": [
      "De waarde van x is 5.\n"
     ]
    }
   ],
   "source": [
    "int x = 5;\n",
    "\n",
    "if (x==5) {\n",
    "    System.out.println(\"De waarde van x is 5.\");\n",
    "}\n",
    "if (x!=5) {\n",
    "    System.out.println(\"De waarde van x is NIET 5.\");\n",
    "}"
   ]
  },
  {
   "cell_type": "markdown",
   "id": "bb681f0e",
   "metadata": {},
   "source": [
    "Dit  is omslachtig, omdat er een tweede `if`-statement moet worden geschreven, met een relationele operator die tegengesteld is aan die van het eerste `if`-statement.\n",
    "\n",
    "Een eenvoudiger wijze om dit te bereiken is gebruik van het `else`-keyword:\n",
    "\n",
    "```java\n",
    "if (<relationele operator>) {\n",
    "    // code die wordt uigevoerd als de relationele operator 'waar' is\n",
    "} else {\n",
    "    // code die wordt uigevoerd als de relationele operator NIET 'waar' is\n",
    "}\n",
    "```"
   ]
  },
  {
   "cell_type": "markdown",
   "id": "ebc2927d",
   "metadata": {},
   "source": [
    "Het keyword `else` wordt altijd gebruikt als onderdeel van een `if`-statement. Zelfstandige `else`-statements bestaan niet. Een `if..else`-statement bevat twee blokken code, die één van beide wordt uitgevoerd.\n",
    "\n",
    "Voorbeeld:"
   ]
  },
  {
   "cell_type": "code",
   "execution_count": 48,
   "id": "201fec65",
   "metadata": {
    "vscode": {
     "languageId": "java"
    }
   },
   "outputs": [
    {
     "name": "stdout",
     "output_type": "stream",
     "text": [
      "De waarde van x is 5.\n"
     ]
    }
   ],
   "source": [
    "int x = 5;\n",
    "\n",
    "if (x==5) {\n",
    "    System.out.println(\"De waarde van x is 5.\");\n",
    "} else {\n",
    "    System.out.println(\"De waarde van x is NIET 5.\");\n",
    "}"
   ]
  },
  {
   "cell_type": "markdown",
   "id": "b58abcc6",
   "metadata": {},
   "source": [
    "## Nesting en chaining\n",
    "Soms is het nodig dat er meer dan twee verschillende stukken code zijn, die afhankelijk van voorwaarden worden uitgevoerd.\n",
    "\n",
    "Voorbeeld:\n",
    "Een conditie die afhankelijk van de waarde van *x* op het scherm print of deze 0 is, positief (>0) of negatief (<0)."
   ]
  },
  {
   "cell_type": "code",
   "execution_count": 49,
   "id": "165f1b92",
   "metadata": {
    "vscode": {
     "languageId": "java"
    }
   },
   "outputs": [
    {
     "name": "stdout",
     "output_type": "stream",
     "text": [
      "De waarde van x is een positief getal.\n"
     ]
    }
   ],
   "source": [
    "int x=5;\n",
    "\n",
    "if (x==0) {\n",
    "    System.out.println(\"De waarde van x is 0.\");\n",
    "}\n",
    "if (x>0) {\n",
    "    System.out.println(\"De waarde van x is een positief getal.\");\n",
    "}\n",
    "if (x<0) {\n",
    "    System.out.println(\"De waarde van x is een negatief getal.\");\n",
    "}"
   ]
  },
  {
   "cell_type": "markdown",
   "id": "f69b54ba",
   "metadata": {},
   "source": [
    "Dit kan korter en gemakkelijker door middel van een `else`-statement. Omdat er sprake is van drie mogelijkheden, zouden twee `if-else`-statements gebruikt kunnen worden:"
   ]
  },
  {
   "cell_type": "code",
   "execution_count": 50,
   "id": "ae9f3f76",
   "metadata": {
    "vscode": {
     "languageId": "java"
    }
   },
   "outputs": [
    {
     "name": "stdout",
     "output_type": "stream",
     "text": [
      "De waarde van x is een positief getal.\n"
     ]
    }
   ],
   "source": [
    "if (x==0) {\n",
    "    System.out.println(\"De waarde van x is 0.\");\n",
    "} else {}\n",
    "    if (x>0) {\n",
    "        System.out.println(\"De waarde van x is een positief getal.\");\n",
    "    } else {\n",
    "        System.out.println(\"De waarde van x is een negatief getal.\");\n",
    "    }"
   ]
  },
  {
   "cell_type": "markdown",
   "id": "6fbc6d38",
   "metadata": {},
   "source": [
    "Bij de bovenstaande aanpak wordt eerst gekeken of *x* gelijk is aan 0. Zo niet (`else`), dan wordt vastgesteld of *x* positief of negatief is *x*.\n",
    "\n",
    "Het plaatsen van een nieuw `if`-statement binnen een code-blok van een ander `if`-statement is een vorm van *nesting*.\n",
    "\n",
    "In deze situatie kan in plaats van *nesting* ook *chaining* worden gebruikt:"
   ]
  },
  {
   "cell_type": "code",
   "execution_count": 51,
   "id": "c70c70ff",
   "metadata": {
    "vscode": {
     "languageId": "java"
    }
   },
   "outputs": [
    {
     "name": "stdout",
     "output_type": "stream",
     "text": [
      "De waarde van x is een negatief getal.\n"
     ]
    }
   ],
   "source": [
    "int x=-1;\n",
    "if (x==0) {\n",
    "    System.out.println(\"De waarde van x is 0.\");\n",
    "} else if (x>0) {\n",
    "    System.out.println(\"De waarde van x is een positief getal.\");\n",
    "} else {\n",
    "    System.out.println(\"De waarde van x is een negatief getal.\");\n",
    "}"
   ]
  },
  {
   "cell_type": "markdown",
   "id": "63d6f3bf",
   "metadata": {},
   "source": [
    "Met *chaining* wordt een ketting gemaakt van opvolgende `if`-statements. Deze kan in theorie onbeperkt lang worden.\n",
    "\n",
    "In veel situaties zijn meerdere oplossingen mogelijk.\n",
    "\n",
    "Naast de keuze tussen *chaining* en *nesting* kan ook de volgorde veranderd worden:"
   ]
  },
  {
   "cell_type": "code",
   "execution_count": 52,
   "id": "53d78694",
   "metadata": {
    "vscode": {
     "languageId": "java"
    }
   },
   "outputs": [
    {
     "name": "stdout",
     "output_type": "stream",
     "text": [
      "De waarde van x is een negatief getal.\n"
     ]
    }
   ],
   "source": [
    "int x=-1;\n",
    "if (x<0) {\n",
    "    System.out.println(\"De waarde van x is een negatief getal.\");\n",
    "} else if (x>0) {\n",
    "    System.out.println(\"De waarde van x is een positief getal.\");\n",
    "} else {\n",
    "    System.out.println(\"De waarde van x is 0.\");\n",
    "}"
   ]
  },
  {
   "cell_type": "markdown",
   "id": "060da3a5",
   "metadata": {},
   "source": [
    "De bovenstaande drie voorbeelden zijn gelijkwaardig. Afhankelijk van leesbaarheid, efficiëntie en persoonlijke voorkeur wordt een werkwijze gekozen. Vaak zijn meerdere mogelijke werkwijzen juist."
   ]
  },
  {
   "cell_type": "markdown",
   "id": "608811ce",
   "metadata": {},
   "source": [
    "## Het `switch`-statement\n",
    "Het `switch`-statement is een constructie om een reeks vergelijkbare *chained* `if`-statements te vervangen met de relationele operator `==`.\n",
    "\n",
    "Voorbeeld:"
   ]
  },
  {
   "cell_type": "code",
   "execution_count": 53,
   "id": "f2760831",
   "metadata": {
    "vscode": {
     "languageId": "java"
    }
   },
   "outputs": [
    {
     "name": "stdout",
     "output_type": "stream",
     "text": [
      "The value of x is one\n"
     ]
    }
   ],
   "source": [
    "int x=1;\n",
    "\n",
    "System.out.print(\"The value of x is \");\n",
    "if (x==1) {\n",
    "    System.out.println(\"one\");\n",
    "} else if (x==2) {\n",
    "    System.out.println(\"two\");\n",
    "} else if (x==3) {\n",
    "    System.out.println(\"three\");\n",
    "} else if (x==4) {\n",
    "    System.out.println(\"four\");\n",
    "} else {\n",
    "    System.out.println(\"an unknown number\");\n",
    "}\n",
    "    "
   ]
  },
  {
   "cell_type": "markdown",
   "id": "d61a3730",
   "metadata": {},
   "source": [
    "Bovenstaande `if`-statements kunnen vervangen worden door de volgende `switch`-constructie:"
   ]
  },
  {
   "cell_type": "code",
   "execution_count": 54,
   "id": "401152ee",
   "metadata": {
    "vscode": {
     "languageId": "java"
    }
   },
   "outputs": [
    {
     "name": "stdout",
     "output_type": "stream",
     "text": [
      "The value of x is an unknown number\n"
     ]
    }
   ],
   "source": [
    "int x=11;\n",
    "\n",
    "System.out.print(\"The value of x is \");\n",
    "switch (x) {\n",
    "    case 1:\n",
    "        System.out.println(\"one\");\n",
    "        break;\n",
    "    case 2:\n",
    "        System.out.println(\"two\");\n",
    "        break;\n",
    "    case 3:\n",
    "        System.out.println(\"three\");\n",
    "        break;\n",
    "    case 4:\n",
    "        System.out.println(\"four\");\n",
    "        break;\n",
    "    default:\n",
    "        System.out.println(\"an unknown number\");\n",
    "}"
   ]
  },
  {
   "cell_type": "markdown",
   "id": "73b436e1",
   "metadata": {},
   "source": [
    "In de `switch`-constructie worden vier verschillende **keywords** gebruikt:\n",
    "- switch\n",
    "Het **keyword** `switch` is het begin van een switch-block. Tussen haakjes staat de variabele waarvan de waarde wordt geëvalueerd.\n",
    "- case\n",
    "Het **keyword** `case` wordt gebruikt om om aan te geven in geval van welke waarde de code direct na de case wordt uitgevoerd. Voor case worden <u>geen</u> accolades gebruikt!\n",
    "- break\n",
    "Het **keyword** `break` wordt gebruikt om aan te geven dat uitvoer van code binnen het switch-block moet stoppen. Zonder `break` wordt ook code onder de volgende case-statements uitgevoerd. In de meeste gevallen is het wenselijk om *break* te gebruiken aan het einde van code bij een case.\n",
    "- default\n",
    "Het **keyword** `default` wordt gebruikt om aan te geven dat bij een waarde waarop géén van de case-statements van toepassing is de code direct na default wordt uitgevoerd. Een default-statement is niet verplicht."
   ]
  },
  {
   "cell_type": "markdown",
   "id": "992ac20f",
   "metadata": {},
   "source": [
    "## Logische operatoren\n",
    "Naast de relationele operatoren, heeft Java drie logische operatoren.\n",
    "\n",
    "\n",
    "| Logische operator | Betekenis | Voorwaarde\n",
    "| --- | --- | --- |\n",
    "| `&&` | en | als beide kanten *true* zijn, dan is de uitkomst *true*\n",
    "| `\\|\\|` | of | als beide kanten *false* zijn, dan is de uitkomst *false*\n",
    "| `!` | niet | uitkomst is inverse\n",
    "\n",
    "### &&-operator\n",
    "\n",
    "De `&&`-operator kan gebruikt worden voor if-statements met meerdere condities die allemaal waar moeten zijn.\n",
    "\n",
    "Voorbeeld:"
   ]
  },
  {
   "cell_type": "code",
   "execution_count": 55,
   "id": "51c6e190",
   "metadata": {
    "vscode": {
     "languageId": "java"
    }
   },
   "outputs": [
    {
     "name": "stdout",
     "output_type": "stream",
     "text": [
      "x en y zijn beide 0.\n"
     ]
    }
   ],
   "source": [
    "int x=0;\n",
    "int y=0;\n",
    "\n",
    "if (x==0) {\n",
    "    if (y==0) {\n",
    "        System.out.println(\"x en y zijn beide 0.\");\n",
    "    }\n",
    "}"
   ]
  },
  {
   "cell_type": "markdown",
   "id": "82e55b48",
   "metadata": {},
   "source": [
    "De twee if-statements, kunnen vervangen door één if-statement met `&&`-operator:"
   ]
  },
  {
   "cell_type": "code",
   "execution_count": 56,
   "id": "cdeb105c",
   "metadata": {
    "vscode": {
     "languageId": "java"
    }
   },
   "outputs": [
    {
     "name": "stdout",
     "output_type": "stream",
     "text": [
      "x en y zijn beide 0.\n"
     ]
    }
   ],
   "source": [
    "int x=0;\n",
    "int y=0;\n",
    "\n",
    "if (x==0 && y==0) {\n",
    "    System.out.println(\"x en y zijn beide 0.\");\n",
    "}"
   ]
  },
  {
   "cell_type": "markdown",
   "id": "36cbd46f",
   "metadata": {},
   "source": [
    "### ||-operator\n",
    "De ||-operator kan gebruikt worden voor if-statements met meerdere condities waarvan tenminste één waar moet zijn.\n",
    "\n",
    "Voorbeeld:"
   ]
  },
  {
   "cell_type": "code",
   "execution_count": 57,
   "id": "2e79ded0",
   "metadata": {
    "vscode": {
     "languageId": "java"
    }
   },
   "outputs": [
    {
     "name": "stdout",
     "output_type": "stream",
     "text": [
      "Tenminste één van beide variabelen is 0.\n"
     ]
    }
   ],
   "source": [
    "int x=1;\n",
    "int y=0;\n",
    "\n",
    "if (x==0) {\n",
    "    System.out.println(\"Tenminste één van beide variabelen is 0.\");\n",
    "} else if (y==0) {\n",
    "    System.out.println(\"Tenminste één van beide variabelen is 0.\");\n",
    "}\n"
   ]
  },
  {
   "cell_type": "markdown",
   "id": "7aee8e8b",
   "metadata": {},
   "source": [
    "Duidelijk nadeel van deze aanpak is duplicate code.\n",
    "\n",
    "De twee if-statements, kunnen vervangen worden door één if-statement met ||-operator:"
   ]
  },
  {
   "cell_type": "code",
   "execution_count": 58,
   "id": "9e3160ec",
   "metadata": {
    "vscode": {
     "languageId": "java"
    }
   },
   "outputs": [
    {
     "name": "stdout",
     "output_type": "stream",
     "text": [
      "Tenminste één van beide variabelen is 0.\n"
     ]
    }
   ],
   "source": [
    "int x=1;\n",
    "int y=0;\n",
    "\n",
    "if (x==0 || y==0) {\n",
    "    System.out.println(\"Tenminste één van beide variabelen is 0.\");\n",
    "}"
   ]
  },
  {
   "cell_type": "markdown",
   "id": "f39fd4a0",
   "metadata": {},
   "source": [
    "### !-operator\n",
    "De `!`-operator inverteert een conditie.\n",
    "\n",
    "Inverteren betekent in dit geval: *true* wordt *false* en *false* wordt *true.\n",
    "\n",
    "Voorbeeld:"
   ]
  },
  {
   "cell_type": "code",
   "execution_count": 63,
   "id": "542e31a0",
   "metadata": {
    "vscode": {
     "languageId": "java"
    }
   },
   "outputs": [],
   "source": [
    "int x=0;\n",
    "\n",
    "if (!(x<5)) {\n",
    "    System.out.println(\"x is niet kleiner dan 5\");\n",
    "}"
   ]
  },
  {
   "cell_type": "markdown",
   "id": "2c43ec7d",
   "metadata": {},
   "source": [
    "De relationele operator moet tussen haakjes staan om te voorkomen dat de !-operator op x toegepast wo\n",
    "\n",
    "If-statements met de !-operator kunnen herschreven worden naar if-statements zonder !-operator.\n",
    "\n",
    "```Java\n",
    "if (!(x<5))\n",
    "```\n",
    "kan ook geschreven worden als\n",
    "```Java\n",
    "if (x>=5)\n",
    "```\n"
   ]
  },
  {
   "cell_type": "markdown",
   "id": "72aad123",
   "metadata": {},
   "source": [
    "## De wetten van De Morgan\n",
    "Soms is een expressie nodig bestaande uit een mix van relationele en logische operatoren.\n",
    "\n",
    "Bijvoorbeeld een if-statement om te controleren of x en y géén van beide 0 zijn:"
   ]
  },
  {
   "cell_type": "code",
   "execution_count": 59,
   "id": "890f697b",
   "metadata": {
    "vscode": {
     "languageId": "java"
    }
   },
   "outputs": [
    {
     "name": "stdout",
     "output_type": "stream",
     "text": [
      "x en y zijn allebei niet 0.\n"
     ]
    }
   ],
   "source": [
    "int x=1;\n",
    "int y=2;\n",
    "if (!(x==0 || y==0)) {\n",
    "    System.out.println(\"x en y zijn allebei niet 0.\");\n",
    "}"
   ]
  },
  {
   "cell_type": "markdown",
   "id": "670f04db",
   "metadata": {},
   "source": [
    "Nadeel van dit if-statement is de beperkte leesbaarheid door het gebruik van haakjes.\n",
    "\n",
    "Doordat de `!`-operator voorrang krijgt op zowel de || als && operator zijn extra haakjes nodig.\n",
    "\n",
    "Het if-statement kan herschreven worden met behulp van de wetten van De Morgan:\n",
    "- `!(A && B)` is hetzelfde als `!A || !B`\n",
    "- `!(A || B)` is hetzelfde als `!A && !B`\n",
    "\n",
    "Het voorbeeld kan met de wetten van De Morgan als volgt herschreven worden:"
   ]
  },
  {
   "cell_type": "code",
   "execution_count": 61,
   "id": "88a1d68f",
   "metadata": {
    "vscode": {
     "languageId": "java"
    }
   },
   "outputs": [
    {
     "name": "stdout",
     "output_type": "stream",
     "text": [
      "x en y zijn allebei niet 0.\n"
     ]
    }
   ],
   "source": [
    "int x=1;\n",
    "int y=2;\n",
    "if (!(x==0) && !(y==0)) {\n",
    "    System.out.println(\"x en y zijn allebei niet 0.\");\n",
    "}"
   ]
  },
  {
   "cell_type": "markdown",
   "id": "229b26d2",
   "metadata": {},
   "source": [
    "In dit geval is gebruik van de !-operator onnodig complex.\n",
    "De inverse (tegengestelde) van gelijk aan 0 is ongelijk aan 0. De ongelijkheid-operator != toepassen maakt het if-statement beter leesbaar:"
   ]
  },
  {
   "cell_type": "code",
   "execution_count": 62,
   "id": "91f26e2a",
   "metadata": {
    "vscode": {
     "languageId": "java"
    }
   },
   "outputs": [
    {
     "name": "stdout",
     "output_type": "stream",
     "text": [
      "x en y zijn allebei niet 0.\n"
     ]
    }
   ],
   "source": [
    "int x=1;\n",
    "int y=2;\n",
    "if (x!=0 && y!=0) {\n",
    "    System.out.println(\"x en y zijn allebei niet 0.\");\n",
    "}"
   ]
  },
  {
   "cell_type": "markdown",
   "id": "14672d7c",
   "metadata": {},
   "source": [
    "## Boolean type\n",
    "\n",
    "Relationele en logische operatoren geven *true* of *false* terug. Daarom kunnen ze ook in booleans opgeslagen worden.\n",
    "\n",
    "Voorbeeld:"
   ]
  },
  {
   "cell_type": "code",
   "execution_count": 29,
   "id": "da4658be",
   "metadata": {
    "vscode": {
     "languageId": "java"
    }
   },
   "outputs": [
    {
     "name": "stdout",
     "output_type": "stream",
     "text": [
      "true\n"
     ]
    }
   ],
   "source": [
    "int x=5;\n",
    "int y=7;\n",
    "boolean x_smaller_than_y = x<y;\n",
    "System.out.println(x_smaller_than_y);"
   ]
  },
  {
   "cell_type": "markdown",
   "id": "9ac3c69c-15b3-4cbc-98cf-dd95c57714e9",
   "metadata": {},
   "source": [
    "Booleans kunnen ook in if-statements worden gebruikt.\n",
    "\n",
    "Voorbeeld:"
   ]
  },
  {
   "cell_type": "code",
   "execution_count": 30,
   "id": "7fb6c548",
   "metadata": {
    "vscode": {
     "languageId": "java"
    }
   },
   "outputs": [
    {
     "name": "stdout",
     "output_type": "stream",
     "text": [
      "Het licht is aan\n"
     ]
    }
   ],
   "source": [
    "boolean light = true;\n",
    "if (light) {\n",
    "    System.out.println(\"Het licht is aan\");\n",
    "} else {\n",
    "    System.out.println(\"Het licht is uit\");\n",
    "}"
   ]
  },
  {
   "cell_type": "markdown",
   "id": "5f537e48",
   "metadata": {},
   "source": [
    "De statements\n",
    "```Java\n",
    "if (light) {\n",
    "```\n",
    "en\n",
    "```Java\n",
    "if (light==true) {\n",
    "```\n",
    "zijn gelijkwaardig.\n",
    "\n",
    "Dit geldt ook voor de statements\n",
    "```Java\n",
    "if (!light) {\n",
    "```\n",
    "en\n",
    "```Java\n",
    "if (light==false) {\n",
    "```\n"
   ]
  },
  {
   "cell_type": "markdown",
   "id": "da4cf3c6",
   "metadata": {},
   "source": [
    "## Invoer valideren\n",
    "Een mogelijke toepassing van if-statements is het valideren van invoer. Valideren is controleren of invoer wel geldig is.\n",
    "\n",
    "### Voorbeeld: Leeftijd kat in mensenjaren\n",
    "\n",
    "De gebruiker voert de leeftijd van een kat in, in jaren. Vervolgens print het programma de leeftijd van de kat in mensenjaren.\n",
    "\n",
    "Als eerste is code nodig om de leeftijd van de kat om te rekenen naar een vergelijkbaar aantal mensenjaren.\n",
    "\n",
    "Voor de omrekening wordt dit model gebruikt:\n",
    "![cat-care-afbeelding-hoe-oud-is-jouw-kat.png](images/2/cat-care-afbeelding-hoe-oud-is-jouw-kat.png)\n",
    "\n",
    "Omwille van eenvoud wordt gewerkt met gehele aantallen jaren.\n",
    "\n",
    "Het is wenselijk om dit in een afzonderlijke methode te doen, zodat de logica wordt gescheiden van de interactie met de gebruiker."
   ]
  },
  {
   "cell_type": "code",
   "execution_count": 36,
   "id": "5aa1dfd3",
   "metadata": {
    "vscode": {
     "languageId": "java"
    }
   },
   "outputs": [],
   "source": [
    "public static int leeftijdKatNaarMens(int aantaljaren) {\n",
    "    if (aantaljaren==1) {\n",
    "        return 15;\n",
    "    }\n",
    "    if (aantaljaren>1) {\n",
    "        return 16+aantaljaren*4;\n",
    "    }\n",
    "    return 0;\n",
    "}"
   ]
  },
  {
   "cell_type": "markdown",
   "id": "d1371c42",
   "metadata": {},
   "source": [
    "Ook de methode voor het omrekenen bevat een aantal if-statements omdat niet alle mogelijke kattenjaren met één wiskundige formule zijn om te rekenen naar mensenjaren."
   ]
  },
  {
   "cell_type": "code",
   "execution_count": 32,
   "id": "94b0d89b",
   "metadata": {
    "vscode": {
     "languageId": "java"
    }
   },
   "outputs": [
    {
     "name": "stdout",
     "output_type": "stream",
     "text": [
      "56\n"
     ]
    }
   ],
   "source": [
    "// Testen\n",
    "System.out.println(leeftijdKatNaarMens(10));"
   ]
  },
  {
   "cell_type": "markdown",
   "id": "913df56f",
   "metadata": {},
   "source": [
    "Vervolgens kan de interactie met de gebruiker geprogrammeerd worden:"
   ]
  },
  {
   "cell_type": "code",
   "execution_count": 38,
   "id": "fc703171",
   "metadata": {
    "vscode": {
     "languageId": "java"
    }
   },
   "outputs": [
    {
     "name": "stdout",
     "output_type": "stream",
     "text": [
      "Wat is de leeftijd van de kat, in mensenjaren?\n",
      "\n",
      "Leeftijd van de kat (in jaren) ?34\n",
      "De leeftijd van de kat in mensenjaren is 152 jaar.\n"
     ]
    }
   ],
   "source": [
    "System.out.println(\"Wat is de leeftijd van de kat, in mensenjaren?\");\n",
    "System.out.println();\n",
    "System.out.print(\"Leeftijd van de kat (in jaren) ?\");\n",
    "Scanner s = new Scanner(System.in);\n",
    "int leeftijdkat=s.nextInt();\n",
    "int leeftijdkat_mensenjaren=leeftijdKatNaarMens(leeftijdkat);\n",
    "System.out.println(\"De leeftijd van de kat in mensenjaren is \"+leeftijdkat_mensenjaren+\" jaar.\");"
   ]
  },
  {
   "cell_type": "markdown",
   "id": "1c93b0f8",
   "metadata": {},
   "source": [
    "Hoewel bovenstaand programma goed werkt, is het mogelijk dat de gebruiker een ongeldige leeftijd invoert.\n",
    "Bijvoorbeeld een negatieve leeftijd. Of een leeftijd die onwaarschijnlijk hoog is.\n",
    "\n",
    "Validatie zorgt er voor dat de gebruiker gewaarschuwd wordt bij ongeldige invoer."
   ]
  },
  {
   "cell_type": "code",
   "execution_count": 40,
   "id": "acad2ac4",
   "metadata": {
    "vscode": {
     "languageId": "java"
    }
   },
   "outputs": [
    {
     "name": "stdout",
     "output_type": "stream",
     "text": [
      "Wat is de leeftijd van de kat, in mensenjaren?\n",
      "\n",
      "Leeftijd van de kat (in jaren) ?-1\n",
      "Leeftijd kat negatief. Moet de kat nog geboren worden?\n"
     ]
    }
   ],
   "source": [
    "System.out.println(\"Wat is de leeftijd van de kat, in mensenjaren?\");\n",
    "System.out.println();\n",
    "System.out.print(\"Leeftijd van de kat (in jaren) ?\");\n",
    "Scanner s = new Scanner(System.in);\n",
    "int leeftijdkat=s.nextInt();\n",
    "\n",
    "if (leeftijdkat<0) {\n",
    "    System.out.println(\"Leeftijd kat negatief. Moet de kat nog geboren worden?\");\n",
    "} else if (leeftijdkat>45) {\n",
    "    System.out.println(\"De ingevoerde leeftijd klopt waarschijnlijk niet. De oudste kat ooit is 38 jaar geworden..\");\n",
    "} else {\n",
    "    int leeftijdkat_mensenjaren=leeftijdKatNaarMens(leeftijdkat);\n",
    "    System.out.println(\"De leeftijd van de kat in mensenjaren is \"+leeftijdkat_mensenjaren+\" jaar.\");\n",
    "}"
   ]
  }
 ],
 "metadata": {
  "kernelspec": {
   "display_name": "Java",
   "language": "java",
   "name": "java"
  },
  "language_info": {
   "codemirror_mode": "java",
   "file_extension": ".jshell",
   "mimetype": "text/x-java-source",
   "name": "Java",
   "pygments_lexer": "java",
   "version": "11.0.11+9-Ubuntu-0ubuntu2"
  }
 },
 "nbformat": 4,
 "nbformat_minor": 5
}
