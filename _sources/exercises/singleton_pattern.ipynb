{
 "cells": [
  {
   "cell_type": "markdown",
   "id": "8d7c972b",
   "metadata": {},
   "source": [
    "# Practicum singleton pattern\n",
    "## Doel\n",
    "- Kennismaken met het singleton pattern"
   ]
  },
  {
   "cell_type": "markdown",
   "id": "9c57a6be",
   "metadata": {},
   "source": [
    "## Pizza factory\n",
    "Bij deze opgave wordt gebruik gemaakt van pizza factories, klassen met een methode waarmee verschillende pizza-objecten worden gemaakt.\n",
    "\n",
    "Er zijn twee mogelijkheden om deze factories te verkrijgen:\n",
    "\n",
    "1. Maak gebruik van de uitwerking van de [pizza opgave](/problems/pizza/index) over het factory pattern.\n",
    "Maak een nieuw project en kopieëer de klasse **PizzaFactoryItalia** en alle andere klassen en interfaces die nodig zijn.\n",
    "\n",
    "2. Maak gebruik van de onderstaande gegeven klassen en interfaces.\n",
    "\n",
    "Maak een nieuw project en neem onderstaande klassen en interfaces over.\n",
    "\n",
    "Interface **Pizza**:\n",
    "```java\n",
    "public interface Pizza {\n",
    "\n",
    "    public double getPrice();\n",
    "    public String getDescription();\n",
    "\n",
    "}\n",
    "```\n",
    "\n",
    "Interface **PizzaFactory**:\n",
    "```java\n",
    "public interface PizzaFactory {\n",
    "\n",
    "    public Pizza createPizza(String name);\n",
    "\n",
    "}\n",
    "```\n",
    "\n",
    "Interface **PizzaFactoryItalia**:\n",
    "```java\n",
    "public class PizzaFactoryItalia implements PizzaFactory {\n",
    "\n",
    "    @Override\n",
    "    public Pizza createPizza(String name) {\n",
    "        return new Pizza() {\n",
    "            @Override\n",
    "            public double getPrice() {\n",
    "                return 10;\n",
    "            }\n",
    "\n",
    "            @Override\n",
    "            public String getDescription() {\n",
    "                return \"Pizzaria Italia pizza \"+name;\n",
    "            }\n",
    "        };\n",
    "    }\n",
    "\n",
    "}\n",
    "```\n",
    "\n"
   ]
  },
  {
   "cell_type": "markdown",
   "id": "0cef807a",
   "metadata": {},
   "source": [
    "## De klasse PizzaFactoryItalia gebruiken\n",
    "\n",
    "Maak de klasse **Main**. Maak in deze klasse de main-methode, met daarin de volgende regels code:\n",
    "```java\n",
    "PizzaFactory pizzaFactoryItalia = new PizzaFactoryItalia();\n",
    "Pizza pizzaHawaii = pizzaFactoryItalia.createPizza(\"Hawaii\");\n",
    "System.out.println(pizzaHawaii.getDescription()+\", € \"+ pizzaHawaii.getPrice());\n",
    "```"
   ]
  },
  {
   "cell_type": "markdown",
   "id": "d758d2eb",
   "metadata": {},
   "source": [
    "## De factory op meer plekken gebruiken\n",
    "Stel dat op meerdere plekken binnen een project pizza's gemaakt moeten worden met behulp van **PizzaFactoryItalia**. Hoe is dat te realiseren?\n",
    "\n",
    "* Overal waar dat nodig is instanties maken van **PizzaFactoryItalia**\n",
    "\n",
    "Voordeel: Eenvoudig\n",
    "\n",
    "Nadeel: Zonder noodzaak meerdere instanties. Soms is het maken van een nieuwe instantie niet wenselijk.\n",
    "\n",
    "- De methode **createPizza** *static* maken\n",
    "\n",
    "Voordeel: Eenvoudig\n",
    "\n",
    "Nadeel: Is niet altijd wenselijk. Bij overmatig gebruik ondermijnt dit het oop-paradigma (in de praktijk wordt het *factory pattern* veelvuldig op deze wijze toegepast).\n",
    "\n",
    "- Een instantie maken van **PizzaFactoryItalia** en deze doorgeven aan klassen die deze nodig hebben\n",
    "\n",
    "Voordeel: Duidelijkheid ten aanzien van het moment waarop de instantie wordt gemaakt en welk onderdeel daarvoor verantwoordelijk is.\n",
    "\n",
    "Nadeel: Bewerkelijk.\n",
    "\n",
    "- Gebruik maken van het *singleton pattern*\n",
    "\n",
    "Voordeel: Eenvoudig te implementeren.\n",
    "\n",
    "Nadeel: Het pattern is niet onomstreden. Complicaties bij testen. Verbloemde afhankelijkheden.\n"
   ]
  },
  {
   "cell_type": "markdown",
   "id": "f37450df",
   "metadata": {},
   "source": [
    "## Het singleton pattern\n",
    "\n",
    " Het *singleton pattern* biedt de mogelijkheid om één instantie van een klasse overal beschikbaar te hebben.\n",
    " \n",
    " In vier stappen wordt het *singleton pattern* toegepast op de klasse **PizzaFactoryItalia**.\n",
    " \n",
    " Het *singleton pattern* maakt geen gebruik van ondersteunende klassen en interfaces. Code ten behoeve van het *singleton pattern* wordt toegevoegd aan de klasse waar het om gaat, de klasse waarvan maximaal één instantie mag bestaan die overal beschikbaar is."
   ]
  },
  {
   "cell_type": "markdown",
   "id": "d4e89381",
   "metadata": {},
   "source": [
    "### Stap 1. Constructor private maken\n",
    "\n",
    "Maak de constructor van **PizzaFactoryItalia** private.\n",
    "\n",
    "Als er geen constructor aanwezig is, dan is het nodig om eerste een expliciete standaard constructor te maken:\n",
    "```java\n",
    "public PizzaFactoryItalia() {\n",
    "}\n",
    "```\n",
    "\n",
    "Verander *public* in *private*.\n",
    "\n",
    "Als het goed is, zullen *new*-statements met **PizzaFactoryItalia** buiten de klasse **PizzaFactoryItalia** niet meer mogelijk zijn. De klasse **Main** zal niet meer compileren zolang het statement **new PizzaFactoryItalia()** nog aanwezig is. Dat is te bedoeling. Hiermee wordt voorkomen dat er toch meerdere instanties van de klasse **PizzaFactoryItalia** worden gemaakt."
   ]
  },
  {
   "cell_type": "markdown",
   "id": "ab5e8650",
   "metadata": {},
   "source": [
    "### Stap 2. Klasse-variabele **instance** maken\n",
    "\n",
    "Maak een *private* en *static* klasse-variabele met de naam **instance** en type **PizzaFactoryItalia** in de klasse **PizzaFactoryItalia**.\n",
    "\n",
    "```java\n",
    "private static PizzaFactoryItalia instance;\n",
    "```"
   ]
  },
  {
   "cell_type": "markdown",
   "id": "5e21ef28",
   "metadata": {},
   "source": [
    "### Stap 3. Methode **getInstance** maken\n",
    "\n",
    "Maak de methode **getInstance** in de klasse **PizzaFactoryItalia**. Deze methode is *public*, *static* en heeft als return-type **PizzaFactoryItalia**.\n",
    "\n",
    "Deze methode geeft de waarde van de variabele **instance** terug. Als **instance** de waarde *null* heeft, dan wordt eerst een instantie van **PizzaFactoryItalia** gemaakt en in **instance** opgeslagen:\n",
    "\n",
    "```java\n",
    "public static PizzaFactoryItalia getInstance() {\n",
    "    if (instance==null) {\n",
    "        instance = new PizzaFactoryItalia();\n",
    "    }\n",
    "    return instance;\n",
    "}\n",
    "```"
   ]
  },
  {
   "cell_type": "markdown",
   "id": "0e21b98a",
   "metadata": {},
   "source": [
    "### Stap 4. De methode **getInstance** gebruiken\n",
    "\n",
    "Vervang elk new-statement voor de klasse **PizzaFactoryItalia** door een aanroep van de methode **getInstance** van de klasse **PizzaFactoryItalia**.\n",
    "\n",
    "```java\n",
    "new PizzaFactoryItalia()\n",
    "```\n",
    "wordt dan vervangen door\n",
    "```java\n",
    "PizzaFactoryItalia.getInstance()\n",
    "```\n",
    "\n",
    "Pas de main-methode aan zodat deze weer functioneert met het singleton pattern."
   ]
  },
  {
   "cell_type": "markdown",
   "id": "940e0682",
   "metadata": {},
   "source": [
    "## Nog een keer oefenen\n",
    "\n",
    "Pas het singleton pattern ook toe op de klasse **PizzaFactoryMilaan**.\n",
    "\n",
    "Maak met behulp van de instantie een pizza in de main-methode.\n",
    "\n",
    "De klasse **PizzaFactoryMilaan** kan overgenomen worden van het project waar ook **PizzaFactoryItalia** vandaan komt. Als de klasse **PizzaFactoryMilaan** niet beschikbaar is, maak dan een klasse **PizzaFactoryMilaan** met behulp van de in dit practicum gegeven versie van **PizzaFactoryItalia**."
   ]
  }
 ],
 "metadata": {
  "kernelspec": {
   "display_name": "Java",
   "language": "java",
   "name": "java"
  },
  "language_info": {
   "codemirror_mode": "java",
   "file_extension": ".jshell",
   "mimetype": "text/x-java-source",
   "name": "Java",
   "pygments_lexer": "java",
   "version": "11.0.12+7-Ubuntu-0ubuntu3"
  }
 },
 "nbformat": 4,
 "nbformat_minor": 5
}
