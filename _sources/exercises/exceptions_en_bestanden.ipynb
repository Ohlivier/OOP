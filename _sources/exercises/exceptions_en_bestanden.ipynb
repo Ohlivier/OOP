{
 "cells": [
  {
   "cell_type": "markdown",
   "id": "8d7c972b",
   "metadata": {},
   "source": [
    "# Exceptions en bestanden\n",
    "## Doel\n",
    "- Exceptionhandling bij het lezen van bestanden\n",
    "- try with resources syntax"
   ]
  },
  {
   "cell_type": "markdown",
   "id": "9c57a6be",
   "metadata": {},
   "source": [
    "## Tekstbestand lezen\n",
    "Met de onderstaande code wordt een tekstbestand gelezen:\n",
    "```java\n",
    "    BufferedReader br = new BufferedReader(new FileReader(\"test.txt\"));\n",
    "    String line;\n",
    "    while ((line=br.readLine()) != null) {\n",
    "        System.out.println(line);\n",
    "    }\n",
    "    br.close();\n",
    "```\n",
    "\n",
    "Deze code zal echter niet functioneren zonder dat exceptions worden opgeven."
   ]
  },
  {
   "cell_type": "markdown",
   "id": "0cef807a",
   "metadata": {},
   "source": [
    "## Methode printTextfile\n",
    "\n",
    "Schrijf de methode\n",
    "```Java\n",
    "public void printTextfile(String filename) {\n",
    "```\n",
    "die voldoet aan het volgende:\n",
    "\n",
    "- Het tekstbestand met bestandsnaam **filename** wordt gelezen. Elke regel wordt op de console afgedrukt.\n",
    "- Als een bestand niet wordt gevonden, print op de console de melding \"File not found.\".\n",
    "- Als er een andere fout optreedt, print dan de melding. Gebruik hiervoor de methode **getMessage** van de exception."
   ]
  },
  {
   "cell_type": "markdown",
   "id": "6fb04aa9",
   "metadata": {},
   "source": [
    "## Methode parseResults\n",
    "\n",
    "De methode **parseResults** leest een tekstbestand met op elke regel een naam en schoolcijfer, gescheiden door een dubbele punt. Namen en bijbehorende cijfers worden teruggegeven in een HashMap met als key de naam en value het cijfer.\n",
    "\n",
    "De definitie van de methode is:\n",
    "```Java\n",
    "public HashMap<String, Double> parseResults(String filename)\n",
    "```\n",
    "\n",
    "Schrijf een implementatie van deze methode.\n",
    "\n",
    "Er kan vanuit worden gegaan dat het tekstbestand correct is.\n",
    "\n",
    "Voorbeeld data om te testen:\n",
    "```java\n",
    "Jan:    5.7\n",
    "Els:    8.3\n",
    "Henk:   3\n",
    "Erik:   10\n",
    "Donald: 6\n",
    "```\n",
    "\n",
    "Testen kan als volgt:\n",
    "```java\n",
    "    HashMap<String, Double> results = parseResults(\"cijfers.txt\");\n",
    "    for(String naam : results.keySet()) {\n",
    "        System.out.println(naam+\" - \"+results.get(naam));\n",
    "    }\n",
    "```"
   ]
  },
  {
   "cell_type": "markdown",
   "id": "597219e0",
   "metadata": {},
   "source": [
    "## Fouten in het tekstbestand\n",
    "\n",
    "Wat gebeurt er als het tekstbestand een fout bevat?\n",
    "\n",
    "Om dit te testen is het belangrijk om eerst in kaart te brengen welke fouten er kunnen zijn.\n",
    "\n",
    "Bijvoorbeeld:\n",
    "- Er is geen dubbele punt op een regel aanwezig\n",
    "- Er zijn meerdere dubbele punten op een regel aanwezig\n",
    "- Het cijfer bevat ongeldige symbolen\n",
    "\n",
    "Breng een fout aan in het tekstbestand en kijk wat er gebeurt. Zijn de foutmeldingen begrijpelijk?\n",
    "\n",
    "Om begrijpelijke foutmeldingen te krijgen, is het nodig om zelf exceptions op te gooien. Breid de methode **parseResults** uit zodat er duidelijke exceptions worden opgegooid als het bestand met resultaten ongeldige regels bevat. Bedenk zelf welke exception geschikt is om te gebruiken.\n",
    "\n"
   ]
  },
  {
   "cell_type": "markdown",
   "id": "f1ec54d5",
   "metadata": {},
   "source": [
    "## Checked exceptions doorgeven\n",
    "Om de methode **parseResults** in zo veel mogelijk verschillende situaties te kunnen gebruiken, moet het mogelijk zijn om zelf de IOExceptions af te handelen.\n",
    "\n",
    "De try..catch weghalen kan niet zomaar.\n",
    "\n",
    "Een mogelijkheid is in de exception-handler de exception opnieuw gooien als unchecked exception. Dit is echter omslachtig.\n",
    "\n",
    "Er is een alternatief:\n",
    "- Verwijder het try..catch-block uit de methode parseResults\n",
    "- Voeg *throws IOException* toe aan de methode definitie, zodat deze er als volgt uit ziet:\n",
    "```java\n",
    "public HashMap<String, Double> parseResults(String filename) throws IOException\n",
    "```\n",
    "\n",
    "Voer deze stappen uit. Wat gebeurt er? Voeg een try..catch-block toe aan de testcode, zodat het programma weer uitgevoerd kan worden."
   ]
  },
  {
   "cell_type": "markdown",
   "id": "3159f6c2",
   "metadata": {},
   "source": [
    "## Try-with-resources\n",
    "\n",
    "Terug naar de methode printTextfile.\n",
    "\n",
    "Elke resourse (bijvoorbeeld een **BufferedReader**) moet gesloten worden met de **close** methode.\n",
    "\n",
    "Gebeurt dit als er een IOException optreedt?\n",
    "\n",
    "Het is mogelijk om een finally-block te gebruiken om het tekstbestand in alle gevallen te sluiten. Dit levert echter ook weer nieuwe moeilijkheden op.\n",
    "\n",
    "Een alternatief is de try-with-resources syntax.\n",
    "\n",
    "Pas het try-block in printTextfile aan als volgt:\n",
    "```java\n",
    "         try (\n",
    "                BufferedReader br = new BufferedReader(new FileReader(filename))\n",
    "         ) {\n",
    "```\n",
    "\n",
    "De code tussen haakjes achter try mag alleen code bevatten om resources te openen. Deze worden automatisch gesloten, ongeacht of er een exception optreedt.\n",
    "\n",
    "Pas **printTextfile** aan."
   ]
  },
  {
   "cell_type": "markdown",
   "id": "7def4016",
   "metadata": {},
   "source": [
    "## Try..with-resources bij parseResults\n",
    "\n",
    "Bij **parseResults** ontstaat ook het probleem dat het bestand niet gesloten wordt als een exception optreedt.\n",
    "\n",
    "Ook in deze situatie is try-with-resources syntax de oplossing.\n",
    "\n",
    "Er is echter geen try..catch meer aanwezig. Try-with-resources is mogelijk zonder catch te gebruiken. Er is dan uitsluitend sprake van een try-block.\n",
    "\n",
    "Pas parseResults aan zodat de try-with-resources syntax wordt gebruikt.\n",
    "\n",
    "\n"
   ]
  },
  {
   "cell_type": "code",
   "execution_count": null,
   "id": "2f9526ed",
   "metadata": {},
   "outputs": [],
   "source": []
  }
 ],
 "metadata": {
  "kernelspec": {
   "display_name": "Java",
   "language": "java",
   "name": "java"
  },
  "language_info": {
   "codemirror_mode": "java",
   "file_extension": ".jshell",
   "mimetype": "text/x-java-source",
   "name": "Java",
   "pygments_lexer": "java",
   "version": "11.0.11+9-Ubuntu-0ubuntu2.18.04"
  }
 },
 "nbformat": 4,
 "nbformat_minor": 5
}
