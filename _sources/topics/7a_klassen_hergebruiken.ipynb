{
 "cells": [
  {
   "cell_type": "markdown",
   "id": "259a8e81-6978-4672-83e4-b980b5f6b160",
   "metadata": {
    "slideshow": {
     "slide_type": "slide"
    },
    "tags": []
   },
   "source": [
    "# Klassen hergebruiken\n",
    "\n",
    "Overerving en abstracte klassen"
   ]
  },
  {
   "cell_type": "markdown",
   "id": "cbd1d493-c1af-4966-8109-764c9b7f1f8e",
   "metadata": {
    "slideshow": {
     "slide_type": "slide"
    },
    "tags": []
   },
   "source": [
    "## Compositie\n",
    "\n",
    "**Has a** relaties"
   ]
  },
  {
   "cell_type": "markdown",
   "id": "c492e667-7876-474c-bb6b-08a36d2ed952",
   "metadata": {
    "slideshow": {
     "slide_type": "fragment"
    },
    "tags": []
   },
   "source": [
    "*Een persoon heeft een adres*"
   ]
  },
  {
   "cell_type": "markdown",
   "id": "721e9c9c-3ed0-4b42-91ff-431ee8faf2be",
   "metadata": {
    "slideshow": {
     "slide_type": "notes"
    },
    "tags": []
   },
   "source": [
    "Het idee van compositie heb je al gebruikt, dit is wannneer instanties van klassen verwijzingen hebben naar andere klassen."
   ]
  },
  {
   "cell_type": "markdown",
   "id": "68b193cd-70a3-4beb-9458-1e6714334cdd",
   "metadata": {
    "slideshow": {
     "slide_type": "subslide"
    },
    "tags": []
   },
   "source": [
    "```java\n",
    "public class Address {\n",
    "    private String city;\n",
    "    private String street;\n",
    "    private String number;\n",
    "    private String zipCode;\n",
    "    private String country;\n",
    "}\n",
    "```"
   ]
  },
  {
   "cell_type": "markdown",
   "id": "15287cdf-02f7-4e77-aff3-e8743fb50e28",
   "metadata": {
    "slideshow": {
     "slide_type": "notes"
    },
    "tags": []
   },
   "source": [
    "Neem als voorbeeld een klasse `Address` die een adres representeert (deze klasse is natuurlijk niet compleet met alleen maar velden, het gaat immers om een voorbeeld!)."
   ]
  },
  {
   "cell_type": "markdown",
   "id": "f2aa6781-2e8d-4ad4-8ed7-c0466e882ed9",
   "metadata": {
    "slideshow": {
     "slide_type": "subslide"
    },
    "tags": []
   },
   "source": [
    "```java\n",
    "public class Person {\n",
    "    private String name;\n",
    "    private Address address;\n",
    "    \n",
    "    public Person(String name, Address address) {\n",
    "        this.name = name;\n",
    "        this.address = address;\n",
    "    }\n",
    "}\n",
    "```"
   ]
  },
  {
   "cell_type": "markdown",
   "id": "1f09e1b4-a0d3-4c37-80e4-69fc3323a1ec",
   "metadata": {
    "slideshow": {
     "slide_type": "notes"
    },
    "tags": []
   },
   "source": [
    "Een person heeft een adress, je ziet hier dat het veld `address` in deze klasse verwijst naar de klasse `Address`, elke *instantie* van de klasse `Person` zal een verwijzing bevatten naar een instantie van de klasse `Address`."
   ]
  },
  {
   "cell_type": "markdown",
   "id": "53e9896d-7a23-40ab-a45a-eb01e6a69f55",
   "metadata": {
    "slideshow": {
     "slide_type": "subslide"
    },
    "tags": []
   },
   "source": [
    "```java\n",
    "public class Person {\n",
    "    private String name;\n",
    "    private String city;\n",
    "    private String street;\n",
    "    private String number;\n",
    "    private String zipCode;\n",
    "    private String country;\n",
    "    \n",
    "    public Person(String name, String city, ...) {\n",
    "        this.name = name;\n",
    "        this.city = city;\n",
    "        ...\n",
    "    }\n",
    "}\n",
    "```"
   ]
  },
  {
   "cell_type": "markdown",
   "id": "c89fe447-9dfd-4662-b91b-66ce10532f1c",
   "metadata": {
    "slideshow": {
     "slide_type": "notes"
    },
    "tags": []
   },
   "source": [
    "Het bovenstaande had ook gekund, maar het is een beter ontwerp om het als zelfstandige entiteiten te beschouwen en als aparte klassen (typen!) te beschrijven."
   ]
  },
  {
   "cell_type": "markdown",
   "id": "e2dc56b3-802f-4303-be47-8a0d5e7db822",
   "metadata": {
    "slideshow": {
     "slide_type": "fragment"
    },
    "tags": []
   },
   "source": [
    "```java\n",
    "public class Company {\n",
    "    private String name;\n",
    "    private Address address;\n",
    "    \n",
    "    public Company(String name, Address address) {\n",
    "        this.name = name;\n",
    "        this.address = address;\n",
    "    }\n",
    "}\n",
    "```"
   ]
  },
  {
   "cell_type": "markdown",
   "id": "17c79633-f7cd-4320-97d3-1e6926b8c6a2",
   "metadata": {
    "slideshow": {
     "slide_type": "notes"
    },
    "tags": []
   },
   "source": [
    "Het is bijvoorbeeld heel goed mogelijk dat je met andere klassen te maken hebt die een adres bevatten, bijvoorbeeld een `Company`. Je hergebruikt de klasse `Address` in een steeds verschillende context. Voeg een nieuw veld toe aan een `Address` en het is in alle klassen die er een \"has a\" relatie mee hebben te gebruiken."
   ]
  },
  {
   "cell_type": "markdown",
   "id": "5295508e-8420-455e-942a-9bcd699f50af",
   "metadata": {
    "slideshow": {
     "slide_type": "slide"
    },
    "tags": []
   },
   "source": [
    "## Overerving\n",
    "\n",
    "**Is a** relaties"
   ]
  },
  {
   "cell_type": "markdown",
   "id": "fecb2a9e-a239-4600-a1d9-24353a167b3c",
   "metadata": {
    "slideshow": {
     "slide_type": "fragment"
    },
    "tags": []
   },
   "source": [
    "*Een adres is een lokatie*"
   ]
  },
  {
   "cell_type": "markdown",
   "id": "7d9e41a5-b0c4-44ab-9d61-fe115ea155c8",
   "metadata": {
    "slideshow": {
     "slide_type": "subslide"
    },
    "tags": []
   },
   "source": [
    "![Is a](images/7/is_a_simple.png)"
   ]
  },
  {
   "cell_type": "markdown",
   "id": "566b98a4-a09e-4a88-967f-d71a08d1e712",
   "metadata": {
    "slideshow": {
     "slide_type": "fragment"
    },
    "tags": []
   },
   "source": [
    "Een lokatie is een abstractie van een adres (de meer *algemene* vorm)"
   ]
  },
  {
   "cell_type": "markdown",
   "id": "45e36246-26bd-4c22-9341-5af6c106eb09",
   "metadata": {
    "slideshow": {
     "slide_type": "notes"
    },
    "tags": []
   },
   "source": [
    "We aan hier op zoek naar de abstractie van een adres. Een adres is een lokatie (een punt op deze aarde), maar een lokatie is niet een adres! Een lokatie is de meer algemene vorm waar een adres een verbijzondering van is (bijvoorbeeld, een adres heeft altijd een brievenbus)."
   ]
  },
  {
   "cell_type": "markdown",
   "id": "1eda01d4-bc70-4a24-8fba-1dea6ed6603d",
   "metadata": {
    "slideshow": {
     "slide_type": "skip"
    },
    "tags": []
   },
   "source": [
    "### In code"
   ]
  },
  {
   "cell_type": "markdown",
   "id": "91e37188-36bc-4d77-b396-817a0e5d8597",
   "metadata": {
    "slideshow": {
     "slide_type": "subslide"
    },
    "tags": []
   },
   "source": [
    "![Location UML](images/7/address_uml.png)"
   ]
  },
  {
   "cell_type": "markdown",
   "id": "75da623b-ca42-443a-a738-fbf15c99ba30",
   "metadata": {
    "slideshow": {
     "slide_type": "notes"
    },
    "tags": []
   },
   "source": [
    "Je ziet hier de *is a* relatie tussen een adres en lokatie om het verschil duidelijk te maken. We hebben er ook een *point of interest* aan toegevoegd als een aparte entiteit die ook een *is a* relatie heeft met een lokatie. Het laatste ken je misschien wel van online kaarten waar bijvoorbeeld een bekende lokatie mee wordt aangegeven, bijvoorbeeld een plek voor een prachtig uitzicht over een stad (type panorama?)."
   ]
  },
  {
   "cell_type": "code",
   "execution_count": 1,
   "id": "fe15087b-fbac-4090-8d43-0e890ac741fb",
   "metadata": {
    "slideshow": {
     "slide_type": "subslide"
    },
    "tags": []
   },
   "outputs": [],
   "source": [
    "public class Location {\n",
    "    private double latitude;\n",
    "    private double longitude;\n",
    "    \n",
    "    public Location() {\n",
    "        latitude = 0.0;\n",
    "        longitude = 0.0;\n",
    "    }\n",
    "    public Location(double latitude, double longitude) {\n",
    "        this.latitude = latitude;\n",
    "        this.longitude = longitude;\n",
    "    }\n",
    "\n",
    "    public double getLatitude() {\n",
    "        return latitude;\n",
    "    }\n",
    "\n",
    "    public double getLongitude() {\n",
    "        return longitude;\n",
    "    }    \n",
    "}"
   ]
  },
  {
   "cell_type": "markdown",
   "id": "ae00bbf3-b11b-4d14-bb77-d66471970056",
   "metadata": {
    "slideshow": {
     "slide_type": "notes"
    },
    "tags": []
   },
   "source": [
    "De klasse `Location` representeert een lokatie, een punt op de aarde met een breedte- en lengtegraad."
   ]
  },
  {
   "cell_type": "markdown",
   "id": "7f077775-dd24-452f-8e60-f0668f2627d6",
   "metadata": {
    "slideshow": {
     "slide_type": "subslide"
    },
    "tags": []
   },
   "source": [
    "### Een *Point of Interest*\n",
    "\n",
    "Een *landmark* (herkenningspunt)\n",
    "\n",
    "> an object or feature of a landscape or town that is easily seen and recognized from a distance, especially one that enables someone to establish their location."
   ]
  },
  {
   "cell_type": "markdown",
   "id": "63f31eb4-1c7c-4761-b4f6-0195df5fa9cd",
   "metadata": {
    "slideshow": {
     "slide_type": "subslide"
    },
    "tags": []
   },
   "source": [
    "![Martinitoren](images/7/martinitoren.png)"
   ]
  },
  {
   "cell_type": "markdown",
   "id": "b6f5657e-66a3-4f69-984f-2f687ea86dc8",
   "metadata": {
    "slideshow": {
     "slide_type": "notes"
    },
    "tags": []
   },
   "source": [
    "Dit is een bekend herkenningspunt, de Martinitoren!"
   ]
  },
  {
   "cell_type": "code",
   "execution_count": 2,
   "id": "8eddcba6-bd2b-47d8-8c5b-961159fa48d8",
   "metadata": {
    "slideshow": {
     "slide_type": "subslide"
    },
    "tags": []
   },
   "outputs": [],
   "source": [
    "public class PointOfInterest extends Location {\n",
    "    private String name;\n",
    "    private String type;\n",
    "    \n",
    "    public PointOfInterest(String name, String type, double latitude, double longitude) {\n",
    "        super(latitude, longitude);\n",
    "        this.name = name;\n",
    "        this.type = type;\n",
    "    }\n",
    "    \n",
    "    public String getName() {\n",
    "        return name;\n",
    "    }\n",
    "    \n",
    "    public String getType() {\n",
    "        return type;\n",
    "    }\n",
    "}"
   ]
  },
  {
   "cell_type": "markdown",
   "id": "28053f2f-8973-4718-a56c-78c4b908190f",
   "metadata": {
    "slideshow": {
     "slide_type": "notes"
    },
    "tags": []
   },
   "source": [
    "Een `PointOfInterest` als een speciaal type lokatie dat een bijzondere of interessante lokatie voorstelt."
   ]
  },
  {
   "cell_type": "markdown",
   "id": "ade56bac-303b-4cb8-8d2c-32baabbf5417",
   "metadata": {
    "slideshow": {
     "slide_type": "subslide"
    },
    "tags": []
   },
   "source": [
    "### Syntax"
   ]
  },
  {
   "cell_type": "markdown",
   "id": "d8cb4d2e-7117-4657-a43f-6cb618d06faf",
   "metadata": {
    "slideshow": {
     "slide_type": "fragment"
    },
    "tags": []
   },
   "source": [
    "**`extends`**\n",
    "\n",
    "```java\n",
    "public class PointOfInterest extends Location\n",
    "```\n",
    "\n",
    "Maak een klasse een *subklasse* van een andere klasse."
   ]
  },
  {
   "cell_type": "markdown",
   "id": "78dac529-8d70-44bd-b795-a7b41d3c5d6b",
   "metadata": {
    "slideshow": {
     "slide_type": "fragment"
    },
    "tags": []
   },
   "source": [
    "**`super`**\n",
    "\n",
    "```java\n",
    "super(latitude, longitude)\n",
    "```\n",
    "\n",
    "Roep een constructor aan van de bovenliggende (super) klasse."
   ]
  },
  {
   "cell_type": "code",
   "execution_count": 3,
   "id": "bfa38df8-a051-40b7-9955-9a6cc8f5af7b",
   "metadata": {
    "slideshow": {
     "slide_type": "subslide"
    },
    "tags": []
   },
   "outputs": [],
   "source": [
    "PointOfInterest martiniToren = new PointOfInterest(\n",
    "    \"Martinitoren\", \"landmark\", 53.2193635, 6.5681139);"
   ]
  },
  {
   "cell_type": "code",
   "execution_count": 4,
   "id": "9c4a70bd-3f51-47b5-a498-dddd5a48a96c",
   "metadata": {
    "slideshow": {
     "slide_type": "fragment"
    },
    "tags": []
   },
   "outputs": [
    {
     "data": {
      "text/plain": [
       "Martinitoren"
      ]
     },
     "execution_count": 4,
     "metadata": {},
     "output_type": "execute_result"
    }
   ],
   "source": [
    "martiniToren.getName()"
   ]
  },
  {
   "cell_type": "code",
   "execution_count": 5,
   "id": "e8f08a32-a161-4056-8903-74eda80a1895",
   "metadata": {
    "slideshow": {
     "slide_type": "fragment"
    },
    "tags": []
   },
   "outputs": [
    {
     "data": {
      "text/plain": [
       "landmark"
      ]
     },
     "execution_count": 5,
     "metadata": {},
     "output_type": "execute_result"
    }
   ],
   "source": [
    "martiniToren.getType()"
   ]
  },
  {
   "cell_type": "markdown",
   "id": "c556a5d1-fa2f-4817-8f12-6ece9eaa036c",
   "metadata": {
    "slideshow": {
     "slide_type": "notes"
    },
    "tags": []
   },
   "source": [
    "Dit zijn de methoden van de klasse `PointOfInterest`, maar we *erven* van de klasse `Location` en dit betekent dat de klasse de methoden van deze klasse kent!"
   ]
  },
  {
   "cell_type": "code",
   "execution_count": 6,
   "id": "97ac9c56-7ac4-49fa-a53e-edc282dce8aa",
   "metadata": {
    "slideshow": {
     "slide_type": "fragment"
    },
    "tags": []
   },
   "outputs": [
    {
     "data": {
      "text/plain": [
       "53.2193635"
      ]
     },
     "execution_count": 6,
     "metadata": {},
     "output_type": "execute_result"
    }
   ],
   "source": [
    "martiniToren.getLatitude()"
   ]
  },
  {
   "cell_type": "code",
   "execution_count": 7,
   "id": "2fb5e026-d469-44c5-8dac-6099b0906119",
   "metadata": {
    "slideshow": {
     "slide_type": "fragment"
    },
    "tags": []
   },
   "outputs": [
    {
     "data": {
      "text/plain": [
       "6.5681139"
      ]
     },
     "execution_count": 7,
     "metadata": {},
     "output_type": "execute_result"
    }
   ],
   "source": [
    "martiniToren.getLongitude()"
   ]
  },
  {
   "cell_type": "markdown",
   "id": "021ee677-38e9-471a-af8d-c0ff86e7840f",
   "metadata": {
    "slideshow": {
     "slide_type": "slide"
    },
    "tags": []
   },
   "source": [
    "## De *is a* relatie"
   ]
  },
  {
   "cell_type": "code",
   "execution_count": 8,
   "id": "e7683311-b4aa-4e33-ac57-f8e5595cb00b",
   "metadata": {
    "slideshow": {
     "slide_type": "subslide"
    },
    "tags": []
   },
   "outputs": [],
   "source": [
    "PointOfInterest martiniToren = new PointOfInterest(\n",
    "    \"Martinitoren\", \"landmark\", 53.2193635, 6.5681139);"
   ]
  },
  {
   "cell_type": "markdown",
   "id": "f1a90be2-e39e-4dac-87b9-c85d5d057253",
   "metadata": {
    "slideshow": {
     "slide_type": "notes"
    },
    "tags": []
   },
   "source": [
    "Eerder hebben het bovenstaande geschreven, waar we een nieuw object `martiniToren` hebben aangemaakt van type `PointOfInterest`."
   ]
  },
  {
   "cell_type": "code",
   "execution_count": 9,
   "id": "122949d2-4bd3-4307-8c31-3b8aaa53796d",
   "metadata": {
    "slideshow": {
     "slide_type": "fragment"
    },
    "tags": []
   },
   "outputs": [],
   "source": [
    "Location martiniToren = new PointOfInterest(\n",
    "    \"Martinitoren\", \"landmark\", 53.2193635, 6.5681139);"
   ]
  },
  {
   "cell_type": "markdown",
   "id": "4a90d2b9-5476-4e63-9535-ab949c66f0ed",
   "metadata": {
    "slideshow": {
     "slide_type": "notes"
    },
    "tags": []
   },
   "source": [
    "Omdat een `PointOfInterest` een `Location` is (de *is a* relatie) kunnen we het ook op deze manier schrijven. Het object `martiniToren` is een `Location` en wel in het bijzonder een `PointOfInterest`!"
   ]
  },
  {
   "cell_type": "markdown",
   "id": "43a74b0b-3061-4a80-8f95-9926b0c97540",
   "metadata": {
    "slideshow": {
     "slide_type": "fragment"
    },
    "tags": []
   },
   "source": [
    "### Quiz\n",
    "\n",
    "Kan dit?\n",
    "\n",
    "```java\n",
    "PointOfInterest martiniToren = new Location();\n",
    "```"
   ]
  },
  {
   "cell_type": "markdown",
   "id": "6a9a515b-e4d1-4316-8873-cb831d31bc39",
   "metadata": {
    "slideshow": {
     "slide_type": "notes"
    },
    "tags": []
   },
   "source": [
    "Nee, dit kan niet, een `Location` is geen `PointOfInterest`!"
   ]
  },
  {
   "cell_type": "markdown",
   "id": "9dfc787c-b060-4281-9b3e-e5f44c02d8fc",
   "metadata": {
    "slideshow": {
     "slide_type": "subslide"
    },
    "tags": []
   },
   "source": [
    "### Een voorbeeld\n",
    "\n",
    "```java\n",
    "import java.util.List;\n",
    "import java.util.ArrayList;\n",
    "\n",
    "...\n",
    "\n",
    "ArrayList<String> names = new ArrayList<>();\n",
    "```"
   ]
  },
  {
   "cell_type": "markdown",
   "id": "91cec02e-5f23-48c7-ba0f-e85c4a8357b6",
   "metadata": {
    "slideshow": {
     "slide_type": "notes"
    },
    "tags": []
   },
   "source": [
    "Tot nu toe heb je nieuwe instanties op deze manier geschreven, waar je het type aangeeft van de variabele (`ArrayList<String> names`) en waar dit type overeenkomt met de klasse waar een instantie van wordt gemaakt (`new ArrayList<>()`)."
   ]
  },
  {
   "cell_type": "markdown",
   "id": "446f5fb4-3d05-49b8-909d-12a430def324",
   "metadata": {
    "slideshow": {
     "slide_type": "fragment"
    },
    "tags": []
   },
   "source": [
    "```java\n",
    "List<String> names = new ArrayList<>();\n",
    "```"
   ]
  },
  {
   "cell_type": "markdown",
   "id": "393e80da-5d62-4ce5-9ad1-1316b2ceebaf",
   "metadata": {
    "slideshow": {
     "slide_type": "notes"
    },
    "tags": []
   },
   "source": [
    "Het bovenstande zal je vaak zien in Java code waar je uit kan afleiden dat een `ArrayList` een *is a* relatie heeft met `List`."
   ]
  },
  {
   "cell_type": "markdown",
   "id": "8b45e219-4778-4ad3-be20-1c63398ae6a3",
   "metadata": {
    "slideshow": {
     "slide_type": "subslide"
    },
    "tags": []
   },
   "source": [
    "### Terminologie\n",
    "\n",
    "![Is a relaties](images/7/is_a.png)"
   ]
  },
  {
   "cell_type": "markdown",
   "id": "acc6321a-a449-43db-85f0-fb6f7fa4628b",
   "metadata": {
    "slideshow": {
     "slide_type": "notes"
    },
    "tags": []
   },
   "source": [
    "Als het gaat om overerving zal je vaak verschillende termen gebruikt zien worden, bijvoorbeeld *base*- en *derived*, *sub*- en *super* en *child*- en *parent* klassen. Met allen wordt steeds hetzelfde bedoeld. "
   ]
  },
  {
   "cell_type": "markdown",
   "id": "d7809ce2-c6e2-4bd2-b3d9-798ba9a34296",
   "metadata": {
    "slideshow": {
     "slide_type": "subslide"
    },
    "tags": []
   },
   "source": [
    "### Beperkingen\n",
    "\n",
    "*Single inheritance*\n",
    "\n",
    "Een klasse kan maar van een enkele klasse erven."
   ]
  },
  {
   "cell_type": "markdown",
   "id": "e80a0c74-6dfa-4b5c-9cc4-1e558ee0589d",
   "metadata": {
    "slideshow": {
     "slide_type": "notes"
    },
    "tags": []
   },
   "source": [
    "In Java kan maar van één klasse worden geërfd. Voor andere talen kan dit verschillen, bijvoorbeeld Python kan van meerdere klassen erven (*multiple inheritance*).  "
   ]
  },
  {
   "cell_type": "markdown",
   "id": "db2e95b3-ce66-41d2-be0f-09fadefd6976",
   "metadata": {
    "slideshow": {
     "slide_type": "slide"
    },
    "tags": []
   },
   "source": [
    "## Concreet of abstract "
   ]
  },
  {
   "cell_type": "code",
   "execution_count": 10,
   "id": "ecef65bc-c12e-4c5a-9482-a9aff8e7166e",
   "metadata": {
    "slideshow": {
     "slide_type": "fragment"
    },
    "tags": []
   },
   "outputs": [],
   "source": [
    "Location somePoint = new Location(53.2410797, 6.5318127);"
   ]
  },
  {
   "cell_type": "markdown",
   "id": "bde97312-ec15-4e5d-9d4d-119ad842ba68",
   "metadata": {
    "slideshow": {
     "slide_type": "notes"
    },
    "tags": []
   },
   "source": [
    "De `Location` klasse verwacht twee numerieke waarden, we weten nu inmiddels dat dit een lengte- en breedtegraad representeert, maar wat is het *concreet*? Dit weten we pas in een bepaalde context, bijvoorbeeld in [Google Maps](https://goo.gl/maps/JcNnrrwkfybS7YUq8) waar je zal zien dat het verwijst naar een bekend object van staal, steen en glas.\n",
    "\n",
    "Je zou misschien willen uitdrukken dat het *niet* de bedoeling is dat instanties van `Location` worden gemaakt, maar alleen van de ondeliggende meer concrete klassen (`Address` of `PointOfInterest`)."
   ]
  },
  {
   "cell_type": "markdown",
   "id": "f0360ec0-111b-40c6-bd64-e424c02d0763",
   "metadata": {
    "slideshow": {
     "slide_type": "subslide"
    },
    "tags": []
   },
   "source": [
    "![Kitten](images/7/kitten.png)"
   ]
  },
  {
   "cell_type": "markdown",
   "id": "ce3f8df4-3ec3-40b8-9859-ce1ba4d5ab81",
   "metadata": {
    "slideshow": {
     "slide_type": "notes"
    },
    "tags": []
   },
   "source": [
    "Laten we dit idee (een *abstracte* klasse waar liever geen instanties van worden gemaakt) verkennen aan de hand van huisdieren."
   ]
  },
  {
   "cell_type": "markdown",
   "id": "7fb60ded-47ff-4ff0-a8fa-2875bc5d7fff",
   "metadata": {
    "slideshow": {
     "slide_type": "subslide"
    },
    "tags": []
   },
   "source": [
    "```java\n",
    "public class Cat {\n",
    "    private String name;\n",
    "        \n",
    "    public Cat(String name) {\n",
    "        this.name = name;\n",
    "    }\n",
    "    \n",
    "    public String sleep() {\n",
    "        return \"Zzzzzzzz\";\n",
    "    }\n",
    "    \n",
    "    public String isHungry() {\n",
    "        return \"Meoweoweowoeoeoew!!!\";\n",
    "    }\n",
    "}\n",
    "```"
   ]
  },
  {
   "cell_type": "markdown",
   "id": "2f9a1441-93e7-4525-9673-b099f9105bc4",
   "metadata": {
    "slideshow": {
     "slide_type": "notes"
    },
    "tags": []
   },
   "source": [
    "Dit zou een kat kunnen representeren die we kunnen laten slapen en kunnen vragen of het hongerig is."
   ]
  },
  {
   "cell_type": "markdown",
   "id": "ff1ff8ee-805c-4490-9493-ddc2a89a7996",
   "metadata": {
    "slideshow": {
     "slide_type": "fragment"
    },
    "tags": []
   },
   "source": [
    "```java\n",
    "public class Dog {\n",
    "    private String name;\n",
    "        \n",
    "    public Dog(String name) {\n",
    "        this.name = name;\n",
    "    }\n",
    "    \n",
    "    public String sleep() {\n",
    "        return \"Zzzzzzzz\";\n",
    "    }\n",
    "    \n",
    "    public String isHungry() {\n",
    "        return \"Woofwoofwoofwooooof!\";\n",
    "    }\n",
    "}\n",
    "```"
   ]
  },
  {
   "cell_type": "markdown",
   "id": "dd5c34d0-0706-4a8e-80e2-623b21a2363d",
   "metadata": {
    "slideshow": {
     "slide_type": "notes"
    },
    "tags": []
   },
   "source": [
    "Op dezelfde manier kan een hond worden gerepresenteerd, waar het enige verschil de methode `isHungry` is, een hond blaft en een kat miauwt."
   ]
  },
  {
   "cell_type": "markdown",
   "id": "1450e703-34d2-468e-b525-35e54b769cdf",
   "metadata": {
    "slideshow": {
     "slide_type": "subslide"
    },
    "tags": []
   },
   "source": [
    "```java\n",
    "public class Pet {\n",
    "    private String name;\n",
    "        \n",
    "    public Pet(String name) {\n",
    "        this.name = name;\n",
    "    }\n",
    "\n",
    "    public String sleep() {\n",
    "        return \"Zzzzzzzz\";\n",
    "    }\n",
    "    \n",
    "    public String isHungry() {\n",
    "        return \"\"; // ... ?\n",
    "    }\n",
    "}\n",
    "```"
   ]
  },
  {
   "cell_type": "markdown",
   "id": "81251489-d1dc-42dc-8c35-eaad1f02404b",
   "metadata": {
    "slideshow": {
     "slide_type": "notes"
    },
    "tags": []
   },
   "source": [
    "De meer abstracte representatie van een hond of kat kan een klasse `Pet` zijn waar de klassen `Cat` en `Dog` van erven. Het is wel de vraag wat de waarde van de methode `isHungry` van deze klasse zou moeten zijn. Dit is een geval waar je zou willen dat geen instanties van `Pet` mogen worden gemaakt omdat deze specifieke methode door onderliggende klassen moet worden geïmplementeerd."
   ]
  },
  {
   "cell_type": "markdown",
   "id": "8d94e6b5-d963-4787-9fd5-6cf1e81f07c5",
   "metadata": {
    "slideshow": {
     "slide_type": "skip"
    },
    "tags": []
   },
   "source": [
    "### De *abstracte* klasse `Pet`"
   ]
  },
  {
   "cell_type": "code",
   "execution_count": 11,
   "id": "0422eb86-3c77-499a-96e1-dbe67ef11ea8",
   "metadata": {
    "slideshow": {
     "slide_type": "subslide"
    },
    "tags": []
   },
   "outputs": [],
   "source": [
    "abstract public class Pet {\n",
    "    private String name;\n",
    "        \n",
    "    public Pet(String name) {\n",
    "        this.name = name;\n",
    "    }\n",
    "    \n",
    "    public String sleep() {\n",
    "        return \"Zzzzzzzz\";\n",
    "    }\n",
    "    \n",
    "    abstract public String isHungry();\n",
    "}"
   ]
  },
  {
   "cell_type": "code",
   "execution_count": 12,
   "id": "dcef0e40-996f-4633-8f6f-3c44b3e8d249",
   "metadata": {
    "slideshow": {
     "slide_type": "fragment"
    },
    "tags": []
   },
   "outputs": [
    {
     "ename": "CompilationException",
     "evalue": "",
     "output_type": "error",
     "traceback": [
      "\u001b[1m\u001b[30m|   \u001b[1m\u001b[30mPet aPet = \u001b[0m\u001b[1m\u001b[30m\u001b[41mnew Pet(\"Fifi\")\u001b[0m\u001b[1m\u001b[30m;\u001b[0m",
      "\u001b[1m\u001b[31mPet is abstract; cannot be instantiated\u001b[0m",
      ""
     ]
    }
   ],
   "source": [
    "Pet aPet = new Pet(\"Fifi\")"
   ]
  },
  {
   "cell_type": "markdown",
   "id": "37ce4fd8-0387-4e29-bd1d-a3604c763c27",
   "metadata": {
    "slideshow": {
     "slide_type": "notes"
    },
    "tags": []
   },
   "source": [
    "Met het keyword `abstract` geef je aan dit het om een *abstracte* klasse gaat, en van een abstracte klasse kunnen geen (concrete) instanties worden gemaakt.\n",
    "\n",
    "In het bijzonder wordt hier aangegeven dat de methode `isHungry` abstract is, het is een definitie die in onderliggende klassen concreet moet worden gemaakt. Verder zal het je opvallen dat het verder kenmerken heeft van een reguliere klasse, het heeft bijvoorbeeld een constructor en een methode `sleep` die *niet* abstract is."
   ]
  },
  {
   "cell_type": "code",
   "execution_count": 13,
   "id": "42103bbb-79be-4410-9435-8b6575dd97fe",
   "metadata": {
    "slideshow": {
     "slide_type": "subslide"
    },
    "tags": []
   },
   "outputs": [
    {
     "ename": "CompilationException",
     "evalue": "",
     "output_type": "error",
     "traceback": [
      "\u001b[1m\u001b[30m|   \u001b[1m\u001b[30m\u001b[0m\u001b[1m\u001b[30m\u001b[41mpublic class Cat extends Pet {\u001b[0m",
      "\u001b[1m\u001b[30m|   \u001b[1m\u001b[30m\u001b[41m        \u001b[0m",
      "\u001b[1m\u001b[30m|   \u001b[1m\u001b[30m\u001b[41m    public Cat(String name) {\u001b[0m",
      "\u001b[1m\u001b[30m|   \u001b[1m\u001b[30m\u001b[41m        super(name);\u001b[0m",
      "\u001b[1m\u001b[30m|   \u001b[1m\u001b[30m\u001b[41m    }\u001b[0m",
      "\u001b[1m\u001b[30m|   \u001b[1m\u001b[30m\u001b[41m}\u001b[0m",
      "\u001b[1m\u001b[31mCat is not abstract and does not override abstract method isHungry() in Pet\u001b[0m",
      ""
     ]
    }
   ],
   "source": [
    "public class Cat extends Pet {\n",
    "        \n",
    "    public Cat(String name) {\n",
    "        super(name);\n",
    "    }\n",
    "}"
   ]
  },
  {
   "cell_type": "markdown",
   "id": "6ef1e119-ca16-4c5f-9f24-c96cc8d9696a",
   "metadata": {
    "slideshow": {
     "slide_type": "notes"
    },
    "tags": []
   },
   "source": [
    "Erven van `Pet` kan wel, maar dan zal de methode `isHungry` moeten worden geïmplementeerd voor de klasse `Cat`."
   ]
  },
  {
   "cell_type": "code",
   "execution_count": 14,
   "id": "96eae504-476c-4d7e-8e7a-278676079f76",
   "metadata": {
    "slideshow": {
     "slide_type": "subslide"
    },
    "tags": []
   },
   "outputs": [],
   "source": [
    "public class Cat extends Pet {\n",
    "    private String name;\n",
    "\n",
    "    public Cat(String name) {\n",
    "        super(name);\n",
    "    }\n",
    "    \n",
    "    public String isHungry() {\n",
    "        return \"Meoweoweowoeoeoew!!!\";\n",
    "    }\n",
    "}"
   ]
  },
  {
   "cell_type": "code",
   "execution_count": 15,
   "id": "26aa44ed-2df2-497f-8bb8-e97727360116",
   "metadata": {
    "slideshow": {
     "slide_type": "fragment"
    },
    "tags": []
   },
   "outputs": [],
   "source": [
    "Pet mocha = new Cat(\"Mocha\")"
   ]
  },
  {
   "cell_type": "code",
   "execution_count": 16,
   "id": "0a43128b-1059-4c94-8fab-75a480cb6bf0",
   "metadata": {
    "slideshow": {
     "slide_type": "fragment"
    },
    "tags": []
   },
   "outputs": [
    {
     "data": {
      "text/plain": [
       "Meoweoweowoeoeoew!!!"
      ]
     },
     "execution_count": 16,
     "metadata": {},
     "output_type": "execute_result"
    }
   ],
   "source": [
    "mocha.isHungry()"
   ]
  },
  {
   "cell_type": "code",
   "execution_count": 17,
   "id": "dc1ca02f-2edc-4adb-8432-36273440238b",
   "metadata": {
    "slideshow": {
     "slide_type": "fragment"
    },
    "tags": []
   },
   "outputs": [
    {
     "data": {
      "text/plain": [
       "Zzzzzzzz"
      ]
     },
     "execution_count": 17,
     "metadata": {},
     "output_type": "execute_result"
    }
   ],
   "source": [
    "mocha.sleep()"
   ]
  },
  {
   "cell_type": "markdown",
   "id": "3d305435-2a90-4532-85e7-ac98b3cfa770",
   "metadata": {
    "slideshow": {
     "slide_type": "skip"
    },
    "tags": []
   },
   "source": [
    "## Een hiërarchie van klassen"
   ]
  },
  {
   "cell_type": "markdown",
   "id": "988b1708-82c9-4fa8-8490-d219454fc70d",
   "metadata": {
    "slideshow": {
     "slide_type": "slide"
    },
    "tags": []
   },
   "source": [
    "![Pots](images/7/pots.png)"
   ]
  },
  {
   "cell_type": "markdown",
   "id": "237eb1f3-c229-4f47-bbe9-9906e0e611e3",
   "metadata": {
    "slideshow": {
     "slide_type": "notes"
    },
    "tags": []
   },
   "source": [
    "De *is a* relatie hoeft niet beperkt te blijven tot een enkelvoudige overerving, in dit geval erft `EspressoPot` van `CoffeePot`, die vervolgens weer erft van `Pot`."
   ]
  },
  {
   "cell_type": "markdown",
   "id": "475e618d-a6f1-4bfd-850c-58c4b3b87d42",
   "metadata": {
    "slideshow": {
     "slide_type": "subslide"
    },
    "tags": []
   },
   "source": [
    "![Shapes](images/7/shapes.png)"
   ]
  },
  {
   "cell_type": "markdown",
   "id": "a193af53-7cef-49e0-b01d-8f5e0b6df590",
   "metadata": {
    "slideshow": {
     "slide_type": "notes"
    },
    "tags": []
   },
   "source": [
    "Je kan je andere situaties voorstellen waar je dit principe zou willen toepassen, bijvoorbeeld voor een hiërarchie van vormen in een grafische context."
   ]
  }
 ],
 "metadata": {
  "kernelspec": {
   "display_name": "Java",
   "language": "java",
   "name": "java"
  },
  "language_info": {
   "codemirror_mode": "java",
   "file_extension": ".jshell",
   "mimetype": "text/x-java-source",
   "name": "Java",
   "pygments_lexer": "java",
   "version": "11.0.12+7-Ubuntu-0ubuntu3"
  }
 },
 "nbformat": 4,
 "nbformat_minor": 5
}
