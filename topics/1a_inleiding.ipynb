{
 "cells": [
  {
   "cell_type": "markdown",
   "id": "8d7c972b",
   "metadata": {},
   "source": [
    "# Inleiding\n",
    "Een **programma** is een reeks instructies die specificeren hoe een operatie wordt uitgevoerd op computerhardware.\n",
    " \n",
    "## Basisoperaties\n",
    "Hoewel er verschillende programmeertalen zijn om de instructies te beschrijven, zijn er een aantal basisoperaties die in elke programmeertaal aanwezig zijn:\n",
    "- **input**: Gegevens lezen van toetsenbord, bestand of ander apparaat.\n",
    "- **output**: Gegevens weergeven op scherm, opslaan in een bestand of ander apparaat.\n",
    "- **rekenkundige operaties**: Basis rekenkundige operaties uitvoeren, zoals optellen en delen.\n",
    "- **beslissen**: Op basis van het wel of niet voldoen aan condities instructies uitvoeren.\n",
    "- **herhalen**: Instructies herhalen.\n",
    "\n"
   ]
  },
  {
   "cell_type": "markdown",
   "id": "d758d2eb",
   "metadata": {
    "tags": []
   },
   "source": [
    "## Hello World voorbeeld"
   ]
  },
  {
   "cell_type": "code",
   "execution_count": 4,
   "id": "cc9e2948-306b-4b1a-acdf-d0b9942e1837",
   "metadata": {},
   "outputs": [
    {
     "name": "stdout",
     "output_type": "stream",
     "text": [
      "Hello World!\n"
     ]
    }
   ],
   "source": [
    "System.out.println(\"Hello World!\");"
   ]
  },
  {
   "cell_type": "markdown",
   "id": "dc1b8052",
   "metadata": {
    "tags": []
   },
   "source": [
    "Java is een object georiënteerde programmeertaal.\n",
    "\n",
    "Een regel tekst op de console printen kan door de **methode** *println* van de klasse van het **object** *System.out* aan te roepen.\n",
    "\n",
    "Een **methode** is een reeks statements met een naam, die onderdeel is van een **class**. Een methode is vergelijkbaar met een **functie** met als verschil dat een **functie** niet onderdeel is van een **class*.\n",
    "\n",
    "Losse functies bestaan niet in Java. Dat is een belangrijk verschil met programmeertalen zoals Python en PHP. In Java behoren **methodes** en **variabelen** *altijd* tot een **class*.\n",
    "\n",
    "Een **class** is, eenvoudig gezegd, een verzameling **methodes** en **variabelen**.\n",
    "\n",
    "Bovenstaand voorbeeld is echter nog geen volledig werkend Java-programma te schrijven. Alle instructies zijn onderdeel van een **class**.\n",
    "\n",
    "## Hello World voorbeeld als volledig programma"
   ]
  },
  {
   "cell_type": "code",
   "execution_count": 2,
   "id": "94db60e9",
   "metadata": {},
   "outputs": [],
   "source": [
    "public class Hello {\n",
    "\n",
    "    public static void main(String[] args) {\n",
    "        // De tekst Hello, World! op de console weergeven\n",
    "        System.out.println(\"Hello, World!\");\n",
    "    }\n",
    "    \n",
    "}"
   ]
  },
  {
   "cell_type": "markdown",
   "id": "8b40e060",
   "metadata": {},
   "source": [
    "Een programma in Java is een verzameling klassen. Ook het beginpunt van het programma is onderdeel van een klasse.\n",
    "\n",
    "Het beginpunt van een Java-programma is de methode *main* met de volgende methode definitie:\n",
    "\n",
    "```java\n",
    "public static void main(String[] args)\n",
    "```\n",
    "\n",
    "De keywords *public*, *static* en *void* worden later behandeld.\n",
    "\n",
    "De klasse waarin de *main*-methode zich bevindt heeft geen vaste naam.\n",
    "\n",
    "## Een aantal kenmerken van Java\n",
    "In het bovenstaande Hello World voorbeeld is een aantal belangrijke kenmerken van Java te zien.\n",
    "\n",
    "- In Java worden accolades ({ en }) gebruikt om code te groeperen. Bijvoorbeeld een class of een methode. Code tussen accolades vormt een blok. Het komt heel veel voor dat blokken in blokken staan. Zo is in dit voorbeeld de methode *main* onderdeel van de klasse *Hello*\n",
    "- Statements eindigen met een puntkomma (;)\n",
    "- Regels die beginnen met // zijn commentaar.\n",
    "- Java is hoofdletter gevoelig. Er wordt strikt onderscheid gemaakt tussen hoofdletters en kleine letters.\n",
    "- Namen van klassen beginnen altijd met een hoofdletter.\n",
    "- Namen van methodes beginnen altijd met een kleine letter."
   ]
  },
  {
   "cell_type": "markdown",
   "id": "6976eea2",
   "metadata": {
    "jp-MarkdownHeadingCollapsed": true,
    "tags": []
   },
   "source": [
    "## Programma's compileren\n",
    "\n",
    "Er wordt onderscheid gemaakt tussen gecompileerde en geïnterpreteerde programmeertalen.\n",
    "\n",
    "Een programma van een geïnterpreteerde taal wordt uitgevoerd door een interpreter die code leest en uitvoert.\n",
    "\n",
    "![interpreter](images/1/interpreter.png)\n",
    "\n",
    "Voorbeelden: Python, PHP, Perl, JavaScript\n",
    "\n",
    "Bij een gecompileerde taal wordt een programma omgezet naar machinecode. Daarna kan het gecompileerde programma worden uitgevoerd.\n",
    "\n",
    "Voorbeelden: C, Swift, Pascal\n",
    "\n",
    "Machinecode kan alleen worden uitgevoerd op specifiek hardware.\n",
    "\n",
    "Nadeel: Voor elke architectuur moet een programma opnieuw gecompileerd en soms ook aangepast worden.\n",
    "\n",
    "Java: Gecompileert naar Java bytecode.\n",
    "\n",
    "![javacompiler](images/1/javacompiler.png)\n",
    "\n",
    "Java bytecode wordt uitgevoerd in een virtuele machine. De Java virtuale machine is een programma die Java bytecode uitvoert. Een Java programma kan daardoor draaien op alle hardware waarvoor een Java virtuele machine beschikbaar is."
   ]
  },
  {
   "cell_type": "markdown",
   "id": "623c68f8",
   "metadata": {},
   "source": [
    "## Code formatteren\n",
    "Het Hello World voorbeeld ziet er zonder code formattering als volgt uit:"
   ]
  },
  {
   "cell_type": "code",
   "execution_count": 3,
   "id": "3ee603d3",
   "metadata": {},
   "outputs": [],
   "source": [
    "public class Hello {\n",
    "public static void main(String[] args) {\n",
    "// De tekst Hello, World! op de console weergeven\n",
    "System.out.println(\"Hello, World!\");\n",
    "}   \n",
    "}"
   ]
  },
  {
   "cell_type": "markdown",
   "id": "aaa23cf4",
   "metadata": {},
   "source": [
    "Ook deze code compileert!\n",
    "\n",
    "De code is echter moeilijk leesbaar.\n",
    "\n",
    "Daarom is het formatteren van code gebruikelijk door middel van witregels en <u>inspringen</u>."
   ]
  }
 ],
 "metadata": {
  "kernelspec": {
   "display_name": "Java",
   "language": "java",
   "name": "java"
  },
  "language_info": {
   "codemirror_mode": "java",
   "file_extension": ".jshell",
   "mimetype": "text/x-java-source",
   "name": "Java",
   "pygments_lexer": "java",
   "version": "11.0.16+8-post-Ubuntu-0ubuntu122.04"
  }
 },
 "nbformat": 4,
 "nbformat_minor": 5
}
