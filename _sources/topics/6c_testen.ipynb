{
 "cells": [
  {
   "cell_type": "markdown",
   "id": "ea679577",
   "metadata": {},
   "source": [
    "## Testen\n",
    "\n",
    "Vrijwel altijd zal een programmeur het programma testen. Testen kan al door simpelweg het programma uit te voeren. Er zijn ook een aantal manieren om systematisch te testen. Daar zijn testframeworks voor.\n",
    "\n",
    "# Assertions\n",
    "\n",
    "Met het **assert**-*keyword* wordt een assertion ingevoegd.\n",
    "\n",
    "Gebruik:\n",
    "```Java\n",
    "assert <test-conditie>\n",
    "```\n",
    "of\n",
    "```Java\n",
    "assert <test-conditie> : <melding als test niet slaagt>\n",
    "```\n",
    "\n",
    "Bijvoorbeeld:"
   ]
  },
  {
   "cell_type": "code",
   "execution_count": 8,
   "id": "132f589f",
   "metadata": {},
   "outputs": [],
   "source": [
    "public static int countVowels(String s) {\n",
    "        int counter=0;\n",
    "        for(int i=0; i<s.length(); i++) {\n",
    "            if (\"aeiou\".indexOf(s.charAt(i))>-1) {\n",
    "                counter++;\n",
    "            }\n",
    "        }\n",
    "        return counter;\n",
    "}\n",
    "\n",
    "assert countVowels(\"Java\")==2;\n",
    "assert countVowels(\"Dit is een test met klinkers tellen\")==10;\n",
    "assert countVowels(\"XYZ\")==0 : \"Test zonder klinkers\";\n",
    "assert countVowels(\"abcdefghijklmnopqrstuvwxyz\")==26 : \"Test met het gehele alfabet\";\n",
    "assert countVowels(\"\")==0 : \"Test met lege string\";\n",
    "    "
   ]
  },
  {
   "cell_type": "markdown",
   "id": "82342a0d",
   "metadata": {},
   "source": [
    "<u>Standaard worden *assertions* door de Java virtuele machine genegeerd</u>\n",
    "\n",
    "Assertions activeren: Het commandline argument \"-ea\" (enable assertions) meegeven bij het uitvoeren van de virtuele machine.\n",
    "\n",
    "Voorbeeld:\n",
    "```Java\n",
    "java -ea CountVowels\n",
    "```\n",
    "\n",
    "In IntelliJ kunnen via Run/Debug Configurations (Edit Configurations) VM options worden ingesteld. Voeg \"-ea\" toe om assertions te activeren.\n",
    "\n",
    "Bij het opstellen van tests is het van groot belang goed te controleren of de test klopt. Een foutieve conditie in een assertion, leidt tot onterecht falende tests.\n",
    "\n",
    "Omdat het *keyword* **assert** een *keyword* is, is deze functionaliteit standaard in Java aanwezig.\n",
    "\n",
    "Nadelen van assertions zijn onder andere:\n",
    "- Maken een programma groter\n",
    "- Beperkte informatievoorziening\n",
    "- Geen standaard locatie\n"
   ]
  },
  {
   "cell_type": "markdown",
   "id": "df37c874",
   "metadata": {},
   "source": [
    "## JUnit\n",
    "JUnit is een veel gebruikt test-framework voor Java voor unittesting.\n",
    "\n",
    "Unittesting is een methode om stukjes software afzonderlijk te testen.\n",
    "\n",
    "https://junit.org/junit5/\n",
    "\n"
   ]
  }
 ],
 "metadata": {
  "kernelspec": {
   "display_name": "Java",
   "language": "java",
   "name": "java"
  },
  "language_info": {
   "codemirror_mode": "java",
   "file_extension": ".jshell",
   "mimetype": "text/x-java-source",
   "name": "Java",
   "pygments_lexer": "java",
   "version": "11.0.12+8-LTS-237"
  }
 },
 "nbformat": 4,
 "nbformat_minor": 5
}
